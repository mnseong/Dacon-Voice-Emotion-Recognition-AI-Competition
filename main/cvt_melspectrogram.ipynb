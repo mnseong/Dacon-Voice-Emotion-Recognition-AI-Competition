{
 "cells": [
  {
   "cell_type": "code",
   "execution_count": null,
   "id": "ba79e4ad",
   "metadata": {},
   "outputs": [],
   "source": [
    "import numpy as np\n",
    "import os\n",
    "import cv2\n",
    "import pandas as pd\n",
    "import librosa\n",
    "import shutil\n",
    "import warnings\n",
    "import matplotlib.pyplot as plt\n",
    "warnings.filterwarnings(action='ignore')"
   ]
  },
  {
   "cell_type": "code",
   "execution_count": null,
   "id": "c15cd539",
   "metadata": {},
   "outputs": [],
   "source": [
    "train_path = './train/'\n",
    "test_path = './test/'"
   ]
  },
  {
   "cell_type": "code",
   "execution_count": null,
   "id": "f6fe0aaa",
   "metadata": {},
   "outputs": [],
   "source": [
    "train_df = pd.read_csv('./train.csv')\n",
    "test_df = pd.read_csv('./test.csv')"
   ]
  },
  {
   "cell_type": "code",
   "execution_count": null,
   "id": "37b943ca",
   "metadata": {},
   "outputs": [],
   "source": [
    "train_wav = os.listdir(train_path)\n",
    "train_wav"
   ]
  },
  {
   "cell_type": "code",
   "execution_count": null,
   "id": "2bd1e952",
   "metadata": {},
   "outputs": [],
   "source": [
    "for wav in train_wav:\n",
    "    audio, sr = librosa.load(os.path.join(train_path, wav), sr=22050)\n",
    "    mel_spec = librosa.feature.melspectrogram(audio, sr=sr, n_fft=2048, hop_length=512)\n",
    "    mel_spec_db = librosa.power_to_db(mel_spec, ref=np.max)\n",
    "    fn = os.path.join('./train_mel/', str(wav[:-4]) + '.jpeg')\n",
    "    cv2.imwrite(fn, mel_spec_db)"
   ]
  },
  {
   "cell_type": "code",
   "execution_count": null,
   "id": "ce3bc9f2",
   "metadata": {},
   "outputs": [],
   "source": [
    "test_wav = os.listdir(test_path)\n",
    "test_wav"
   ]
  },
  {
   "cell_type": "code",
   "execution_count": null,
   "id": "75e2cc0c",
   "metadata": {},
   "outputs": [],
   "source": [
    "for wav in test_wav:\n",
    "    audio, sr = librosa.load(os.path.join(test_path, wav), sr=22050)\n",
    "    mel_spec = librosa.feature.melspectrogram(audio, sr=sr, n_fft=2048, hop_length=512)\n",
    "    mel_spec_db = librosa.power_to_db(mel_spec, ref=np.max)\n",
    "    plt.figure(figsize=(10, 4))\n",
    "    plt.imshow(mel_spec_db, aspect='auto', origin='lower', cmap='viridis')\n",
    "    plt.tight_layout()\n",
    "    \n",
    "    fn = os.path.join('./test_mel/', str(wav[:-4]) + '.jpeg')\n",
    "    plt.savefig(fn, bbox_inches='tight')\n",
    "    plt.close()"
   ]
  },
  {
   "cell_type": "code",
   "execution_count": null,
   "id": "5c74d125",
   "metadata": {},
   "outputs": [],
   "source": []
  }
 ],
 "metadata": {
  "kernelspec": {
   "display_name": "Python 3 (ipykernel)",
   "language": "python",
   "name": "python3"
  },
  "language_info": {
   "codemirror_mode": {
    "name": "ipython",
    "version": 3
   },
   "file_extension": ".py",
   "mimetype": "text/x-python",
   "name": "python",
   "nbconvert_exporter": "python",
   "pygments_lexer": "ipython3",
   "version": "3.10.9"
  }
 },
 "nbformat": 4,
 "nbformat_minor": 5
}
