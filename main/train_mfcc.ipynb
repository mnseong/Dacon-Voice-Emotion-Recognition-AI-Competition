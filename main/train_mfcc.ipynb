{
 "cells": [
  {
   "cell_type": "code",
   "execution_count": 1,
   "id": "34172fe9",
   "metadata": {},
   "outputs": [],
   "source": [
    "import os\n",
    "import pandas as pd\n",
    "import numpy as np\n",
    "import torch\n",
    "import torch.nn as nn\n",
    "import torch.optim as optim\n",
    "from torch.autograd import Variable\n",
    "import torchvision.datasets as dset\n",
    "import torchvision.transforms as transforms\n",
    "import albumentations as A\n",
    "from albumentations.pytorch.transforms import ToTensorV2\n",
    "import torch.nn.functional as F\n",
    "from torch.utils.data import Dataset\n",
    "from torch.utils.data import DataLoader\n",
    "import torchvision.models as models\n",
    "import cv2\n",
    "import sys\n",
    "import math\n",
    "import random\n",
    "import splitfolders\n",
    "import torchsummary\n",
    "from tqdm import tqdm\n",
    "from sklearn.preprocessing import LabelEncoder\n",
    "from sklearn.model_selection import train_test_split\n",
    "from sklearn.model_selection import cross_val_score\n",
    "from sklearn.metrics import f1_score"
   ]
  },
  {
   "cell_type": "code",
   "execution_count": 2,
   "id": "fc005dab",
   "metadata": {},
   "outputs": [],
   "source": [
    "train_df = pd.read_csv('./train.csv')\n",
    "test_df = pd.read_csv('./test.csv')"
   ]
  },
  {
   "cell_type": "code",
   "execution_count": 3,
   "id": "d58aafc2",
   "metadata": {},
   "outputs": [],
   "source": [
    "train_df['img_path'] = './train_mfcc/' + train_df['id'] + '.jpeg'\n",
    "test_df['img_path'] = './test_mfcc/' + test_df['id'] + '.jpeg'"
   ]
  },
  {
   "cell_type": "code",
   "execution_count": 4,
   "id": "8a4c06d5",
   "metadata": {},
   "outputs": [
    {
     "data": {
      "text/html": [
       "<div>\n",
       "<style scoped>\n",
       "    .dataframe tbody tr th:only-of-type {\n",
       "        vertical-align: middle;\n",
       "    }\n",
       "\n",
       "    .dataframe tbody tr th {\n",
       "        vertical-align: top;\n",
       "    }\n",
       "\n",
       "    .dataframe thead th {\n",
       "        text-align: right;\n",
       "    }\n",
       "</style>\n",
       "<table border=\"1\" class=\"dataframe\">\n",
       "  <thead>\n",
       "    <tr style=\"text-align: right;\">\n",
       "      <th></th>\n",
       "      <th>id</th>\n",
       "      <th>path</th>\n",
       "      <th>label</th>\n",
       "      <th>img_path</th>\n",
       "    </tr>\n",
       "  </thead>\n",
       "  <tbody>\n",
       "    <tr>\n",
       "      <th>0</th>\n",
       "      <td>TRAIN_0000</td>\n",
       "      <td>./train/TRAIN_0000.wav</td>\n",
       "      <td>1</td>\n",
       "      <td>./train_mfcc/TRAIN_0000.jpeg</td>\n",
       "    </tr>\n",
       "    <tr>\n",
       "      <th>1</th>\n",
       "      <td>TRAIN_0001</td>\n",
       "      <td>./train/TRAIN_0001.wav</td>\n",
       "      <td>2</td>\n",
       "      <td>./train_mfcc/TRAIN_0001.jpeg</td>\n",
       "    </tr>\n",
       "    <tr>\n",
       "      <th>2</th>\n",
       "      <td>TRAIN_0002</td>\n",
       "      <td>./train/TRAIN_0002.wav</td>\n",
       "      <td>4</td>\n",
       "      <td>./train_mfcc/TRAIN_0002.jpeg</td>\n",
       "    </tr>\n",
       "    <tr>\n",
       "      <th>3</th>\n",
       "      <td>TRAIN_0003</td>\n",
       "      <td>./train/TRAIN_0003.wav</td>\n",
       "      <td>5</td>\n",
       "      <td>./train_mfcc/TRAIN_0003.jpeg</td>\n",
       "    </tr>\n",
       "    <tr>\n",
       "      <th>4</th>\n",
       "      <td>TRAIN_0004</td>\n",
       "      <td>./train/TRAIN_0004.wav</td>\n",
       "      <td>4</td>\n",
       "      <td>./train_mfcc/TRAIN_0004.jpeg</td>\n",
       "    </tr>\n",
       "    <tr>\n",
       "      <th>...</th>\n",
       "      <td>...</td>\n",
       "      <td>...</td>\n",
       "      <td>...</td>\n",
       "      <td>...</td>\n",
       "    </tr>\n",
       "    <tr>\n",
       "      <th>4996</th>\n",
       "      <td>TRAIN_4996</td>\n",
       "      <td>./train/TRAIN_4996.wav</td>\n",
       "      <td>5</td>\n",
       "      <td>./train_mfcc/TRAIN_4996.jpeg</td>\n",
       "    </tr>\n",
       "    <tr>\n",
       "      <th>4997</th>\n",
       "      <td>TRAIN_4997</td>\n",
       "      <td>./train/TRAIN_4997.wav</td>\n",
       "      <td>0</td>\n",
       "      <td>./train_mfcc/TRAIN_4997.jpeg</td>\n",
       "    </tr>\n",
       "    <tr>\n",
       "      <th>4998</th>\n",
       "      <td>TRAIN_4998</td>\n",
       "      <td>./train/TRAIN_4998.wav</td>\n",
       "      <td>1</td>\n",
       "      <td>./train_mfcc/TRAIN_4998.jpeg</td>\n",
       "    </tr>\n",
       "    <tr>\n",
       "      <th>4999</th>\n",
       "      <td>TRAIN_4999</td>\n",
       "      <td>./train/TRAIN_4999.wav</td>\n",
       "      <td>1</td>\n",
       "      <td>./train_mfcc/TRAIN_4999.jpeg</td>\n",
       "    </tr>\n",
       "    <tr>\n",
       "      <th>5000</th>\n",
       "      <td>TRAIN_5000</td>\n",
       "      <td>./train/TRAIN_5000.wav</td>\n",
       "      <td>4</td>\n",
       "      <td>./train_mfcc/TRAIN_5000.jpeg</td>\n",
       "    </tr>\n",
       "  </tbody>\n",
       "</table>\n",
       "<p>5001 rows × 4 columns</p>\n",
       "</div>"
      ],
      "text/plain": [
       "              id                    path  label                      img_path\n",
       "0     TRAIN_0000  ./train/TRAIN_0000.wav      1  ./train_mfcc/TRAIN_0000.jpeg\n",
       "1     TRAIN_0001  ./train/TRAIN_0001.wav      2  ./train_mfcc/TRAIN_0001.jpeg\n",
       "2     TRAIN_0002  ./train/TRAIN_0002.wav      4  ./train_mfcc/TRAIN_0002.jpeg\n",
       "3     TRAIN_0003  ./train/TRAIN_0003.wav      5  ./train_mfcc/TRAIN_0003.jpeg\n",
       "4     TRAIN_0004  ./train/TRAIN_0004.wav      4  ./train_mfcc/TRAIN_0004.jpeg\n",
       "...          ...                     ...    ...                           ...\n",
       "4996  TRAIN_4996  ./train/TRAIN_4996.wav      5  ./train_mfcc/TRAIN_4996.jpeg\n",
       "4997  TRAIN_4997  ./train/TRAIN_4997.wav      0  ./train_mfcc/TRAIN_4997.jpeg\n",
       "4998  TRAIN_4998  ./train/TRAIN_4998.wav      1  ./train_mfcc/TRAIN_4998.jpeg\n",
       "4999  TRAIN_4999  ./train/TRAIN_4999.wav      1  ./train_mfcc/TRAIN_4999.jpeg\n",
       "5000  TRAIN_5000  ./train/TRAIN_5000.wav      4  ./train_mfcc/TRAIN_5000.jpeg\n",
       "\n",
       "[5001 rows x 4 columns]"
      ]
     },
     "execution_count": 4,
     "metadata": {},
     "output_type": "execute_result"
    }
   ],
   "source": [
    "train_df"
   ]
  },
  {
   "cell_type": "code",
   "execution_count": 5,
   "id": "5b7e1db7",
   "metadata": {},
   "outputs": [
    {
     "data": {
      "text/html": [
       "<div>\n",
       "<style scoped>\n",
       "    .dataframe tbody tr th:only-of-type {\n",
       "        vertical-align: middle;\n",
       "    }\n",
       "\n",
       "    .dataframe tbody tr th {\n",
       "        vertical-align: top;\n",
       "    }\n",
       "\n",
       "    .dataframe thead th {\n",
       "        text-align: right;\n",
       "    }\n",
       "</style>\n",
       "<table border=\"1\" class=\"dataframe\">\n",
       "  <thead>\n",
       "    <tr style=\"text-align: right;\">\n",
       "      <th></th>\n",
       "      <th>id</th>\n",
       "      <th>path</th>\n",
       "      <th>img_path</th>\n",
       "    </tr>\n",
       "  </thead>\n",
       "  <tbody>\n",
       "    <tr>\n",
       "      <th>0</th>\n",
       "      <td>TEST_0000</td>\n",
       "      <td>./test/TEST_0000.wav</td>\n",
       "      <td>./test_mfcc/TEST_0000.jpeg</td>\n",
       "    </tr>\n",
       "    <tr>\n",
       "      <th>1</th>\n",
       "      <td>TEST_0001</td>\n",
       "      <td>./test/TEST_0001.wav</td>\n",
       "      <td>./test_mfcc/TEST_0001.jpeg</td>\n",
       "    </tr>\n",
       "    <tr>\n",
       "      <th>2</th>\n",
       "      <td>TEST_0002</td>\n",
       "      <td>./test/TEST_0002.wav</td>\n",
       "      <td>./test_mfcc/TEST_0002.jpeg</td>\n",
       "    </tr>\n",
       "    <tr>\n",
       "      <th>3</th>\n",
       "      <td>TEST_0003</td>\n",
       "      <td>./test/TEST_0003.wav</td>\n",
       "      <td>./test_mfcc/TEST_0003.jpeg</td>\n",
       "    </tr>\n",
       "    <tr>\n",
       "      <th>4</th>\n",
       "      <td>TEST_0004</td>\n",
       "      <td>./test/TEST_0004.wav</td>\n",
       "      <td>./test_mfcc/TEST_0004.jpeg</td>\n",
       "    </tr>\n",
       "    <tr>\n",
       "      <th>...</th>\n",
       "      <td>...</td>\n",
       "      <td>...</td>\n",
       "      <td>...</td>\n",
       "    </tr>\n",
       "    <tr>\n",
       "      <th>1876</th>\n",
       "      <td>TEST_1876</td>\n",
       "      <td>./test/TEST_1876.wav</td>\n",
       "      <td>./test_mfcc/TEST_1876.jpeg</td>\n",
       "    </tr>\n",
       "    <tr>\n",
       "      <th>1877</th>\n",
       "      <td>TEST_1877</td>\n",
       "      <td>./test/TEST_1877.wav</td>\n",
       "      <td>./test_mfcc/TEST_1877.jpeg</td>\n",
       "    </tr>\n",
       "    <tr>\n",
       "      <th>1878</th>\n",
       "      <td>TEST_1878</td>\n",
       "      <td>./test/TEST_1878.wav</td>\n",
       "      <td>./test_mfcc/TEST_1878.jpeg</td>\n",
       "    </tr>\n",
       "    <tr>\n",
       "      <th>1879</th>\n",
       "      <td>TEST_1879</td>\n",
       "      <td>./test/TEST_1879.wav</td>\n",
       "      <td>./test_mfcc/TEST_1879.jpeg</td>\n",
       "    </tr>\n",
       "    <tr>\n",
       "      <th>1880</th>\n",
       "      <td>TEST_1880</td>\n",
       "      <td>./test/TEST_1880.wav</td>\n",
       "      <td>./test_mfcc/TEST_1880.jpeg</td>\n",
       "    </tr>\n",
       "  </tbody>\n",
       "</table>\n",
       "<p>1881 rows × 3 columns</p>\n",
       "</div>"
      ],
      "text/plain": [
       "             id                  path                    img_path\n",
       "0     TEST_0000  ./test/TEST_0000.wav  ./test_mfcc/TEST_0000.jpeg\n",
       "1     TEST_0001  ./test/TEST_0001.wav  ./test_mfcc/TEST_0001.jpeg\n",
       "2     TEST_0002  ./test/TEST_0002.wav  ./test_mfcc/TEST_0002.jpeg\n",
       "3     TEST_0003  ./test/TEST_0003.wav  ./test_mfcc/TEST_0003.jpeg\n",
       "4     TEST_0004  ./test/TEST_0004.wav  ./test_mfcc/TEST_0004.jpeg\n",
       "...         ...                   ...                         ...\n",
       "1876  TEST_1876  ./test/TEST_1876.wav  ./test_mfcc/TEST_1876.jpeg\n",
       "1877  TEST_1877  ./test/TEST_1877.wav  ./test_mfcc/TEST_1877.jpeg\n",
       "1878  TEST_1878  ./test/TEST_1878.wav  ./test_mfcc/TEST_1878.jpeg\n",
       "1879  TEST_1879  ./test/TEST_1879.wav  ./test_mfcc/TEST_1879.jpeg\n",
       "1880  TEST_1880  ./test/TEST_1880.wav  ./test_mfcc/TEST_1880.jpeg\n",
       "\n",
       "[1881 rows x 3 columns]"
      ]
     },
     "execution_count": 5,
     "metadata": {},
     "output_type": "execute_result"
    }
   ],
   "source": [
    "test_df"
   ]
  },
  {
   "cell_type": "code",
   "execution_count": 6,
   "id": "8c04aa7f",
   "metadata": {},
   "outputs": [
    {
     "data": {
      "text/plain": [
       "device(type='cuda')"
      ]
     },
     "execution_count": 6,
     "metadata": {},
     "output_type": "execute_result"
    }
   ],
   "source": [
    "device = torch.device('cuda') if torch.cuda.is_available() else torch.device('cpu')\n",
    "device"
   ]
  },
  {
   "cell_type": "code",
   "execution_count": 7,
   "id": "a8cf0991",
   "metadata": {},
   "outputs": [],
   "source": [
    "CFG = {\n",
    "    'IMG_SIZE':224,\n",
    "    'EPOCHS':1000,\n",
    "    'LEARNING_RATE':1e-3,\n",
    "    'BATCH_SIZE':32,\n",
    "    'SEED':42\n",
    "}"
   ]
  },
  {
   "cell_type": "code",
   "execution_count": 8,
   "id": "f44cfbe3",
   "metadata": {},
   "outputs": [],
   "source": [
    "def seed_everything(seed):\n",
    "    random.seed(seed)\n",
    "    os.environ['PYTHONHASHSEED'] = str(seed)\n",
    "    np.random.seed(seed)\n",
    "    torch.manual_seed(seed)\n",
    "    torch.cuda.manual_seed(seed)\n",
    "    torch.backends.cudnn.deterministic = True\n",
    "    torch.backends.cudnn.benchmark = True\n",
    "\n",
    "seed_everything(CFG['SEED'])"
   ]
  },
  {
   "cell_type": "code",
   "execution_count": 9,
   "id": "11dd9bbc",
   "metadata": {},
   "outputs": [],
   "source": [
    "train, val, _, _ = train_test_split(train_df, train_df['label'], test_size=0.1, random_state=CFG['SEED'], stratify=train_df['label'])"
   ]
  },
  {
   "cell_type": "code",
   "execution_count": 10,
   "id": "dc2ef54e",
   "metadata": {},
   "outputs": [
    {
     "data": {
      "text/plain": [
       "0    780\n",
       "2    773\n",
       "3    767\n",
       "5    767\n",
       "1    763\n",
       "4    650\n",
       "Name: label, dtype: int64"
      ]
     },
     "execution_count": 10,
     "metadata": {},
     "output_type": "execute_result"
    }
   ],
   "source": [
    "train['label'].value_counts()"
   ]
  },
  {
   "cell_type": "code",
   "execution_count": 11,
   "id": "c11bed7d",
   "metadata": {},
   "outputs": [
    {
     "data": {
      "text/plain": [
       "0    87\n",
       "2    86\n",
       "5    86\n",
       "1    85\n",
       "3    85\n",
       "4    72\n",
       "Name: label, dtype: int64"
      ]
     },
     "execution_count": 11,
     "metadata": {},
     "output_type": "execute_result"
    }
   ],
   "source": [
    "val['label'].value_counts()"
   ]
  },
  {
   "cell_type": "code",
   "execution_count": 12,
   "id": "ff57868a",
   "metadata": {},
   "outputs": [],
   "source": [
    "tfms = A.Compose([\n",
    "    A.Resize(width=CFG['IMG_SIZE'], height=CFG['IMG_SIZE']),\n",
    "    A.Normalize()\n",
    "], p=1)"
   ]
  },
  {
   "cell_type": "code",
   "execution_count": 13,
   "id": "1870207f",
   "metadata": {},
   "outputs": [],
   "source": [
    "class Dataset(Dataset):\n",
    "    def __init__(self, df, path_list, label_list, tfms=None):\n",
    "        self.df = df\n",
    "        self.path_list = path_list\n",
    "        self.label_list = label_list\n",
    "        self.tfms = tfms\n",
    "    \n",
    "    def __len__(self):\n",
    "        return len(self.df)\n",
    "    \n",
    "    def __getitem__(self, idx):\n",
    "        img = cv2.imread(self.path_list[idx])\n",
    "        img = cv2.cvtColor(img, cv2.COLOR_BGR2RGB)\n",
    "        image = self.tfms(image=img)['image']\n",
    "        image = torch.tensor(np.array(image)).permute(2, 0, 1)\n",
    "        \n",
    "        if self.label_list is not None:\n",
    "            label = self.label_list[idx]\n",
    "            return image, label\n",
    "        else:\n",
    "            return image"
   ]
  },
  {
   "cell_type": "code",
   "execution_count": 14,
   "id": "87dfb0c0",
   "metadata": {},
   "outputs": [],
   "source": [
    "train_dataset = Dataset(df=train, path_list=train['img_path'].values, label_list=train['label'].values, tfms=tfms)\n",
    "train_loader = DataLoader(train_dataset, batch_size = CFG['BATCH_SIZE'], shuffle=True, num_workers=0)\n",
    "\n",
    "val_dataset = Dataset(df=val,path_list=val['img_path'].values, label_list=val['label'].values, tfms=tfms)\n",
    "val_loader = DataLoader(val_dataset, batch_size = CFG['BATCH_SIZE'], shuffle=False, num_workers=0)"
   ]
  },
  {
   "cell_type": "code",
   "execution_count": 15,
   "id": "971c1c76",
   "metadata": {},
   "outputs": [],
   "source": [
    "import torch\n",
    "import torch.nn as nn\n",
    "import torch.nn.functional as F\n",
    "\n",
    "in_planes = 64\n",
    "num_classes = 6\n",
    "\n",
    "def conv3x3(in_planes, out_planes, stride=1):\n",
    "    return nn.Conv2d(\n",
    "        in_planes,\n",
    "        out_planes,\n",
    "        kernel_size=3,\n",
    "        stride=stride,\n",
    "        bias=False,\n",
    "        padding = 1,\n",
    "        padding_mode='zeros'\n",
    "    )\n",
    "\n",
    "\n",
    "class Residual(nn.Module):\n",
    "    def __init__(self, numIn, numOut, stride = 1):\n",
    "        super(Residual, self).__init__()\n",
    "        self.numIn = numIn\n",
    "        self.numOut = numOut\n",
    "        self.cab = CAB(numOut)\n",
    "        self.stride = stride\n",
    "        self.conv1 = nn.Conv2d(self.numIn, self.numOut, bias = False, kernel_size = 3,stride = self.stride,padding = 1)\n",
    "        self.bn1 = nn.BatchNorm2d(self.numOut)\n",
    "        self.relu = nn.ReLU(inplace = True)\n",
    "        self.conv2 = nn.Conv2d(self.numOut, self.numOut, bias = False, kernel_size = 3, stride = self.stride, padding = 1)\n",
    "        self.bn2 = nn.BatchNorm2d(self.numOut)\n",
    "        \n",
    "        if self.numIn != self.numOut:\n",
    "            self.conv4 = nn.Conv2d(self.numIn, self.numOut, bias = True, kernel_size = 1)\n",
    "            \n",
    "    def forward(self, x):\n",
    "        residual = x\n",
    "        out = self.conv1(x)\n",
    "        out = self.bn1(out)\n",
    "        out = self.relu(out)\n",
    "        \n",
    "        out = self.conv2(out)\n",
    "        out = self.bn2(out)\n",
    "        out = self.relu(out)\n",
    "        \n",
    "        if self.numIn != self.numOut:\n",
    "            residual = self.conv4(x)\n",
    "        \n",
    "        return out + residual\n",
    "\n",
    "    \n",
    "\n",
    "class ChannelAttention(nn.Module):\n",
    "    def __init__(self, channel):\n",
    "        super(ChannelAttention, self).__init__()\n",
    "        self.attention = nn.Sequential(\n",
    "            nn.AdaptiveAvgPool2d(1),\n",
    "            nn.Conv2d(channel, channel, 1, padding=0, bias=True),\n",
    "            nn.ReLU(inplace=True),\n",
    "            nn.Conv2d(channel, channel, 1, padding=0, bias=True),\n",
    "            nn.Sigmoid())\n",
    "    def forward(self, x):\n",
    "        y = self.attention(x)\n",
    "        return x * y\n",
    "    \n",
    "    \n",
    "class CAB(nn.Module):\n",
    "    def __init__(self, channel):\n",
    "        super(CAB, self).__init__()\n",
    "        self.cab = nn.Sequential(\n",
    "            nn.Conv2d(channel, channel, kernel_size=3, padding=1, stride=1),\n",
    "            nn.GELU(),\n",
    "            nn.Conv2d(channel, channel, kernel_size=3, padding=1, stride=1),\n",
    "            ChannelAttention(channel)\n",
    "            )\n",
    "    def forward(self, x):\n",
    "        return self.cab(x)\n",
    "    \n",
    "    \n",
    "class ResNet(nn.Module):\n",
    "    def __init__(self, in_planes, num_classes):\n",
    "        super(ResNet, self).__init__()\n",
    "        self.in_planes = in_planes\n",
    "        self.conv = nn.Conv2d(3, self.in_planes, kernel_size = 3, stride = 1, padding = 3, padding_mode='zeros', bias=False)\n",
    "        self.conv_g = nn.Conv2d(2, self.in_planes, kernel_size = 3, stride = 1, padding = 1, padding_mode='zeros', bias=False)\n",
    "        self.cab = CAB(in_planes)\n",
    "        self.bn = nn.BatchNorm2d(self.in_planes)\n",
    "        self.relu = nn.ReLU(inplace = True)\n",
    "        self.res1 = Residual(in_planes,in_planes)\n",
    "        self.res2 = Residual(in_planes,in_planes)\n",
    "        self.res3 = Residual(in_planes,in_planes)\n",
    "        self.res4 = Residual(in_planes,in_planes)\n",
    "        self.res5 = Residual(in_planes,in_planes)\n",
    "        self.res6 = Residual(in_planes,in_planes)\n",
    "        self.res7 = Residual(in_planes,in_planes)\n",
    "        self.res8 = Residual(in_planes,in_planes)\n",
    "        self.res7 = Residual(in_planes,in_planes)\n",
    "        self.res8 = Residual(in_planes,in_planes)\n",
    "        self.maxpool = nn.MaxPool2d(kernel_size=2, stride=2)\n",
    "        self.avgpool = nn.AvgPool2d(2, stride=2)\n",
    "        self.gap = nn.AdaptiveAvgPool2d((1, 1))\n",
    "        self.linear  = nn.Linear(in_planes, num_classes)\n",
    "    \n",
    "    def forward(self, x):\n",
    "        out = self.conv(x)\n",
    "        out = self.cab(out)\n",
    "        out = self.bn(out)\n",
    "        out = self.relu(out)\n",
    "        out = self.maxpool(out)\n",
    "        out = self.res1(out)\n",
    "        out = self.res2(out)\n",
    "        out = self.maxpool(out)\n",
    "        out = self.res3(out)\n",
    "        out = self.res4(out)\n",
    "        out = self.maxpool(out)\n",
    "        out = self.res5(out)\n",
    "        out = self.res6(out)\n",
    "        out = self.maxpool(out)\n",
    "        out = self.gap(out)\n",
    "\n",
    "        out = torch.flatten(out, 1)\n",
    "        out = self.linear(out)\n",
    "        return out"
   ]
  },
  {
   "cell_type": "code",
   "execution_count": 16,
   "id": "24090f05",
   "metadata": {},
   "outputs": [],
   "source": [
    "def train(model, optimizer, train_loader, val_loader, scheduler, device):\n",
    "    model.to(device)\n",
    "    criterion = nn.CrossEntropyLoss().to(device)\n",
    "    \n",
    "    best_val_score = 0\n",
    "    best_model = None\n",
    "    \n",
    "    for epoch in range(1, CFG['EPOCHS']+1):\n",
    "        model.train()\n",
    "        train_loss = []\n",
    "        for images, labels in tqdm(iter(train_loader)):\n",
    "            images = images.to(device)\n",
    "            labels = labels.to(device)\n",
    "            \n",
    "            optimizer.zero_grad()\n",
    "            \n",
    "            output = model(images)\n",
    "            loss = criterion(output, labels)\n",
    "            \n",
    "            loss.backward()\n",
    "            optimizer.step()\n",
    "            \n",
    "            train_loss.append(loss.item())\n",
    "                    \n",
    "        _val_loss, _val_score = validation(model, criterion, val_loader, device)\n",
    "        _train_loss = np.mean(train_loss)\n",
    "        print(f'Epoch [{epoch}], Train Loss : [{_train_loss:.5f}] Val Loss : [{_val_loss:.5f}] Val F1 : [{_val_score:.5f}]')\n",
    "        \n",
    "        if scheduler is not None:\n",
    "            scheduler.step(_val_score)\n",
    "            \n",
    "        if best_val_score < _val_score:\n",
    "            best_val_score = _val_score\n",
    "            best_model = model\n",
    "            \n",
    "            torch.save(model, 'save_model/' + 'best_0515.pth'.format(epoch))\n",
    "\n",
    "    \n",
    "    return best_model"
   ]
  },
  {
   "cell_type": "code",
   "execution_count": 17,
   "id": "ffead9e2",
   "metadata": {},
   "outputs": [],
   "source": [
    "def validation(model, criterion, val_loader, device):\n",
    "    model.eval()\n",
    "    val_loss = []\n",
    "    preds, trues = [], []\n",
    "    \n",
    "    with torch.no_grad():\n",
    "        for images, labels in tqdm(iter(val_loader)):\n",
    "            images = images.to(device)\n",
    "            labels = labels.to(device)\n",
    "            \n",
    "            logit = model(images)\n",
    "            \n",
    "            loss = criterion(logit, labels)\n",
    "            \n",
    "            val_loss.append(loss.item())\n",
    "            \n",
    "            preds += logit.argmax(1).detach().cpu().numpy().tolist()\n",
    "            trues += labels.detach().cpu().numpy().tolist()\n",
    "        \n",
    "        _val_loss = np.mean(val_loss)\n",
    "    \n",
    "    _val_score = f1_score(trues, preds, average='macro')\n",
    "    return _val_loss, _val_score"
   ]
  },
  {
   "cell_type": "code",
   "execution_count": 18,
   "id": "6f9af10a",
   "metadata": {},
   "outputs": [
    {
     "name": "stderr",
     "output_type": "stream",
     "text": [
      "100%|██████████████████████████████████████████| 141/141 [00:42<00:00,  3.32it/s]\n",
      "100%|████████████████████████████████████████████| 16/16 [00:01<00:00,  8.63it/s]\n"
     ]
    },
    {
     "name": "stdout",
     "output_type": "stream",
     "text": [
      "Epoch [1], Train Loss : [1.68053] Val Loss : [14.05576] Val F1 : [0.04884]\n"
     ]
    },
    {
     "name": "stderr",
     "output_type": "stream",
     "text": [
      "100%|██████████████████████████████████████████| 141/141 [00:37<00:00,  3.75it/s]\n",
      "100%|████████████████████████████████████████████| 16/16 [00:01<00:00, 10.87it/s]\n"
     ]
    },
    {
     "name": "stdout",
     "output_type": "stream",
     "text": [
      "Epoch [2], Train Loss : [1.56853] Val Loss : [4.23964] Val F1 : [0.11684]\n"
     ]
    },
    {
     "name": "stderr",
     "output_type": "stream",
     "text": [
      "100%|██████████████████████████████████████████| 141/141 [00:37<00:00,  3.75it/s]\n",
      "100%|████████████████████████████████████████████| 16/16 [00:01<00:00, 10.83it/s]\n"
     ]
    },
    {
     "name": "stdout",
     "output_type": "stream",
     "text": [
      "Epoch [3], Train Loss : [1.49712] Val Loss : [4.13814] Val F1 : [0.04940]\n"
     ]
    },
    {
     "name": "stderr",
     "output_type": "stream",
     "text": [
      "100%|██████████████████████████████████████████| 141/141 [00:37<00:00,  3.75it/s]\n",
      "100%|████████████████████████████████████████████| 16/16 [00:01<00:00, 10.85it/s]\n"
     ]
    },
    {
     "name": "stdout",
     "output_type": "stream",
     "text": [
      "Epoch [4], Train Loss : [1.48363] Val Loss : [2.06047] Val F1 : [0.11692]\n"
     ]
    },
    {
     "name": "stderr",
     "output_type": "stream",
     "text": [
      "100%|██████████████████████████████████████████| 141/141 [00:37<00:00,  3.75it/s]\n",
      "100%|████████████████████████████████████████████| 16/16 [00:01<00:00, 10.84it/s]\n"
     ]
    },
    {
     "name": "stdout",
     "output_type": "stream",
     "text": [
      "Epoch [5], Train Loss : [1.46138] Val Loss : [20.06804] Val F1 : [0.04884]\n",
      "Epoch 00005: reducing learning rate of group 0 to 5.0000e-04.\n"
     ]
    },
    {
     "name": "stderr",
     "output_type": "stream",
     "text": [
      "100%|██████████████████████████████████████████| 141/141 [00:37<00:00,  3.75it/s]\n",
      "100%|████████████████████████████████████████████| 16/16 [00:01<00:00, 10.77it/s]\n"
     ]
    },
    {
     "name": "stdout",
     "output_type": "stream",
     "text": [
      "Epoch [6], Train Loss : [1.40053] Val Loss : [8.59588] Val F1 : [0.04884]\n"
     ]
    },
    {
     "name": "stderr",
     "output_type": "stream",
     "text": [
      "100%|██████████████████████████████████████████| 141/141 [00:37<00:00,  3.75it/s]\n",
      "100%|████████████████████████████████████████████| 16/16 [00:01<00:00, 10.80it/s]\n"
     ]
    },
    {
     "name": "stdout",
     "output_type": "stream",
     "text": [
      "Epoch [7], Train Loss : [1.38156] Val Loss : [15.40138] Val F1 : [0.04932]\n"
     ]
    },
    {
     "name": "stderr",
     "output_type": "stream",
     "text": [
      "100%|██████████████████████████████████████████| 141/141 [00:37<00:00,  3.75it/s]\n",
      "100%|████████████████████████████████████████████| 16/16 [00:01<00:00, 10.80it/s]\n"
     ]
    },
    {
     "name": "stdout",
     "output_type": "stream",
     "text": [
      "Epoch [8], Train Loss : [1.37482] Val Loss : [7.10081] Val F1 : [0.09720]\n",
      "Epoch 00008: reducing learning rate of group 0 to 2.5000e-04.\n"
     ]
    },
    {
     "name": "stderr",
     "output_type": "stream",
     "text": [
      "100%|██████████████████████████████████████████| 141/141 [00:37<00:00,  3.75it/s]\n",
      "100%|████████████████████████████████████████████| 16/16 [00:01<00:00, 10.85it/s]\n"
     ]
    },
    {
     "name": "stdout",
     "output_type": "stream",
     "text": [
      "Epoch [9], Train Loss : [1.31918] Val Loss : [2.92561] Val F1 : [0.21068]\n"
     ]
    },
    {
     "name": "stderr",
     "output_type": "stream",
     "text": [
      "100%|██████████████████████████████████████████| 141/141 [00:37<00:00,  3.74it/s]\n",
      "100%|████████████████████████████████████████████| 16/16 [00:01<00:00, 10.89it/s]\n"
     ]
    },
    {
     "name": "stdout",
     "output_type": "stream",
     "text": [
      "Epoch [10], Train Loss : [1.30150] Val Loss : [3.75558] Val F1 : [0.09978]\n"
     ]
    },
    {
     "name": "stderr",
     "output_type": "stream",
     "text": [
      "100%|██████████████████████████████████████████| 141/141 [00:37<00:00,  3.75it/s]\n",
      "100%|████████████████████████████████████████████| 16/16 [00:01<00:00, 10.63it/s]\n"
     ]
    },
    {
     "name": "stdout",
     "output_type": "stream",
     "text": [
      "Epoch [11], Train Loss : [1.28881] Val Loss : [17.20447] Val F1 : [0.04884]\n"
     ]
    },
    {
     "name": "stderr",
     "output_type": "stream",
     "text": [
      "100%|██████████████████████████████████████████| 141/141 [00:37<00:00,  3.74it/s]\n",
      "100%|████████████████████████████████████████████| 16/16 [00:01<00:00, 10.91it/s]\n"
     ]
    },
    {
     "name": "stdout",
     "output_type": "stream",
     "text": [
      "Epoch [12], Train Loss : [1.27108] Val Loss : [10.03645] Val F1 : [0.06737]\n",
      "Epoch 00012: reducing learning rate of group 0 to 1.2500e-04.\n"
     ]
    },
    {
     "name": "stderr",
     "output_type": "stream",
     "text": [
      "100%|██████████████████████████████████████████| 141/141 [00:37<00:00,  3.73it/s]\n",
      "100%|████████████████████████████████████████████| 16/16 [00:01<00:00, 10.60it/s]\n"
     ]
    },
    {
     "name": "stdout",
     "output_type": "stream",
     "text": [
      "Epoch [13], Train Loss : [1.23220] Val Loss : [6.68093] Val F1 : [0.04835]\n"
     ]
    },
    {
     "name": "stderr",
     "output_type": "stream",
     "text": [
      "100%|██████████████████████████████████████████| 141/141 [00:37<00:00,  3.74it/s]\n",
      "100%|████████████████████████████████████████████| 16/16 [00:01<00:00, 10.86it/s]\n"
     ]
    },
    {
     "name": "stdout",
     "output_type": "stream",
     "text": [
      "Epoch [14], Train Loss : [1.22382] Val Loss : [1.64636] Val F1 : [0.27891]\n"
     ]
    },
    {
     "name": "stderr",
     "output_type": "stream",
     "text": [
      "100%|██████████████████████████████████████████| 141/141 [00:37<00:00,  3.75it/s]\n",
      "100%|████████████████████████████████████████████| 16/16 [00:01<00:00, 10.79it/s]\n"
     ]
    },
    {
     "name": "stdout",
     "output_type": "stream",
     "text": [
      "Epoch [15], Train Loss : [1.20861] Val Loss : [9.24954] Val F1 : [0.10658]\n"
     ]
    },
    {
     "name": "stderr",
     "output_type": "stream",
     "text": [
      "100%|██████████████████████████████████████████| 141/141 [00:37<00:00,  3.75it/s]\n",
      "100%|████████████████████████████████████████████| 16/16 [00:01<00:00, 10.85it/s]\n"
     ]
    },
    {
     "name": "stdout",
     "output_type": "stream",
     "text": [
      "Epoch [16], Train Loss : [1.20880] Val Loss : [8.36215] Val F1 : [0.04835]\n"
     ]
    },
    {
     "name": "stderr",
     "output_type": "stream",
     "text": [
      "100%|██████████████████████████████████████████| 141/141 [00:37<00:00,  3.75it/s]\n",
      "100%|████████████████████████████████████████████| 16/16 [00:01<00:00, 10.57it/s]\n"
     ]
    },
    {
     "name": "stdout",
     "output_type": "stream",
     "text": [
      "Epoch [17], Train Loss : [1.19518] Val Loss : [7.55634] Val F1 : [0.04835]\n",
      "Epoch 00017: reducing learning rate of group 0 to 6.2500e-05.\n"
     ]
    },
    {
     "name": "stderr",
     "output_type": "stream",
     "text": [
      "100%|██████████████████████████████████████████| 141/141 [00:37<00:00,  3.73it/s]\n",
      "100%|████████████████████████████████████████████| 16/16 [00:01<00:00, 10.76it/s]\n"
     ]
    },
    {
     "name": "stdout",
     "output_type": "stream",
     "text": [
      "Epoch [18], Train Loss : [1.17150] Val Loss : [3.13210] Val F1 : [0.21113]\n"
     ]
    },
    {
     "name": "stderr",
     "output_type": "stream",
     "text": [
      "100%|██████████████████████████████████████████| 141/141 [00:37<00:00,  3.74it/s]\n",
      "100%|████████████████████████████████████████████| 16/16 [00:01<00:00, 10.56it/s]\n"
     ]
    },
    {
     "name": "stdout",
     "output_type": "stream",
     "text": [
      "Epoch [19], Train Loss : [1.16006] Val Loss : [3.83616] Val F1 : [0.16446]\n"
     ]
    },
    {
     "name": "stderr",
     "output_type": "stream",
     "text": [
      "100%|██████████████████████████████████████████| 141/141 [00:37<00:00,  3.74it/s]\n",
      "100%|████████████████████████████████████████████| 16/16 [00:01<00:00, 10.88it/s]\n"
     ]
    },
    {
     "name": "stdout",
     "output_type": "stream",
     "text": [
      "Epoch [20], Train Loss : [1.16072] Val Loss : [6.93522] Val F1 : [0.07844]\n",
      "Epoch 00020: reducing learning rate of group 0 to 3.1250e-05.\n"
     ]
    },
    {
     "name": "stderr",
     "output_type": "stream",
     "text": [
      "100%|██████████████████████████████████████████| 141/141 [00:37<00:00,  3.74it/s]\n",
      "100%|████████████████████████████████████████████| 16/16 [00:01<00:00, 10.87it/s]\n"
     ]
    },
    {
     "name": "stdout",
     "output_type": "stream",
     "text": [
      "Epoch [21], Train Loss : [1.14509] Val Loss : [2.41300] Val F1 : [0.27992]\n"
     ]
    },
    {
     "name": "stderr",
     "output_type": "stream",
     "text": [
      "100%|██████████████████████████████████████████| 141/141 [00:37<00:00,  3.75it/s]\n",
      "100%|████████████████████████████████████████████| 16/16 [00:01<00:00, 10.68it/s]\n"
     ]
    },
    {
     "name": "stdout",
     "output_type": "stream",
     "text": [
      "Epoch [22], Train Loss : [1.13715] Val Loss : [2.39726] Val F1 : [0.27430]\n"
     ]
    },
    {
     "name": "stderr",
     "output_type": "stream",
     "text": [
      "100%|██████████████████████████████████████████| 141/141 [00:37<00:00,  3.74it/s]\n",
      "100%|████████████████████████████████████████████| 16/16 [00:01<00:00, 10.82it/s]\n"
     ]
    },
    {
     "name": "stdout",
     "output_type": "stream",
     "text": [
      "Epoch [23], Train Loss : [1.13279] Val Loss : [2.18310] Val F1 : [0.20500]\n"
     ]
    },
    {
     "name": "stderr",
     "output_type": "stream",
     "text": [
      "100%|██████████████████████████████████████████| 141/141 [00:37<00:00,  3.75it/s]\n",
      "100%|████████████████████████████████████████████| 16/16 [00:01<00:00, 10.88it/s]\n"
     ]
    },
    {
     "name": "stdout",
     "output_type": "stream",
     "text": [
      "Epoch [24], Train Loss : [1.13018] Val Loss : [2.35146] Val F1 : [0.20245]\n",
      "Epoch 00024: reducing learning rate of group 0 to 1.5625e-05.\n"
     ]
    },
    {
     "name": "stderr",
     "output_type": "stream",
     "text": [
      "100%|██████████████████████████████████████████| 141/141 [00:37<00:00,  3.75it/s]\n",
      "100%|████████████████████████████████████████████| 16/16 [00:01<00:00, 10.88it/s]\n"
     ]
    },
    {
     "name": "stdout",
     "output_type": "stream",
     "text": [
      "Epoch [25], Train Loss : [1.12578] Val Loss : [1.31123] Val F1 : [0.44621]\n"
     ]
    },
    {
     "name": "stderr",
     "output_type": "stream",
     "text": [
      "100%|██████████████████████████████████████████| 141/141 [00:37<00:00,  3.75it/s]\n",
      "100%|████████████████████████████████████████████| 16/16 [00:01<00:00, 10.48it/s]\n"
     ]
    },
    {
     "name": "stdout",
     "output_type": "stream",
     "text": [
      "Epoch [26], Train Loss : [1.11891] Val Loss : [4.83892] Val F1 : [0.05617]\n"
     ]
    },
    {
     "name": "stderr",
     "output_type": "stream",
     "text": [
      "100%|██████████████████████████████████████████| 141/141 [00:37<00:00,  3.74it/s]\n",
      "100%|████████████████████████████████████████████| 16/16 [00:01<00:00, 10.82it/s]\n"
     ]
    },
    {
     "name": "stdout",
     "output_type": "stream",
     "text": [
      "Epoch [27], Train Loss : [1.11600] Val Loss : [1.17436] Val F1 : [0.53701]\n"
     ]
    },
    {
     "name": "stderr",
     "output_type": "stream",
     "text": [
      "100%|██████████████████████████████████████████| 141/141 [00:37<00:00,  3.74it/s]\n",
      "100%|████████████████████████████████████████████| 16/16 [00:01<00:00, 10.89it/s]\n"
     ]
    },
    {
     "name": "stdout",
     "output_type": "stream",
     "text": [
      "Epoch [28], Train Loss : [1.11337] Val Loss : [1.21893] Val F1 : [0.49114]\n"
     ]
    },
    {
     "name": "stderr",
     "output_type": "stream",
     "text": [
      "100%|██████████████████████████████████████████| 141/141 [00:37<00:00,  3.75it/s]\n",
      "100%|████████████████████████████████████████████| 16/16 [00:01<00:00, 10.87it/s]\n"
     ]
    },
    {
     "name": "stdout",
     "output_type": "stream",
     "text": [
      "Epoch [29], Train Loss : [1.10781] Val Loss : [1.80784] Val F1 : [0.32782]\n"
     ]
    },
    {
     "name": "stderr",
     "output_type": "stream",
     "text": [
      "100%|██████████████████████████████████████████| 141/141 [00:37<00:00,  3.75it/s]\n",
      "100%|████████████████████████████████████████████| 16/16 [00:01<00:00, 10.80it/s]\n"
     ]
    },
    {
     "name": "stdout",
     "output_type": "stream",
     "text": [
      "Epoch [30], Train Loss : [1.11253] Val Loss : [1.27837] Val F1 : [0.47908]\n",
      "Epoch 00030: reducing learning rate of group 0 to 7.8125e-06.\n"
     ]
    },
    {
     "name": "stderr",
     "output_type": "stream",
     "text": [
      "100%|██████████████████████████████████████████| 141/141 [00:37<00:00,  3.75it/s]\n",
      "100%|████████████████████████████████████████████| 16/16 [00:01<00:00, 10.81it/s]\n"
     ]
    },
    {
     "name": "stdout",
     "output_type": "stream",
     "text": [
      "Epoch [31], Train Loss : [1.11068] Val Loss : [1.23084] Val F1 : [0.51282]\n"
     ]
    },
    {
     "name": "stderr",
     "output_type": "stream",
     "text": [
      "100%|██████████████████████████████████████████| 141/141 [00:37<00:00,  3.75it/s]\n",
      "100%|████████████████████████████████████████████| 16/16 [00:01<00:00, 10.76it/s]\n"
     ]
    },
    {
     "name": "stdout",
     "output_type": "stream",
     "text": [
      "Epoch [32], Train Loss : [1.10243] Val Loss : [1.32033] Val F1 : [0.44494]\n"
     ]
    },
    {
     "name": "stderr",
     "output_type": "stream",
     "text": [
      "100%|██████████████████████████████████████████| 141/141 [00:37<00:00,  3.75it/s]\n",
      "100%|████████████████████████████████████████████| 16/16 [00:01<00:00, 10.83it/s]\n"
     ]
    },
    {
     "name": "stdout",
     "output_type": "stream",
     "text": [
      "Epoch [33], Train Loss : [1.10048] Val Loss : [2.02089] Val F1 : [0.30632]\n",
      "Epoch 00033: reducing learning rate of group 0 to 3.9063e-06.\n"
     ]
    },
    {
     "name": "stderr",
     "output_type": "stream",
     "text": [
      "100%|██████████████████████████████████████████| 141/141 [00:37<00:00,  3.74it/s]\n",
      "100%|████████████████████████████████████████████| 16/16 [00:01<00:00, 10.82it/s]\n"
     ]
    },
    {
     "name": "stdout",
     "output_type": "stream",
     "text": [
      "Epoch [34], Train Loss : [1.10399] Val Loss : [1.18226] Val F1 : [0.54705]\n"
     ]
    },
    {
     "name": "stderr",
     "output_type": "stream",
     "text": [
      "100%|██████████████████████████████████████████| 141/141 [00:37<00:00,  3.75it/s]\n",
      "100%|████████████████████████████████████████████| 16/16 [00:01<00:00, 10.72it/s]\n"
     ]
    },
    {
     "name": "stdout",
     "output_type": "stream",
     "text": [
      "Epoch [35], Train Loss : [1.09664] Val Loss : [1.15165] Val F1 : [0.54662]\n"
     ]
    },
    {
     "name": "stderr",
     "output_type": "stream",
     "text": [
      "100%|██████████████████████████████████████████| 141/141 [00:37<00:00,  3.74it/s]\n",
      "100%|████████████████████████████████████████████| 16/16 [00:01<00:00, 10.80it/s]\n"
     ]
    },
    {
     "name": "stdout",
     "output_type": "stream",
     "text": [
      "Epoch [36], Train Loss : [1.09132] Val Loss : [1.26939] Val F1 : [0.49576]\n"
     ]
    },
    {
     "name": "stderr",
     "output_type": "stream",
     "text": [
      "100%|██████████████████████████████████████████| 141/141 [00:37<00:00,  3.75it/s]\n",
      "100%|████████████████████████████████████████████| 16/16 [00:01<00:00, 10.84it/s]\n"
     ]
    },
    {
     "name": "stdout",
     "output_type": "stream",
     "text": [
      "Epoch [37], Train Loss : [1.09693] Val Loss : [1.17347] Val F1 : [0.53907]\n",
      "Epoch 00037: reducing learning rate of group 0 to 1.9531e-06.\n"
     ]
    },
    {
     "name": "stderr",
     "output_type": "stream",
     "text": [
      "100%|██████████████████████████████████████████| 141/141 [00:37<00:00,  3.75it/s]\n",
      "100%|████████████████████████████████████████████| 16/16 [00:01<00:00, 10.90it/s]\n"
     ]
    },
    {
     "name": "stdout",
     "output_type": "stream",
     "text": [
      "Epoch [38], Train Loss : [1.09507] Val Loss : [1.16520] Val F1 : [0.54096]\n"
     ]
    },
    {
     "name": "stderr",
     "output_type": "stream",
     "text": [
      "100%|██████████████████████████████████████████| 141/141 [00:37<00:00,  3.76it/s]\n",
      "100%|████████████████████████████████████████████| 16/16 [00:01<00:00, 10.83it/s]\n"
     ]
    },
    {
     "name": "stdout",
     "output_type": "stream",
     "text": [
      "Epoch [39], Train Loss : [1.09435] Val Loss : [1.14519] Val F1 : [0.55971]\n"
     ]
    },
    {
     "name": "stderr",
     "output_type": "stream",
     "text": [
      "100%|██████████████████████████████████████████| 141/141 [00:37<00:00,  3.74it/s]\n",
      "100%|████████████████████████████████████████████| 16/16 [00:01<00:00, 10.84it/s]\n"
     ]
    },
    {
     "name": "stdout",
     "output_type": "stream",
     "text": [
      "Epoch [40], Train Loss : [1.09592] Val Loss : [1.14816] Val F1 : [0.53964]\n"
     ]
    },
    {
     "name": "stderr",
     "output_type": "stream",
     "text": [
      "100%|██████████████████████████████████████████| 141/141 [00:37<00:00,  3.75it/s]\n",
      "100%|████████████████████████████████████████████| 16/16 [00:01<00:00, 10.79it/s]\n"
     ]
    },
    {
     "name": "stdout",
     "output_type": "stream",
     "text": [
      "Epoch [41], Train Loss : [1.09322] Val Loss : [1.14638] Val F1 : [0.55457]\n"
     ]
    },
    {
     "name": "stderr",
     "output_type": "stream",
     "text": [
      "100%|██████████████████████████████████████████| 141/141 [00:37<00:00,  3.75it/s]\n",
      "100%|████████████████████████████████████████████| 16/16 [00:01<00:00, 10.89it/s]\n"
     ]
    },
    {
     "name": "stdout",
     "output_type": "stream",
     "text": [
      "Epoch [42], Train Loss : [1.09365] Val Loss : [1.15250] Val F1 : [0.54294]\n",
      "Epoch 00042: reducing learning rate of group 0 to 9.7656e-07.\n"
     ]
    },
    {
     "name": "stderr",
     "output_type": "stream",
     "text": [
      "100%|██████████████████████████████████████████| 141/141 [00:37<00:00,  3.73it/s]\n",
      "100%|████████████████████████████████████████████| 16/16 [00:01<00:00, 10.92it/s]\n"
     ]
    },
    {
     "name": "stdout",
     "output_type": "stream",
     "text": [
      "Epoch [43], Train Loss : [1.09375] Val Loss : [1.15014] Val F1 : [0.54650]\n"
     ]
    },
    {
     "name": "stderr",
     "output_type": "stream",
     "text": [
      "100%|██████████████████████████████████████████| 141/141 [00:37<00:00,  3.75it/s]\n",
      "100%|████████████████████████████████████████████| 16/16 [00:01<00:00, 10.84it/s]\n"
     ]
    },
    {
     "name": "stdout",
     "output_type": "stream",
     "text": [
      "Epoch [44], Train Loss : [1.09095] Val Loss : [1.14325] Val F1 : [0.55230]\n"
     ]
    },
    {
     "name": "stderr",
     "output_type": "stream",
     "text": [
      "100%|██████████████████████████████████████████| 141/141 [00:37<00:00,  3.75it/s]\n",
      "100%|████████████████████████████████████████████| 16/16 [00:01<00:00, 10.87it/s]\n"
     ]
    },
    {
     "name": "stdout",
     "output_type": "stream",
     "text": [
      "Epoch [45], Train Loss : [1.09388] Val Loss : [1.14368] Val F1 : [0.55906]\n",
      "Epoch 00045: reducing learning rate of group 0 to 4.8828e-07.\n"
     ]
    },
    {
     "name": "stderr",
     "output_type": "stream",
     "text": [
      "100%|██████████████████████████████████████████| 141/141 [00:37<00:00,  3.75it/s]\n",
      "100%|████████████████████████████████████████████| 16/16 [00:01<00:00, 10.92it/s]\n"
     ]
    },
    {
     "name": "stdout",
     "output_type": "stream",
     "text": [
      "Epoch [46], Train Loss : [1.08893] Val Loss : [1.14464] Val F1 : [0.55740]\n"
     ]
    },
    {
     "name": "stderr",
     "output_type": "stream",
     "text": [
      "100%|██████████████████████████████████████████| 141/141 [00:37<00:00,  3.75it/s]\n",
      "100%|████████████████████████████████████████████| 16/16 [00:01<00:00, 10.91it/s]\n"
     ]
    },
    {
     "name": "stdout",
     "output_type": "stream",
     "text": [
      "Epoch [47], Train Loss : [1.08927] Val Loss : [1.14551] Val F1 : [0.54348]\n"
     ]
    },
    {
     "name": "stderr",
     "output_type": "stream",
     "text": [
      "100%|██████████████████████████████████████████| 141/141 [00:37<00:00,  3.75it/s]\n",
      "100%|████████████████████████████████████████████| 16/16 [00:01<00:00, 10.93it/s]\n"
     ]
    },
    {
     "name": "stdout",
     "output_type": "stream",
     "text": [
      "Epoch [48], Train Loss : [1.09392] Val Loss : [1.14601] Val F1 : [0.54908]\n",
      "Epoch 00048: reducing learning rate of group 0 to 2.4414e-07.\n"
     ]
    },
    {
     "name": "stderr",
     "output_type": "stream",
     "text": [
      "100%|██████████████████████████████████████████| 141/141 [00:37<00:00,  3.75it/s]\n",
      "100%|████████████████████████████████████████████| 16/16 [00:01<00:00, 10.79it/s]\n"
     ]
    },
    {
     "name": "stdout",
     "output_type": "stream",
     "text": [
      "Epoch [49], Train Loss : [1.09655] Val Loss : [1.14283] Val F1 : [0.55856]\n"
     ]
    },
    {
     "name": "stderr",
     "output_type": "stream",
     "text": [
      "100%|██████████████████████████████████████████| 141/141 [00:37<00:00,  3.75it/s]\n",
      "100%|████████████████████████████████████████████| 16/16 [00:01<00:00, 10.76it/s]\n"
     ]
    },
    {
     "name": "stdout",
     "output_type": "stream",
     "text": [
      "Epoch [50], Train Loss : [1.08947] Val Loss : [1.14485] Val F1 : [0.55186]\n"
     ]
    },
    {
     "name": "stderr",
     "output_type": "stream",
     "text": [
      "100%|██████████████████████████████████████████| 141/141 [00:37<00:00,  3.75it/s]\n",
      "100%|████████████████████████████████████████████| 16/16 [00:01<00:00, 10.77it/s]\n"
     ]
    },
    {
     "name": "stdout",
     "output_type": "stream",
     "text": [
      "Epoch [51], Train Loss : [1.08683] Val Loss : [1.14472] Val F1 : [0.55951]\n",
      "Epoch 00051: reducing learning rate of group 0 to 1.2207e-07.\n"
     ]
    },
    {
     "name": "stderr",
     "output_type": "stream",
     "text": [
      "100%|██████████████████████████████████████████| 141/141 [00:37<00:00,  3.74it/s]\n",
      "100%|████████████████████████████████████████████| 16/16 [00:01<00:00, 10.83it/s]\n"
     ]
    },
    {
     "name": "stdout",
     "output_type": "stream",
     "text": [
      "Epoch [52], Train Loss : [1.09343] Val Loss : [1.14191] Val F1 : [0.55417]\n"
     ]
    },
    {
     "name": "stderr",
     "output_type": "stream",
     "text": [
      "100%|██████████████████████████████████████████| 141/141 [00:37<00:00,  3.75it/s]\n",
      "100%|████████████████████████████████████████████| 16/16 [00:01<00:00, 10.83it/s]\n"
     ]
    },
    {
     "name": "stdout",
     "output_type": "stream",
     "text": [
      "Epoch [53], Train Loss : [1.09203] Val Loss : [1.14284] Val F1 : [0.55749]\n"
     ]
    },
    {
     "name": "stderr",
     "output_type": "stream",
     "text": [
      "100%|██████████████████████████████████████████| 141/141 [00:37<00:00,  3.75it/s]\n",
      "100%|████████████████████████████████████████████| 16/16 [00:01<00:00, 10.86it/s]\n"
     ]
    },
    {
     "name": "stdout",
     "output_type": "stream",
     "text": [
      "Epoch [54], Train Loss : [1.08998] Val Loss : [1.14275] Val F1 : [0.55699]\n",
      "Epoch 00054: reducing learning rate of group 0 to 6.1035e-08.\n"
     ]
    },
    {
     "name": "stderr",
     "output_type": "stream",
     "text": [
      "100%|██████████████████████████████████████████| 141/141 [00:37<00:00,  3.75it/s]\n",
      "100%|████████████████████████████████████████████| 16/16 [00:01<00:00, 10.90it/s]\n"
     ]
    },
    {
     "name": "stdout",
     "output_type": "stream",
     "text": [
      "Epoch [55], Train Loss : [1.09523] Val Loss : [1.14327] Val F1 : [0.55036]\n"
     ]
    },
    {
     "name": "stderr",
     "output_type": "stream",
     "text": [
      "100%|██████████████████████████████████████████| 141/141 [00:37<00:00,  3.75it/s]\n",
      "100%|████████████████████████████████████████████| 16/16 [00:01<00:00, 10.73it/s]\n"
     ]
    },
    {
     "name": "stdout",
     "output_type": "stream",
     "text": [
      "Epoch [56], Train Loss : [1.08950] Val Loss : [1.14226] Val F1 : [0.55502]\n"
     ]
    },
    {
     "name": "stderr",
     "output_type": "stream",
     "text": [
      "100%|██████████████████████████████████████████| 141/141 [00:37<00:00,  3.75it/s]\n",
      "100%|████████████████████████████████████████████| 16/16 [00:01<00:00, 10.70it/s]\n"
     ]
    },
    {
     "name": "stdout",
     "output_type": "stream",
     "text": [
      "Epoch [57], Train Loss : [1.08904] Val Loss : [1.14421] Val F1 : [0.55821]\n",
      "Epoch 00057: reducing learning rate of group 0 to 3.0518e-08.\n"
     ]
    },
    {
     "name": "stderr",
     "output_type": "stream",
     "text": [
      "100%|██████████████████████████████████████████| 141/141 [00:37<00:00,  3.75it/s]\n",
      "100%|████████████████████████████████████████████| 16/16 [00:01<00:00, 10.91it/s]\n"
     ]
    },
    {
     "name": "stdout",
     "output_type": "stream",
     "text": [
      "Epoch [58], Train Loss : [1.08985] Val Loss : [1.14485] Val F1 : [0.55384]\n"
     ]
    },
    {
     "name": "stderr",
     "output_type": "stream",
     "text": [
      "100%|██████████████████████████████████████████| 141/141 [00:37<00:00,  3.76it/s]\n",
      "100%|████████████████████████████████████████████| 16/16 [00:01<00:00, 10.88it/s]\n"
     ]
    },
    {
     "name": "stdout",
     "output_type": "stream",
     "text": [
      "Epoch [59], Train Loss : [1.08892] Val Loss : [1.14324] Val F1 : [0.56422]\n"
     ]
    },
    {
     "name": "stderr",
     "output_type": "stream",
     "text": [
      "100%|██████████████████████████████████████████| 141/141 [00:37<00:00,  3.75it/s]\n",
      "100%|████████████████████████████████████████████| 16/16 [00:01<00:00, 10.58it/s]\n"
     ]
    },
    {
     "name": "stdout",
     "output_type": "stream",
     "text": [
      "Epoch [60], Train Loss : [1.09440] Val Loss : [1.14456] Val F1 : [0.56528]\n"
     ]
    },
    {
     "name": "stderr",
     "output_type": "stream",
     "text": [
      "100%|██████████████████████████████████████████| 141/141 [00:37<00:00,  3.75it/s]\n",
      "100%|████████████████████████████████████████████| 16/16 [00:01<00:00, 10.84it/s]\n"
     ]
    },
    {
     "name": "stdout",
     "output_type": "stream",
     "text": [
      "Epoch [61], Train Loss : [1.09014] Val Loss : [1.14336] Val F1 : [0.55733]\n"
     ]
    },
    {
     "name": "stderr",
     "output_type": "stream",
     "text": [
      "100%|██████████████████████████████████████████| 141/141 [00:37<00:00,  3.76it/s]\n",
      "100%|████████████████████████████████████████████| 16/16 [00:01<00:00, 10.84it/s]\n"
     ]
    },
    {
     "name": "stdout",
     "output_type": "stream",
     "text": [
      "Epoch [62], Train Loss : [1.08833] Val Loss : [1.14406] Val F1 : [0.55485]\n"
     ]
    },
    {
     "name": "stderr",
     "output_type": "stream",
     "text": [
      "100%|██████████████████████████████████████████| 141/141 [00:37<00:00,  3.75it/s]\n",
      "100%|████████████████████████████████████████████| 16/16 [00:01<00:00, 10.88it/s]\n"
     ]
    },
    {
     "name": "stdout",
     "output_type": "stream",
     "text": [
      "Epoch [63], Train Loss : [1.08794] Val Loss : [1.14891] Val F1 : [0.54138]\n",
      "Epoch 00063: reducing learning rate of group 0 to 1.5259e-08.\n"
     ]
    },
    {
     "name": "stderr",
     "output_type": "stream",
     "text": [
      "100%|██████████████████████████████████████████| 141/141 [00:37<00:00,  3.75it/s]\n",
      "100%|████████████████████████████████████████████| 16/16 [00:01<00:00, 10.83it/s]\n"
     ]
    },
    {
     "name": "stdout",
     "output_type": "stream",
     "text": [
      "Epoch [64], Train Loss : [1.09117] Val Loss : [1.14321] Val F1 : [0.55981]\n"
     ]
    },
    {
     "name": "stderr",
     "output_type": "stream",
     "text": [
      "100%|██████████████████████████████████████████| 141/141 [00:37<00:00,  3.75it/s]\n",
      "100%|████████████████████████████████████████████| 16/16 [00:01<00:00, 10.88it/s]\n"
     ]
    },
    {
     "name": "stdout",
     "output_type": "stream",
     "text": [
      "Epoch [65], Train Loss : [1.08972] Val Loss : [1.14514] Val F1 : [0.55295]\n"
     ]
    },
    {
     "name": "stderr",
     "output_type": "stream",
     "text": [
      "100%|██████████████████████████████████████████| 141/141 [00:37<00:00,  3.75it/s]\n",
      "100%|████████████████████████████████████████████| 16/16 [00:01<00:00, 10.84it/s]\n"
     ]
    },
    {
     "name": "stdout",
     "output_type": "stream",
     "text": [
      "Epoch [66], Train Loss : [1.09595] Val Loss : [1.14271] Val F1 : [0.55597]\n"
     ]
    },
    {
     "name": "stderr",
     "output_type": "stream",
     "text": [
      "100%|██████████████████████████████████████████| 141/141 [00:37<00:00,  3.75it/s]\n",
      "100%|████████████████████████████████████████████| 16/16 [00:01<00:00, 10.87it/s]\n"
     ]
    },
    {
     "name": "stdout",
     "output_type": "stream",
     "text": [
      "Epoch [67], Train Loss : [1.09214] Val Loss : [1.14253] Val F1 : [0.55871]\n"
     ]
    },
    {
     "name": "stderr",
     "output_type": "stream",
     "text": [
      "100%|██████████████████████████████████████████| 141/141 [00:37<00:00,  3.75it/s]\n",
      "100%|████████████████████████████████████████████| 16/16 [00:01<00:00, 10.56it/s]\n"
     ]
    },
    {
     "name": "stdout",
     "output_type": "stream",
     "text": [
      "Epoch [68], Train Loss : [1.09260] Val Loss : [1.14412] Val F1 : [0.55289]\n"
     ]
    },
    {
     "name": "stderr",
     "output_type": "stream",
     "text": [
      "100%|██████████████████████████████████████████| 141/141 [00:37<00:00,  3.75it/s]\n",
      "100%|████████████████████████████████████████████| 16/16 [00:01<00:00, 10.63it/s]\n"
     ]
    },
    {
     "name": "stdout",
     "output_type": "stream",
     "text": [
      "Epoch [69], Train Loss : [1.09538] Val Loss : [1.14356] Val F1 : [0.56515]\n"
     ]
    },
    {
     "name": "stderr",
     "output_type": "stream",
     "text": [
      "100%|██████████████████████████████████████████| 141/141 [00:37<00:00,  3.75it/s]\n",
      "100%|████████████████████████████████████████████| 16/16 [00:01<00:00, 10.75it/s]\n"
     ]
    },
    {
     "name": "stdout",
     "output_type": "stream",
     "text": [
      "Epoch [70], Train Loss : [1.08940] Val Loss : [1.14351] Val F1 : [0.55298]\n"
     ]
    },
    {
     "name": "stderr",
     "output_type": "stream",
     "text": [
      "100%|██████████████████████████████████████████| 141/141 [00:37<00:00,  3.75it/s]\n",
      "100%|████████████████████████████████████████████| 16/16 [00:01<00:00, 10.81it/s]\n"
     ]
    },
    {
     "name": "stdout",
     "output_type": "stream",
     "text": [
      "Epoch [71], Train Loss : [1.09368] Val Loss : [1.14403] Val F1 : [0.55948]\n"
     ]
    },
    {
     "name": "stderr",
     "output_type": "stream",
     "text": [
      "100%|██████████████████████████████████████████| 141/141 [00:37<00:00,  3.76it/s]\n",
      "100%|████████████████████████████████████████████| 16/16 [00:01<00:00, 10.92it/s]\n"
     ]
    },
    {
     "name": "stdout",
     "output_type": "stream",
     "text": [
      "Epoch [72], Train Loss : [1.09058] Val Loss : [1.14361] Val F1 : [0.55157]\n"
     ]
    },
    {
     "name": "stderr",
     "output_type": "stream",
     "text": [
      "100%|██████████████████████████████████████████| 141/141 [00:37<00:00,  3.75it/s]\n",
      "100%|████████████████████████████████████████████| 16/16 [00:01<00:00, 10.69it/s]\n"
     ]
    },
    {
     "name": "stdout",
     "output_type": "stream",
     "text": [
      "Epoch [73], Train Loss : [1.09668] Val Loss : [1.14291] Val F1 : [0.55253]\n"
     ]
    },
    {
     "name": "stderr",
     "output_type": "stream",
     "text": [
      "100%|██████████████████████████████████████████| 141/141 [00:37<00:00,  3.75it/s]\n",
      "100%|████████████████████████████████████████████| 16/16 [00:01<00:00, 10.86it/s]\n"
     ]
    },
    {
     "name": "stdout",
     "output_type": "stream",
     "text": [
      "Epoch [74], Train Loss : [1.08966] Val Loss : [1.14276] Val F1 : [0.55481]\n"
     ]
    },
    {
     "name": "stderr",
     "output_type": "stream",
     "text": [
      "100%|██████████████████████████████████████████| 141/141 [00:37<00:00,  3.75it/s]\n",
      "100%|████████████████████████████████████████████| 16/16 [00:01<00:00, 10.93it/s]\n"
     ]
    },
    {
     "name": "stdout",
     "output_type": "stream",
     "text": [
      "Epoch [75], Train Loss : [1.08894] Val Loss : [1.14544] Val F1 : [0.54553]\n"
     ]
    },
    {
     "name": "stderr",
     "output_type": "stream",
     "text": [
      "100%|██████████████████████████████████████████| 141/141 [00:37<00:00,  3.75it/s]\n",
      "100%|████████████████████████████████████████████| 16/16 [00:01<00:00, 10.39it/s]\n"
     ]
    },
    {
     "name": "stdout",
     "output_type": "stream",
     "text": [
      "Epoch [76], Train Loss : [1.09393] Val Loss : [1.14174] Val F1 : [0.56069]\n"
     ]
    },
    {
     "name": "stderr",
     "output_type": "stream",
     "text": [
      "100%|██████████████████████████████████████████| 141/141 [00:37<00:00,  3.74it/s]\n",
      "100%|████████████████████████████████████████████| 16/16 [00:01<00:00, 10.89it/s]\n"
     ]
    },
    {
     "name": "stdout",
     "output_type": "stream",
     "text": [
      "Epoch [77], Train Loss : [1.08861] Val Loss : [1.14910] Val F1 : [0.53529]\n"
     ]
    },
    {
     "name": "stderr",
     "output_type": "stream",
     "text": [
      "100%|██████████████████████████████████████████| 141/141 [00:37<00:00,  3.74it/s]\n",
      "100%|████████████████████████████████████████████| 16/16 [00:01<00:00, 10.91it/s]\n"
     ]
    },
    {
     "name": "stdout",
     "output_type": "stream",
     "text": [
      "Epoch [78], Train Loss : [1.08914] Val Loss : [1.14240] Val F1 : [0.55807]\n"
     ]
    },
    {
     "name": "stderr",
     "output_type": "stream",
     "text": [
      "100%|██████████████████████████████████████████| 141/141 [00:37<00:00,  3.74it/s]\n",
      "100%|████████████████████████████████████████████| 16/16 [00:01<00:00, 10.91it/s]\n"
     ]
    },
    {
     "name": "stdout",
     "output_type": "stream",
     "text": [
      "Epoch [79], Train Loss : [1.09326] Val Loss : [1.14460] Val F1 : [0.55333]\n"
     ]
    },
    {
     "name": "stderr",
     "output_type": "stream",
     "text": [
      "100%|██████████████████████████████████████████| 141/141 [00:37<00:00,  3.75it/s]\n",
      "100%|████████████████████████████████████████████| 16/16 [00:01<00:00, 10.93it/s]\n"
     ]
    },
    {
     "name": "stdout",
     "output_type": "stream",
     "text": [
      "Epoch [80], Train Loss : [1.08999] Val Loss : [1.14402] Val F1 : [0.56391]\n"
     ]
    },
    {
     "name": "stderr",
     "output_type": "stream",
     "text": [
      "100%|██████████████████████████████████████████| 141/141 [00:37<00:00,  3.75it/s]\n",
      "100%|████████████████████████████████████████████| 16/16 [00:01<00:00, 10.79it/s]\n"
     ]
    },
    {
     "name": "stdout",
     "output_type": "stream",
     "text": [
      "Epoch [81], Train Loss : [1.09143] Val Loss : [1.14325] Val F1 : [0.56078]\n"
     ]
    },
    {
     "name": "stderr",
     "output_type": "stream",
     "text": [
      "100%|██████████████████████████████████████████| 141/141 [00:37<00:00,  3.74it/s]\n",
      "100%|████████████████████████████████████████████| 16/16 [00:01<00:00, 10.88it/s]\n"
     ]
    },
    {
     "name": "stdout",
     "output_type": "stream",
     "text": [
      "Epoch [82], Train Loss : [1.09003] Val Loss : [1.14461] Val F1 : [0.55206]\n"
     ]
    },
    {
     "name": "stderr",
     "output_type": "stream",
     "text": [
      "100%|██████████████████████████████████████████| 141/141 [00:37<00:00,  3.75it/s]\n",
      "100%|████████████████████████████████████████████| 16/16 [00:01<00:00, 10.83it/s]\n"
     ]
    },
    {
     "name": "stdout",
     "output_type": "stream",
     "text": [
      "Epoch [83], Train Loss : [1.09506] Val Loss : [1.14337] Val F1 : [0.56079]\n"
     ]
    },
    {
     "name": "stderr",
     "output_type": "stream",
     "text": [
      "100%|██████████████████████████████████████████| 141/141 [00:37<00:00,  3.73it/s]\n",
      "100%|████████████████████████████████████████████| 16/16 [00:01<00:00, 10.84it/s]\n"
     ]
    },
    {
     "name": "stdout",
     "output_type": "stream",
     "text": [
      "Epoch [84], Train Loss : [1.09081] Val Loss : [1.14253] Val F1 : [0.55791]\n"
     ]
    },
    {
     "name": "stderr",
     "output_type": "stream",
     "text": [
      "100%|██████████████████████████████████████████| 141/141 [00:37<00:00,  3.74it/s]\n",
      "100%|████████████████████████████████████████████| 16/16 [00:01<00:00, 10.84it/s]\n"
     ]
    },
    {
     "name": "stdout",
     "output_type": "stream",
     "text": [
      "Epoch [85], Train Loss : [1.09423] Val Loss : [1.14535] Val F1 : [0.55103]\n"
     ]
    },
    {
     "name": "stderr",
     "output_type": "stream",
     "text": [
      "100%|██████████████████████████████████████████| 141/141 [00:37<00:00,  3.75it/s]\n",
      "100%|████████████████████████████████████████████| 16/16 [00:01<00:00, 10.88it/s]\n"
     ]
    },
    {
     "name": "stdout",
     "output_type": "stream",
     "text": [
      "Epoch [86], Train Loss : [1.08971] Val Loss : [1.14135] Val F1 : [0.55712]\n"
     ]
    },
    {
     "name": "stderr",
     "output_type": "stream",
     "text": [
      "100%|██████████████████████████████████████████| 141/141 [00:37<00:00,  3.75it/s]\n",
      "100%|████████████████████████████████████████████| 16/16 [00:01<00:00, 10.91it/s]\n"
     ]
    },
    {
     "name": "stdout",
     "output_type": "stream",
     "text": [
      "Epoch [87], Train Loss : [1.08908] Val Loss : [1.14325] Val F1 : [0.56124]\n"
     ]
    },
    {
     "name": "stderr",
     "output_type": "stream",
     "text": [
      "100%|██████████████████████████████████████████| 141/141 [00:37<00:00,  3.75it/s]\n",
      "100%|████████████████████████████████████████████| 16/16 [00:01<00:00, 10.94it/s]\n"
     ]
    },
    {
     "name": "stdout",
     "output_type": "stream",
     "text": [
      "Epoch [88], Train Loss : [1.08905] Val Loss : [1.14258] Val F1 : [0.55684]\n"
     ]
    },
    {
     "name": "stderr",
     "output_type": "stream",
     "text": [
      "100%|██████████████████████████████████████████| 141/141 [00:37<00:00,  3.75it/s]\n",
      "100%|████████████████████████████████████████████| 16/16 [00:01<00:00, 10.86it/s]\n"
     ]
    },
    {
     "name": "stdout",
     "output_type": "stream",
     "text": [
      "Epoch [89], Train Loss : [1.09510] Val Loss : [1.14188] Val F1 : [0.56270]\n"
     ]
    },
    {
     "name": "stderr",
     "output_type": "stream",
     "text": [
      "100%|██████████████████████████████████████████| 141/141 [00:37<00:00,  3.75it/s]\n",
      "100%|████████████████████████████████████████████| 16/16 [00:01<00:00, 10.85it/s]\n"
     ]
    },
    {
     "name": "stdout",
     "output_type": "stream",
     "text": [
      "Epoch [90], Train Loss : [1.09306] Val Loss : [1.14352] Val F1 : [0.54680]\n"
     ]
    },
    {
     "name": "stderr",
     "output_type": "stream",
     "text": [
      "100%|██████████████████████████████████████████| 141/141 [00:37<00:00,  3.75it/s]\n",
      "100%|████████████████████████████████████████████| 16/16 [00:01<00:00, 10.84it/s]\n"
     ]
    },
    {
     "name": "stdout",
     "output_type": "stream",
     "text": [
      "Epoch [91], Train Loss : [1.09255] Val Loss : [1.14367] Val F1 : [0.55118]\n"
     ]
    },
    {
     "name": "stderr",
     "output_type": "stream",
     "text": [
      "100%|██████████████████████████████████████████| 141/141 [00:37<00:00,  3.75it/s]\n",
      "100%|████████████████████████████████████████████| 16/16 [00:01<00:00, 10.95it/s]\n"
     ]
    },
    {
     "name": "stdout",
     "output_type": "stream",
     "text": [
      "Epoch [92], Train Loss : [1.08849] Val Loss : [1.14369] Val F1 : [0.55915]\n"
     ]
    },
    {
     "name": "stderr",
     "output_type": "stream",
     "text": [
      "100%|██████████████████████████████████████████| 141/141 [00:37<00:00,  3.75it/s]\n",
      "100%|████████████████████████████████████████████| 16/16 [00:01<00:00, 10.92it/s]\n"
     ]
    },
    {
     "name": "stdout",
     "output_type": "stream",
     "text": [
      "Epoch [93], Train Loss : [1.08936] Val Loss : [1.14292] Val F1 : [0.55913]\n"
     ]
    },
    {
     "name": "stderr",
     "output_type": "stream",
     "text": [
      "100%|██████████████████████████████████████████| 141/141 [00:37<00:00,  3.75it/s]\n",
      "100%|████████████████████████████████████████████| 16/16 [00:01<00:00, 10.80it/s]\n"
     ]
    },
    {
     "name": "stdout",
     "output_type": "stream",
     "text": [
      "Epoch [94], Train Loss : [1.09100] Val Loss : [1.14353] Val F1 : [0.55738]\n"
     ]
    },
    {
     "name": "stderr",
     "output_type": "stream",
     "text": [
      "100%|██████████████████████████████████████████| 141/141 [00:37<00:00,  3.76it/s]\n",
      "100%|████████████████████████████████████████████| 16/16 [00:01<00:00, 10.90it/s]\n"
     ]
    },
    {
     "name": "stdout",
     "output_type": "stream",
     "text": [
      "Epoch [95], Train Loss : [1.08483] Val Loss : [1.14276] Val F1 : [0.55475]\n"
     ]
    },
    {
     "name": "stderr",
     "output_type": "stream",
     "text": [
      "100%|██████████████████████████████████████████| 141/141 [00:37<00:00,  3.75it/s]\n",
      "100%|████████████████████████████████████████████| 16/16 [00:01<00:00, 10.85it/s]\n"
     ]
    },
    {
     "name": "stdout",
     "output_type": "stream",
     "text": [
      "Epoch [96], Train Loss : [1.09376] Val Loss : [1.14252] Val F1 : [0.55850]\n"
     ]
    },
    {
     "name": "stderr",
     "output_type": "stream",
     "text": [
      "100%|██████████████████████████████████████████| 141/141 [00:37<00:00,  3.75it/s]\n",
      "100%|████████████████████████████████████████████| 16/16 [00:01<00:00, 10.83it/s]\n"
     ]
    },
    {
     "name": "stdout",
     "output_type": "stream",
     "text": [
      "Epoch [97], Train Loss : [1.09089] Val Loss : [1.14470] Val F1 : [0.55373]\n"
     ]
    },
    {
     "name": "stderr",
     "output_type": "stream",
     "text": [
      "100%|██████████████████████████████████████████| 141/141 [00:37<00:00,  3.75it/s]\n",
      "100%|████████████████████████████████████████████| 16/16 [00:01<00:00, 10.94it/s]\n"
     ]
    },
    {
     "name": "stdout",
     "output_type": "stream",
     "text": [
      "Epoch [98], Train Loss : [1.09182] Val Loss : [1.14279] Val F1 : [0.55445]\n"
     ]
    },
    {
     "name": "stderr",
     "output_type": "stream",
     "text": [
      "100%|██████████████████████████████████████████| 141/141 [00:37<00:00,  3.75it/s]\n",
      "100%|████████████████████████████████████████████| 16/16 [00:01<00:00, 10.91it/s]\n"
     ]
    },
    {
     "name": "stdout",
     "output_type": "stream",
     "text": [
      "Epoch [99], Train Loss : [1.09178] Val Loss : [1.14438] Val F1 : [0.55630]\n"
     ]
    },
    {
     "name": "stderr",
     "output_type": "stream",
     "text": [
      "100%|██████████████████████████████████████████| 141/141 [00:37<00:00,  3.73it/s]\n",
      "100%|████████████████████████████████████████████| 16/16 [00:01<00:00, 10.89it/s]\n"
     ]
    },
    {
     "name": "stdout",
     "output_type": "stream",
     "text": [
      "Epoch [100], Train Loss : [1.09348] Val Loss : [1.14341] Val F1 : [0.55674]\n"
     ]
    },
    {
     "name": "stderr",
     "output_type": "stream",
     "text": [
      "100%|██████████████████████████████████████████| 141/141 [00:37<00:00,  3.75it/s]\n",
      "100%|████████████████████████████████████████████| 16/16 [00:01<00:00, 10.80it/s]\n"
     ]
    },
    {
     "name": "stdout",
     "output_type": "stream",
     "text": [
      "Epoch [101], Train Loss : [1.09217] Val Loss : [1.14532] Val F1 : [0.56187]\n"
     ]
    },
    {
     "name": "stderr",
     "output_type": "stream",
     "text": [
      "100%|██████████████████████████████████████████| 141/141 [00:37<00:00,  3.75it/s]\n",
      "100%|████████████████████████████████████████████| 16/16 [00:01<00:00, 10.91it/s]\n"
     ]
    },
    {
     "name": "stdout",
     "output_type": "stream",
     "text": [
      "Epoch [102], Train Loss : [1.08802] Val Loss : [1.14330] Val F1 : [0.56097]\n"
     ]
    },
    {
     "name": "stderr",
     "output_type": "stream",
     "text": [
      "100%|██████████████████████████████████████████| 141/141 [00:37<00:00,  3.75it/s]\n",
      "100%|████████████████████████████████████████████| 16/16 [00:01<00:00, 10.93it/s]\n"
     ]
    },
    {
     "name": "stdout",
     "output_type": "stream",
     "text": [
      "Epoch [103], Train Loss : [1.08807] Val Loss : [1.14451] Val F1 : [0.55944]\n"
     ]
    },
    {
     "name": "stderr",
     "output_type": "stream",
     "text": [
      "100%|██████████████████████████████████████████| 141/141 [00:37<00:00,  3.75it/s]\n",
      "100%|████████████████████████████████████████████| 16/16 [00:01<00:00, 10.61it/s]\n"
     ]
    },
    {
     "name": "stdout",
     "output_type": "stream",
     "text": [
      "Epoch [104], Train Loss : [1.08721] Val Loss : [1.14473] Val F1 : [0.55818]\n"
     ]
    },
    {
     "name": "stderr",
     "output_type": "stream",
     "text": [
      "100%|██████████████████████████████████████████| 141/141 [00:37<00:00,  3.75it/s]\n",
      "100%|████████████████████████████████████████████| 16/16 [00:01<00:00, 10.93it/s]\n"
     ]
    },
    {
     "name": "stdout",
     "output_type": "stream",
     "text": [
      "Epoch [105], Train Loss : [1.08796] Val Loss : [1.14320] Val F1 : [0.56122]\n"
     ]
    },
    {
     "name": "stderr",
     "output_type": "stream",
     "text": [
      "100%|██████████████████████████████████████████| 141/141 [00:37<00:00,  3.74it/s]\n",
      "100%|████████████████████████████████████████████| 16/16 [00:01<00:00, 10.88it/s]\n"
     ]
    },
    {
     "name": "stdout",
     "output_type": "stream",
     "text": [
      "Epoch [106], Train Loss : [1.08942] Val Loss : [1.14410] Val F1 : [0.55750]\n"
     ]
    },
    {
     "name": "stderr",
     "output_type": "stream",
     "text": [
      "100%|██████████████████████████████████████████| 141/141 [00:37<00:00,  3.75it/s]\n",
      "100%|████████████████████████████████████████████| 16/16 [00:01<00:00, 10.88it/s]\n"
     ]
    },
    {
     "name": "stdout",
     "output_type": "stream",
     "text": [
      "Epoch [107], Train Loss : [1.09092] Val Loss : [1.14438] Val F1 : [0.55223]\n"
     ]
    },
    {
     "name": "stderr",
     "output_type": "stream",
     "text": [
      "100%|██████████████████████████████████████████| 141/141 [00:37<00:00,  3.75it/s]\n",
      "100%|████████████████████████████████████████████| 16/16 [00:01<00:00, 10.95it/s]\n"
     ]
    },
    {
     "name": "stdout",
     "output_type": "stream",
     "text": [
      "Epoch [108], Train Loss : [1.09010] Val Loss : [1.14393] Val F1 : [0.55572]\n"
     ]
    },
    {
     "name": "stderr",
     "output_type": "stream",
     "text": [
      "100%|██████████████████████████████████████████| 141/141 [00:37<00:00,  3.75it/s]\n",
      "100%|████████████████████████████████████████████| 16/16 [00:01<00:00, 10.92it/s]\n"
     ]
    },
    {
     "name": "stdout",
     "output_type": "stream",
     "text": [
      "Epoch [109], Train Loss : [1.09141] Val Loss : [1.14373] Val F1 : [0.55928]\n"
     ]
    },
    {
     "name": "stderr",
     "output_type": "stream",
     "text": [
      "100%|██████████████████████████████████████████| 141/141 [00:37<00:00,  3.76it/s]\n",
      "100%|████████████████████████████████████████████| 16/16 [00:01<00:00, 10.95it/s]\n"
     ]
    },
    {
     "name": "stdout",
     "output_type": "stream",
     "text": [
      "Epoch [110], Train Loss : [1.09150] Val Loss : [1.14229] Val F1 : [0.55884]\n"
     ]
    },
    {
     "name": "stderr",
     "output_type": "stream",
     "text": [
      "100%|██████████████████████████████████████████| 141/141 [00:37<00:00,  3.74it/s]\n",
      "100%|████████████████████████████████████████████| 16/16 [00:01<00:00, 10.87it/s]\n"
     ]
    },
    {
     "name": "stdout",
     "output_type": "stream",
     "text": [
      "Epoch [111], Train Loss : [1.08972] Val Loss : [1.14343] Val F1 : [0.55293]\n"
     ]
    },
    {
     "name": "stderr",
     "output_type": "stream",
     "text": [
      "100%|██████████████████████████████████████████| 141/141 [00:37<00:00,  3.74it/s]\n",
      "100%|████████████████████████████████████████████| 16/16 [00:01<00:00, 10.93it/s]\n"
     ]
    },
    {
     "name": "stdout",
     "output_type": "stream",
     "text": [
      "Epoch [112], Train Loss : [1.08777] Val Loss : [1.14347] Val F1 : [0.55867]\n"
     ]
    },
    {
     "name": "stderr",
     "output_type": "stream",
     "text": [
      "100%|██████████████████████████████████████████| 141/141 [00:37<00:00,  3.73it/s]\n",
      "100%|████████████████████████████████████████████| 16/16 [00:01<00:00, 10.59it/s]\n"
     ]
    },
    {
     "name": "stdout",
     "output_type": "stream",
     "text": [
      "Epoch [113], Train Loss : [1.08633] Val Loss : [1.14253] Val F1 : [0.56142]\n"
     ]
    },
    {
     "name": "stderr",
     "output_type": "stream",
     "text": [
      "100%|██████████████████████████████████████████| 141/141 [00:37<00:00,  3.75it/s]\n",
      "100%|████████████████████████████████████████████| 16/16 [00:01<00:00,  9.97it/s]\n"
     ]
    },
    {
     "name": "stdout",
     "output_type": "stream",
     "text": [
      "Epoch [114], Train Loss : [1.08780] Val Loss : [1.14267] Val F1 : [0.56092]\n"
     ]
    },
    {
     "name": "stderr",
     "output_type": "stream",
     "text": [
      "100%|██████████████████████████████████████████| 141/141 [00:37<00:00,  3.75it/s]\n",
      "100%|████████████████████████████████████████████| 16/16 [00:01<00:00, 10.63it/s]\n"
     ]
    },
    {
     "name": "stdout",
     "output_type": "stream",
     "text": [
      "Epoch [115], Train Loss : [1.09117] Val Loss : [1.14515] Val F1 : [0.55247]\n"
     ]
    },
    {
     "name": "stderr",
     "output_type": "stream",
     "text": [
      "100%|██████████████████████████████████████████| 141/141 [00:37<00:00,  3.75it/s]\n",
      "100%|████████████████████████████████████████████| 16/16 [00:01<00:00, 10.89it/s]\n"
     ]
    },
    {
     "name": "stdout",
     "output_type": "stream",
     "text": [
      "Epoch [116], Train Loss : [1.08847] Val Loss : [1.14365] Val F1 : [0.55716]\n"
     ]
    },
    {
     "name": "stderr",
     "output_type": "stream",
     "text": [
      "100%|██████████████████████████████████████████| 141/141 [00:37<00:00,  3.73it/s]\n",
      "100%|████████████████████████████████████████████| 16/16 [00:01<00:00, 10.47it/s]\n"
     ]
    },
    {
     "name": "stdout",
     "output_type": "stream",
     "text": [
      "Epoch [117], Train Loss : [1.09523] Val Loss : [1.14347] Val F1 : [0.55876]\n"
     ]
    },
    {
     "name": "stderr",
     "output_type": "stream",
     "text": [
      "100%|██████████████████████████████████████████| 141/141 [00:37<00:00,  3.74it/s]\n",
      "100%|████████████████████████████████████████████| 16/16 [00:01<00:00, 10.89it/s]\n"
     ]
    },
    {
     "name": "stdout",
     "output_type": "stream",
     "text": [
      "Epoch [118], Train Loss : [1.08960] Val Loss : [1.14248] Val F1 : [0.56229]\n"
     ]
    },
    {
     "name": "stderr",
     "output_type": "stream",
     "text": [
      "100%|██████████████████████████████████████████| 141/141 [00:37<00:00,  3.75it/s]\n",
      "100%|████████████████████████████████████████████| 16/16 [00:01<00:00, 10.36it/s]\n"
     ]
    },
    {
     "name": "stdout",
     "output_type": "stream",
     "text": [
      "Epoch [119], Train Loss : [1.08415] Val Loss : [1.14271] Val F1 : [0.56278]\n"
     ]
    },
    {
     "name": "stderr",
     "output_type": "stream",
     "text": [
      "100%|██████████████████████████████████████████| 141/141 [00:37<00:00,  3.74it/s]\n",
      "100%|████████████████████████████████████████████| 16/16 [00:01<00:00, 10.89it/s]\n"
     ]
    },
    {
     "name": "stdout",
     "output_type": "stream",
     "text": [
      "Epoch [120], Train Loss : [1.09172] Val Loss : [1.14206] Val F1 : [0.55601]\n"
     ]
    },
    {
     "name": "stderr",
     "output_type": "stream",
     "text": [
      "100%|██████████████████████████████████████████| 141/141 [00:37<00:00,  3.75it/s]\n",
      "100%|████████████████████████████████████████████| 16/16 [00:01<00:00, 10.93it/s]\n"
     ]
    },
    {
     "name": "stdout",
     "output_type": "stream",
     "text": [
      "Epoch [121], Train Loss : [1.09096] Val Loss : [1.14297] Val F1 : [0.55733]\n"
     ]
    },
    {
     "name": "stderr",
     "output_type": "stream",
     "text": [
      "100%|██████████████████████████████████████████| 141/141 [00:37<00:00,  3.75it/s]\n",
      "100%|████████████████████████████████████████████| 16/16 [00:01<00:00, 10.86it/s]\n"
     ]
    },
    {
     "name": "stdout",
     "output_type": "stream",
     "text": [
      "Epoch [122], Train Loss : [1.09179] Val Loss : [1.14587] Val F1 : [0.55840]\n"
     ]
    },
    {
     "name": "stderr",
     "output_type": "stream",
     "text": [
      "100%|██████████████████████████████████████████| 141/141 [00:37<00:00,  3.73it/s]\n",
      "100%|████████████████████████████████████████████| 16/16 [00:01<00:00, 10.66it/s]\n"
     ]
    },
    {
     "name": "stdout",
     "output_type": "stream",
     "text": [
      "Epoch [123], Train Loss : [1.08738] Val Loss : [1.14464] Val F1 : [0.55893]\n"
     ]
    },
    {
     "name": "stderr",
     "output_type": "stream",
     "text": [
      "100%|██████████████████████████████████████████| 141/141 [00:37<00:00,  3.74it/s]\n",
      "100%|████████████████████████████████████████████| 16/16 [00:01<00:00, 10.80it/s]\n"
     ]
    },
    {
     "name": "stdout",
     "output_type": "stream",
     "text": [
      "Epoch [124], Train Loss : [1.09135] Val Loss : [1.14294] Val F1 : [0.55815]\n"
     ]
    },
    {
     "name": "stderr",
     "output_type": "stream",
     "text": [
      "100%|██████████████████████████████████████████| 141/141 [00:37<00:00,  3.75it/s]\n",
      "100%|████████████████████████████████████████████| 16/16 [00:01<00:00, 10.93it/s]\n"
     ]
    },
    {
     "name": "stdout",
     "output_type": "stream",
     "text": [
      "Epoch [125], Train Loss : [1.09189] Val Loss : [1.14281] Val F1 : [0.56285]\n"
     ]
    },
    {
     "name": "stderr",
     "output_type": "stream",
     "text": [
      "100%|██████████████████████████████████████████| 141/141 [00:37<00:00,  3.75it/s]\n",
      "100%|████████████████████████████████████████████| 16/16 [00:01<00:00, 10.95it/s]\n"
     ]
    },
    {
     "name": "stdout",
     "output_type": "stream",
     "text": [
      "Epoch [126], Train Loss : [1.08595] Val Loss : [1.14455] Val F1 : [0.55548]\n"
     ]
    },
    {
     "name": "stderr",
     "output_type": "stream",
     "text": [
      "100%|██████████████████████████████████████████| 141/141 [00:37<00:00,  3.75it/s]\n",
      "100%|████████████████████████████████████████████| 16/16 [00:01<00:00, 10.92it/s]\n"
     ]
    },
    {
     "name": "stdout",
     "output_type": "stream",
     "text": [
      "Epoch [127], Train Loss : [1.09558] Val Loss : [1.14303] Val F1 : [0.56122]\n"
     ]
    },
    {
     "name": "stderr",
     "output_type": "stream",
     "text": [
      "100%|██████████████████████████████████████████| 141/141 [00:37<00:00,  3.76it/s]\n",
      "100%|████████████████████████████████████████████| 16/16 [00:01<00:00, 10.92it/s]\n"
     ]
    },
    {
     "name": "stdout",
     "output_type": "stream",
     "text": [
      "Epoch [128], Train Loss : [1.09217] Val Loss : [1.14302] Val F1 : [0.56069]\n"
     ]
    },
    {
     "name": "stderr",
     "output_type": "stream",
     "text": [
      "100%|██████████████████████████████████████████| 141/141 [00:37<00:00,  3.75it/s]\n",
      "100%|████████████████████████████████████████████| 16/16 [00:01<00:00, 10.90it/s]\n"
     ]
    },
    {
     "name": "stdout",
     "output_type": "stream",
     "text": [
      "Epoch [129], Train Loss : [1.09215] Val Loss : [1.14400] Val F1 : [0.55505]\n"
     ]
    },
    {
     "name": "stderr",
     "output_type": "stream",
     "text": [
      "100%|██████████████████████████████████████████| 141/141 [00:37<00:00,  3.75it/s]\n",
      "100%|████████████████████████████████████████████| 16/16 [00:01<00:00, 10.90it/s]\n"
     ]
    },
    {
     "name": "stdout",
     "output_type": "stream",
     "text": [
      "Epoch [130], Train Loss : [1.08585] Val Loss : [1.14440] Val F1 : [0.54935]\n"
     ]
    },
    {
     "name": "stderr",
     "output_type": "stream",
     "text": [
      "100%|██████████████████████████████████████████| 141/141 [00:37<00:00,  3.75it/s]\n",
      "100%|████████████████████████████████████████████| 16/16 [00:01<00:00, 10.63it/s]\n"
     ]
    },
    {
     "name": "stdout",
     "output_type": "stream",
     "text": [
      "Epoch [131], Train Loss : [1.08933] Val Loss : [1.14159] Val F1 : [0.55882]\n"
     ]
    },
    {
     "name": "stderr",
     "output_type": "stream",
     "text": [
      "100%|██████████████████████████████████████████| 141/141 [00:37<00:00,  3.75it/s]\n",
      "100%|████████████████████████████████████████████| 16/16 [00:01<00:00, 10.82it/s]\n"
     ]
    },
    {
     "name": "stdout",
     "output_type": "stream",
     "text": [
      "Epoch [132], Train Loss : [1.09210] Val Loss : [1.14241] Val F1 : [0.55917]\n"
     ]
    },
    {
     "name": "stderr",
     "output_type": "stream",
     "text": [
      "100%|██████████████████████████████████████████| 141/141 [00:37<00:00,  3.75it/s]\n",
      "100%|████████████████████████████████████████████| 16/16 [00:01<00:00, 10.89it/s]\n"
     ]
    },
    {
     "name": "stdout",
     "output_type": "stream",
     "text": [
      "Epoch [133], Train Loss : [1.08593] Val Loss : [1.14462] Val F1 : [0.54880]\n"
     ]
    },
    {
     "name": "stderr",
     "output_type": "stream",
     "text": [
      "100%|██████████████████████████████████████████| 141/141 [00:37<00:00,  3.75it/s]\n",
      "100%|████████████████████████████████████████████| 16/16 [00:01<00:00, 10.89it/s]\n"
     ]
    },
    {
     "name": "stdout",
     "output_type": "stream",
     "text": [
      "Epoch [134], Train Loss : [1.09002] Val Loss : [1.14494] Val F1 : [0.54525]\n"
     ]
    },
    {
     "name": "stderr",
     "output_type": "stream",
     "text": [
      "100%|██████████████████████████████████████████| 141/141 [00:37<00:00,  3.75it/s]\n",
      "100%|████████████████████████████████████████████| 16/16 [00:01<00:00, 10.82it/s]\n"
     ]
    },
    {
     "name": "stdout",
     "output_type": "stream",
     "text": [
      "Epoch [135], Train Loss : [1.09126] Val Loss : [1.14489] Val F1 : [0.55915]\n"
     ]
    },
    {
     "name": "stderr",
     "output_type": "stream",
     "text": [
      "100%|██████████████████████████████████████████| 141/141 [00:37<00:00,  3.75it/s]\n",
      "100%|████████████████████████████████████████████| 16/16 [00:01<00:00, 10.90it/s]\n"
     ]
    },
    {
     "name": "stdout",
     "output_type": "stream",
     "text": [
      "Epoch [136], Train Loss : [1.09127] Val Loss : [1.14049] Val F1 : [0.55874]\n"
     ]
    },
    {
     "name": "stderr",
     "output_type": "stream",
     "text": [
      "100%|██████████████████████████████████████████| 141/141 [00:37<00:00,  3.75it/s]\n",
      "100%|████████████████████████████████████████████| 16/16 [00:01<00:00, 10.92it/s]\n"
     ]
    },
    {
     "name": "stdout",
     "output_type": "stream",
     "text": [
      "Epoch [137], Train Loss : [1.09413] Val Loss : [1.14195] Val F1 : [0.55560]\n"
     ]
    },
    {
     "name": "stderr",
     "output_type": "stream",
     "text": [
      "100%|██████████████████████████████████████████| 141/141 [00:37<00:00,  3.74it/s]\n",
      "100%|████████████████████████████████████████████| 16/16 [00:01<00:00, 10.92it/s]\n"
     ]
    },
    {
     "name": "stdout",
     "output_type": "stream",
     "text": [
      "Epoch [138], Train Loss : [1.09476] Val Loss : [1.14454] Val F1 : [0.54742]\n"
     ]
    },
    {
     "name": "stderr",
     "output_type": "stream",
     "text": [
      "100%|██████████████████████████████████████████| 141/141 [00:37<00:00,  3.75it/s]\n",
      "100%|████████████████████████████████████████████| 16/16 [00:01<00:00, 10.90it/s]\n"
     ]
    },
    {
     "name": "stdout",
     "output_type": "stream",
     "text": [
      "Epoch [139], Train Loss : [1.09576] Val Loss : [1.14641] Val F1 : [0.55780]\n"
     ]
    },
    {
     "name": "stderr",
     "output_type": "stream",
     "text": [
      "100%|██████████████████████████████████████████| 141/141 [00:37<00:00,  3.74it/s]\n",
      "100%|████████████████████████████████████████████| 16/16 [00:01<00:00, 10.65it/s]\n"
     ]
    },
    {
     "name": "stdout",
     "output_type": "stream",
     "text": [
      "Epoch [140], Train Loss : [1.08774] Val Loss : [1.14433] Val F1 : [0.56055]\n"
     ]
    },
    {
     "name": "stderr",
     "output_type": "stream",
     "text": [
      "100%|██████████████████████████████████████████| 141/141 [00:37<00:00,  3.73it/s]\n",
      "100%|████████████████████████████████████████████| 16/16 [00:01<00:00, 10.83it/s]\n"
     ]
    },
    {
     "name": "stdout",
     "output_type": "stream",
     "text": [
      "Epoch [141], Train Loss : [1.09116] Val Loss : [1.14415] Val F1 : [0.56461]\n"
     ]
    },
    {
     "name": "stderr",
     "output_type": "stream",
     "text": [
      "100%|██████████████████████████████████████████| 141/141 [00:37<00:00,  3.75it/s]\n",
      "100%|████████████████████████████████████████████| 16/16 [00:01<00:00, 10.84it/s]\n"
     ]
    },
    {
     "name": "stdout",
     "output_type": "stream",
     "text": [
      "Epoch [142], Train Loss : [1.09041] Val Loss : [1.14322] Val F1 : [0.55715]\n"
     ]
    },
    {
     "name": "stderr",
     "output_type": "stream",
     "text": [
      "100%|██████████████████████████████████████████| 141/141 [00:37<00:00,  3.75it/s]\n",
      "100%|████████████████████████████████████████████| 16/16 [00:01<00:00, 10.63it/s]\n"
     ]
    },
    {
     "name": "stdout",
     "output_type": "stream",
     "text": [
      "Epoch [143], Train Loss : [1.08634] Val Loss : [1.14803] Val F1 : [0.54954]\n"
     ]
    },
    {
     "name": "stderr",
     "output_type": "stream",
     "text": [
      "100%|██████████████████████████████████████████| 141/141 [00:37<00:00,  3.73it/s]\n",
      "100%|████████████████████████████████████████████| 16/16 [00:01<00:00, 10.65it/s]\n"
     ]
    },
    {
     "name": "stdout",
     "output_type": "stream",
     "text": [
      "Epoch [144], Train Loss : [1.09088] Val Loss : [1.14321] Val F1 : [0.55596]\n"
     ]
    },
    {
     "name": "stderr",
     "output_type": "stream",
     "text": [
      "100%|██████████████████████████████████████████| 141/141 [00:37<00:00,  3.73it/s]\n",
      "100%|████████████████████████████████████████████| 16/16 [00:01<00:00, 10.81it/s]\n"
     ]
    },
    {
     "name": "stdout",
     "output_type": "stream",
     "text": [
      "Epoch [145], Train Loss : [1.09315] Val Loss : [1.14358] Val F1 : [0.56102]\n"
     ]
    },
    {
     "name": "stderr",
     "output_type": "stream",
     "text": [
      "100%|██████████████████████████████████████████| 141/141 [00:37<00:00,  3.75it/s]\n",
      "100%|████████████████████████████████████████████| 16/16 [00:01<00:00, 10.89it/s]\n"
     ]
    },
    {
     "name": "stdout",
     "output_type": "stream",
     "text": [
      "Epoch [146], Train Loss : [1.09156] Val Loss : [1.14350] Val F1 : [0.56133]\n"
     ]
    },
    {
     "name": "stderr",
     "output_type": "stream",
     "text": [
      "100%|██████████████████████████████████████████| 141/141 [00:37<00:00,  3.74it/s]\n",
      "100%|████████████████████████████████████████████| 16/16 [00:01<00:00, 10.63it/s]\n"
     ]
    },
    {
     "name": "stdout",
     "output_type": "stream",
     "text": [
      "Epoch [147], Train Loss : [1.09040] Val Loss : [1.14493] Val F1 : [0.54648]\n"
     ]
    },
    {
     "name": "stderr",
     "output_type": "stream",
     "text": [
      "100%|██████████████████████████████████████████| 141/141 [00:37<00:00,  3.75it/s]\n",
      "100%|████████████████████████████████████████████| 16/16 [00:01<00:00, 10.88it/s]\n"
     ]
    },
    {
     "name": "stdout",
     "output_type": "stream",
     "text": [
      "Epoch [148], Train Loss : [1.09283] Val Loss : [1.14347] Val F1 : [0.55334]\n"
     ]
    },
    {
     "name": "stderr",
     "output_type": "stream",
     "text": [
      "100%|██████████████████████████████████████████| 141/141 [00:37<00:00,  3.75it/s]\n",
      "100%|████████████████████████████████████████████| 16/16 [00:01<00:00, 10.82it/s]\n"
     ]
    },
    {
     "name": "stdout",
     "output_type": "stream",
     "text": [
      "Epoch [149], Train Loss : [1.09003] Val Loss : [1.14315] Val F1 : [0.55525]\n"
     ]
    },
    {
     "name": "stderr",
     "output_type": "stream",
     "text": [
      "100%|██████████████████████████████████████████| 141/141 [00:37<00:00,  3.74it/s]\n",
      "100%|████████████████████████████████████████████| 16/16 [00:01<00:00, 10.90it/s]\n"
     ]
    },
    {
     "name": "stdout",
     "output_type": "stream",
     "text": [
      "Epoch [150], Train Loss : [1.09264] Val Loss : [1.14297] Val F1 : [0.55615]\n"
     ]
    },
    {
     "name": "stderr",
     "output_type": "stream",
     "text": [
      "100%|██████████████████████████████████████████| 141/141 [00:37<00:00,  3.76it/s]\n",
      "100%|████████████████████████████████████████████| 16/16 [00:01<00:00, 10.91it/s]\n"
     ]
    },
    {
     "name": "stdout",
     "output_type": "stream",
     "text": [
      "Epoch [151], Train Loss : [1.09639] Val Loss : [1.14286] Val F1 : [0.55767]\n"
     ]
    },
    {
     "name": "stderr",
     "output_type": "stream",
     "text": [
      "100%|██████████████████████████████████████████| 141/141 [00:37<00:00,  3.75it/s]\n",
      "100%|████████████████████████████████████████████| 16/16 [00:01<00:00, 10.88it/s]\n"
     ]
    },
    {
     "name": "stdout",
     "output_type": "stream",
     "text": [
      "Epoch [152], Train Loss : [1.09283] Val Loss : [1.14183] Val F1 : [0.55836]\n"
     ]
    },
    {
     "name": "stderr",
     "output_type": "stream",
     "text": [
      "100%|██████████████████████████████████████████| 141/141 [00:37<00:00,  3.75it/s]\n",
      "100%|████████████████████████████████████████████| 16/16 [00:01<00:00, 10.83it/s]\n"
     ]
    },
    {
     "name": "stdout",
     "output_type": "stream",
     "text": [
      "Epoch [153], Train Loss : [1.09105] Val Loss : [1.14623] Val F1 : [0.55421]\n"
     ]
    },
    {
     "name": "stderr",
     "output_type": "stream",
     "text": [
      "100%|██████████████████████████████████████████| 141/141 [00:37<00:00,  3.75it/s]\n",
      "100%|████████████████████████████████████████████| 16/16 [00:01<00:00, 10.81it/s]\n"
     ]
    },
    {
     "name": "stdout",
     "output_type": "stream",
     "text": [
      "Epoch [154], Train Loss : [1.08932] Val Loss : [1.14495] Val F1 : [0.55720]\n"
     ]
    },
    {
     "name": "stderr",
     "output_type": "stream",
     "text": [
      "100%|██████████████████████████████████████████| 141/141 [00:37<00:00,  3.75it/s]\n",
      "100%|████████████████████████████████████████████| 16/16 [00:01<00:00, 10.57it/s]\n"
     ]
    },
    {
     "name": "stdout",
     "output_type": "stream",
     "text": [
      "Epoch [155], Train Loss : [1.08797] Val Loss : [1.14450] Val F1 : [0.55649]\n"
     ]
    },
    {
     "name": "stderr",
     "output_type": "stream",
     "text": [
      "100%|██████████████████████████████████████████| 141/141 [00:37<00:00,  3.74it/s]\n",
      "100%|████████████████████████████████████████████| 16/16 [00:01<00:00, 10.90it/s]\n"
     ]
    },
    {
     "name": "stdout",
     "output_type": "stream",
     "text": [
      "Epoch [156], Train Loss : [1.09687] Val Loss : [1.14381] Val F1 : [0.56248]\n"
     ]
    },
    {
     "name": "stderr",
     "output_type": "stream",
     "text": [
      "100%|██████████████████████████████████████████| 141/141 [00:37<00:00,  3.75it/s]\n",
      "100%|████████████████████████████████████████████| 16/16 [00:01<00:00, 10.84it/s]\n"
     ]
    },
    {
     "name": "stdout",
     "output_type": "stream",
     "text": [
      "Epoch [157], Train Loss : [1.09484] Val Loss : [1.14324] Val F1 : [0.55817]\n"
     ]
    },
    {
     "name": "stderr",
     "output_type": "stream",
     "text": [
      "100%|██████████████████████████████████████████| 141/141 [00:37<00:00,  3.75it/s]\n",
      "100%|████████████████████████████████████████████| 16/16 [00:01<00:00, 10.91it/s]\n"
     ]
    },
    {
     "name": "stdout",
     "output_type": "stream",
     "text": [
      "Epoch [158], Train Loss : [1.09236] Val Loss : [1.14255] Val F1 : [0.54428]\n"
     ]
    },
    {
     "name": "stderr",
     "output_type": "stream",
     "text": [
      "100%|██████████████████████████████████████████| 141/141 [00:37<00:00,  3.76it/s]\n",
      "100%|████████████████████████████████████████████| 16/16 [00:01<00:00, 10.95it/s]\n"
     ]
    },
    {
     "name": "stdout",
     "output_type": "stream",
     "text": [
      "Epoch [159], Train Loss : [1.08996] Val Loss : [1.14231] Val F1 : [0.56210]\n"
     ]
    },
    {
     "name": "stderr",
     "output_type": "stream",
     "text": [
      "100%|██████████████████████████████████████████| 141/141 [00:37<00:00,  3.75it/s]\n",
      "100%|████████████████████████████████████████████| 16/16 [00:01<00:00, 10.96it/s]\n"
     ]
    },
    {
     "name": "stdout",
     "output_type": "stream",
     "text": [
      "Epoch [160], Train Loss : [1.08958] Val Loss : [1.14420] Val F1 : [0.55532]\n"
     ]
    },
    {
     "name": "stderr",
     "output_type": "stream",
     "text": [
      "100%|██████████████████████████████████████████| 141/141 [00:37<00:00,  3.75it/s]\n",
      "100%|████████████████████████████████████████████| 16/16 [00:01<00:00, 10.83it/s]\n"
     ]
    },
    {
     "name": "stdout",
     "output_type": "stream",
     "text": [
      "Epoch [161], Train Loss : [1.09277] Val Loss : [1.14397] Val F1 : [0.55745]\n"
     ]
    },
    {
     "name": "stderr",
     "output_type": "stream",
     "text": [
      "100%|██████████████████████████████████████████| 141/141 [00:37<00:00,  3.75it/s]\n",
      "100%|████████████████████████████████████████████| 16/16 [00:01<00:00, 10.79it/s]\n"
     ]
    },
    {
     "name": "stdout",
     "output_type": "stream",
     "text": [
      "Epoch [162], Train Loss : [1.09234] Val Loss : [1.14194] Val F1 : [0.55564]\n"
     ]
    },
    {
     "name": "stderr",
     "output_type": "stream",
     "text": [
      "100%|██████████████████████████████████████████| 141/141 [00:37<00:00,  3.75it/s]\n",
      "100%|████████████████████████████████████████████| 16/16 [00:01<00:00, 10.61it/s]\n"
     ]
    },
    {
     "name": "stdout",
     "output_type": "stream",
     "text": [
      "Epoch [163], Train Loss : [1.09156] Val Loss : [1.14472] Val F1 : [0.54758]\n"
     ]
    },
    {
     "name": "stderr",
     "output_type": "stream",
     "text": [
      "100%|██████████████████████████████████████████| 141/141 [00:37<00:00,  3.74it/s]\n",
      "100%|████████████████████████████████████████████| 16/16 [00:01<00:00, 10.79it/s]\n"
     ]
    },
    {
     "name": "stdout",
     "output_type": "stream",
     "text": [
      "Epoch [164], Train Loss : [1.09472] Val Loss : [1.14261] Val F1 : [0.56235]\n"
     ]
    },
    {
     "name": "stderr",
     "output_type": "stream",
     "text": [
      "100%|██████████████████████████████████████████| 141/141 [00:37<00:00,  3.74it/s]\n",
      "100%|████████████████████████████████████████████| 16/16 [00:01<00:00, 10.52it/s]\n"
     ]
    },
    {
     "name": "stdout",
     "output_type": "stream",
     "text": [
      "Epoch [165], Train Loss : [1.09281] Val Loss : [1.14112] Val F1 : [0.55591]\n"
     ]
    },
    {
     "name": "stderr",
     "output_type": "stream",
     "text": [
      "100%|██████████████████████████████████████████| 141/141 [00:37<00:00,  3.75it/s]\n",
      "100%|████████████████████████████████████████████| 16/16 [00:01<00:00, 10.84it/s]\n"
     ]
    },
    {
     "name": "stdout",
     "output_type": "stream",
     "text": [
      "Epoch [166], Train Loss : [1.08897] Val Loss : [1.14331] Val F1 : [0.55620]\n"
     ]
    },
    {
     "name": "stderr",
     "output_type": "stream",
     "text": [
      "100%|██████████████████████████████████████████| 141/141 [00:37<00:00,  3.75it/s]\n",
      "100%|████████████████████████████████████████████| 16/16 [00:01<00:00, 10.85it/s]\n"
     ]
    },
    {
     "name": "stdout",
     "output_type": "stream",
     "text": [
      "Epoch [167], Train Loss : [1.09084] Val Loss : [1.14387] Val F1 : [0.54876]\n"
     ]
    },
    {
     "name": "stderr",
     "output_type": "stream",
     "text": [
      "100%|██████████████████████████████████████████| 141/141 [00:37<00:00,  3.75it/s]\n",
      "100%|████████████████████████████████████████████| 16/16 [00:01<00:00, 10.80it/s]\n"
     ]
    },
    {
     "name": "stdout",
     "output_type": "stream",
     "text": [
      "Epoch [168], Train Loss : [1.09195] Val Loss : [1.14252] Val F1 : [0.56271]\n"
     ]
    },
    {
     "name": "stderr",
     "output_type": "stream",
     "text": [
      "100%|██████████████████████████████████████████| 141/141 [00:37<00:00,  3.75it/s]\n",
      "100%|████████████████████████████████████████████| 16/16 [00:01<00:00, 10.57it/s]\n"
     ]
    },
    {
     "name": "stdout",
     "output_type": "stream",
     "text": [
      "Epoch [169], Train Loss : [1.08965] Val Loss : [1.14302] Val F1 : [0.56095]\n"
     ]
    },
    {
     "name": "stderr",
     "output_type": "stream",
     "text": [
      "100%|██████████████████████████████████████████| 141/141 [00:37<00:00,  3.75it/s]\n",
      "100%|████████████████████████████████████████████| 16/16 [00:01<00:00, 10.69it/s]\n"
     ]
    },
    {
     "name": "stdout",
     "output_type": "stream",
     "text": [
      "Epoch [170], Train Loss : [1.09342] Val Loss : [1.14177] Val F1 : [0.55694]\n"
     ]
    },
    {
     "name": "stderr",
     "output_type": "stream",
     "text": [
      "100%|██████████████████████████████████████████| 141/141 [00:37<00:00,  3.75it/s]\n",
      "100%|████████████████████████████████████████████| 16/16 [00:01<00:00, 10.88it/s]\n"
     ]
    },
    {
     "name": "stdout",
     "output_type": "stream",
     "text": [
      "Epoch [171], Train Loss : [1.09200] Val Loss : [1.14407] Val F1 : [0.55519]\n"
     ]
    },
    {
     "name": "stderr",
     "output_type": "stream",
     "text": [
      "100%|██████████████████████████████████████████| 141/141 [00:37<00:00,  3.75it/s]\n",
      "100%|████████████████████████████████████████████| 16/16 [00:01<00:00, 10.89it/s]\n"
     ]
    },
    {
     "name": "stdout",
     "output_type": "stream",
     "text": [
      "Epoch [172], Train Loss : [1.09968] Val Loss : [1.14155] Val F1 : [0.55917]\n"
     ]
    },
    {
     "name": "stderr",
     "output_type": "stream",
     "text": [
      "100%|██████████████████████████████████████████| 141/141 [00:37<00:00,  3.75it/s]\n",
      "100%|████████████████████████████████████████████| 16/16 [00:01<00:00, 10.27it/s]\n"
     ]
    },
    {
     "name": "stdout",
     "output_type": "stream",
     "text": [
      "Epoch [173], Train Loss : [1.09166] Val Loss : [1.14210] Val F1 : [0.55601]\n"
     ]
    },
    {
     "name": "stderr",
     "output_type": "stream",
     "text": [
      "100%|██████████████████████████████████████████| 141/141 [00:37<00:00,  3.75it/s]\n",
      "100%|████████████████████████████████████████████| 16/16 [00:01<00:00, 10.88it/s]\n"
     ]
    },
    {
     "name": "stdout",
     "output_type": "stream",
     "text": [
      "Epoch [174], Train Loss : [1.08962] Val Loss : [1.14275] Val F1 : [0.55636]\n"
     ]
    },
    {
     "name": "stderr",
     "output_type": "stream",
     "text": [
      "100%|██████████████████████████████████████████| 141/141 [00:37<00:00,  3.74it/s]\n",
      "100%|████████████████████████████████████████████| 16/16 [00:01<00:00, 10.80it/s]\n"
     ]
    },
    {
     "name": "stdout",
     "output_type": "stream",
     "text": [
      "Epoch [175], Train Loss : [1.09103] Val Loss : [1.14384] Val F1 : [0.56192]\n"
     ]
    },
    {
     "name": "stderr",
     "output_type": "stream",
     "text": [
      "100%|██████████████████████████████████████████| 141/141 [00:37<00:00,  3.75it/s]\n",
      "100%|████████████████████████████████████████████| 16/16 [00:01<00:00, 10.86it/s]\n"
     ]
    },
    {
     "name": "stdout",
     "output_type": "stream",
     "text": [
      "Epoch [176], Train Loss : [1.09451] Val Loss : [1.14382] Val F1 : [0.55837]\n"
     ]
    },
    {
     "name": "stderr",
     "output_type": "stream",
     "text": [
      "100%|██████████████████████████████████████████| 141/141 [00:37<00:00,  3.75it/s]\n",
      "100%|████████████████████████████████████████████| 16/16 [00:01<00:00, 10.61it/s]\n"
     ]
    },
    {
     "name": "stdout",
     "output_type": "stream",
     "text": [
      "Epoch [177], Train Loss : [1.08788] Val Loss : [1.14325] Val F1 : [0.56269]\n"
     ]
    },
    {
     "name": "stderr",
     "output_type": "stream",
     "text": [
      "100%|██████████████████████████████████████████| 141/141 [00:37<00:00,  3.75it/s]\n",
      "100%|████████████████████████████████████████████| 16/16 [00:01<00:00, 10.91it/s]\n"
     ]
    },
    {
     "name": "stdout",
     "output_type": "stream",
     "text": [
      "Epoch [178], Train Loss : [1.09422] Val Loss : [1.14206] Val F1 : [0.56122]\n"
     ]
    },
    {
     "name": "stderr",
     "output_type": "stream",
     "text": [
      "100%|██████████████████████████████████████████| 141/141 [00:37<00:00,  3.75it/s]\n",
      "100%|████████████████████████████████████████████| 16/16 [00:01<00:00, 10.90it/s]\n"
     ]
    },
    {
     "name": "stdout",
     "output_type": "stream",
     "text": [
      "Epoch [179], Train Loss : [1.08755] Val Loss : [1.14291] Val F1 : [0.55240]\n"
     ]
    },
    {
     "name": "stderr",
     "output_type": "stream",
     "text": [
      "100%|██████████████████████████████████████████| 141/141 [00:37<00:00,  3.75it/s]\n",
      "100%|████████████████████████████████████████████| 16/16 [00:01<00:00, 10.76it/s]\n"
     ]
    },
    {
     "name": "stdout",
     "output_type": "stream",
     "text": [
      "Epoch [180], Train Loss : [1.09109] Val Loss : [1.14255] Val F1 : [0.56173]\n"
     ]
    },
    {
     "name": "stderr",
     "output_type": "stream",
     "text": [
      "100%|██████████████████████████████████████████| 141/141 [00:37<00:00,  3.75it/s]\n",
      "100%|████████████████████████████████████████████| 16/16 [00:01<00:00, 10.86it/s]\n"
     ]
    },
    {
     "name": "stdout",
     "output_type": "stream",
     "text": [
      "Epoch [181], Train Loss : [1.09216] Val Loss : [1.14214] Val F1 : [0.55911]\n"
     ]
    },
    {
     "name": "stderr",
     "output_type": "stream",
     "text": [
      "100%|██████████████████████████████████████████| 141/141 [00:37<00:00,  3.75it/s]\n",
      "100%|████████████████████████████████████████████| 16/16 [00:01<00:00, 10.75it/s]\n"
     ]
    },
    {
     "name": "stdout",
     "output_type": "stream",
     "text": [
      "Epoch [182], Train Loss : [1.09165] Val Loss : [1.14418] Val F1 : [0.55639]\n"
     ]
    },
    {
     "name": "stderr",
     "output_type": "stream",
     "text": [
      "100%|██████████████████████████████████████████| 141/141 [00:37<00:00,  3.75it/s]\n",
      "100%|████████████████████████████████████████████| 16/16 [00:01<00:00, 10.83it/s]\n"
     ]
    },
    {
     "name": "stdout",
     "output_type": "stream",
     "text": [
      "Epoch [183], Train Loss : [1.09317] Val Loss : [1.14198] Val F1 : [0.55699]\n"
     ]
    },
    {
     "name": "stderr",
     "output_type": "stream",
     "text": [
      "100%|██████████████████████████████████████████| 141/141 [00:37<00:00,  3.75it/s]\n",
      "100%|████████████████████████████████████████████| 16/16 [00:01<00:00, 10.57it/s]\n"
     ]
    },
    {
     "name": "stdout",
     "output_type": "stream",
     "text": [
      "Epoch [184], Train Loss : [1.09021] Val Loss : [1.14529] Val F1 : [0.55559]\n"
     ]
    },
    {
     "name": "stderr",
     "output_type": "stream",
     "text": [
      "100%|██████████████████████████████████████████| 141/141 [00:37<00:00,  3.74it/s]\n",
      "100%|████████████████████████████████████████████| 16/16 [00:01<00:00, 10.55it/s]\n"
     ]
    },
    {
     "name": "stdout",
     "output_type": "stream",
     "text": [
      "Epoch [185], Train Loss : [1.09318] Val Loss : [1.14408] Val F1 : [0.55952]\n"
     ]
    },
    {
     "name": "stderr",
     "output_type": "stream",
     "text": [
      "100%|██████████████████████████████████████████| 141/141 [00:37<00:00,  3.73it/s]\n",
      "100%|████████████████████████████████████████████| 16/16 [00:01<00:00, 10.59it/s]\n"
     ]
    },
    {
     "name": "stdout",
     "output_type": "stream",
     "text": [
      "Epoch [186], Train Loss : [1.09206] Val Loss : [1.14431] Val F1 : [0.54697]\n"
     ]
    },
    {
     "name": "stderr",
     "output_type": "stream",
     "text": [
      "100%|██████████████████████████████████████████| 141/141 [00:37<00:00,  3.75it/s]\n",
      "100%|████████████████████████████████████████████| 16/16 [00:01<00:00, 10.75it/s]\n"
     ]
    },
    {
     "name": "stdout",
     "output_type": "stream",
     "text": [
      "Epoch [187], Train Loss : [1.09247] Val Loss : [1.14428] Val F1 : [0.55348]\n"
     ]
    },
    {
     "name": "stderr",
     "output_type": "stream",
     "text": [
      "100%|██████████████████████████████████████████| 141/141 [00:37<00:00,  3.75it/s]\n",
      "100%|████████████████████████████████████████████| 16/16 [00:01<00:00, 10.84it/s]\n"
     ]
    },
    {
     "name": "stdout",
     "output_type": "stream",
     "text": [
      "Epoch [188], Train Loss : [1.09362] Val Loss : [1.14357] Val F1 : [0.55727]\n"
     ]
    },
    {
     "name": "stderr",
     "output_type": "stream",
     "text": [
      "100%|██████████████████████████████████████████| 141/141 [00:37<00:00,  3.75it/s]\n",
      "100%|████████████████████████████████████████████| 16/16 [00:01<00:00, 10.81it/s]\n"
     ]
    },
    {
     "name": "stdout",
     "output_type": "stream",
     "text": [
      "Epoch [189], Train Loss : [1.09248] Val Loss : [1.14258] Val F1 : [0.55853]\n"
     ]
    },
    {
     "name": "stderr",
     "output_type": "stream",
     "text": [
      "100%|██████████████████████████████████████████| 141/141 [00:37<00:00,  3.75it/s]\n",
      "100%|████████████████████████████████████████████| 16/16 [00:01<00:00, 10.89it/s]\n"
     ]
    },
    {
     "name": "stdout",
     "output_type": "stream",
     "text": [
      "Epoch [190], Train Loss : [1.09068] Val Loss : [1.14491] Val F1 : [0.55159]\n"
     ]
    },
    {
     "name": "stderr",
     "output_type": "stream",
     "text": [
      "100%|██████████████████████████████████████████| 141/141 [00:37<00:00,  3.75it/s]\n",
      "100%|████████████████████████████████████████████| 16/16 [00:01<00:00, 10.82it/s]\n"
     ]
    },
    {
     "name": "stdout",
     "output_type": "stream",
     "text": [
      "Epoch [191], Train Loss : [1.08918] Val Loss : [1.14429] Val F1 : [0.54944]\n"
     ]
    },
    {
     "name": "stderr",
     "output_type": "stream",
     "text": [
      "100%|██████████████████████████████████████████| 141/141 [00:37<00:00,  3.75it/s]\n",
      "100%|████████████████████████████████████████████| 16/16 [00:01<00:00, 10.67it/s]\n"
     ]
    },
    {
     "name": "stdout",
     "output_type": "stream",
     "text": [
      "Epoch [192], Train Loss : [1.09035] Val Loss : [1.14228] Val F1 : [0.55874]\n"
     ]
    },
    {
     "name": "stderr",
     "output_type": "stream",
     "text": [
      "100%|██████████████████████████████████████████| 141/141 [00:37<00:00,  3.75it/s]\n",
      "100%|████████████████████████████████████████████| 16/16 [00:01<00:00, 10.61it/s]\n"
     ]
    },
    {
     "name": "stdout",
     "output_type": "stream",
     "text": [
      "Epoch [193], Train Loss : [1.08717] Val Loss : [1.14359] Val F1 : [0.55954]\n"
     ]
    },
    {
     "name": "stderr",
     "output_type": "stream",
     "text": [
      "100%|██████████████████████████████████████████| 141/141 [00:37<00:00,  3.75it/s]\n",
      "100%|████████████████████████████████████████████| 16/16 [00:01<00:00, 10.87it/s]\n"
     ]
    },
    {
     "name": "stdout",
     "output_type": "stream",
     "text": [
      "Epoch [194], Train Loss : [1.08985] Val Loss : [1.14330] Val F1 : [0.55940]\n"
     ]
    },
    {
     "name": "stderr",
     "output_type": "stream",
     "text": [
      "100%|██████████████████████████████████████████| 141/141 [00:37<00:00,  3.75it/s]\n",
      "100%|████████████████████████████████████████████| 16/16 [00:01<00:00, 10.60it/s]\n"
     ]
    },
    {
     "name": "stdout",
     "output_type": "stream",
     "text": [
      "Epoch [195], Train Loss : [1.09609] Val Loss : [1.14240] Val F1 : [0.56668]\n"
     ]
    },
    {
     "name": "stderr",
     "output_type": "stream",
     "text": [
      "100%|██████████████████████████████████████████| 141/141 [00:37<00:00,  3.75it/s]\n",
      "100%|████████████████████████████████████████████| 16/16 [00:01<00:00, 10.03it/s]\n"
     ]
    },
    {
     "name": "stdout",
     "output_type": "stream",
     "text": [
      "Epoch [196], Train Loss : [1.08927] Val Loss : [1.14434] Val F1 : [0.54637]\n"
     ]
    },
    {
     "name": "stderr",
     "output_type": "stream",
     "text": [
      "100%|██████████████████████████████████████████| 141/141 [00:37<00:00,  3.75it/s]\n",
      "100%|████████████████████████████████████████████| 16/16 [00:01<00:00, 10.61it/s]\n"
     ]
    },
    {
     "name": "stdout",
     "output_type": "stream",
     "text": [
      "Epoch [197], Train Loss : [1.08660] Val Loss : [1.14375] Val F1 : [0.55822]\n"
     ]
    },
    {
     "name": "stderr",
     "output_type": "stream",
     "text": [
      "100%|██████████████████████████████████████████| 141/141 [00:37<00:00,  3.75it/s]\n",
      "100%|████████████████████████████████████████████| 16/16 [00:01<00:00, 10.62it/s]\n"
     ]
    },
    {
     "name": "stdout",
     "output_type": "stream",
     "text": [
      "Epoch [198], Train Loss : [1.08998] Val Loss : [1.14323] Val F1 : [0.56483]\n"
     ]
    },
    {
     "name": "stderr",
     "output_type": "stream",
     "text": [
      "100%|██████████████████████████████████████████| 141/141 [00:37<00:00,  3.74it/s]\n",
      "100%|████████████████████████████████████████████| 16/16 [00:01<00:00, 10.84it/s]\n"
     ]
    },
    {
     "name": "stdout",
     "output_type": "stream",
     "text": [
      "Epoch [199], Train Loss : [1.09069] Val Loss : [1.14344] Val F1 : [0.55629]\n"
     ]
    },
    {
     "name": "stderr",
     "output_type": "stream",
     "text": [
      "100%|██████████████████████████████████████████| 141/141 [00:37<00:00,  3.75it/s]\n",
      "100%|████████████████████████████████████████████| 16/16 [00:01<00:00, 10.88it/s]\n"
     ]
    },
    {
     "name": "stdout",
     "output_type": "stream",
     "text": [
      "Epoch [200], Train Loss : [1.08817] Val Loss : [1.14344] Val F1 : [0.55802]\n"
     ]
    },
    {
     "name": "stderr",
     "output_type": "stream",
     "text": [
      "100%|██████████████████████████████████████████| 141/141 [00:37<00:00,  3.76it/s]\n",
      "100%|████████████████████████████████████████████| 16/16 [00:01<00:00, 10.94it/s]\n"
     ]
    },
    {
     "name": "stdout",
     "output_type": "stream",
     "text": [
      "Epoch [201], Train Loss : [1.09109] Val Loss : [1.14217] Val F1 : [0.55771]\n"
     ]
    },
    {
     "name": "stderr",
     "output_type": "stream",
     "text": [
      "100%|██████████████████████████████████████████| 141/141 [00:37<00:00,  3.75it/s]\n",
      "100%|████████████████████████████████████████████| 16/16 [00:01<00:00, 10.86it/s]\n"
     ]
    },
    {
     "name": "stdout",
     "output_type": "stream",
     "text": [
      "Epoch [202], Train Loss : [1.09045] Val Loss : [1.14209] Val F1 : [0.56301]\n"
     ]
    },
    {
     "name": "stderr",
     "output_type": "stream",
     "text": [
      "100%|██████████████████████████████████████████| 141/141 [00:37<00:00,  3.75it/s]\n",
      "100%|████████████████████████████████████████████| 16/16 [00:01<00:00, 10.89it/s]\n"
     ]
    },
    {
     "name": "stdout",
     "output_type": "stream",
     "text": [
      "Epoch [203], Train Loss : [1.09375] Val Loss : [1.14365] Val F1 : [0.55152]\n"
     ]
    },
    {
     "name": "stderr",
     "output_type": "stream",
     "text": [
      "100%|██████████████████████████████████████████| 141/141 [00:37<00:00,  3.75it/s]\n",
      "100%|████████████████████████████████████████████| 16/16 [00:01<00:00, 10.76it/s]\n"
     ]
    },
    {
     "name": "stdout",
     "output_type": "stream",
     "text": [
      "Epoch [204], Train Loss : [1.08568] Val Loss : [1.14211] Val F1 : [0.55919]\n"
     ]
    },
    {
     "name": "stderr",
     "output_type": "stream",
     "text": [
      "100%|██████████████████████████████████████████| 141/141 [00:37<00:00,  3.74it/s]\n",
      "100%|████████████████████████████████████████████| 16/16 [00:01<00:00, 10.76it/s]\n"
     ]
    },
    {
     "name": "stdout",
     "output_type": "stream",
     "text": [
      "Epoch [205], Train Loss : [1.08979] Val Loss : [1.14396] Val F1 : [0.56278]\n"
     ]
    },
    {
     "name": "stderr",
     "output_type": "stream",
     "text": [
      "100%|██████████████████████████████████████████| 141/141 [00:37<00:00,  3.75it/s]\n",
      "100%|████████████████████████████████████████████| 16/16 [00:01<00:00, 10.91it/s]\n"
     ]
    },
    {
     "name": "stdout",
     "output_type": "stream",
     "text": [
      "Epoch [206], Train Loss : [1.09171] Val Loss : [1.14546] Val F1 : [0.55197]\n"
     ]
    },
    {
     "name": "stderr",
     "output_type": "stream",
     "text": [
      "100%|██████████████████████████████████████████| 141/141 [00:37<00:00,  3.76it/s]\n",
      "100%|████████████████████████████████████████████| 16/16 [00:01<00:00, 10.79it/s]\n"
     ]
    },
    {
     "name": "stdout",
     "output_type": "stream",
     "text": [
      "Epoch [207], Train Loss : [1.09008] Val Loss : [1.14285] Val F1 : [0.55990]\n"
     ]
    },
    {
     "name": "stderr",
     "output_type": "stream",
     "text": [
      "100%|██████████████████████████████████████████| 141/141 [00:37<00:00,  3.75it/s]\n",
      "100%|████████████████████████████████████████████| 16/16 [00:01<00:00, 10.88it/s]\n"
     ]
    },
    {
     "name": "stdout",
     "output_type": "stream",
     "text": [
      "Epoch [208], Train Loss : [1.08985] Val Loss : [1.14502] Val F1 : [0.55779]\n"
     ]
    },
    {
     "name": "stderr",
     "output_type": "stream",
     "text": [
      "100%|██████████████████████████████████████████| 141/141 [00:37<00:00,  3.75it/s]\n",
      "100%|████████████████████████████████████████████| 16/16 [00:01<00:00, 10.88it/s]\n"
     ]
    },
    {
     "name": "stdout",
     "output_type": "stream",
     "text": [
      "Epoch [209], Train Loss : [1.09864] Val Loss : [1.14237] Val F1 : [0.55148]\n"
     ]
    },
    {
     "name": "stderr",
     "output_type": "stream",
     "text": [
      "100%|██████████████████████████████████████████| 141/141 [00:37<00:00,  3.76it/s]\n",
      "100%|████████████████████████████████████████████| 16/16 [00:01<00:00, 10.88it/s]\n"
     ]
    },
    {
     "name": "stdout",
     "output_type": "stream",
     "text": [
      "Epoch [210], Train Loss : [1.09315] Val Loss : [1.14308] Val F1 : [0.55711]\n"
     ]
    },
    {
     "name": "stderr",
     "output_type": "stream",
     "text": [
      "100%|██████████████████████████████████████████| 141/141 [00:37<00:00,  3.75it/s]\n",
      "100%|████████████████████████████████████████████| 16/16 [00:01<00:00, 10.87it/s]\n"
     ]
    },
    {
     "name": "stdout",
     "output_type": "stream",
     "text": [
      "Epoch [211], Train Loss : [1.09236] Val Loss : [1.14338] Val F1 : [0.55863]\n"
     ]
    },
    {
     "name": "stderr",
     "output_type": "stream",
     "text": [
      "100%|██████████████████████████████████████████| 141/141 [00:37<00:00,  3.75it/s]\n",
      "100%|████████████████████████████████████████████| 16/16 [00:01<00:00, 10.84it/s]\n"
     ]
    },
    {
     "name": "stdout",
     "output_type": "stream",
     "text": [
      "Epoch [212], Train Loss : [1.08969] Val Loss : [1.14270] Val F1 : [0.55861]\n"
     ]
    },
    {
     "name": "stderr",
     "output_type": "stream",
     "text": [
      "100%|██████████████████████████████████████████| 141/141 [00:37<00:00,  3.75it/s]\n",
      "100%|████████████████████████████████████████████| 16/16 [00:01<00:00, 10.89it/s]\n"
     ]
    },
    {
     "name": "stdout",
     "output_type": "stream",
     "text": [
      "Epoch [213], Train Loss : [1.08563] Val Loss : [1.14341] Val F1 : [0.55744]\n"
     ]
    },
    {
     "name": "stderr",
     "output_type": "stream",
     "text": [
      "100%|██████████████████████████████████████████| 141/141 [00:37<00:00,  3.75it/s]\n",
      "100%|████████████████████████████████████████████| 16/16 [00:01<00:00, 10.89it/s]\n"
     ]
    },
    {
     "name": "stdout",
     "output_type": "stream",
     "text": [
      "Epoch [214], Train Loss : [1.08875] Val Loss : [1.14310] Val F1 : [0.55510]\n"
     ]
    },
    {
     "name": "stderr",
     "output_type": "stream",
     "text": [
      "100%|██████████████████████████████████████████| 141/141 [00:37<00:00,  3.75it/s]\n",
      "100%|████████████████████████████████████████████| 16/16 [00:01<00:00, 10.84it/s]\n"
     ]
    },
    {
     "name": "stdout",
     "output_type": "stream",
     "text": [
      "Epoch [215], Train Loss : [1.09473] Val Loss : [1.14413] Val F1 : [0.55483]\n"
     ]
    },
    {
     "name": "stderr",
     "output_type": "stream",
     "text": [
      "100%|██████████████████████████████████████████| 141/141 [00:37<00:00,  3.75it/s]\n",
      "100%|████████████████████████████████████████████| 16/16 [00:01<00:00, 10.92it/s]\n"
     ]
    },
    {
     "name": "stdout",
     "output_type": "stream",
     "text": [
      "Epoch [216], Train Loss : [1.09223] Val Loss : [1.14293] Val F1 : [0.55708]\n"
     ]
    },
    {
     "name": "stderr",
     "output_type": "stream",
     "text": [
      "100%|██████████████████████████████████████████| 141/141 [00:37<00:00,  3.75it/s]\n",
      "100%|████████████████████████████████████████████| 16/16 [00:01<00:00, 10.80it/s]\n"
     ]
    },
    {
     "name": "stdout",
     "output_type": "stream",
     "text": [
      "Epoch [217], Train Loss : [1.09126] Val Loss : [1.14302] Val F1 : [0.55576]\n"
     ]
    },
    {
     "name": "stderr",
     "output_type": "stream",
     "text": [
      "100%|██████████████████████████████████████████| 141/141 [00:37<00:00,  3.75it/s]\n",
      "100%|████████████████████████████████████████████| 16/16 [00:01<00:00, 10.84it/s]\n"
     ]
    },
    {
     "name": "stdout",
     "output_type": "stream",
     "text": [
      "Epoch [218], Train Loss : [1.08997] Val Loss : [1.14334] Val F1 : [0.55641]\n"
     ]
    },
    {
     "name": "stderr",
     "output_type": "stream",
     "text": [
      "100%|██████████████████████████████████████████| 141/141 [00:37<00:00,  3.75it/s]\n",
      "100%|████████████████████████████████████████████| 16/16 [00:01<00:00, 10.87it/s]\n"
     ]
    },
    {
     "name": "stdout",
     "output_type": "stream",
     "text": [
      "Epoch [219], Train Loss : [1.08710] Val Loss : [1.14376] Val F1 : [0.55828]\n"
     ]
    },
    {
     "name": "stderr",
     "output_type": "stream",
     "text": [
      "100%|██████████████████████████████████████████| 141/141 [00:37<00:00,  3.75it/s]\n",
      "100%|████████████████████████████████████████████| 16/16 [00:01<00:00, 10.84it/s]\n"
     ]
    },
    {
     "name": "stdout",
     "output_type": "stream",
     "text": [
      "Epoch [220], Train Loss : [1.08770] Val Loss : [1.14443] Val F1 : [0.56657]\n"
     ]
    },
    {
     "name": "stderr",
     "output_type": "stream",
     "text": [
      "100%|██████████████████████████████████████████| 141/141 [00:37<00:00,  3.75it/s]\n",
      "100%|████████████████████████████████████████████| 16/16 [00:01<00:00, 10.84it/s]\n"
     ]
    },
    {
     "name": "stdout",
     "output_type": "stream",
     "text": [
      "Epoch [221], Train Loss : [1.09229] Val Loss : [1.14294] Val F1 : [0.55287]\n"
     ]
    },
    {
     "name": "stderr",
     "output_type": "stream",
     "text": [
      "100%|██████████████████████████████████████████| 141/141 [00:37<00:00,  3.75it/s]\n",
      "100%|████████████████████████████████████████████| 16/16 [00:01<00:00, 10.85it/s]\n"
     ]
    },
    {
     "name": "stdout",
     "output_type": "stream",
     "text": [
      "Epoch [222], Train Loss : [1.08440] Val Loss : [1.14653] Val F1 : [0.54145]\n"
     ]
    },
    {
     "name": "stderr",
     "output_type": "stream",
     "text": [
      "100%|██████████████████████████████████████████| 141/141 [00:37<00:00,  3.75it/s]\n",
      "100%|████████████████████████████████████████████| 16/16 [00:01<00:00, 10.60it/s]\n"
     ]
    },
    {
     "name": "stdout",
     "output_type": "stream",
     "text": [
      "Epoch [223], Train Loss : [1.08618] Val Loss : [1.14552] Val F1 : [0.54927]\n"
     ]
    },
    {
     "name": "stderr",
     "output_type": "stream",
     "text": [
      "100%|██████████████████████████████████████████| 141/141 [00:37<00:00,  3.73it/s]\n",
      "100%|████████████████████████████████████████████| 16/16 [00:01<00:00, 10.82it/s]\n"
     ]
    },
    {
     "name": "stdout",
     "output_type": "stream",
     "text": [
      "Epoch [224], Train Loss : [1.09400] Val Loss : [1.14211] Val F1 : [0.56143]\n"
     ]
    },
    {
     "name": "stderr",
     "output_type": "stream",
     "text": [
      "100%|██████████████████████████████████████████| 141/141 [00:37<00:00,  3.75it/s]\n",
      "100%|████████████████████████████████████████████| 16/16 [00:01<00:00, 10.87it/s]\n"
     ]
    },
    {
     "name": "stdout",
     "output_type": "stream",
     "text": [
      "Epoch [225], Train Loss : [1.08715] Val Loss : [1.14166] Val F1 : [0.56264]\n"
     ]
    },
    {
     "name": "stderr",
     "output_type": "stream",
     "text": [
      "100%|██████████████████████████████████████████| 141/141 [00:37<00:00,  3.74it/s]\n",
      "100%|████████████████████████████████████████████| 16/16 [00:01<00:00, 10.80it/s]\n"
     ]
    },
    {
     "name": "stdout",
     "output_type": "stream",
     "text": [
      "Epoch [226], Train Loss : [1.09341] Val Loss : [1.14209] Val F1 : [0.55768]\n"
     ]
    },
    {
     "name": "stderr",
     "output_type": "stream",
     "text": [
      "100%|██████████████████████████████████████████| 141/141 [00:37<00:00,  3.73it/s]\n",
      "100%|████████████████████████████████████████████| 16/16 [00:01<00:00, 10.67it/s]\n"
     ]
    },
    {
     "name": "stdout",
     "output_type": "stream",
     "text": [
      "Epoch [227], Train Loss : [1.09326] Val Loss : [1.14412] Val F1 : [0.54496]\n"
     ]
    },
    {
     "name": "stderr",
     "output_type": "stream",
     "text": [
      "100%|██████████████████████████████████████████| 141/141 [00:37<00:00,  3.75it/s]\n",
      "100%|████████████████████████████████████████████| 16/16 [00:01<00:00, 10.92it/s]\n"
     ]
    },
    {
     "name": "stdout",
     "output_type": "stream",
     "text": [
      "Epoch [228], Train Loss : [1.08594] Val Loss : [1.14599] Val F1 : [0.55178]\n"
     ]
    },
    {
     "name": "stderr",
     "output_type": "stream",
     "text": [
      "100%|██████████████████████████████████████████| 141/141 [00:37<00:00,  3.75it/s]\n",
      "100%|████████████████████████████████████████████| 16/16 [00:01<00:00, 10.86it/s]\n"
     ]
    },
    {
     "name": "stdout",
     "output_type": "stream",
     "text": [
      "Epoch [229], Train Loss : [1.08687] Val Loss : [1.14297] Val F1 : [0.54889]\n"
     ]
    },
    {
     "name": "stderr",
     "output_type": "stream",
     "text": [
      "100%|██████████████████████████████████████████| 141/141 [00:37<00:00,  3.74it/s]\n",
      "100%|████████████████████████████████████████████| 16/16 [00:01<00:00, 10.93it/s]\n"
     ]
    },
    {
     "name": "stdout",
     "output_type": "stream",
     "text": [
      "Epoch [230], Train Loss : [1.09327] Val Loss : [1.14263] Val F1 : [0.55632]\n"
     ]
    },
    {
     "name": "stderr",
     "output_type": "stream",
     "text": [
      "100%|██████████████████████████████████████████| 141/141 [00:37<00:00,  3.74it/s]\n",
      "100%|████████████████████████████████████████████| 16/16 [00:01<00:00, 10.64it/s]\n"
     ]
    },
    {
     "name": "stdout",
     "output_type": "stream",
     "text": [
      "Epoch [231], Train Loss : [1.08939] Val Loss : [1.14446] Val F1 : [0.55813]\n"
     ]
    },
    {
     "name": "stderr",
     "output_type": "stream",
     "text": [
      "100%|██████████████████████████████████████████| 141/141 [00:37<00:00,  3.73it/s]\n",
      "100%|████████████████████████████████████████████| 16/16 [00:01<00:00, 10.64it/s]\n"
     ]
    },
    {
     "name": "stdout",
     "output_type": "stream",
     "text": [
      "Epoch [232], Train Loss : [1.08719] Val Loss : [1.14307] Val F1 : [0.55878]\n"
     ]
    },
    {
     "name": "stderr",
     "output_type": "stream",
     "text": [
      "100%|██████████████████████████████████████████| 141/141 [00:37<00:00,  3.73it/s]\n",
      "100%|████████████████████████████████████████████| 16/16 [00:01<00:00, 10.91it/s]\n"
     ]
    },
    {
     "name": "stdout",
     "output_type": "stream",
     "text": [
      "Epoch [233], Train Loss : [1.08674] Val Loss : [1.14318] Val F1 : [0.56674]\n"
     ]
    },
    {
     "name": "stderr",
     "output_type": "stream",
     "text": [
      "100%|██████████████████████████████████████████| 141/141 [00:37<00:00,  3.75it/s]\n",
      "100%|████████████████████████████████████████████| 16/16 [00:01<00:00, 10.80it/s]\n"
     ]
    },
    {
     "name": "stdout",
     "output_type": "stream",
     "text": [
      "Epoch [234], Train Loss : [1.09559] Val Loss : [1.14287] Val F1 : [0.55842]\n"
     ]
    },
    {
     "name": "stderr",
     "output_type": "stream",
     "text": [
      "100%|██████████████████████████████████████████| 141/141 [00:37<00:00,  3.73it/s]\n",
      "100%|████████████████████████████████████████████| 16/16 [00:01<00:00, 10.84it/s]\n"
     ]
    },
    {
     "name": "stdout",
     "output_type": "stream",
     "text": [
      "Epoch [235], Train Loss : [1.09308] Val Loss : [1.14280] Val F1 : [0.56282]\n"
     ]
    },
    {
     "name": "stderr",
     "output_type": "stream",
     "text": [
      "100%|██████████████████████████████████████████| 141/141 [00:37<00:00,  3.75it/s]\n",
      "100%|████████████████████████████████████████████| 16/16 [00:01<00:00, 10.41it/s]\n"
     ]
    },
    {
     "name": "stdout",
     "output_type": "stream",
     "text": [
      "Epoch [236], Train Loss : [1.09484] Val Loss : [1.14511] Val F1 : [0.54143]\n"
     ]
    },
    {
     "name": "stderr",
     "output_type": "stream",
     "text": [
      "100%|██████████████████████████████████████████| 141/141 [00:37<00:00,  3.75it/s]\n",
      "100%|████████████████████████████████████████████| 16/16 [00:01<00:00, 10.80it/s]\n"
     ]
    },
    {
     "name": "stdout",
     "output_type": "stream",
     "text": [
      "Epoch [237], Train Loss : [1.09183] Val Loss : [1.14224] Val F1 : [0.56222]\n"
     ]
    },
    {
     "name": "stderr",
     "output_type": "stream",
     "text": [
      "100%|██████████████████████████████████████████| 141/141 [00:37<00:00,  3.75it/s]\n",
      "100%|████████████████████████████████████████████| 16/16 [00:01<00:00, 10.81it/s]\n"
     ]
    },
    {
     "name": "stdout",
     "output_type": "stream",
     "text": [
      "Epoch [238], Train Loss : [1.08818] Val Loss : [1.14414] Val F1 : [0.56470]\n"
     ]
    },
    {
     "name": "stderr",
     "output_type": "stream",
     "text": [
      "100%|██████████████████████████████████████████| 141/141 [00:37<00:00,  3.75it/s]\n",
      "100%|████████████████████████████████████████████| 16/16 [00:01<00:00, 10.93it/s]\n"
     ]
    },
    {
     "name": "stdout",
     "output_type": "stream",
     "text": [
      "Epoch [239], Train Loss : [1.09045] Val Loss : [1.14246] Val F1 : [0.55885]\n"
     ]
    },
    {
     "name": "stderr",
     "output_type": "stream",
     "text": [
      "100%|██████████████████████████████████████████| 141/141 [00:37<00:00,  3.75it/s]\n",
      "100%|████████████████████████████████████████████| 16/16 [00:01<00:00, 10.80it/s]\n"
     ]
    },
    {
     "name": "stdout",
     "output_type": "stream",
     "text": [
      "Epoch [240], Train Loss : [1.08686] Val Loss : [1.14343] Val F1 : [0.55714]\n"
     ]
    },
    {
     "name": "stderr",
     "output_type": "stream",
     "text": [
      "100%|██████████████████████████████████████████| 141/141 [00:37<00:00,  3.75it/s]\n",
      "100%|████████████████████████████████████████████| 16/16 [00:01<00:00, 10.78it/s]\n"
     ]
    },
    {
     "name": "stdout",
     "output_type": "stream",
     "text": [
      "Epoch [241], Train Loss : [1.09211] Val Loss : [1.14270] Val F1 : [0.55568]\n"
     ]
    },
    {
     "name": "stderr",
     "output_type": "stream",
     "text": [
      "100%|██████████████████████████████████████████| 141/141 [00:37<00:00,  3.75it/s]\n",
      "100%|████████████████████████████████████████████| 16/16 [00:01<00:00, 10.91it/s]\n"
     ]
    },
    {
     "name": "stdout",
     "output_type": "stream",
     "text": [
      "Epoch [242], Train Loss : [1.08341] Val Loss : [1.14688] Val F1 : [0.54951]\n"
     ]
    },
    {
     "name": "stderr",
     "output_type": "stream",
     "text": [
      "100%|██████████████████████████████████████████| 141/141 [00:37<00:00,  3.73it/s]\n",
      "100%|████████████████████████████████████████████| 16/16 [00:01<00:00, 10.83it/s]\n"
     ]
    },
    {
     "name": "stdout",
     "output_type": "stream",
     "text": [
      "Epoch [243], Train Loss : [1.09529] Val Loss : [1.14386] Val F1 : [0.56043]\n"
     ]
    },
    {
     "name": "stderr",
     "output_type": "stream",
     "text": [
      "100%|██████████████████████████████████████████| 141/141 [00:37<00:00,  3.75it/s]\n",
      "100%|████████████████████████████████████████████| 16/16 [00:01<00:00, 10.92it/s]\n"
     ]
    },
    {
     "name": "stdout",
     "output_type": "stream",
     "text": [
      "Epoch [244], Train Loss : [1.09243] Val Loss : [1.14190] Val F1 : [0.55861]\n"
     ]
    },
    {
     "name": "stderr",
     "output_type": "stream",
     "text": [
      "100%|██████████████████████████████████████████| 141/141 [00:37<00:00,  3.75it/s]\n",
      "100%|████████████████████████████████████████████| 16/16 [00:01<00:00, 10.87it/s]\n"
     ]
    },
    {
     "name": "stdout",
     "output_type": "stream",
     "text": [
      "Epoch [245], Train Loss : [1.09077] Val Loss : [1.14257] Val F1 : [0.55850]\n"
     ]
    },
    {
     "name": "stderr",
     "output_type": "stream",
     "text": [
      "100%|██████████████████████████████████████████| 141/141 [00:37<00:00,  3.74it/s]\n",
      "100%|████████████████████████████████████████████| 16/16 [00:01<00:00, 10.88it/s]\n"
     ]
    },
    {
     "name": "stdout",
     "output_type": "stream",
     "text": [
      "Epoch [246], Train Loss : [1.08725] Val Loss : [1.14317] Val F1 : [0.55111]\n"
     ]
    },
    {
     "name": "stderr",
     "output_type": "stream",
     "text": [
      "100%|██████████████████████████████████████████| 141/141 [00:37<00:00,  3.76it/s]\n",
      "100%|████████████████████████████████████████████| 16/16 [00:01<00:00, 10.83it/s]\n"
     ]
    },
    {
     "name": "stdout",
     "output_type": "stream",
     "text": [
      "Epoch [247], Train Loss : [1.09007] Val Loss : [1.14174] Val F1 : [0.55776]\n"
     ]
    },
    {
     "name": "stderr",
     "output_type": "stream",
     "text": [
      "100%|██████████████████████████████████████████| 141/141 [00:37<00:00,  3.74it/s]\n",
      "100%|████████████████████████████████████████████| 16/16 [00:01<00:00, 10.65it/s]\n"
     ]
    },
    {
     "name": "stdout",
     "output_type": "stream",
     "text": [
      "Epoch [248], Train Loss : [1.08700] Val Loss : [1.14386] Val F1 : [0.54655]\n"
     ]
    },
    {
     "name": "stderr",
     "output_type": "stream",
     "text": [
      "100%|██████████████████████████████████████████| 141/141 [00:37<00:00,  3.74it/s]\n",
      "100%|████████████████████████████████████████████| 16/16 [00:01<00:00, 10.64it/s]\n"
     ]
    },
    {
     "name": "stdout",
     "output_type": "stream",
     "text": [
      "Epoch [249], Train Loss : [1.09072] Val Loss : [1.14320] Val F1 : [0.55744]\n"
     ]
    },
    {
     "name": "stderr",
     "output_type": "stream",
     "text": [
      "100%|██████████████████████████████████████████| 141/141 [00:37<00:00,  3.75it/s]\n",
      "100%|████████████████████████████████████████████| 16/16 [00:01<00:00, 10.89it/s]\n"
     ]
    },
    {
     "name": "stdout",
     "output_type": "stream",
     "text": [
      "Epoch [250], Train Loss : [1.09198] Val Loss : [1.14363] Val F1 : [0.55274]\n"
     ]
    },
    {
     "name": "stderr",
     "output_type": "stream",
     "text": [
      "100%|██████████████████████████████████████████| 141/141 [00:37<00:00,  3.75it/s]\n",
      "100%|████████████████████████████████████████████| 16/16 [00:01<00:00, 10.95it/s]\n"
     ]
    },
    {
     "name": "stdout",
     "output_type": "stream",
     "text": [
      "Epoch [251], Train Loss : [1.09249] Val Loss : [1.14494] Val F1 : [0.54354]\n"
     ]
    },
    {
     "name": "stderr",
     "output_type": "stream",
     "text": [
      "100%|██████████████████████████████████████████| 141/141 [00:37<00:00,  3.75it/s]\n",
      "100%|████████████████████████████████████████████| 16/16 [00:01<00:00, 10.91it/s]\n"
     ]
    },
    {
     "name": "stdout",
     "output_type": "stream",
     "text": [
      "Epoch [252], Train Loss : [1.09089] Val Loss : [1.14253] Val F1 : [0.55149]\n"
     ]
    },
    {
     "name": "stderr",
     "output_type": "stream",
     "text": [
      "100%|██████████████████████████████████████████| 141/141 [00:37<00:00,  3.75it/s]\n",
      "100%|████████████████████████████████████████████| 16/16 [00:01<00:00, 10.90it/s]\n"
     ]
    },
    {
     "name": "stdout",
     "output_type": "stream",
     "text": [
      "Epoch [253], Train Loss : [1.09065] Val Loss : [1.14586] Val F1 : [0.55217]\n"
     ]
    },
    {
     "name": "stderr",
     "output_type": "stream",
     "text": [
      "100%|██████████████████████████████████████████| 141/141 [00:37<00:00,  3.75it/s]\n",
      "100%|████████████████████████████████████████████| 16/16 [00:01<00:00, 10.77it/s]\n"
     ]
    },
    {
     "name": "stdout",
     "output_type": "stream",
     "text": [
      "Epoch [254], Train Loss : [1.08653] Val Loss : [1.14349] Val F1 : [0.56477]\n"
     ]
    },
    {
     "name": "stderr",
     "output_type": "stream",
     "text": [
      "100%|██████████████████████████████████████████| 141/141 [00:37<00:00,  3.75it/s]\n",
      "100%|████████████████████████████████████████████| 16/16 [00:01<00:00, 10.87it/s]\n"
     ]
    },
    {
     "name": "stdout",
     "output_type": "stream",
     "text": [
      "Epoch [255], Train Loss : [1.09375] Val Loss : [1.14277] Val F1 : [0.55111]\n"
     ]
    },
    {
     "name": "stderr",
     "output_type": "stream",
     "text": [
      "100%|██████████████████████████████████████████| 141/141 [00:37<00:00,  3.75it/s]\n",
      "100%|████████████████████████████████████████████| 16/16 [00:01<00:00, 10.87it/s]\n"
     ]
    },
    {
     "name": "stdout",
     "output_type": "stream",
     "text": [
      "Epoch [256], Train Loss : [1.08935] Val Loss : [1.14227] Val F1 : [0.56391]\n"
     ]
    },
    {
     "name": "stderr",
     "output_type": "stream",
     "text": [
      "100%|██████████████████████████████████████████| 141/141 [00:37<00:00,  3.73it/s]\n",
      "100%|████████████████████████████████████████████| 16/16 [00:01<00:00, 10.60it/s]\n"
     ]
    },
    {
     "name": "stdout",
     "output_type": "stream",
     "text": [
      "Epoch [257], Train Loss : [1.08951] Val Loss : [1.14308] Val F1 : [0.56112]\n"
     ]
    },
    {
     "name": "stderr",
     "output_type": "stream",
     "text": [
      "100%|██████████████████████████████████████████| 141/141 [00:37<00:00,  3.73it/s]\n",
      "100%|████████████████████████████████████████████| 16/16 [00:01<00:00, 10.58it/s]\n"
     ]
    },
    {
     "name": "stdout",
     "output_type": "stream",
     "text": [
      "Epoch [258], Train Loss : [1.09363] Val Loss : [1.14493] Val F1 : [0.54590]\n"
     ]
    },
    {
     "name": "stderr",
     "output_type": "stream",
     "text": [
      "100%|██████████████████████████████████████████| 141/141 [00:37<00:00,  3.75it/s]\n",
      "100%|████████████████████████████████████████████| 16/16 [00:01<00:00, 10.93it/s]\n"
     ]
    },
    {
     "name": "stdout",
     "output_type": "stream",
     "text": [
      "Epoch [259], Train Loss : [1.08979] Val Loss : [1.14233] Val F1 : [0.55757]\n"
     ]
    },
    {
     "name": "stderr",
     "output_type": "stream",
     "text": [
      "100%|██████████████████████████████████████████| 141/141 [00:37<00:00,  3.75it/s]\n",
      "100%|████████████████████████████████████████████| 16/16 [00:01<00:00, 10.31it/s]\n"
     ]
    },
    {
     "name": "stdout",
     "output_type": "stream",
     "text": [
      "Epoch [260], Train Loss : [1.09127] Val Loss : [1.14279] Val F1 : [0.56308]\n"
     ]
    },
    {
     "name": "stderr",
     "output_type": "stream",
     "text": [
      "100%|██████████████████████████████████████████| 141/141 [00:37<00:00,  3.74it/s]\n",
      "100%|████████████████████████████████████████████| 16/16 [00:01<00:00, 10.92it/s]\n"
     ]
    },
    {
     "name": "stdout",
     "output_type": "stream",
     "text": [
      "Epoch [261], Train Loss : [1.09257] Val Loss : [1.14438] Val F1 : [0.55390]\n"
     ]
    },
    {
     "name": "stderr",
     "output_type": "stream",
     "text": [
      "100%|██████████████████████████████████████████| 141/141 [00:37<00:00,  3.75it/s]\n",
      "100%|████████████████████████████████████████████| 16/16 [00:01<00:00, 10.94it/s]\n"
     ]
    },
    {
     "name": "stdout",
     "output_type": "stream",
     "text": [
      "Epoch [262], Train Loss : [1.08662] Val Loss : [1.14261] Val F1 : [0.55680]\n"
     ]
    },
    {
     "name": "stderr",
     "output_type": "stream",
     "text": [
      "100%|██████████████████████████████████████████| 141/141 [00:37<00:00,  3.75it/s]\n",
      "100%|████████████████████████████████████████████| 16/16 [00:01<00:00, 10.76it/s]\n"
     ]
    },
    {
     "name": "stdout",
     "output_type": "stream",
     "text": [
      "Epoch [263], Train Loss : [1.09157] Val Loss : [1.14344] Val F1 : [0.56514]\n"
     ]
    },
    {
     "name": "stderr",
     "output_type": "stream",
     "text": [
      "100%|██████████████████████████████████████████| 141/141 [00:37<00:00,  3.75it/s]\n",
      "100%|████████████████████████████████████████████| 16/16 [00:01<00:00, 10.92it/s]\n"
     ]
    },
    {
     "name": "stdout",
     "output_type": "stream",
     "text": [
      "Epoch [264], Train Loss : [1.09026] Val Loss : [1.14345] Val F1 : [0.55323]\n"
     ]
    },
    {
     "name": "stderr",
     "output_type": "stream",
     "text": [
      "100%|██████████████████████████████████████████| 141/141 [00:37<00:00,  3.75it/s]\n",
      "100%|████████████████████████████████████████████| 16/16 [00:01<00:00, 10.90it/s]\n"
     ]
    },
    {
     "name": "stdout",
     "output_type": "stream",
     "text": [
      "Epoch [265], Train Loss : [1.09138] Val Loss : [1.14277] Val F1 : [0.55386]\n"
     ]
    },
    {
     "name": "stderr",
     "output_type": "stream",
     "text": [
      "100%|██████████████████████████████████████████| 141/141 [00:37<00:00,  3.76it/s]\n",
      "100%|████████████████████████████████████████████| 16/16 [00:01<00:00, 10.91it/s]\n"
     ]
    },
    {
     "name": "stdout",
     "output_type": "stream",
     "text": [
      "Epoch [266], Train Loss : [1.09017] Val Loss : [1.14609] Val F1 : [0.55235]\n"
     ]
    },
    {
     "name": "stderr",
     "output_type": "stream",
     "text": [
      "100%|██████████████████████████████████████████| 141/141 [00:37<00:00,  3.75it/s]\n",
      "100%|████████████████████████████████████████████| 16/16 [00:01<00:00, 10.85it/s]\n"
     ]
    },
    {
     "name": "stdout",
     "output_type": "stream",
     "text": [
      "Epoch [267], Train Loss : [1.08958] Val Loss : [1.14334] Val F1 : [0.55504]\n"
     ]
    },
    {
     "name": "stderr",
     "output_type": "stream",
     "text": [
      "100%|██████████████████████████████████████████| 141/141 [00:37<00:00,  3.75it/s]\n",
      "100%|████████████████████████████████████████████| 16/16 [00:01<00:00, 10.87it/s]\n"
     ]
    },
    {
     "name": "stdout",
     "output_type": "stream",
     "text": [
      "Epoch [268], Train Loss : [1.09214] Val Loss : [1.14275] Val F1 : [0.55717]\n"
     ]
    },
    {
     "name": "stderr",
     "output_type": "stream",
     "text": [
      "100%|██████████████████████████████████████████| 141/141 [00:37<00:00,  3.75it/s]\n",
      "100%|████████████████████████████████████████████| 16/16 [00:01<00:00, 10.95it/s]\n"
     ]
    },
    {
     "name": "stdout",
     "output_type": "stream",
     "text": [
      "Epoch [269], Train Loss : [1.09759] Val Loss : [1.14240] Val F1 : [0.55822]\n"
     ]
    },
    {
     "name": "stderr",
     "output_type": "stream",
     "text": [
      "100%|██████████████████████████████████████████| 141/141 [00:37<00:00,  3.75it/s]\n",
      "100%|████████████████████████████████████████████| 16/16 [00:01<00:00, 10.88it/s]\n"
     ]
    },
    {
     "name": "stdout",
     "output_type": "stream",
     "text": [
      "Epoch [270], Train Loss : [1.08848] Val Loss : [1.14291] Val F1 : [0.55917]\n"
     ]
    },
    {
     "name": "stderr",
     "output_type": "stream",
     "text": [
      "100%|██████████████████████████████████████████| 141/141 [00:37<00:00,  3.75it/s]\n",
      "100%|████████████████████████████████████████████| 16/16 [00:01<00:00, 10.87it/s]\n"
     ]
    },
    {
     "name": "stdout",
     "output_type": "stream",
     "text": [
      "Epoch [271], Train Loss : [1.09474] Val Loss : [1.14279] Val F1 : [0.55950]\n"
     ]
    },
    {
     "name": "stderr",
     "output_type": "stream",
     "text": [
      "100%|██████████████████████████████████████████| 141/141 [00:37<00:00,  3.76it/s]\n",
      "100%|████████████████████████████████████████████| 16/16 [00:01<00:00, 10.95it/s]\n"
     ]
    },
    {
     "name": "stdout",
     "output_type": "stream",
     "text": [
      "Epoch [272], Train Loss : [1.09209] Val Loss : [1.14499] Val F1 : [0.54587]\n"
     ]
    },
    {
     "name": "stderr",
     "output_type": "stream",
     "text": [
      "100%|██████████████████████████████████████████| 141/141 [00:37<00:00,  3.75it/s]\n",
      "100%|████████████████████████████████████████████| 16/16 [00:01<00:00, 10.74it/s]\n"
     ]
    },
    {
     "name": "stdout",
     "output_type": "stream",
     "text": [
      "Epoch [273], Train Loss : [1.09052] Val Loss : [1.14609] Val F1 : [0.55987]\n"
     ]
    },
    {
     "name": "stderr",
     "output_type": "stream",
     "text": [
      "100%|██████████████████████████████████████████| 141/141 [00:37<00:00,  3.75it/s]\n",
      "100%|████████████████████████████████████████████| 16/16 [00:01<00:00, 10.83it/s]\n"
     ]
    },
    {
     "name": "stdout",
     "output_type": "stream",
     "text": [
      "Epoch [274], Train Loss : [1.08311] Val Loss : [1.14529] Val F1 : [0.55904]\n"
     ]
    },
    {
     "name": "stderr",
     "output_type": "stream",
     "text": [
      "100%|██████████████████████████████████████████| 141/141 [00:37<00:00,  3.73it/s]\n",
      "100%|████████████████████████████████████████████| 16/16 [00:01<00:00, 10.85it/s]\n"
     ]
    },
    {
     "name": "stdout",
     "output_type": "stream",
     "text": [
      "Epoch [275], Train Loss : [1.09297] Val Loss : [1.14386] Val F1 : [0.54529]\n"
     ]
    },
    {
     "name": "stderr",
     "output_type": "stream",
     "text": [
      "100%|██████████████████████████████████████████| 141/141 [00:37<00:00,  3.75it/s]\n",
      "100%|████████████████████████████████████████████| 16/16 [00:01<00:00, 10.79it/s]\n"
     ]
    },
    {
     "name": "stdout",
     "output_type": "stream",
     "text": [
      "Epoch [276], Train Loss : [1.09401] Val Loss : [1.14363] Val F1 : [0.56098]\n"
     ]
    },
    {
     "name": "stderr",
     "output_type": "stream",
     "text": [
      "100%|██████████████████████████████████████████| 141/141 [00:37<00:00,  3.75it/s]\n",
      "100%|████████████████████████████████████████████| 16/16 [00:01<00:00, 10.78it/s]\n"
     ]
    },
    {
     "name": "stdout",
     "output_type": "stream",
     "text": [
      "Epoch [277], Train Loss : [1.08294] Val Loss : [1.14368] Val F1 : [0.55606]\n"
     ]
    },
    {
     "name": "stderr",
     "output_type": "stream",
     "text": [
      "100%|██████████████████████████████████████████| 141/141 [00:37<00:00,  3.73it/s]\n",
      "100%|████████████████████████████████████████████| 16/16 [00:01<00:00, 10.92it/s]\n"
     ]
    },
    {
     "name": "stdout",
     "output_type": "stream",
     "text": [
      "Epoch [278], Train Loss : [1.08877] Val Loss : [1.14399] Val F1 : [0.55421]\n"
     ]
    },
    {
     "name": "stderr",
     "output_type": "stream",
     "text": [
      "100%|██████████████████████████████████████████| 141/141 [00:37<00:00,  3.75it/s]\n",
      "100%|████████████████████████████████████████████| 16/16 [00:01<00:00, 10.87it/s]\n"
     ]
    },
    {
     "name": "stdout",
     "output_type": "stream",
     "text": [
      "Epoch [279], Train Loss : [1.08571] Val Loss : [1.14400] Val F1 : [0.56110]\n"
     ]
    },
    {
     "name": "stderr",
     "output_type": "stream",
     "text": [
      "100%|██████████████████████████████████████████| 141/141 [00:37<00:00,  3.75it/s]\n",
      "100%|████████████████████████████████████████████| 16/16 [00:01<00:00, 10.85it/s]\n"
     ]
    },
    {
     "name": "stdout",
     "output_type": "stream",
     "text": [
      "Epoch [280], Train Loss : [1.08711] Val Loss : [1.14126] Val F1 : [0.55730]\n"
     ]
    },
    {
     "name": "stderr",
     "output_type": "stream",
     "text": [
      "100%|██████████████████████████████████████████| 141/141 [00:37<00:00,  3.75it/s]\n",
      "100%|████████████████████████████████████████████| 16/16 [00:01<00:00, 10.91it/s]\n"
     ]
    },
    {
     "name": "stdout",
     "output_type": "stream",
     "text": [
      "Epoch [281], Train Loss : [1.09503] Val Loss : [1.14306] Val F1 : [0.55628]\n"
     ]
    },
    {
     "name": "stderr",
     "output_type": "stream",
     "text": [
      "100%|██████████████████████████████████████████| 141/141 [00:37<00:00,  3.75it/s]\n",
      "100%|████████████████████████████████████████████| 16/16 [00:01<00:00, 10.94it/s]\n"
     ]
    },
    {
     "name": "stdout",
     "output_type": "stream",
     "text": [
      "Epoch [282], Train Loss : [1.09282] Val Loss : [1.14475] Val F1 : [0.55499]\n"
     ]
    },
    {
     "name": "stderr",
     "output_type": "stream",
     "text": [
      "100%|██████████████████████████████████████████| 141/141 [00:37<00:00,  3.75it/s]\n",
      "100%|████████████████████████████████████████████| 16/16 [00:01<00:00, 10.82it/s]\n"
     ]
    },
    {
     "name": "stdout",
     "output_type": "stream",
     "text": [
      "Epoch [283], Train Loss : [1.09237] Val Loss : [1.14278] Val F1 : [0.55897]\n"
     ]
    },
    {
     "name": "stderr",
     "output_type": "stream",
     "text": [
      "100%|██████████████████████████████████████████| 141/141 [00:37<00:00,  3.75it/s]\n",
      "100%|████████████████████████████████████████████| 16/16 [00:01<00:00, 10.91it/s]\n"
     ]
    },
    {
     "name": "stdout",
     "output_type": "stream",
     "text": [
      "Epoch [284], Train Loss : [1.08533] Val Loss : [1.14253] Val F1 : [0.56453]\n"
     ]
    },
    {
     "name": "stderr",
     "output_type": "stream",
     "text": [
      "100%|██████████████████████████████████████████| 141/141 [00:37<00:00,  3.75it/s]\n",
      "100%|████████████████████████████████████████████| 16/16 [00:01<00:00, 10.90it/s]\n"
     ]
    },
    {
     "name": "stdout",
     "output_type": "stream",
     "text": [
      "Epoch [285], Train Loss : [1.08835] Val Loss : [1.14488] Val F1 : [0.54720]\n"
     ]
    },
    {
     "name": "stderr",
     "output_type": "stream",
     "text": [
      "100%|██████████████████████████████████████████| 141/141 [00:37<00:00,  3.75it/s]\n",
      "100%|████████████████████████████████████████████| 16/16 [00:01<00:00, 10.88it/s]\n"
     ]
    },
    {
     "name": "stdout",
     "output_type": "stream",
     "text": [
      "Epoch [286], Train Loss : [1.09193] Val Loss : [1.14379] Val F1 : [0.55907]\n"
     ]
    },
    {
     "name": "stderr",
     "output_type": "stream",
     "text": [
      "100%|██████████████████████████████████████████| 141/141 [00:37<00:00,  3.73it/s]\n",
      "100%|████████████████████████████████████████████| 16/16 [00:01<00:00, 10.81it/s]\n"
     ]
    },
    {
     "name": "stdout",
     "output_type": "stream",
     "text": [
      "Epoch [287], Train Loss : [1.08892] Val Loss : [1.14337] Val F1 : [0.55850]\n"
     ]
    },
    {
     "name": "stderr",
     "output_type": "stream",
     "text": [
      "100%|██████████████████████████████████████████| 141/141 [00:37<00:00,  3.74it/s]\n",
      "100%|████████████████████████████████████████████| 16/16 [00:01<00:00, 10.84it/s]\n"
     ]
    },
    {
     "name": "stdout",
     "output_type": "stream",
     "text": [
      "Epoch [288], Train Loss : [1.08878] Val Loss : [1.14271] Val F1 : [0.56051]\n"
     ]
    },
    {
     "name": "stderr",
     "output_type": "stream",
     "text": [
      "100%|██████████████████████████████████████████| 141/141 [00:37<00:00,  3.75it/s]\n",
      "100%|████████████████████████████████████████████| 16/16 [00:01<00:00, 10.63it/s]\n"
     ]
    },
    {
     "name": "stdout",
     "output_type": "stream",
     "text": [
      "Epoch [289], Train Loss : [1.08916] Val Loss : [1.14327] Val F1 : [0.55398]\n"
     ]
    },
    {
     "name": "stderr",
     "output_type": "stream",
     "text": [
      "100%|██████████████████████████████████████████| 141/141 [00:37<00:00,  3.75it/s]\n",
      "100%|████████████████████████████████████████████| 16/16 [00:01<00:00, 10.86it/s]\n"
     ]
    },
    {
     "name": "stdout",
     "output_type": "stream",
     "text": [
      "Epoch [290], Train Loss : [1.09194] Val Loss : [1.14269] Val F1 : [0.55825]\n"
     ]
    },
    {
     "name": "stderr",
     "output_type": "stream",
     "text": [
      "100%|██████████████████████████████████████████| 141/141 [00:37<00:00,  3.73it/s]\n",
      "100%|████████████████████████████████████████████| 16/16 [00:01<00:00, 10.89it/s]\n"
     ]
    },
    {
     "name": "stdout",
     "output_type": "stream",
     "text": [
      "Epoch [291], Train Loss : [1.08955] Val Loss : [1.14398] Val F1 : [0.55712]\n"
     ]
    },
    {
     "name": "stderr",
     "output_type": "stream",
     "text": [
      "100%|██████████████████████████████████████████| 141/141 [00:37<00:00,  3.73it/s]\n",
      "100%|████████████████████████████████████████████| 16/16 [00:01<00:00, 10.66it/s]\n"
     ]
    },
    {
     "name": "stdout",
     "output_type": "stream",
     "text": [
      "Epoch [292], Train Loss : [1.09500] Val Loss : [1.14330] Val F1 : [0.56243]\n"
     ]
    },
    {
     "name": "stderr",
     "output_type": "stream",
     "text": [
      "100%|██████████████████████████████████████████| 141/141 [00:37<00:00,  3.75it/s]\n",
      "100%|████████████████████████████████████████████| 16/16 [00:01<00:00, 10.93it/s]\n"
     ]
    },
    {
     "name": "stdout",
     "output_type": "stream",
     "text": [
      "Epoch [293], Train Loss : [1.08829] Val Loss : [1.14367] Val F1 : [0.55852]\n"
     ]
    },
    {
     "name": "stderr",
     "output_type": "stream",
     "text": [
      "100%|██████████████████████████████████████████| 141/141 [00:37<00:00,  3.75it/s]\n",
      "100%|████████████████████████████████████████████| 16/16 [00:01<00:00, 10.83it/s]\n"
     ]
    },
    {
     "name": "stdout",
     "output_type": "stream",
     "text": [
      "Epoch [294], Train Loss : [1.09324] Val Loss : [1.14305] Val F1 : [0.55396]\n"
     ]
    },
    {
     "name": "stderr",
     "output_type": "stream",
     "text": [
      "100%|██████████████████████████████████████████| 141/141 [00:37<00:00,  3.75it/s]\n",
      "100%|████████████████████████████████████████████| 16/16 [00:01<00:00, 10.93it/s]\n"
     ]
    },
    {
     "name": "stdout",
     "output_type": "stream",
     "text": [
      "Epoch [295], Train Loss : [1.09384] Val Loss : [1.14235] Val F1 : [0.55775]\n"
     ]
    },
    {
     "name": "stderr",
     "output_type": "stream",
     "text": [
      "100%|██████████████████████████████████████████| 141/141 [00:37<00:00,  3.75it/s]\n",
      "100%|████████████████████████████████████████████| 16/16 [00:01<00:00, 10.88it/s]\n"
     ]
    },
    {
     "name": "stdout",
     "output_type": "stream",
     "text": [
      "Epoch [296], Train Loss : [1.09676] Val Loss : [1.14375] Val F1 : [0.56254]\n"
     ]
    },
    {
     "name": "stderr",
     "output_type": "stream",
     "text": [
      "100%|██████████████████████████████████████████| 141/141 [00:37<00:00,  3.75it/s]\n",
      "100%|████████████████████████████████████████████| 16/16 [00:01<00:00, 10.87it/s]\n"
     ]
    },
    {
     "name": "stdout",
     "output_type": "stream",
     "text": [
      "Epoch [297], Train Loss : [1.08603] Val Loss : [1.14397] Val F1 : [0.55877]\n"
     ]
    },
    {
     "name": "stderr",
     "output_type": "stream",
     "text": [
      "100%|██████████████████████████████████████████| 141/141 [00:37<00:00,  3.75it/s]\n",
      "100%|████████████████████████████████████████████| 16/16 [00:01<00:00, 10.88it/s]\n"
     ]
    },
    {
     "name": "stdout",
     "output_type": "stream",
     "text": [
      "Epoch [298], Train Loss : [1.09103] Val Loss : [1.14561] Val F1 : [0.54713]\n"
     ]
    },
    {
     "name": "stderr",
     "output_type": "stream",
     "text": [
      "100%|██████████████████████████████████████████| 141/141 [00:37<00:00,  3.75it/s]\n",
      "100%|████████████████████████████████████████████| 16/16 [00:01<00:00, 10.96it/s]\n"
     ]
    },
    {
     "name": "stdout",
     "output_type": "stream",
     "text": [
      "Epoch [299], Train Loss : [1.08884] Val Loss : [1.14220] Val F1 : [0.56604]\n"
     ]
    },
    {
     "name": "stderr",
     "output_type": "stream",
     "text": [
      "100%|██████████████████████████████████████████| 141/141 [00:37<00:00,  3.74it/s]\n",
      "100%|████████████████████████████████████████████| 16/16 [00:01<00:00, 10.59it/s]\n"
     ]
    },
    {
     "name": "stdout",
     "output_type": "stream",
     "text": [
      "Epoch [300], Train Loss : [1.09310] Val Loss : [1.14392] Val F1 : [0.55460]\n"
     ]
    },
    {
     "name": "stderr",
     "output_type": "stream",
     "text": [
      "100%|██████████████████████████████████████████| 141/141 [00:37<00:00,  3.75it/s]\n",
      "100%|████████████████████████████████████████████| 16/16 [00:01<00:00, 10.86it/s]\n"
     ]
    },
    {
     "name": "stdout",
     "output_type": "stream",
     "text": [
      "Epoch [301], Train Loss : [1.09109] Val Loss : [1.14316] Val F1 : [0.55316]\n"
     ]
    },
    {
     "name": "stderr",
     "output_type": "stream",
     "text": [
      "100%|██████████████████████████████████████████| 141/141 [00:37<00:00,  3.75it/s]\n",
      "100%|████████████████████████████████████████████| 16/16 [00:01<00:00, 10.86it/s]\n"
     ]
    },
    {
     "name": "stdout",
     "output_type": "stream",
     "text": [
      "Epoch [302], Train Loss : [1.08994] Val Loss : [1.14234] Val F1 : [0.56210]\n"
     ]
    },
    {
     "name": "stderr",
     "output_type": "stream",
     "text": [
      "100%|██████████████████████████████████████████| 141/141 [00:37<00:00,  3.75it/s]\n",
      "100%|████████████████████████████████████████████| 16/16 [00:01<00:00, 10.77it/s]\n"
     ]
    },
    {
     "name": "stdout",
     "output_type": "stream",
     "text": [
      "Epoch [303], Train Loss : [1.09432] Val Loss : [1.14413] Val F1 : [0.55705]\n"
     ]
    },
    {
     "name": "stderr",
     "output_type": "stream",
     "text": [
      "100%|██████████████████████████████████████████| 141/141 [00:37<00:00,  3.75it/s]\n",
      "100%|████████████████████████████████████████████| 16/16 [00:01<00:00, 10.88it/s]\n"
     ]
    },
    {
     "name": "stdout",
     "output_type": "stream",
     "text": [
      "Epoch [304], Train Loss : [1.08921] Val Loss : [1.14496] Val F1 : [0.55914]\n"
     ]
    },
    {
     "name": "stderr",
     "output_type": "stream",
     "text": [
      "100%|██████████████████████████████████████████| 141/141 [00:37<00:00,  3.75it/s]\n",
      "100%|████████████████████████████████████████████| 16/16 [00:01<00:00, 10.88it/s]\n"
     ]
    },
    {
     "name": "stdout",
     "output_type": "stream",
     "text": [
      "Epoch [305], Train Loss : [1.09048] Val Loss : [1.14625] Val F1 : [0.54584]\n"
     ]
    },
    {
     "name": "stderr",
     "output_type": "stream",
     "text": [
      "100%|██████████████████████████████████████████| 141/141 [00:37<00:00,  3.75it/s]\n",
      "100%|████████████████████████████████████████████| 16/16 [00:01<00:00, 10.92it/s]\n"
     ]
    },
    {
     "name": "stdout",
     "output_type": "stream",
     "text": [
      "Epoch [306], Train Loss : [1.08843] Val Loss : [1.14589] Val F1 : [0.54926]\n"
     ]
    },
    {
     "name": "stderr",
     "output_type": "stream",
     "text": [
      "100%|██████████████████████████████████████████| 141/141 [00:37<00:00,  3.75it/s]\n",
      "100%|████████████████████████████████████████████| 16/16 [00:01<00:00, 10.85it/s]\n"
     ]
    },
    {
     "name": "stdout",
     "output_type": "stream",
     "text": [
      "Epoch [307], Train Loss : [1.08558] Val Loss : [1.14234] Val F1 : [0.56464]\n"
     ]
    },
    {
     "name": "stderr",
     "output_type": "stream",
     "text": [
      "100%|██████████████████████████████████████████| 141/141 [00:37<00:00,  3.75it/s]\n",
      "100%|████████████████████████████████████████████| 16/16 [00:01<00:00, 10.89it/s]\n"
     ]
    },
    {
     "name": "stdout",
     "output_type": "stream",
     "text": [
      "Epoch [308], Train Loss : [1.09254] Val Loss : [1.14471] Val F1 : [0.55731]\n"
     ]
    },
    {
     "name": "stderr",
     "output_type": "stream",
     "text": [
      "100%|██████████████████████████████████████████| 141/141 [00:37<00:00,  3.75it/s]\n",
      "100%|████████████████████████████████████████████| 16/16 [00:01<00:00, 10.86it/s]\n"
     ]
    },
    {
     "name": "stdout",
     "output_type": "stream",
     "text": [
      "Epoch [309], Train Loss : [1.09470] Val Loss : [1.14199] Val F1 : [0.55910]\n"
     ]
    },
    {
     "name": "stderr",
     "output_type": "stream",
     "text": [
      "100%|██████████████████████████████████████████| 141/141 [00:37<00:00,  3.74it/s]\n",
      "100%|████████████████████████████████████████████| 16/16 [00:01<00:00, 10.62it/s]\n"
     ]
    },
    {
     "name": "stdout",
     "output_type": "stream",
     "text": [
      "Epoch [310], Train Loss : [1.09260] Val Loss : [1.14136] Val F1 : [0.56094]\n"
     ]
    },
    {
     "name": "stderr",
     "output_type": "stream",
     "text": [
      "100%|██████████████████████████████████████████| 141/141 [00:37<00:00,  3.74it/s]\n",
      "100%|████████████████████████████████████████████| 16/16 [00:01<00:00, 10.61it/s]\n"
     ]
    },
    {
     "name": "stdout",
     "output_type": "stream",
     "text": [
      "Epoch [311], Train Loss : [1.09294] Val Loss : [1.14547] Val F1 : [0.55337]\n"
     ]
    },
    {
     "name": "stderr",
     "output_type": "stream",
     "text": [
      "100%|██████████████████████████████████████████| 141/141 [00:37<00:00,  3.74it/s]\n",
      "100%|████████████████████████████████████████████| 16/16 [00:01<00:00, 10.35it/s]\n"
     ]
    },
    {
     "name": "stdout",
     "output_type": "stream",
     "text": [
      "Epoch [312], Train Loss : [1.09122] Val Loss : [1.14422] Val F1 : [0.55206]\n"
     ]
    },
    {
     "name": "stderr",
     "output_type": "stream",
     "text": [
      "100%|██████████████████████████████████████████| 141/141 [00:37<00:00,  3.74it/s]\n",
      "100%|████████████████████████████████████████████| 16/16 [00:01<00:00, 10.93it/s]\n"
     ]
    },
    {
     "name": "stdout",
     "output_type": "stream",
     "text": [
      "Epoch [313], Train Loss : [1.08574] Val Loss : [1.14335] Val F1 : [0.56069]\n"
     ]
    },
    {
     "name": "stderr",
     "output_type": "stream",
     "text": [
      "100%|██████████████████████████████████████████| 141/141 [00:37<00:00,  3.75it/s]\n",
      "100%|████████████████████████████████████████████| 16/16 [00:01<00:00, 10.90it/s]\n"
     ]
    },
    {
     "name": "stdout",
     "output_type": "stream",
     "text": [
      "Epoch [314], Train Loss : [1.09331] Val Loss : [1.14376] Val F1 : [0.55704]\n"
     ]
    },
    {
     "name": "stderr",
     "output_type": "stream",
     "text": [
      "100%|██████████████████████████████████████████| 141/141 [00:37<00:00,  3.75it/s]\n",
      "100%|████████████████████████████████████████████| 16/16 [00:01<00:00, 10.87it/s]\n"
     ]
    },
    {
     "name": "stdout",
     "output_type": "stream",
     "text": [
      "Epoch [315], Train Loss : [1.09065] Val Loss : [1.14279] Val F1 : [0.56039]\n"
     ]
    },
    {
     "name": "stderr",
     "output_type": "stream",
     "text": [
      "100%|██████████████████████████████████████████| 141/141 [00:37<00:00,  3.75it/s]\n",
      "100%|████████████████████████████████████████████| 16/16 [00:01<00:00, 10.92it/s]\n"
     ]
    },
    {
     "name": "stdout",
     "output_type": "stream",
     "text": [
      "Epoch [316], Train Loss : [1.09385] Val Loss : [1.14279] Val F1 : [0.55089]\n"
     ]
    },
    {
     "name": "stderr",
     "output_type": "stream",
     "text": [
      "100%|██████████████████████████████████████████| 141/141 [00:37<00:00,  3.75it/s]\n",
      "100%|████████████████████████████████████████████| 16/16 [00:01<00:00, 10.86it/s]\n"
     ]
    },
    {
     "name": "stdout",
     "output_type": "stream",
     "text": [
      "Epoch [317], Train Loss : [1.09524] Val Loss : [1.14205] Val F1 : [0.56497]\n"
     ]
    },
    {
     "name": "stderr",
     "output_type": "stream",
     "text": [
      "100%|██████████████████████████████████████████| 141/141 [00:37<00:00,  3.75it/s]\n",
      "100%|████████████████████████████████████████████| 16/16 [00:01<00:00, 10.91it/s]\n"
     ]
    },
    {
     "name": "stdout",
     "output_type": "stream",
     "text": [
      "Epoch [318], Train Loss : [1.09177] Val Loss : [1.14249] Val F1 : [0.55919]\n"
     ]
    },
    {
     "name": "stderr",
     "output_type": "stream",
     "text": [
      "100%|██████████████████████████████████████████| 141/141 [00:37<00:00,  3.75it/s]\n",
      "100%|████████████████████████████████████████████| 16/16 [00:01<00:00, 10.79it/s]\n"
     ]
    },
    {
     "name": "stdout",
     "output_type": "stream",
     "text": [
      "Epoch [319], Train Loss : [1.09115] Val Loss : [1.14287] Val F1 : [0.55301]\n"
     ]
    },
    {
     "name": "stderr",
     "output_type": "stream",
     "text": [
      "100%|██████████████████████████████████████████| 141/141 [00:37<00:00,  3.75it/s]\n",
      "100%|████████████████████████████████████████████| 16/16 [00:01<00:00, 10.84it/s]\n"
     ]
    },
    {
     "name": "stdout",
     "output_type": "stream",
     "text": [
      "Epoch [320], Train Loss : [1.09447] Val Loss : [1.14181] Val F1 : [0.56028]\n"
     ]
    },
    {
     "name": "stderr",
     "output_type": "stream",
     "text": [
      "100%|██████████████████████████████████████████| 141/141 [00:37<00:00,  3.75it/s]\n",
      "100%|████████████████████████████████████████████| 16/16 [00:01<00:00, 10.69it/s]\n"
     ]
    },
    {
     "name": "stdout",
     "output_type": "stream",
     "text": [
      "Epoch [321], Train Loss : [1.09477] Val Loss : [1.14247] Val F1 : [0.55918]\n"
     ]
    },
    {
     "name": "stderr",
     "output_type": "stream",
     "text": [
      "100%|██████████████████████████████████████████| 141/141 [00:37<00:00,  3.73it/s]\n",
      "100%|████████████████████████████████████████████| 16/16 [00:01<00:00, 10.56it/s]\n"
     ]
    },
    {
     "name": "stdout",
     "output_type": "stream",
     "text": [
      "Epoch [322], Train Loss : [1.08802] Val Loss : [1.14339] Val F1 : [0.55723]\n"
     ]
    },
    {
     "name": "stderr",
     "output_type": "stream",
     "text": [
      "100%|██████████████████████████████████████████| 141/141 [00:37<00:00,  3.73it/s]\n",
      "100%|████████████████████████████████████████████| 16/16 [00:01<00:00, 10.60it/s]\n"
     ]
    },
    {
     "name": "stdout",
     "output_type": "stream",
     "text": [
      "Epoch [323], Train Loss : [1.08813] Val Loss : [1.14340] Val F1 : [0.55923]\n"
     ]
    },
    {
     "name": "stderr",
     "output_type": "stream",
     "text": [
      "100%|██████████████████████████████████████████| 141/141 [00:37<00:00,  3.75it/s]\n",
      "100%|████████████████████████████████████████████| 16/16 [00:01<00:00, 10.85it/s]\n"
     ]
    },
    {
     "name": "stdout",
     "output_type": "stream",
     "text": [
      "Epoch [324], Train Loss : [1.09142] Val Loss : [1.14348] Val F1 : [0.55410]\n"
     ]
    },
    {
     "name": "stderr",
     "output_type": "stream",
     "text": [
      "100%|██████████████████████████████████████████| 141/141 [00:37<00:00,  3.75it/s]\n",
      "100%|████████████████████████████████████████████| 16/16 [00:01<00:00, 10.81it/s]\n"
     ]
    },
    {
     "name": "stdout",
     "output_type": "stream",
     "text": [
      "Epoch [325], Train Loss : [1.08795] Val Loss : [1.14453] Val F1 : [0.55111]\n"
     ]
    },
    {
     "name": "stderr",
     "output_type": "stream",
     "text": [
      "100%|██████████████████████████████████████████| 141/141 [00:37<00:00,  3.73it/s]\n",
      "100%|████████████████████████████████████████████| 16/16 [00:01<00:00, 10.61it/s]\n"
     ]
    },
    {
     "name": "stdout",
     "output_type": "stream",
     "text": [
      "Epoch [326], Train Loss : [1.08863] Val Loss : [1.14553] Val F1 : [0.55843]\n"
     ]
    },
    {
     "name": "stderr",
     "output_type": "stream",
     "text": [
      "100%|██████████████████████████████████████████| 141/141 [00:37<00:00,  3.75it/s]\n",
      "100%|████████████████████████████████████████████| 16/16 [00:01<00:00, 10.93it/s]\n"
     ]
    },
    {
     "name": "stdout",
     "output_type": "stream",
     "text": [
      "Epoch [327], Train Loss : [1.08797] Val Loss : [1.14275] Val F1 : [0.56421]\n"
     ]
    },
    {
     "name": "stderr",
     "output_type": "stream",
     "text": [
      "100%|██████████████████████████████████████████| 141/141 [00:37<00:00,  3.73it/s]\n",
      "100%|████████████████████████████████████████████| 16/16 [00:01<00:00, 10.62it/s]\n"
     ]
    },
    {
     "name": "stdout",
     "output_type": "stream",
     "text": [
      "Epoch [328], Train Loss : [1.08997] Val Loss : [1.14210] Val F1 : [0.55905]\n"
     ]
    },
    {
     "name": "stderr",
     "output_type": "stream",
     "text": [
      "100%|██████████████████████████████████████████| 141/141 [00:37<00:00,  3.74it/s]\n",
      "100%|████████████████████████████████████████████| 16/16 [00:01<00:00, 10.81it/s]\n"
     ]
    },
    {
     "name": "stdout",
     "output_type": "stream",
     "text": [
      "Epoch [329], Train Loss : [1.09009] Val Loss : [1.14265] Val F1 : [0.56202]\n"
     ]
    },
    {
     "name": "stderr",
     "output_type": "stream",
     "text": [
      "100%|██████████████████████████████████████████| 141/141 [00:37<00:00,  3.75it/s]\n",
      "100%|████████████████████████████████████████████| 16/16 [00:01<00:00, 10.84it/s]\n"
     ]
    },
    {
     "name": "stdout",
     "output_type": "stream",
     "text": [
      "Epoch [330], Train Loss : [1.08696] Val Loss : [1.14801] Val F1 : [0.54851]\n"
     ]
    },
    {
     "name": "stderr",
     "output_type": "stream",
     "text": [
      "100%|██████████████████████████████████████████| 141/141 [00:37<00:00,  3.74it/s]\n",
      "100%|████████████████████████████████████████████| 16/16 [00:01<00:00, 10.93it/s]\n"
     ]
    },
    {
     "name": "stdout",
     "output_type": "stream",
     "text": [
      "Epoch [331], Train Loss : [1.09260] Val Loss : [1.14303] Val F1 : [0.56183]\n"
     ]
    },
    {
     "name": "stderr",
     "output_type": "stream",
     "text": [
      "100%|██████████████████████████████████████████| 141/141 [00:37<00:00,  3.75it/s]\n",
      "100%|████████████████████████████████████████████| 16/16 [00:01<00:00, 10.62it/s]\n"
     ]
    },
    {
     "name": "stdout",
     "output_type": "stream",
     "text": [
      "Epoch [332], Train Loss : [1.09521] Val Loss : [1.14428] Val F1 : [0.55746]\n"
     ]
    },
    {
     "name": "stderr",
     "output_type": "stream",
     "text": [
      "100%|██████████████████████████████████████████| 141/141 [00:37<00:00,  3.75it/s]\n",
      "100%|████████████████████████████████████████████| 16/16 [00:01<00:00, 10.83it/s]\n"
     ]
    },
    {
     "name": "stdout",
     "output_type": "stream",
     "text": [
      "Epoch [333], Train Loss : [1.08779] Val Loss : [1.14276] Val F1 : [0.55447]\n"
     ]
    },
    {
     "name": "stderr",
     "output_type": "stream",
     "text": [
      "100%|██████████████████████████████████████████| 141/141 [00:37<00:00,  3.74it/s]\n",
      "100%|████████████████████████████████████████████| 16/16 [00:01<00:00, 10.91it/s]\n"
     ]
    },
    {
     "name": "stdout",
     "output_type": "stream",
     "text": [
      "Epoch [334], Train Loss : [1.09224] Val Loss : [1.14319] Val F1 : [0.54452]\n"
     ]
    },
    {
     "name": "stderr",
     "output_type": "stream",
     "text": [
      "100%|██████████████████████████████████████████| 141/141 [00:37<00:00,  3.75it/s]\n",
      "100%|████████████████████████████████████████████| 16/16 [00:01<00:00, 10.88it/s]\n"
     ]
    },
    {
     "name": "stdout",
     "output_type": "stream",
     "text": [
      "Epoch [335], Train Loss : [1.09186] Val Loss : [1.14686] Val F1 : [0.54817]\n"
     ]
    },
    {
     "name": "stderr",
     "output_type": "stream",
     "text": [
      "100%|██████████████████████████████████████████| 141/141 [00:37<00:00,  3.75it/s]\n",
      "100%|████████████████████████████████████████████| 16/16 [00:01<00:00, 10.90it/s]\n"
     ]
    },
    {
     "name": "stdout",
     "output_type": "stream",
     "text": [
      "Epoch [336], Train Loss : [1.09290] Val Loss : [1.14189] Val F1 : [0.55957]\n"
     ]
    },
    {
     "name": "stderr",
     "output_type": "stream",
     "text": [
      "100%|██████████████████████████████████████████| 141/141 [00:37<00:00,  3.75it/s]\n",
      "100%|████████████████████████████████████████████| 16/16 [00:01<00:00, 10.83it/s]\n"
     ]
    },
    {
     "name": "stdout",
     "output_type": "stream",
     "text": [
      "Epoch [337], Train Loss : [1.08909] Val Loss : [1.14453] Val F1 : [0.55840]\n"
     ]
    },
    {
     "name": "stderr",
     "output_type": "stream",
     "text": [
      "100%|██████████████████████████████████████████| 141/141 [00:37<00:00,  3.75it/s]\n",
      "100%|████████████████████████████████████████████| 16/16 [00:01<00:00,  9.87it/s]\n"
     ]
    },
    {
     "name": "stdout",
     "output_type": "stream",
     "text": [
      "Epoch [338], Train Loss : [1.08775] Val Loss : [1.14162] Val F1 : [0.56467]\n"
     ]
    },
    {
     "name": "stderr",
     "output_type": "stream",
     "text": [
      "100%|██████████████████████████████████████████| 141/141 [00:37<00:00,  3.73it/s]\n",
      "100%|████████████████████████████████████████████| 16/16 [00:01<00:00, 10.82it/s]\n"
     ]
    },
    {
     "name": "stdout",
     "output_type": "stream",
     "text": [
      "Epoch [339], Train Loss : [1.08857] Val Loss : [1.14255] Val F1 : [0.55705]\n"
     ]
    },
    {
     "name": "stderr",
     "output_type": "stream",
     "text": [
      "100%|██████████████████████████████████████████| 141/141 [00:37<00:00,  3.75it/s]\n",
      "100%|████████████████████████████████████████████| 16/16 [00:01<00:00, 10.84it/s]\n"
     ]
    },
    {
     "name": "stdout",
     "output_type": "stream",
     "text": [
      "Epoch [340], Train Loss : [1.09375] Val Loss : [1.14336] Val F1 : [0.56079]\n"
     ]
    },
    {
     "name": "stderr",
     "output_type": "stream",
     "text": [
      "100%|██████████████████████████████████████████| 141/141 [00:37<00:00,  3.75it/s]\n",
      "100%|████████████████████████████████████████████| 16/16 [00:01<00:00, 10.69it/s]\n"
     ]
    },
    {
     "name": "stdout",
     "output_type": "stream",
     "text": [
      "Epoch [341], Train Loss : [1.09462] Val Loss : [1.14422] Val F1 : [0.55520]\n"
     ]
    },
    {
     "name": "stderr",
     "output_type": "stream",
     "text": [
      "100%|██████████████████████████████████████████| 141/141 [00:37<00:00,  3.75it/s]\n",
      "100%|████████████████████████████████████████████| 16/16 [00:01<00:00, 10.87it/s]\n"
     ]
    },
    {
     "name": "stdout",
     "output_type": "stream",
     "text": [
      "Epoch [342], Train Loss : [1.08942] Val Loss : [1.14226] Val F1 : [0.56658]\n"
     ]
    },
    {
     "name": "stderr",
     "output_type": "stream",
     "text": [
      "100%|██████████████████████████████████████████| 141/141 [00:37<00:00,  3.75it/s]\n",
      "100%|████████████████████████████████████████████| 16/16 [00:01<00:00, 10.55it/s]\n"
     ]
    },
    {
     "name": "stdout",
     "output_type": "stream",
     "text": [
      "Epoch [343], Train Loss : [1.09176] Val Loss : [1.14259] Val F1 : [0.55865]\n"
     ]
    },
    {
     "name": "stderr",
     "output_type": "stream",
     "text": [
      "100%|██████████████████████████████████████████| 141/141 [00:37<00:00,  3.75it/s]\n",
      "100%|████████████████████████████████████████████| 16/16 [00:01<00:00, 10.83it/s]\n"
     ]
    },
    {
     "name": "stdout",
     "output_type": "stream",
     "text": [
      "Epoch [344], Train Loss : [1.08983] Val Loss : [1.14348] Val F1 : [0.56132]\n"
     ]
    },
    {
     "name": "stderr",
     "output_type": "stream",
     "text": [
      "100%|██████████████████████████████████████████| 141/141 [00:37<00:00,  3.75it/s]\n",
      "100%|████████████████████████████████████████████| 16/16 [00:01<00:00, 10.89it/s]\n"
     ]
    },
    {
     "name": "stdout",
     "output_type": "stream",
     "text": [
      "Epoch [345], Train Loss : [1.09249] Val Loss : [1.14343] Val F1 : [0.56156]\n"
     ]
    },
    {
     "name": "stderr",
     "output_type": "stream",
     "text": [
      "100%|██████████████████████████████████████████| 141/141 [00:37<00:00,  3.74it/s]\n",
      "100%|████████████████████████████████████████████| 16/16 [00:01<00:00, 10.64it/s]\n"
     ]
    },
    {
     "name": "stdout",
     "output_type": "stream",
     "text": [
      "Epoch [346], Train Loss : [1.08348] Val Loss : [1.14114] Val F1 : [0.55473]\n"
     ]
    },
    {
     "name": "stderr",
     "output_type": "stream",
     "text": [
      "100%|██████████████████████████████████████████| 141/141 [00:37<00:00,  3.75it/s]\n",
      "100%|████████████████████████████████████████████| 16/16 [00:01<00:00, 10.89it/s]\n"
     ]
    },
    {
     "name": "stdout",
     "output_type": "stream",
     "text": [
      "Epoch [347], Train Loss : [1.08608] Val Loss : [1.14317] Val F1 : [0.56310]\n"
     ]
    },
    {
     "name": "stderr",
     "output_type": "stream",
     "text": [
      "100%|██████████████████████████████████████████| 141/141 [00:37<00:00,  3.74it/s]\n",
      "100%|████████████████████████████████████████████| 16/16 [00:01<00:00, 10.87it/s]\n"
     ]
    },
    {
     "name": "stdout",
     "output_type": "stream",
     "text": [
      "Epoch [348], Train Loss : [1.08811] Val Loss : [1.14357] Val F1 : [0.55293]\n"
     ]
    },
    {
     "name": "stderr",
     "output_type": "stream",
     "text": [
      "100%|██████████████████████████████████████████| 141/141 [00:37<00:00,  3.75it/s]\n",
      "100%|████████████████████████████████████████████| 16/16 [00:01<00:00, 10.89it/s]\n"
     ]
    },
    {
     "name": "stdout",
     "output_type": "stream",
     "text": [
      "Epoch [349], Train Loss : [1.08741] Val Loss : [1.14201] Val F1 : [0.55875]\n"
     ]
    },
    {
     "name": "stderr",
     "output_type": "stream",
     "text": [
      "100%|██████████████████████████████████████████| 141/141 [00:37<00:00,  3.73it/s]\n",
      "100%|████████████████████████████████████████████| 16/16 [00:01<00:00, 10.84it/s]\n"
     ]
    },
    {
     "name": "stdout",
     "output_type": "stream",
     "text": [
      "Epoch [350], Train Loss : [1.08994] Val Loss : [1.14418] Val F1 : [0.56130]\n"
     ]
    },
    {
     "name": "stderr",
     "output_type": "stream",
     "text": [
      "100%|██████████████████████████████████████████| 141/141 [00:37<00:00,  3.75it/s]\n",
      "100%|████████████████████████████████████████████| 16/16 [00:01<00:00, 10.89it/s]\n"
     ]
    },
    {
     "name": "stdout",
     "output_type": "stream",
     "text": [
      "Epoch [351], Train Loss : [1.09013] Val Loss : [1.14259] Val F1 : [0.56440]\n"
     ]
    },
    {
     "name": "stderr",
     "output_type": "stream",
     "text": [
      "100%|██████████████████████████████████████████| 141/141 [00:37<00:00,  3.75it/s]\n",
      "100%|████████████████████████████████████████████| 16/16 [00:01<00:00, 10.74it/s]\n"
     ]
    },
    {
     "name": "stdout",
     "output_type": "stream",
     "text": [
      "Epoch [352], Train Loss : [1.08846] Val Loss : [1.14315] Val F1 : [0.55944]\n"
     ]
    },
    {
     "name": "stderr",
     "output_type": "stream",
     "text": [
      "100%|██████████████████████████████████████████| 141/141 [00:37<00:00,  3.75it/s]\n",
      "100%|████████████████████████████████████████████| 16/16 [00:01<00:00, 10.83it/s]\n"
     ]
    },
    {
     "name": "stdout",
     "output_type": "stream",
     "text": [
      "Epoch [353], Train Loss : [1.09256] Val Loss : [1.14254] Val F1 : [0.55920]\n"
     ]
    },
    {
     "name": "stderr",
     "output_type": "stream",
     "text": [
      "100%|██████████████████████████████████████████| 141/141 [00:37<00:00,  3.73it/s]\n",
      "100%|████████████████████████████████████████████| 16/16 [00:01<00:00, 10.61it/s]\n"
     ]
    },
    {
     "name": "stdout",
     "output_type": "stream",
     "text": [
      "Epoch [354], Train Loss : [1.08921] Val Loss : [1.14239] Val F1 : [0.55508]\n"
     ]
    },
    {
     "name": "stderr",
     "output_type": "stream",
     "text": [
      "100%|██████████████████████████████████████████| 141/141 [00:37<00:00,  3.73it/s]\n",
      "100%|████████████████████████████████████████████| 16/16 [00:01<00:00, 10.59it/s]\n"
     ]
    },
    {
     "name": "stdout",
     "output_type": "stream",
     "text": [
      "Epoch [355], Train Loss : [1.09268] Val Loss : [1.14233] Val F1 : [0.56033]\n"
     ]
    },
    {
     "name": "stderr",
     "output_type": "stream",
     "text": [
      "100%|██████████████████████████████████████████| 141/141 [00:37<00:00,  3.75it/s]\n",
      "100%|████████████████████████████████████████████| 16/16 [00:01<00:00, 10.86it/s]\n"
     ]
    },
    {
     "name": "stdout",
     "output_type": "stream",
     "text": [
      "Epoch [356], Train Loss : [1.09334] Val Loss : [1.14267] Val F1 : [0.55437]\n"
     ]
    },
    {
     "name": "stderr",
     "output_type": "stream",
     "text": [
      "100%|██████████████████████████████████████████| 141/141 [00:37<00:00,  3.75it/s]\n",
      "100%|████████████████████████████████████████████| 16/16 [00:01<00:00, 10.87it/s]\n"
     ]
    },
    {
     "name": "stdout",
     "output_type": "stream",
     "text": [
      "Epoch [357], Train Loss : [1.09558] Val Loss : [1.14258] Val F1 : [0.55529]\n"
     ]
    },
    {
     "name": "stderr",
     "output_type": "stream",
     "text": [
      "100%|██████████████████████████████████████████| 141/141 [00:37<00:00,  3.75it/s]\n",
      "100%|████████████████████████████████████████████| 16/16 [00:01<00:00, 10.87it/s]\n"
     ]
    },
    {
     "name": "stdout",
     "output_type": "stream",
     "text": [
      "Epoch [358], Train Loss : [1.09456] Val Loss : [1.14355] Val F1 : [0.56105]\n"
     ]
    },
    {
     "name": "stderr",
     "output_type": "stream",
     "text": [
      "100%|██████████████████████████████████████████| 141/141 [00:37<00:00,  3.75it/s]\n",
      "100%|████████████████████████████████████████████| 16/16 [00:01<00:00, 10.83it/s]\n"
     ]
    },
    {
     "name": "stdout",
     "output_type": "stream",
     "text": [
      "Epoch [359], Train Loss : [1.08968] Val Loss : [1.14312] Val F1 : [0.55362]\n"
     ]
    },
    {
     "name": "stderr",
     "output_type": "stream",
     "text": [
      "100%|██████████████████████████████████████████| 141/141 [00:37<00:00,  3.75it/s]\n",
      "100%|████████████████████████████████████████████| 16/16 [00:01<00:00, 10.77it/s]\n"
     ]
    },
    {
     "name": "stdout",
     "output_type": "stream",
     "text": [
      "Epoch [360], Train Loss : [1.08842] Val Loss : [1.14256] Val F1 : [0.55485]\n"
     ]
    },
    {
     "name": "stderr",
     "output_type": "stream",
     "text": [
      "100%|██████████████████████████████████████████| 141/141 [00:37<00:00,  3.74it/s]\n",
      "100%|████████████████████████████████████████████| 16/16 [00:01<00:00, 10.86it/s]\n"
     ]
    },
    {
     "name": "stdout",
     "output_type": "stream",
     "text": [
      "Epoch [361], Train Loss : [1.09013] Val Loss : [1.14237] Val F1 : [0.55733]\n"
     ]
    },
    {
     "name": "stderr",
     "output_type": "stream",
     "text": [
      "100%|██████████████████████████████████████████| 141/141 [00:37<00:00,  3.75it/s]\n",
      "100%|████████████████████████████████████████████| 16/16 [00:01<00:00, 10.90it/s]\n"
     ]
    },
    {
     "name": "stdout",
     "output_type": "stream",
     "text": [
      "Epoch [362], Train Loss : [1.08782] Val Loss : [1.14226] Val F1 : [0.55700]\n"
     ]
    },
    {
     "name": "stderr",
     "output_type": "stream",
     "text": [
      "100%|██████████████████████████████████████████| 141/141 [00:37<00:00,  3.73it/s]\n",
      "100%|████████████████████████████████████████████| 16/16 [00:01<00:00, 10.63it/s]\n"
     ]
    },
    {
     "name": "stdout",
     "output_type": "stream",
     "text": [
      "Epoch [363], Train Loss : [1.09016] Val Loss : [1.14194] Val F1 : [0.56061]\n"
     ]
    },
    {
     "name": "stderr",
     "output_type": "stream",
     "text": [
      "100%|██████████████████████████████████████████| 141/141 [00:37<00:00,  3.74it/s]\n",
      "100%|████████████████████████████████████████████| 16/16 [00:01<00:00, 10.24it/s]\n"
     ]
    },
    {
     "name": "stdout",
     "output_type": "stream",
     "text": [
      "Epoch [364], Train Loss : [1.09371] Val Loss : [1.14358] Val F1 : [0.55151]\n"
     ]
    },
    {
     "name": "stderr",
     "output_type": "stream",
     "text": [
      "100%|██████████████████████████████████████████| 141/141 [00:37<00:00,  3.75it/s]\n",
      "100%|████████████████████████████████████████████| 16/16 [00:01<00:00, 10.86it/s]\n"
     ]
    },
    {
     "name": "stdout",
     "output_type": "stream",
     "text": [
      "Epoch [365], Train Loss : [1.09234] Val Loss : [1.14575] Val F1 : [0.55130]\n"
     ]
    },
    {
     "name": "stderr",
     "output_type": "stream",
     "text": [
      "100%|██████████████████████████████████████████| 141/141 [00:37<00:00,  3.75it/s]\n",
      "100%|████████████████████████████████████████████| 16/16 [00:01<00:00, 10.82it/s]\n"
     ]
    },
    {
     "name": "stdout",
     "output_type": "stream",
     "text": [
      "Epoch [366], Train Loss : [1.08610] Val Loss : [1.14390] Val F1 : [0.55572]\n"
     ]
    },
    {
     "name": "stderr",
     "output_type": "stream",
     "text": [
      "100%|██████████████████████████████████████████| 141/141 [00:37<00:00,  3.76it/s]\n",
      "100%|████████████████████████████████████████████| 16/16 [00:01<00:00, 10.81it/s]\n"
     ]
    },
    {
     "name": "stdout",
     "output_type": "stream",
     "text": [
      "Epoch [367], Train Loss : [1.09060] Val Loss : [1.14317] Val F1 : [0.56073]\n"
     ]
    },
    {
     "name": "stderr",
     "output_type": "stream",
     "text": [
      "100%|██████████████████████████████████████████| 141/141 [00:37<00:00,  3.75it/s]\n",
      "100%|████████████████████████████████████████████| 16/16 [00:01<00:00, 10.91it/s]\n"
     ]
    },
    {
     "name": "stdout",
     "output_type": "stream",
     "text": [
      "Epoch [368], Train Loss : [1.08798] Val Loss : [1.14326] Val F1 : [0.55618]\n"
     ]
    },
    {
     "name": "stderr",
     "output_type": "stream",
     "text": [
      "100%|██████████████████████████████████████████| 141/141 [00:37<00:00,  3.75it/s]\n",
      "100%|████████████████████████████████████████████| 16/16 [00:01<00:00, 10.86it/s]\n"
     ]
    },
    {
     "name": "stdout",
     "output_type": "stream",
     "text": [
      "Epoch [369], Train Loss : [1.08852] Val Loss : [1.14263] Val F1 : [0.55653]\n"
     ]
    },
    {
     "name": "stderr",
     "output_type": "stream",
     "text": [
      "100%|██████████████████████████████████████████| 141/141 [00:37<00:00,  3.75it/s]\n",
      "100%|████████████████████████████████████████████| 16/16 [00:01<00:00, 10.90it/s]\n"
     ]
    },
    {
     "name": "stdout",
     "output_type": "stream",
     "text": [
      "Epoch [370], Train Loss : [1.09634] Val Loss : [1.14518] Val F1 : [0.55052]\n"
     ]
    },
    {
     "name": "stderr",
     "output_type": "stream",
     "text": [
      "100%|██████████████████████████████████████████| 141/141 [00:37<00:00,  3.75it/s]\n",
      "100%|████████████████████████████████████████████| 16/16 [00:01<00:00, 10.86it/s]\n"
     ]
    },
    {
     "name": "stdout",
     "output_type": "stream",
     "text": [
      "Epoch [371], Train Loss : [1.09535] Val Loss : [1.14194] Val F1 : [0.56067]\n"
     ]
    },
    {
     "name": "stderr",
     "output_type": "stream",
     "text": [
      "100%|██████████████████████████████████████████| 141/141 [00:37<00:00,  3.75it/s]\n",
      "100%|████████████████████████████████████████████| 16/16 [00:01<00:00, 10.76it/s]\n"
     ]
    },
    {
     "name": "stdout",
     "output_type": "stream",
     "text": [
      "Epoch [372], Train Loss : [1.08613] Val Loss : [1.14230] Val F1 : [0.56132]\n"
     ]
    },
    {
     "name": "stderr",
     "output_type": "stream",
     "text": [
      "100%|██████████████████████████████████████████| 141/141 [00:37<00:00,  3.74it/s]\n",
      "100%|████████████████████████████████████████████| 16/16 [00:01<00:00, 10.56it/s]\n"
     ]
    },
    {
     "name": "stdout",
     "output_type": "stream",
     "text": [
      "Epoch [373], Train Loss : [1.08652] Val Loss : [1.14340] Val F1 : [0.55449]\n"
     ]
    },
    {
     "name": "stderr",
     "output_type": "stream",
     "text": [
      "100%|██████████████████████████████████████████| 141/141 [00:37<00:00,  3.75it/s]\n",
      "100%|████████████████████████████████████████████| 16/16 [00:01<00:00, 10.81it/s]\n"
     ]
    },
    {
     "name": "stdout",
     "output_type": "stream",
     "text": [
      "Epoch [374], Train Loss : [1.09111] Val Loss : [1.14255] Val F1 : [0.56310]\n"
     ]
    },
    {
     "name": "stderr",
     "output_type": "stream",
     "text": [
      "100%|██████████████████████████████████████████| 141/141 [00:37<00:00,  3.75it/s]\n",
      "100%|████████████████████████████████████████████| 16/16 [00:01<00:00, 10.60it/s]\n"
     ]
    },
    {
     "name": "stdout",
     "output_type": "stream",
     "text": [
      "Epoch [375], Train Loss : [1.08856] Val Loss : [1.14114] Val F1 : [0.56251]\n"
     ]
    },
    {
     "name": "stderr",
     "output_type": "stream",
     "text": [
      "100%|██████████████████████████████████████████| 141/141 [00:37<00:00,  3.73it/s]\n",
      "100%|████████████████████████████████████████████| 16/16 [00:01<00:00, 10.57it/s]\n"
     ]
    },
    {
     "name": "stdout",
     "output_type": "stream",
     "text": [
      "Epoch [376], Train Loss : [1.09237] Val Loss : [1.14331] Val F1 : [0.55708]\n"
     ]
    },
    {
     "name": "stderr",
     "output_type": "stream",
     "text": [
      "100%|██████████████████████████████████████████| 141/141 [00:37<00:00,  3.75it/s]\n",
      "100%|████████████████████████████████████████████| 16/16 [00:01<00:00, 10.83it/s]\n"
     ]
    },
    {
     "name": "stdout",
     "output_type": "stream",
     "text": [
      "Epoch [377], Train Loss : [1.09046] Val Loss : [1.14270] Val F1 : [0.55718]\n"
     ]
    },
    {
     "name": "stderr",
     "output_type": "stream",
     "text": [
      "100%|██████████████████████████████████████████| 141/141 [00:37<00:00,  3.75it/s]\n",
      "100%|████████████████████████████████████████████| 16/16 [00:01<00:00, 10.90it/s]\n"
     ]
    },
    {
     "name": "stdout",
     "output_type": "stream",
     "text": [
      "Epoch [378], Train Loss : [1.09343] Val Loss : [1.14247] Val F1 : [0.55482]\n"
     ]
    },
    {
     "name": "stderr",
     "output_type": "stream",
     "text": [
      "100%|██████████████████████████████████████████| 141/141 [00:37<00:00,  3.75it/s]\n",
      "100%|████████████████████████████████████████████| 16/16 [00:01<00:00, 10.90it/s]\n"
     ]
    },
    {
     "name": "stdout",
     "output_type": "stream",
     "text": [
      "Epoch [379], Train Loss : [1.08802] Val Loss : [1.14201] Val F1 : [0.56090]\n"
     ]
    },
    {
     "name": "stderr",
     "output_type": "stream",
     "text": [
      "100%|██████████████████████████████████████████| 141/141 [00:37<00:00,  3.75it/s]\n",
      "100%|████████████████████████████████████████████| 16/16 [00:01<00:00, 10.83it/s]\n"
     ]
    },
    {
     "name": "stdout",
     "output_type": "stream",
     "text": [
      "Epoch [380], Train Loss : [1.08885] Val Loss : [1.14293] Val F1 : [0.56993]\n"
     ]
    },
    {
     "name": "stderr",
     "output_type": "stream",
     "text": [
      "100%|██████████████████████████████████████████| 141/141 [00:37<00:00,  3.75it/s]\n",
      "100%|████████████████████████████████████████████| 16/16 [00:01<00:00, 10.88it/s]\n"
     ]
    },
    {
     "name": "stdout",
     "output_type": "stream",
     "text": [
      "Epoch [381], Train Loss : [1.09574] Val Loss : [1.14252] Val F1 : [0.55769]\n"
     ]
    },
    {
     "name": "stderr",
     "output_type": "stream",
     "text": [
      "100%|██████████████████████████████████████████| 141/141 [00:37<00:00,  3.75it/s]\n",
      "100%|████████████████████████████████████████████| 16/16 [00:01<00:00, 10.89it/s]\n"
     ]
    },
    {
     "name": "stdout",
     "output_type": "stream",
     "text": [
      "Epoch [382], Train Loss : [1.09099] Val Loss : [1.14287] Val F1 : [0.55581]\n"
     ]
    },
    {
     "name": "stderr",
     "output_type": "stream",
     "text": [
      "100%|██████████████████████████████████████████| 141/141 [00:37<00:00,  3.74it/s]\n",
      "100%|████████████████████████████████████████████| 16/16 [00:01<00:00, 10.83it/s]\n"
     ]
    },
    {
     "name": "stdout",
     "output_type": "stream",
     "text": [
      "Epoch [383], Train Loss : [1.08630] Val Loss : [1.14334] Val F1 : [0.54940]\n"
     ]
    },
    {
     "name": "stderr",
     "output_type": "stream",
     "text": [
      "100%|██████████████████████████████████████████| 141/141 [00:37<00:00,  3.75it/s]\n",
      "100%|████████████████████████████████████████████| 16/16 [00:01<00:00, 10.66it/s]\n"
     ]
    },
    {
     "name": "stdout",
     "output_type": "stream",
     "text": [
      "Epoch [384], Train Loss : [1.09217] Val Loss : [1.14322] Val F1 : [0.55733]\n"
     ]
    },
    {
     "name": "stderr",
     "output_type": "stream",
     "text": [
      "100%|██████████████████████████████████████████| 141/141 [00:37<00:00,  3.75it/s]\n",
      "100%|████████████████████████████████████████████| 16/16 [00:01<00:00, 10.60it/s]\n"
     ]
    },
    {
     "name": "stdout",
     "output_type": "stream",
     "text": [
      "Epoch [385], Train Loss : [1.09191] Val Loss : [1.14175] Val F1 : [0.55284]\n"
     ]
    },
    {
     "name": "stderr",
     "output_type": "stream",
     "text": [
      "100%|██████████████████████████████████████████| 141/141 [00:37<00:00,  3.74it/s]\n",
      "100%|████████████████████████████████████████████| 16/16 [00:01<00:00, 10.85it/s]\n"
     ]
    },
    {
     "name": "stdout",
     "output_type": "stream",
     "text": [
      "Epoch [386], Train Loss : [1.08849] Val Loss : [1.14385] Val F1 : [0.55856]\n"
     ]
    },
    {
     "name": "stderr",
     "output_type": "stream",
     "text": [
      "100%|██████████████████████████████████████████| 141/141 [00:37<00:00,  3.74it/s]\n",
      "100%|████████████████████████████████████████████| 16/16 [00:01<00:00, 10.61it/s]\n"
     ]
    },
    {
     "name": "stdout",
     "output_type": "stream",
     "text": [
      "Epoch [387], Train Loss : [1.09519] Val Loss : [1.14449] Val F1 : [0.55282]\n"
     ]
    },
    {
     "name": "stderr",
     "output_type": "stream",
     "text": [
      "100%|██████████████████████████████████████████| 141/141 [00:37<00:00,  3.75it/s]\n",
      "100%|████████████████████████████████████████████| 16/16 [00:01<00:00, 10.80it/s]\n"
     ]
    },
    {
     "name": "stdout",
     "output_type": "stream",
     "text": [
      "Epoch [388], Train Loss : [1.08857] Val Loss : [1.14441] Val F1 : [0.55746]\n"
     ]
    },
    {
     "name": "stderr",
     "output_type": "stream",
     "text": [
      "100%|██████████████████████████████████████████| 141/141 [00:37<00:00,  3.75it/s]\n",
      "100%|████████████████████████████████████████████| 16/16 [00:01<00:00, 10.82it/s]\n"
     ]
    },
    {
     "name": "stdout",
     "output_type": "stream",
     "text": [
      "Epoch [389], Train Loss : [1.09276] Val Loss : [1.14335] Val F1 : [0.55508]\n"
     ]
    },
    {
     "name": "stderr",
     "output_type": "stream",
     "text": [
      "100%|██████████████████████████████████████████| 141/141 [00:37<00:00,  3.74it/s]\n",
      "100%|████████████████████████████████████████████| 16/16 [00:01<00:00, 10.87it/s]\n"
     ]
    },
    {
     "name": "stdout",
     "output_type": "stream",
     "text": [
      "Epoch [390], Train Loss : [1.09470] Val Loss : [1.14165] Val F1 : [0.55654]\n"
     ]
    },
    {
     "name": "stderr",
     "output_type": "stream",
     "text": [
      "100%|██████████████████████████████████████████| 141/141 [00:37<00:00,  3.75it/s]\n",
      "100%|████████████████████████████████████████████| 16/16 [00:01<00:00, 10.58it/s]\n"
     ]
    },
    {
     "name": "stdout",
     "output_type": "stream",
     "text": [
      "Epoch [391], Train Loss : [1.08717] Val Loss : [1.14277] Val F1 : [0.55788]\n"
     ]
    },
    {
     "name": "stderr",
     "output_type": "stream",
     "text": [
      "100%|██████████████████████████████████████████| 141/141 [00:37<00:00,  3.74it/s]\n",
      "100%|████████████████████████████████████████████| 16/16 [00:01<00:00, 10.81it/s]\n"
     ]
    },
    {
     "name": "stdout",
     "output_type": "stream",
     "text": [
      "Epoch [392], Train Loss : [1.09123] Val Loss : [1.14379] Val F1 : [0.56666]\n"
     ]
    },
    {
     "name": "stderr",
     "output_type": "stream",
     "text": [
      "100%|██████████████████████████████████████████| 141/141 [00:37<00:00,  3.75it/s]\n",
      "100%|████████████████████████████████████████████| 16/16 [00:01<00:00, 10.82it/s]\n"
     ]
    },
    {
     "name": "stdout",
     "output_type": "stream",
     "text": [
      "Epoch [393], Train Loss : [1.09407] Val Loss : [1.14393] Val F1 : [0.55338]\n"
     ]
    },
    {
     "name": "stderr",
     "output_type": "stream",
     "text": [
      "100%|██████████████████████████████████████████| 141/141 [00:37<00:00,  3.75it/s]\n",
      "100%|████████████████████████████████████████████| 16/16 [00:01<00:00, 10.91it/s]\n"
     ]
    },
    {
     "name": "stdout",
     "output_type": "stream",
     "text": [
      "Epoch [394], Train Loss : [1.09338] Val Loss : [1.14220] Val F1 : [0.55911]\n"
     ]
    },
    {
     "name": "stderr",
     "output_type": "stream",
     "text": [
      "100%|██████████████████████████████████████████| 141/141 [00:37<00:00,  3.75it/s]\n",
      "100%|████████████████████████████████████████████| 16/16 [00:01<00:00, 10.76it/s]\n"
     ]
    },
    {
     "name": "stdout",
     "output_type": "stream",
     "text": [
      "Epoch [395], Train Loss : [1.09087] Val Loss : [1.14439] Val F1 : [0.55539]\n"
     ]
    },
    {
     "name": "stderr",
     "output_type": "stream",
     "text": [
      "100%|██████████████████████████████████████████| 141/141 [00:37<00:00,  3.75it/s]\n",
      "100%|████████████████████████████████████████████| 16/16 [00:01<00:00, 10.60it/s]\n"
     ]
    },
    {
     "name": "stdout",
     "output_type": "stream",
     "text": [
      "Epoch [396], Train Loss : [1.09217] Val Loss : [1.14254] Val F1 : [0.56098]\n"
     ]
    },
    {
     "name": "stderr",
     "output_type": "stream",
     "text": [
      "100%|██████████████████████████████████████████| 141/141 [00:37<00:00,  3.74it/s]\n",
      "100%|████████████████████████████████████████████| 16/16 [00:01<00:00, 10.62it/s]\n"
     ]
    },
    {
     "name": "stdout",
     "output_type": "stream",
     "text": [
      "Epoch [397], Train Loss : [1.08852] Val Loss : [1.14122] Val F1 : [0.55899]\n"
     ]
    },
    {
     "name": "stderr",
     "output_type": "stream",
     "text": [
      "100%|██████████████████████████████████████████| 141/141 [00:37<00:00,  3.75it/s]\n",
      "100%|████████████████████████████████████████████| 16/16 [00:01<00:00, 10.72it/s]\n"
     ]
    },
    {
     "name": "stdout",
     "output_type": "stream",
     "text": [
      "Epoch [398], Train Loss : [1.08718] Val Loss : [1.14512] Val F1 : [0.55228]\n"
     ]
    },
    {
     "name": "stderr",
     "output_type": "stream",
     "text": [
      "100%|██████████████████████████████████████████| 141/141 [00:37<00:00,  3.74it/s]\n",
      "100%|████████████████████████████████████████████| 16/16 [00:01<00:00, 10.90it/s]\n"
     ]
    },
    {
     "name": "stdout",
     "output_type": "stream",
     "text": [
      "Epoch [399], Train Loss : [1.09177] Val Loss : [1.14327] Val F1 : [0.55159]\n"
     ]
    },
    {
     "name": "stderr",
     "output_type": "stream",
     "text": [
      "100%|██████████████████████████████████████████| 141/141 [00:37<00:00,  3.75it/s]\n",
      "100%|████████████████████████████████████████████| 16/16 [00:01<00:00, 10.72it/s]\n"
     ]
    },
    {
     "name": "stdout",
     "output_type": "stream",
     "text": [
      "Epoch [400], Train Loss : [1.09382] Val Loss : [1.14234] Val F1 : [0.55636]\n"
     ]
    },
    {
     "name": "stderr",
     "output_type": "stream",
     "text": [
      "100%|██████████████████████████████████████████| 141/141 [00:37<00:00,  3.75it/s]\n",
      "100%|████████████████████████████████████████████| 16/16 [00:01<00:00, 10.82it/s]\n"
     ]
    },
    {
     "name": "stdout",
     "output_type": "stream",
     "text": [
      "Epoch [401], Train Loss : [1.09410] Val Loss : [1.14288] Val F1 : [0.56471]\n"
     ]
    },
    {
     "name": "stderr",
     "output_type": "stream",
     "text": [
      "100%|██████████████████████████████████████████| 141/141 [00:37<00:00,  3.75it/s]\n",
      "100%|████████████████████████████████████████████| 16/16 [00:01<00:00, 10.87it/s]\n"
     ]
    },
    {
     "name": "stdout",
     "output_type": "stream",
     "text": [
      "Epoch [402], Train Loss : [1.09212] Val Loss : [1.14088] Val F1 : [0.55853]\n"
     ]
    },
    {
     "name": "stderr",
     "output_type": "stream",
     "text": [
      "100%|██████████████████████████████████████████| 141/141 [00:37<00:00,  3.75it/s]\n",
      "100%|████████████████████████████████████████████| 16/16 [00:01<00:00, 10.91it/s]\n"
     ]
    },
    {
     "name": "stdout",
     "output_type": "stream",
     "text": [
      "Epoch [403], Train Loss : [1.09025] Val Loss : [1.14283] Val F1 : [0.56460]\n"
     ]
    },
    {
     "name": "stderr",
     "output_type": "stream",
     "text": [
      "100%|██████████████████████████████████████████| 141/141 [00:37<00:00,  3.75it/s]\n",
      "100%|████████████████████████████████████████████| 16/16 [00:01<00:00, 10.25it/s]\n"
     ]
    },
    {
     "name": "stdout",
     "output_type": "stream",
     "text": [
      "Epoch [404], Train Loss : [1.09101] Val Loss : [1.14445] Val F1 : [0.55592]\n"
     ]
    },
    {
     "name": "stderr",
     "output_type": "stream",
     "text": [
      "100%|██████████████████████████████████████████| 141/141 [00:37<00:00,  3.73it/s]\n",
      "100%|████████████████████████████████████████████| 16/16 [00:01<00:00, 10.79it/s]\n"
     ]
    },
    {
     "name": "stdout",
     "output_type": "stream",
     "text": [
      "Epoch [405], Train Loss : [1.09750] Val Loss : [1.14501] Val F1 : [0.54620]\n"
     ]
    },
    {
     "name": "stderr",
     "output_type": "stream",
     "text": [
      "100%|██████████████████████████████████████████| 141/141 [00:37<00:00,  3.75it/s]\n",
      "100%|████████████████████████████████████████████| 16/16 [00:01<00:00, 10.90it/s]\n"
     ]
    },
    {
     "name": "stdout",
     "output_type": "stream",
     "text": [
      "Epoch [406], Train Loss : [1.08694] Val Loss : [1.14230] Val F1 : [0.55846]\n"
     ]
    },
    {
     "name": "stderr",
     "output_type": "stream",
     "text": [
      "100%|██████████████████████████████████████████| 141/141 [00:37<00:00,  3.75it/s]\n",
      "100%|████████████████████████████████████████████| 16/16 [00:01<00:00, 10.94it/s]\n"
     ]
    },
    {
     "name": "stdout",
     "output_type": "stream",
     "text": [
      "Epoch [407], Train Loss : [1.09016] Val Loss : [1.14314] Val F1 : [0.55155]\n"
     ]
    },
    {
     "name": "stderr",
     "output_type": "stream",
     "text": [
      "100%|██████████████████████████████████████████| 141/141 [00:37<00:00,  3.75it/s]\n",
      "100%|████████████████████████████████████████████| 16/16 [00:01<00:00, 10.91it/s]\n"
     ]
    },
    {
     "name": "stdout",
     "output_type": "stream",
     "text": [
      "Epoch [408], Train Loss : [1.08863] Val Loss : [1.14824] Val F1 : [0.54286]\n"
     ]
    },
    {
     "name": "stderr",
     "output_type": "stream",
     "text": [
      "100%|██████████████████████████████████████████| 141/141 [00:37<00:00,  3.76it/s]\n",
      "100%|████████████████████████████████████████████| 16/16 [00:01<00:00, 10.84it/s]\n"
     ]
    },
    {
     "name": "stdout",
     "output_type": "stream",
     "text": [
      "Epoch [409], Train Loss : [1.09567] Val Loss : [1.14260] Val F1 : [0.55531]\n"
     ]
    },
    {
     "name": "stderr",
     "output_type": "stream",
     "text": [
      "100%|██████████████████████████████████████████| 141/141 [00:37<00:00,  3.75it/s]\n",
      "100%|████████████████████████████████████████████| 16/16 [00:01<00:00, 10.83it/s]\n"
     ]
    },
    {
     "name": "stdout",
     "output_type": "stream",
     "text": [
      "Epoch [410], Train Loss : [1.09217] Val Loss : [1.14345] Val F1 : [0.55705]\n"
     ]
    },
    {
     "name": "stderr",
     "output_type": "stream",
     "text": [
      "100%|██████████████████████████████████████████| 141/141 [00:37<00:00,  3.75it/s]\n",
      "100%|████████████████████████████████████████████| 16/16 [00:01<00:00, 10.77it/s]\n"
     ]
    },
    {
     "name": "stdout",
     "output_type": "stream",
     "text": [
      "Epoch [411], Train Loss : [1.08802] Val Loss : [1.14412] Val F1 : [0.55080]\n"
     ]
    },
    {
     "name": "stderr",
     "output_type": "stream",
     "text": [
      "100%|██████████████████████████████████████████| 141/141 [00:37<00:00,  3.75it/s]\n",
      "100%|████████████████████████████████████████████| 16/16 [00:01<00:00, 10.87it/s]\n"
     ]
    },
    {
     "name": "stdout",
     "output_type": "stream",
     "text": [
      "Epoch [412], Train Loss : [1.09263] Val Loss : [1.14221] Val F1 : [0.55859]\n"
     ]
    },
    {
     "name": "stderr",
     "output_type": "stream",
     "text": [
      "100%|██████████████████████████████████████████| 141/141 [00:37<00:00,  3.74it/s]\n",
      "100%|████████████████████████████████████████████| 16/16 [00:01<00:00, 10.59it/s]\n"
     ]
    },
    {
     "name": "stdout",
     "output_type": "stream",
     "text": [
      "Epoch [413], Train Loss : [1.09259] Val Loss : [1.14166] Val F1 : [0.55709]\n"
     ]
    },
    {
     "name": "stderr",
     "output_type": "stream",
     "text": [
      "100%|██████████████████████████████████████████| 141/141 [00:37<00:00,  3.73it/s]\n",
      "100%|████████████████████████████████████████████| 16/16 [00:01<00:00, 10.59it/s]\n"
     ]
    },
    {
     "name": "stdout",
     "output_type": "stream",
     "text": [
      "Epoch [414], Train Loss : [1.09058] Val Loss : [1.14487] Val F1 : [0.55831]\n"
     ]
    },
    {
     "name": "stderr",
     "output_type": "stream",
     "text": [
      "100%|██████████████████████████████████████████| 141/141 [00:37<00:00,  3.75it/s]\n",
      "100%|████████████████████████████████████████████| 16/16 [00:01<00:00, 10.89it/s]\n"
     ]
    },
    {
     "name": "stdout",
     "output_type": "stream",
     "text": [
      "Epoch [415], Train Loss : [1.08769] Val Loss : [1.14388] Val F1 : [0.55347]\n"
     ]
    },
    {
     "name": "stderr",
     "output_type": "stream",
     "text": [
      "100%|██████████████████████████████████████████| 141/141 [00:37<00:00,  3.75it/s]\n",
      "100%|████████████████████████████████████████████| 16/16 [00:01<00:00, 10.78it/s]\n"
     ]
    },
    {
     "name": "stdout",
     "output_type": "stream",
     "text": [
      "Epoch [416], Train Loss : [1.08817] Val Loss : [1.14089] Val F1 : [0.55680]\n"
     ]
    },
    {
     "name": "stderr",
     "output_type": "stream",
     "text": [
      "100%|██████████████████████████████████████████| 141/141 [00:37<00:00,  3.75it/s]\n",
      "100%|████████████████████████████████████████████| 16/16 [00:01<00:00, 10.76it/s]\n"
     ]
    },
    {
     "name": "stdout",
     "output_type": "stream",
     "text": [
      "Epoch [417], Train Loss : [1.09254] Val Loss : [1.14318] Val F1 : [0.55219]\n"
     ]
    },
    {
     "name": "stderr",
     "output_type": "stream",
     "text": [
      "100%|██████████████████████████████████████████| 141/141 [00:37<00:00,  3.75it/s]\n",
      "100%|████████████████████████████████████████████| 16/16 [00:01<00:00, 10.91it/s]\n"
     ]
    },
    {
     "name": "stdout",
     "output_type": "stream",
     "text": [
      "Epoch [418], Train Loss : [1.09293] Val Loss : [1.14465] Val F1 : [0.55746]\n"
     ]
    },
    {
     "name": "stderr",
     "output_type": "stream",
     "text": [
      "100%|██████████████████████████████████████████| 141/141 [00:37<00:00,  3.75it/s]\n",
      "100%|████████████████████████████████████████████| 16/16 [00:01<00:00, 10.75it/s]\n"
     ]
    },
    {
     "name": "stdout",
     "output_type": "stream",
     "text": [
      "Epoch [419], Train Loss : [1.08958] Val Loss : [1.14361] Val F1 : [0.55535]\n"
     ]
    },
    {
     "name": "stderr",
     "output_type": "stream",
     "text": [
      "100%|██████████████████████████████████████████| 141/141 [00:37<00:00,  3.75it/s]\n",
      "100%|████████████████████████████████████████████| 16/16 [00:01<00:00, 10.76it/s]\n"
     ]
    },
    {
     "name": "stdout",
     "output_type": "stream",
     "text": [
      "Epoch [420], Train Loss : [1.09576] Val Loss : [1.14277] Val F1 : [0.56101]\n"
     ]
    },
    {
     "name": "stderr",
     "output_type": "stream",
     "text": [
      "100%|██████████████████████████████████████████| 141/141 [00:37<00:00,  3.74it/s]\n",
      "100%|████████████████████████████████████████████| 16/16 [00:01<00:00, 10.88it/s]\n"
     ]
    },
    {
     "name": "stdout",
     "output_type": "stream",
     "text": [
      "Epoch [421], Train Loss : [1.08878] Val Loss : [1.14329] Val F1 : [0.55391]\n"
     ]
    },
    {
     "name": "stderr",
     "output_type": "stream",
     "text": [
      "100%|██████████████████████████████████████████| 141/141 [00:37<00:00,  3.75it/s]\n",
      "100%|████████████████████████████████████████████| 16/16 [00:01<00:00, 10.79it/s]\n"
     ]
    },
    {
     "name": "stdout",
     "output_type": "stream",
     "text": [
      "Epoch [422], Train Loss : [1.09276] Val Loss : [1.14223] Val F1 : [0.56073]\n"
     ]
    },
    {
     "name": "stderr",
     "output_type": "stream",
     "text": [
      "100%|██████████████████████████████████████████| 141/141 [00:37<00:00,  3.75it/s]\n",
      "100%|████████████████████████████████████████████| 16/16 [00:01<00:00, 10.90it/s]\n"
     ]
    },
    {
     "name": "stdout",
     "output_type": "stream",
     "text": [
      "Epoch [423], Train Loss : [1.08964] Val Loss : [1.14258] Val F1 : [0.56159]\n"
     ]
    },
    {
     "name": "stderr",
     "output_type": "stream",
     "text": [
      "100%|██████████████████████████████████████████| 141/141 [00:37<00:00,  3.74it/s]\n",
      "100%|████████████████████████████████████████████| 16/16 [00:01<00:00, 10.24it/s]\n"
     ]
    },
    {
     "name": "stdout",
     "output_type": "stream",
     "text": [
      "Epoch [424], Train Loss : [1.09162] Val Loss : [1.14214] Val F1 : [0.56124]\n"
     ]
    },
    {
     "name": "stderr",
     "output_type": "stream",
     "text": [
      "100%|██████████████████████████████████████████| 141/141 [00:37<00:00,  3.73it/s]\n",
      "100%|████████████████████████████████████████████| 16/16 [00:01<00:00, 10.80it/s]\n"
     ]
    },
    {
     "name": "stdout",
     "output_type": "stream",
     "text": [
      "Epoch [425], Train Loss : [1.08807] Val Loss : [1.14234] Val F1 : [0.55408]\n"
     ]
    },
    {
     "name": "stderr",
     "output_type": "stream",
     "text": [
      "100%|██████████████████████████████████████████| 141/141 [00:37<00:00,  3.73it/s]\n",
      "100%|████████████████████████████████████████████| 16/16 [00:01<00:00, 10.59it/s]\n"
     ]
    },
    {
     "name": "stdout",
     "output_type": "stream",
     "text": [
      "Epoch [426], Train Loss : [1.09287] Val Loss : [1.14198] Val F1 : [0.56485]\n"
     ]
    },
    {
     "name": "stderr",
     "output_type": "stream",
     "text": [
      "100%|██████████████████████████████████████████| 141/141 [00:37<00:00,  3.75it/s]\n",
      "100%|████████████████████████████████████████████| 16/16 [00:01<00:00, 10.82it/s]\n"
     ]
    },
    {
     "name": "stdout",
     "output_type": "stream",
     "text": [
      "Epoch [427], Train Loss : [1.08652] Val Loss : [1.14343] Val F1 : [0.55847]\n"
     ]
    },
    {
     "name": "stderr",
     "output_type": "stream",
     "text": [
      "100%|██████████████████████████████████████████| 141/141 [00:37<00:00,  3.74it/s]\n",
      "100%|████████████████████████████████████████████| 16/16 [00:01<00:00, 10.54it/s]\n"
     ]
    },
    {
     "name": "stdout",
     "output_type": "stream",
     "text": [
      "Epoch [428], Train Loss : [1.08471] Val Loss : [1.14677] Val F1 : [0.54445]\n"
     ]
    },
    {
     "name": "stderr",
     "output_type": "stream",
     "text": [
      "100%|██████████████████████████████████████████| 141/141 [00:37<00:00,  3.74it/s]\n",
      "100%|████████████████████████████████████████████| 16/16 [00:01<00:00, 10.56it/s]\n"
     ]
    },
    {
     "name": "stdout",
     "output_type": "stream",
     "text": [
      "Epoch [429], Train Loss : [1.09441] Val Loss : [1.14227] Val F1 : [0.56102]\n"
     ]
    },
    {
     "name": "stderr",
     "output_type": "stream",
     "text": [
      "100%|██████████████████████████████████████████| 141/141 [00:37<00:00,  3.74it/s]\n",
      "100%|████████████████████████████████████████████| 16/16 [00:01<00:00, 10.82it/s]\n"
     ]
    },
    {
     "name": "stdout",
     "output_type": "stream",
     "text": [
      "Epoch [430], Train Loss : [1.09106] Val Loss : [1.14403] Val F1 : [0.55710]\n"
     ]
    },
    {
     "name": "stderr",
     "output_type": "stream",
     "text": [
      "100%|██████████████████████████████████████████| 141/141 [00:37<00:00,  3.74it/s]\n",
      "100%|████████████████████████████████████████████| 16/16 [00:01<00:00, 10.79it/s]\n"
     ]
    },
    {
     "name": "stdout",
     "output_type": "stream",
     "text": [
      "Epoch [431], Train Loss : [1.09062] Val Loss : [1.14240] Val F1 : [0.55703]\n"
     ]
    },
    {
     "name": "stderr",
     "output_type": "stream",
     "text": [
      "100%|██████████████████████████████████████████| 141/141 [00:37<00:00,  3.75it/s]\n",
      "100%|████████████████████████████████████████████| 16/16 [00:01<00:00, 10.80it/s]\n"
     ]
    },
    {
     "name": "stdout",
     "output_type": "stream",
     "text": [
      "Epoch [432], Train Loss : [1.08680] Val Loss : [1.14230] Val F1 : [0.56293]\n"
     ]
    },
    {
     "name": "stderr",
     "output_type": "stream",
     "text": [
      "100%|██████████████████████████████████████████| 141/141 [00:37<00:00,  3.75it/s]\n",
      "100%|████████████████████████████████████████████| 16/16 [00:01<00:00, 10.89it/s]\n"
     ]
    },
    {
     "name": "stdout",
     "output_type": "stream",
     "text": [
      "Epoch [433], Train Loss : [1.08885] Val Loss : [1.14307] Val F1 : [0.55703]\n"
     ]
    },
    {
     "name": "stderr",
     "output_type": "stream",
     "text": [
      "100%|██████████████████████████████████████████| 141/141 [00:37<00:00,  3.74it/s]\n",
      "100%|████████████████████████████████████████████| 16/16 [00:01<00:00, 10.87it/s]\n"
     ]
    },
    {
     "name": "stdout",
     "output_type": "stream",
     "text": [
      "Epoch [434], Train Loss : [1.09515] Val Loss : [1.14410] Val F1 : [0.55458]\n"
     ]
    },
    {
     "name": "stderr",
     "output_type": "stream",
     "text": [
      "100%|██████████████████████████████████████████| 141/141 [00:37<00:00,  3.75it/s]\n",
      "100%|████████████████████████████████████████████| 16/16 [00:01<00:00, 10.83it/s]\n"
     ]
    },
    {
     "name": "stdout",
     "output_type": "stream",
     "text": [
      "Epoch [435], Train Loss : [1.09444] Val Loss : [1.14350] Val F1 : [0.55282]\n"
     ]
    },
    {
     "name": "stderr",
     "output_type": "stream",
     "text": [
      "100%|██████████████████████████████████████████| 141/141 [00:37<00:00,  3.74it/s]\n",
      "100%|████████████████████████████████████████████| 16/16 [00:01<00:00, 10.87it/s]\n"
     ]
    },
    {
     "name": "stdout",
     "output_type": "stream",
     "text": [
      "Epoch [436], Train Loss : [1.09186] Val Loss : [1.14261] Val F1 : [0.56637]\n"
     ]
    },
    {
     "name": "stderr",
     "output_type": "stream",
     "text": [
      "100%|██████████████████████████████████████████| 141/141 [00:37<00:00,  3.75it/s]\n",
      "100%|████████████████████████████████████████████| 16/16 [00:01<00:00, 10.85it/s]\n"
     ]
    },
    {
     "name": "stdout",
     "output_type": "stream",
     "text": [
      "Epoch [437], Train Loss : [1.08905] Val Loss : [1.14147] Val F1 : [0.56210]\n"
     ]
    },
    {
     "name": "stderr",
     "output_type": "stream",
     "text": [
      "100%|██████████████████████████████████████████| 141/141 [00:37<00:00,  3.75it/s]\n",
      "100%|████████████████████████████████████████████| 16/16 [00:01<00:00, 10.74it/s]\n"
     ]
    },
    {
     "name": "stdout",
     "output_type": "stream",
     "text": [
      "Epoch [438], Train Loss : [1.08681] Val Loss : [1.14272] Val F1 : [0.56073]\n"
     ]
    },
    {
     "name": "stderr",
     "output_type": "stream",
     "text": [
      "100%|██████████████████████████████████████████| 141/141 [00:37<00:00,  3.75it/s]\n",
      "100%|████████████████████████████████████████████| 16/16 [00:01<00:00, 10.87it/s]\n"
     ]
    },
    {
     "name": "stdout",
     "output_type": "stream",
     "text": [
      "Epoch [439], Train Loss : [1.09153] Val Loss : [1.14288] Val F1 : [0.55557]\n"
     ]
    },
    {
     "name": "stderr",
     "output_type": "stream",
     "text": [
      "100%|██████████████████████████████████████████| 141/141 [00:37<00:00,  3.73it/s]\n",
      "100%|████████████████████████████████████████████| 16/16 [00:01<00:00, 10.67it/s]\n"
     ]
    },
    {
     "name": "stdout",
     "output_type": "stream",
     "text": [
      "Epoch [440], Train Loss : [1.08808] Val Loss : [1.14360] Val F1 : [0.55917]\n"
     ]
    },
    {
     "name": "stderr",
     "output_type": "stream",
     "text": [
      "100%|██████████████████████████████████████████| 141/141 [00:37<00:00,  3.74it/s]\n",
      "100%|████████████████████████████████████████████| 16/16 [00:01<00:00, 10.83it/s]\n"
     ]
    },
    {
     "name": "stdout",
     "output_type": "stream",
     "text": [
      "Epoch [441], Train Loss : [1.09385] Val Loss : [1.14433] Val F1 : [0.54570]\n"
     ]
    },
    {
     "name": "stderr",
     "output_type": "stream",
     "text": [
      "100%|██████████████████████████████████████████| 141/141 [00:37<00:00,  3.74it/s]\n",
      "100%|████████████████████████████████████████████| 16/16 [00:01<00:00, 10.41it/s]\n"
     ]
    },
    {
     "name": "stdout",
     "output_type": "stream",
     "text": [
      "Epoch [442], Train Loss : [1.08757] Val Loss : [1.14192] Val F1 : [0.55899]\n"
     ]
    },
    {
     "name": "stderr",
     "output_type": "stream",
     "text": [
      "100%|██████████████████████████████████████████| 141/141 [00:37<00:00,  3.75it/s]\n",
      "100%|████████████████████████████████████████████| 16/16 [00:01<00:00, 10.87it/s]\n"
     ]
    },
    {
     "name": "stdout",
     "output_type": "stream",
     "text": [
      "Epoch [443], Train Loss : [1.09184] Val Loss : [1.14403] Val F1 : [0.55199]\n"
     ]
    },
    {
     "name": "stderr",
     "output_type": "stream",
     "text": [
      "100%|██████████████████████████████████████████| 141/141 [00:37<00:00,  3.75it/s]\n",
      "100%|████████████████████████████████████████████| 16/16 [00:01<00:00, 10.87it/s]\n"
     ]
    },
    {
     "name": "stdout",
     "output_type": "stream",
     "text": [
      "Epoch [444], Train Loss : [1.09217] Val Loss : [1.14249] Val F1 : [0.56107]\n"
     ]
    },
    {
     "name": "stderr",
     "output_type": "stream",
     "text": [
      "100%|██████████████████████████████████████████| 141/141 [00:37<00:00,  3.74it/s]\n",
      "100%|████████████████████████████████████████████| 16/16 [00:01<00:00, 10.77it/s]\n"
     ]
    },
    {
     "name": "stdout",
     "output_type": "stream",
     "text": [
      "Epoch [445], Train Loss : [1.08885] Val Loss : [1.14272] Val F1 : [0.55423]\n"
     ]
    },
    {
     "name": "stderr",
     "output_type": "stream",
     "text": [
      "100%|██████████████████████████████████████████| 141/141 [00:37<00:00,  3.75it/s]\n",
      "100%|████████████████████████████████████████████| 16/16 [00:01<00:00, 10.64it/s]\n"
     ]
    },
    {
     "name": "stdout",
     "output_type": "stream",
     "text": [
      "Epoch [446], Train Loss : [1.09407] Val Loss : [1.14374] Val F1 : [0.54539]\n"
     ]
    },
    {
     "name": "stderr",
     "output_type": "stream",
     "text": [
      "100%|██████████████████████████████████████████| 141/141 [00:37<00:00,  3.74it/s]\n",
      "100%|████████████████████████████████████████████| 16/16 [00:01<00:00, 10.79it/s]\n"
     ]
    },
    {
     "name": "stdout",
     "output_type": "stream",
     "text": [
      "Epoch [447], Train Loss : [1.08601] Val Loss : [1.14421] Val F1 : [0.56056]\n"
     ]
    },
    {
     "name": "stderr",
     "output_type": "stream",
     "text": [
      "100%|██████████████████████████████████████████| 141/141 [00:37<00:00,  3.75it/s]\n",
      "100%|████████████████████████████████████████████| 16/16 [00:01<00:00, 10.85it/s]\n"
     ]
    },
    {
     "name": "stdout",
     "output_type": "stream",
     "text": [
      "Epoch [448], Train Loss : [1.09173] Val Loss : [1.14252] Val F1 : [0.55833]\n"
     ]
    },
    {
     "name": "stderr",
     "output_type": "stream",
     "text": [
      "100%|██████████████████████████████████████████| 141/141 [00:37<00:00,  3.75it/s]\n",
      "100%|████████████████████████████████████████████| 16/16 [00:01<00:00, 10.64it/s]\n"
     ]
    },
    {
     "name": "stdout",
     "output_type": "stream",
     "text": [
      "Epoch [449], Train Loss : [1.09500] Val Loss : [1.14176] Val F1 : [0.56630]\n"
     ]
    },
    {
     "name": "stderr",
     "output_type": "stream",
     "text": [
      "100%|██████████████████████████████████████████| 141/141 [00:37<00:00,  3.74it/s]\n",
      "100%|████████████████████████████████████████████| 16/16 [00:01<00:00, 10.84it/s]\n"
     ]
    },
    {
     "name": "stdout",
     "output_type": "stream",
     "text": [
      "Epoch [450], Train Loss : [1.09178] Val Loss : [1.14371] Val F1 : [0.55343]\n"
     ]
    },
    {
     "name": "stderr",
     "output_type": "stream",
     "text": [
      "100%|██████████████████████████████████████████| 141/141 [00:37<00:00,  3.75it/s]\n",
      "100%|████████████████████████████████████████████| 16/16 [00:01<00:00, 10.86it/s]\n"
     ]
    },
    {
     "name": "stdout",
     "output_type": "stream",
     "text": [
      "Epoch [451], Train Loss : [1.08996] Val Loss : [1.14167] Val F1 : [0.55305]\n"
     ]
    },
    {
     "name": "stderr",
     "output_type": "stream",
     "text": [
      "100%|██████████████████████████████████████████| 141/141 [00:37<00:00,  3.76it/s]\n",
      "100%|████████████████████████████████████████████| 16/16 [00:01<00:00, 10.89it/s]\n"
     ]
    },
    {
     "name": "stdout",
     "output_type": "stream",
     "text": [
      "Epoch [452], Train Loss : [1.09411] Val Loss : [1.14175] Val F1 : [0.56007]\n"
     ]
    },
    {
     "name": "stderr",
     "output_type": "stream",
     "text": [
      "100%|██████████████████████████████████████████| 141/141 [00:37<00:00,  3.75it/s]\n",
      "100%|████████████████████████████████████████████| 16/16 [00:01<00:00, 10.93it/s]\n"
     ]
    },
    {
     "name": "stdout",
     "output_type": "stream",
     "text": [
      "Epoch [453], Train Loss : [1.09157] Val Loss : [1.14293] Val F1 : [0.55727]\n"
     ]
    },
    {
     "name": "stderr",
     "output_type": "stream",
     "text": [
      "100%|██████████████████████████████████████████| 141/141 [00:37<00:00,  3.74it/s]\n",
      "100%|████████████████████████████████████████████| 16/16 [00:01<00:00, 10.80it/s]\n"
     ]
    },
    {
     "name": "stdout",
     "output_type": "stream",
     "text": [
      "Epoch [454], Train Loss : [1.09213] Val Loss : [1.14403] Val F1 : [0.55916]\n"
     ]
    },
    {
     "name": "stderr",
     "output_type": "stream",
     "text": [
      "100%|██████████████████████████████████████████| 141/141 [00:37<00:00,  3.74it/s]\n",
      "100%|████████████████████████████████████████████| 16/16 [00:01<00:00, 10.65it/s]\n"
     ]
    },
    {
     "name": "stdout",
     "output_type": "stream",
     "text": [
      "Epoch [455], Train Loss : [1.09555] Val Loss : [1.14296] Val F1 : [0.56246]\n"
     ]
    },
    {
     "name": "stderr",
     "output_type": "stream",
     "text": [
      "100%|██████████████████████████████████████████| 141/141 [00:37<00:00,  3.74it/s]\n",
      "100%|████████████████████████████████████████████| 16/16 [00:01<00:00, 10.90it/s]\n"
     ]
    },
    {
     "name": "stdout",
     "output_type": "stream",
     "text": [
      "Epoch [456], Train Loss : [1.08928] Val Loss : [1.14558] Val F1 : [0.55700]\n"
     ]
    },
    {
     "name": "stderr",
     "output_type": "stream",
     "text": [
      "100%|██████████████████████████████████████████| 141/141 [00:37<00:00,  3.75it/s]\n",
      "100%|████████████████████████████████████████████| 16/16 [00:01<00:00, 10.79it/s]\n"
     ]
    },
    {
     "name": "stdout",
     "output_type": "stream",
     "text": [
      "Epoch [457], Train Loss : [1.08866] Val Loss : [1.14273] Val F1 : [0.55859]\n"
     ]
    },
    {
     "name": "stderr",
     "output_type": "stream",
     "text": [
      "100%|██████████████████████████████████████████| 141/141 [00:37<00:00,  3.75it/s]\n",
      "100%|████████████████████████████████████████████| 16/16 [00:01<00:00, 10.58it/s]\n"
     ]
    },
    {
     "name": "stdout",
     "output_type": "stream",
     "text": [
      "Epoch [458], Train Loss : [1.09529] Val Loss : [1.14136] Val F1 : [0.55684]\n"
     ]
    },
    {
     "name": "stderr",
     "output_type": "stream",
     "text": [
      "100%|██████████████████████████████████████████| 141/141 [00:37<00:00,  3.75it/s]\n",
      "100%|████████████████████████████████████████████| 16/16 [00:01<00:00, 10.90it/s]\n"
     ]
    },
    {
     "name": "stdout",
     "output_type": "stream",
     "text": [
      "Epoch [459], Train Loss : [1.09306] Val Loss : [1.14154] Val F1 : [0.55828]\n"
     ]
    },
    {
     "name": "stderr",
     "output_type": "stream",
     "text": [
      "100%|██████████████████████████████████████████| 141/141 [00:37<00:00,  3.75it/s]\n",
      "100%|████████████████████████████████████████████| 16/16 [00:01<00:00, 10.78it/s]\n"
     ]
    },
    {
     "name": "stdout",
     "output_type": "stream",
     "text": [
      "Epoch [460], Train Loss : [1.08473] Val Loss : [1.14297] Val F1 : [0.55839]\n"
     ]
    },
    {
     "name": "stderr",
     "output_type": "stream",
     "text": [
      "100%|██████████████████████████████████████████| 141/141 [00:37<00:00,  3.75it/s]\n",
      "100%|████████████████████████████████████████████| 16/16 [00:01<00:00, 10.57it/s]\n"
     ]
    },
    {
     "name": "stdout",
     "output_type": "stream",
     "text": [
      "Epoch [461], Train Loss : [1.08941] Val Loss : [1.14335] Val F1 : [0.54542]\n"
     ]
    },
    {
     "name": "stderr",
     "output_type": "stream",
     "text": [
      "100%|██████████████████████████████████████████| 141/141 [00:37<00:00,  3.73it/s]\n",
      "100%|████████████████████████████████████████████| 16/16 [00:01<00:00, 10.57it/s]\n"
     ]
    },
    {
     "name": "stdout",
     "output_type": "stream",
     "text": [
      "Epoch [462], Train Loss : [1.08995] Val Loss : [1.14216] Val F1 : [0.56210]\n"
     ]
    },
    {
     "name": "stderr",
     "output_type": "stream",
     "text": [
      "100%|██████████████████████████████████████████| 141/141 [00:37<00:00,  3.72it/s]\n",
      "100%|████████████████████████████████████████████| 16/16 [00:01<00:00, 10.64it/s]\n"
     ]
    },
    {
     "name": "stdout",
     "output_type": "stream",
     "text": [
      "Epoch [463], Train Loss : [1.09006] Val Loss : [1.14375] Val F1 : [0.55289]\n"
     ]
    },
    {
     "name": "stderr",
     "output_type": "stream",
     "text": [
      "100%|██████████████████████████████████████████| 141/141 [00:37<00:00,  3.75it/s]\n",
      "100%|████████████████████████████████████████████| 16/16 [00:01<00:00, 10.85it/s]\n"
     ]
    },
    {
     "name": "stdout",
     "output_type": "stream",
     "text": [
      "Epoch [464], Train Loss : [1.09156] Val Loss : [1.14363] Val F1 : [0.55755]\n"
     ]
    },
    {
     "name": "stderr",
     "output_type": "stream",
     "text": [
      "100%|██████████████████████████████████████████| 141/141 [00:37<00:00,  3.75it/s]\n",
      "100%|████████████████████████████████████████████| 16/16 [00:01<00:00, 10.95it/s]\n"
     ]
    },
    {
     "name": "stdout",
     "output_type": "stream",
     "text": [
      "Epoch [465], Train Loss : [1.09197] Val Loss : [1.14543] Val F1 : [0.55887]\n"
     ]
    },
    {
     "name": "stderr",
     "output_type": "stream",
     "text": [
      "100%|██████████████████████████████████████████| 141/141 [00:37<00:00,  3.75it/s]\n",
      "100%|████████████████████████████████████████████| 16/16 [00:01<00:00, 10.85it/s]\n"
     ]
    },
    {
     "name": "stdout",
     "output_type": "stream",
     "text": [
      "Epoch [466], Train Loss : [1.09121] Val Loss : [1.14252] Val F1 : [0.55775]\n"
     ]
    },
    {
     "name": "stderr",
     "output_type": "stream",
     "text": [
      "100%|██████████████████████████████████████████| 141/141 [00:37<00:00,  3.76it/s]\n",
      "100%|████████████████████████████████████████████| 16/16 [00:01<00:00, 10.86it/s]\n"
     ]
    },
    {
     "name": "stdout",
     "output_type": "stream",
     "text": [
      "Epoch [467], Train Loss : [1.09032] Val Loss : [1.14358] Val F1 : [0.55455]\n"
     ]
    },
    {
     "name": "stderr",
     "output_type": "stream",
     "text": [
      "100%|██████████████████████████████████████████| 141/141 [00:37<00:00,  3.74it/s]\n",
      "100%|████████████████████████████████████████████| 16/16 [00:01<00:00, 10.62it/s]\n"
     ]
    },
    {
     "name": "stdout",
     "output_type": "stream",
     "text": [
      "Epoch [468], Train Loss : [1.08949] Val Loss : [1.14341] Val F1 : [0.55800]\n"
     ]
    },
    {
     "name": "stderr",
     "output_type": "stream",
     "text": [
      "100%|██████████████████████████████████████████| 141/141 [00:37<00:00,  3.75it/s]\n",
      "100%|████████████████████████████████████████████| 16/16 [00:01<00:00, 10.93it/s]\n"
     ]
    },
    {
     "name": "stdout",
     "output_type": "stream",
     "text": [
      "Epoch [469], Train Loss : [1.08627] Val Loss : [1.14170] Val F1 : [0.56313]\n"
     ]
    },
    {
     "name": "stderr",
     "output_type": "stream",
     "text": [
      "100%|██████████████████████████████████████████| 141/141 [00:37<00:00,  3.75it/s]\n",
      "100%|████████████████████████████████████████████| 16/16 [00:01<00:00, 10.91it/s]\n"
     ]
    },
    {
     "name": "stdout",
     "output_type": "stream",
     "text": [
      "Epoch [470], Train Loss : [1.08926] Val Loss : [1.14285] Val F1 : [0.55907]\n"
     ]
    },
    {
     "name": "stderr",
     "output_type": "stream",
     "text": [
      "100%|██████████████████████████████████████████| 141/141 [00:37<00:00,  3.75it/s]\n",
      "100%|████████████████████████████████████████████| 16/16 [00:01<00:00, 10.67it/s]\n"
     ]
    },
    {
     "name": "stdout",
     "output_type": "stream",
     "text": [
      "Epoch [471], Train Loss : [1.08810] Val Loss : [1.14250] Val F1 : [0.56433]\n"
     ]
    },
    {
     "name": "stderr",
     "output_type": "stream",
     "text": [
      "100%|██████████████████████████████████████████| 141/141 [00:37<00:00,  3.73it/s]\n",
      "100%|████████████████████████████████████████████| 16/16 [00:01<00:00, 10.87it/s]\n"
     ]
    },
    {
     "name": "stdout",
     "output_type": "stream",
     "text": [
      "Epoch [472], Train Loss : [1.08482] Val Loss : [1.14366] Val F1 : [0.55339]\n"
     ]
    },
    {
     "name": "stderr",
     "output_type": "stream",
     "text": [
      "100%|██████████████████████████████████████████| 141/141 [00:37<00:00,  3.75it/s]\n",
      "100%|████████████████████████████████████████████| 16/16 [00:01<00:00, 10.73it/s]\n"
     ]
    },
    {
     "name": "stdout",
     "output_type": "stream",
     "text": [
      "Epoch [473], Train Loss : [1.09304] Val Loss : [1.14266] Val F1 : [0.55760]\n"
     ]
    },
    {
     "name": "stderr",
     "output_type": "stream",
     "text": [
      "100%|██████████████████████████████████████████| 141/141 [00:37<00:00,  3.75it/s]\n",
      "100%|████████████████████████████████████████████| 16/16 [00:01<00:00, 10.78it/s]\n"
     ]
    },
    {
     "name": "stdout",
     "output_type": "stream",
     "text": [
      "Epoch [474], Train Loss : [1.08850] Val Loss : [1.14281] Val F1 : [0.56576]\n"
     ]
    },
    {
     "name": "stderr",
     "output_type": "stream",
     "text": [
      "100%|██████████████████████████████████████████| 141/141 [00:37<00:00,  3.75it/s]\n",
      "100%|████████████████████████████████████████████| 16/16 [00:01<00:00, 10.89it/s]\n"
     ]
    },
    {
     "name": "stdout",
     "output_type": "stream",
     "text": [
      "Epoch [475], Train Loss : [1.08680] Val Loss : [1.14204] Val F1 : [0.55811]\n"
     ]
    },
    {
     "name": "stderr",
     "output_type": "stream",
     "text": [
      "100%|██████████████████████████████████████████| 141/141 [00:37<00:00,  3.75it/s]\n",
      "100%|████████████████████████████████████████████| 16/16 [00:01<00:00, 10.59it/s]\n"
     ]
    },
    {
     "name": "stdout",
     "output_type": "stream",
     "text": [
      "Epoch [476], Train Loss : [1.09363] Val Loss : [1.14399] Val F1 : [0.55790]\n"
     ]
    },
    {
     "name": "stderr",
     "output_type": "stream",
     "text": [
      "100%|██████████████████████████████████████████| 141/141 [00:37<00:00,  3.73it/s]\n",
      "100%|████████████████████████████████████████████| 16/16 [00:01<00:00, 10.86it/s]\n"
     ]
    },
    {
     "name": "stdout",
     "output_type": "stream",
     "text": [
      "Epoch [477], Train Loss : [1.08888] Val Loss : [1.14575] Val F1 : [0.54316]\n"
     ]
    },
    {
     "name": "stderr",
     "output_type": "stream",
     "text": [
      "100%|██████████████████████████████████████████| 141/141 [00:37<00:00,  3.75it/s]\n",
      "100%|████████████████████████████████████████████| 16/16 [00:01<00:00, 10.88it/s]\n"
     ]
    },
    {
     "name": "stdout",
     "output_type": "stream",
     "text": [
      "Epoch [478], Train Loss : [1.09223] Val Loss : [1.14351] Val F1 : [0.55554]\n"
     ]
    },
    {
     "name": "stderr",
     "output_type": "stream",
     "text": [
      "100%|██████████████████████████████████████████| 141/141 [00:37<00:00,  3.75it/s]\n",
      "100%|████████████████████████████████████████████| 16/16 [00:01<00:00, 10.90it/s]\n"
     ]
    },
    {
     "name": "stdout",
     "output_type": "stream",
     "text": [
      "Epoch [479], Train Loss : [1.09032] Val Loss : [1.14415] Val F1 : [0.56482]\n"
     ]
    },
    {
     "name": "stderr",
     "output_type": "stream",
     "text": [
      "100%|██████████████████████████████████████████| 141/141 [00:37<00:00,  3.75it/s]\n",
      "100%|████████████████████████████████████████████| 16/16 [00:01<00:00, 10.72it/s]\n"
     ]
    },
    {
     "name": "stdout",
     "output_type": "stream",
     "text": [
      "Epoch [480], Train Loss : [1.09245] Val Loss : [1.14217] Val F1 : [0.55409]\n"
     ]
    },
    {
     "name": "stderr",
     "output_type": "stream",
     "text": [
      "100%|██████████████████████████████████████████| 141/141 [00:37<00:00,  3.75it/s]\n",
      "100%|████████████████████████████████████████████| 16/16 [00:01<00:00, 10.73it/s]\n"
     ]
    },
    {
     "name": "stdout",
     "output_type": "stream",
     "text": [
      "Epoch [481], Train Loss : [1.08642] Val Loss : [1.14340] Val F1 : [0.55217]\n"
     ]
    },
    {
     "name": "stderr",
     "output_type": "stream",
     "text": [
      "100%|██████████████████████████████████████████| 141/141 [00:37<00:00,  3.75it/s]\n",
      "100%|████████████████████████████████████████████| 16/16 [00:01<00:00, 10.90it/s]\n"
     ]
    },
    {
     "name": "stdout",
     "output_type": "stream",
     "text": [
      "Epoch [482], Train Loss : [1.09189] Val Loss : [1.14237] Val F1 : [0.55659]\n"
     ]
    },
    {
     "name": "stderr",
     "output_type": "stream",
     "text": [
      "100%|██████████████████████████████████████████| 141/141 [00:37<00:00,  3.75it/s]\n",
      "100%|████████████████████████████████████████████| 16/16 [00:01<00:00, 10.88it/s]\n"
     ]
    },
    {
     "name": "stdout",
     "output_type": "stream",
     "text": [
      "Epoch [483], Train Loss : [1.08415] Val Loss : [1.14454] Val F1 : [0.55694]\n"
     ]
    },
    {
     "name": "stderr",
     "output_type": "stream",
     "text": [
      "100%|██████████████████████████████████████████| 141/141 [00:37<00:00,  3.75it/s]\n",
      "100%|████████████████████████████████████████████| 16/16 [00:01<00:00, 10.58it/s]\n"
     ]
    },
    {
     "name": "stdout",
     "output_type": "stream",
     "text": [
      "Epoch [484], Train Loss : [1.09177] Val Loss : [1.14401] Val F1 : [0.54696]\n"
     ]
    },
    {
     "name": "stderr",
     "output_type": "stream",
     "text": [
      "100%|██████████████████████████████████████████| 141/141 [00:37<00:00,  3.74it/s]\n",
      "100%|████████████████████████████████████████████| 16/16 [00:01<00:00, 10.62it/s]\n"
     ]
    },
    {
     "name": "stdout",
     "output_type": "stream",
     "text": [
      "Epoch [485], Train Loss : [1.09419] Val Loss : [1.14210] Val F1 : [0.55813]\n"
     ]
    },
    {
     "name": "stderr",
     "output_type": "stream",
     "text": [
      "100%|██████████████████████████████████████████| 141/141 [00:37<00:00,  3.75it/s]\n",
      "100%|████████████████████████████████████████████| 16/16 [00:01<00:00, 10.57it/s]\n"
     ]
    },
    {
     "name": "stdout",
     "output_type": "stream",
     "text": [
      "Epoch [486], Train Loss : [1.09283] Val Loss : [1.14458] Val F1 : [0.55694]\n"
     ]
    },
    {
     "name": "stderr",
     "output_type": "stream",
     "text": [
      "100%|██████████████████████████████████████████| 141/141 [00:37<00:00,  3.74it/s]\n",
      "100%|████████████████████████████████████████████| 16/16 [00:01<00:00, 10.77it/s]\n"
     ]
    },
    {
     "name": "stdout",
     "output_type": "stream",
     "text": [
      "Epoch [487], Train Loss : [1.08799] Val Loss : [1.14260] Val F1 : [0.56045]\n"
     ]
    },
    {
     "name": "stderr",
     "output_type": "stream",
     "text": [
      "100%|██████████████████████████████████████████| 141/141 [00:37<00:00,  3.73it/s]\n",
      "100%|████████████████████████████████████████████| 16/16 [00:01<00:00, 10.82it/s]\n"
     ]
    },
    {
     "name": "stdout",
     "output_type": "stream",
     "text": [
      "Epoch [488], Train Loss : [1.08873] Val Loss : [1.14247] Val F1 : [0.55895]\n"
     ]
    },
    {
     "name": "stderr",
     "output_type": "stream",
     "text": [
      "100%|██████████████████████████████████████████| 141/141 [00:37<00:00,  3.73it/s]\n",
      "100%|████████████████████████████████████████████| 16/16 [00:01<00:00, 10.57it/s]\n"
     ]
    },
    {
     "name": "stdout",
     "output_type": "stream",
     "text": [
      "Epoch [489], Train Loss : [1.09198] Val Loss : [1.14423] Val F1 : [0.55080]\n"
     ]
    },
    {
     "name": "stderr",
     "output_type": "stream",
     "text": [
      "100%|██████████████████████████████████████████| 141/141 [00:37<00:00,  3.72it/s]\n",
      "100%|████████████████████████████████████████████| 16/16 [00:01<00:00, 10.93it/s]\n"
     ]
    },
    {
     "name": "stdout",
     "output_type": "stream",
     "text": [
      "Epoch [490], Train Loss : [1.08762] Val Loss : [1.14418] Val F1 : [0.54601]\n"
     ]
    },
    {
     "name": "stderr",
     "output_type": "stream",
     "text": [
      "100%|██████████████████████████████████████████| 141/141 [00:37<00:00,  3.73it/s]\n",
      "100%|████████████████████████████████████████████| 16/16 [00:01<00:00, 10.93it/s]\n"
     ]
    },
    {
     "name": "stdout",
     "output_type": "stream",
     "text": [
      "Epoch [491], Train Loss : [1.08725] Val Loss : [1.14335] Val F1 : [0.55386]\n"
     ]
    },
    {
     "name": "stderr",
     "output_type": "stream",
     "text": [
      "100%|██████████████████████████████████████████| 141/141 [00:37<00:00,  3.74it/s]\n",
      "100%|████████████████████████████████████████████| 16/16 [00:01<00:00, 10.79it/s]\n"
     ]
    },
    {
     "name": "stdout",
     "output_type": "stream",
     "text": [
      "Epoch [492], Train Loss : [1.08738] Val Loss : [1.14494] Val F1 : [0.54999]\n"
     ]
    },
    {
     "name": "stderr",
     "output_type": "stream",
     "text": [
      "100%|██████████████████████████████████████████| 141/141 [00:37<00:00,  3.75it/s]\n",
      "100%|████████████████████████████████████████████| 16/16 [00:01<00:00, 10.84it/s]\n"
     ]
    },
    {
     "name": "stdout",
     "output_type": "stream",
     "text": [
      "Epoch [493], Train Loss : [1.08899] Val Loss : [1.14465] Val F1 : [0.55868]\n"
     ]
    },
    {
     "name": "stderr",
     "output_type": "stream",
     "text": [
      "100%|██████████████████████████████████████████| 141/141 [00:37<00:00,  3.75it/s]\n",
      "100%|████████████████████████████████████████████| 16/16 [00:01<00:00, 10.84it/s]\n"
     ]
    },
    {
     "name": "stdout",
     "output_type": "stream",
     "text": [
      "Epoch [494], Train Loss : [1.08946] Val Loss : [1.14327] Val F1 : [0.55569]\n"
     ]
    },
    {
     "name": "stderr",
     "output_type": "stream",
     "text": [
      "100%|██████████████████████████████████████████| 141/141 [00:37<00:00,  3.74it/s]\n",
      "100%|████████████████████████████████████████████| 16/16 [00:01<00:00, 10.61it/s]\n"
     ]
    },
    {
     "name": "stdout",
     "output_type": "stream",
     "text": [
      "Epoch [495], Train Loss : [1.08359] Val Loss : [1.14186] Val F1 : [0.56317]\n"
     ]
    },
    {
     "name": "stderr",
     "output_type": "stream",
     "text": [
      "100%|██████████████████████████████████████████| 141/141 [00:37<00:00,  3.74it/s]\n",
      "100%|████████████████████████████████████████████| 16/16 [00:01<00:00, 10.59it/s]\n"
     ]
    },
    {
     "name": "stdout",
     "output_type": "stream",
     "text": [
      "Epoch [496], Train Loss : [1.08442] Val Loss : [1.14273] Val F1 : [0.56319]\n"
     ]
    },
    {
     "name": "stderr",
     "output_type": "stream",
     "text": [
      "100%|██████████████████████████████████████████| 141/141 [00:37<00:00,  3.74it/s]\n",
      "100%|████████████████████████████████████████████| 16/16 [00:01<00:00, 10.85it/s]\n"
     ]
    },
    {
     "name": "stdout",
     "output_type": "stream",
     "text": [
      "Epoch [497], Train Loss : [1.09020] Val Loss : [1.14374] Val F1 : [0.55661]\n"
     ]
    },
    {
     "name": "stderr",
     "output_type": "stream",
     "text": [
      "100%|██████████████████████████████████████████| 141/141 [00:37<00:00,  3.74it/s]\n",
      "100%|████████████████████████████████████████████| 16/16 [00:01<00:00, 10.82it/s]\n"
     ]
    },
    {
     "name": "stdout",
     "output_type": "stream",
     "text": [
      "Epoch [498], Train Loss : [1.09354] Val Loss : [1.14226] Val F1 : [0.55549]\n"
     ]
    },
    {
     "name": "stderr",
     "output_type": "stream",
     "text": [
      "100%|██████████████████████████████████████████| 141/141 [00:37<00:00,  3.75it/s]\n",
      "100%|████████████████████████████████████████████| 16/16 [00:01<00:00, 10.80it/s]\n"
     ]
    },
    {
     "name": "stdout",
     "output_type": "stream",
     "text": [
      "Epoch [499], Train Loss : [1.08895] Val Loss : [1.14149] Val F1 : [0.56043]\n"
     ]
    },
    {
     "name": "stderr",
     "output_type": "stream",
     "text": [
      "100%|██████████████████████████████████████████| 141/141 [00:37<00:00,  3.73it/s]\n",
      "100%|████████████████████████████████████████████| 16/16 [00:01<00:00, 10.66it/s]\n"
     ]
    },
    {
     "name": "stdout",
     "output_type": "stream",
     "text": [
      "Epoch [500], Train Loss : [1.08911] Val Loss : [1.14225] Val F1 : [0.55592]\n"
     ]
    },
    {
     "name": "stderr",
     "output_type": "stream",
     "text": [
      "100%|██████████████████████████████████████████| 141/141 [00:37<00:00,  3.73it/s]\n",
      "100%|████████████████████████████████████████████| 16/16 [00:01<00:00, 10.23it/s]\n"
     ]
    },
    {
     "name": "stdout",
     "output_type": "stream",
     "text": [
      "Epoch [501], Train Loss : [1.09396] Val Loss : [1.14264] Val F1 : [0.55881]\n"
     ]
    },
    {
     "name": "stderr",
     "output_type": "stream",
     "text": [
      "100%|██████████████████████████████████████████| 141/141 [00:37<00:00,  3.75it/s]\n",
      "100%|████████████████████████████████████████████| 16/16 [00:01<00:00, 10.88it/s]\n"
     ]
    },
    {
     "name": "stdout",
     "output_type": "stream",
     "text": [
      "Epoch [502], Train Loss : [1.09088] Val Loss : [1.14187] Val F1 : [0.55597]\n"
     ]
    },
    {
     "name": "stderr",
     "output_type": "stream",
     "text": [
      "100%|██████████████████████████████████████████| 141/141 [00:37<00:00,  3.74it/s]\n",
      "100%|████████████████████████████████████████████| 16/16 [00:01<00:00, 10.59it/s]\n"
     ]
    },
    {
     "name": "stdout",
     "output_type": "stream",
     "text": [
      "Epoch [503], Train Loss : [1.09156] Val Loss : [1.14081] Val F1 : [0.55811]\n"
     ]
    },
    {
     "name": "stderr",
     "output_type": "stream",
     "text": [
      "100%|██████████████████████████████████████████| 141/141 [00:37<00:00,  3.73it/s]\n",
      "100%|████████████████████████████████████████████| 16/16 [00:01<00:00, 10.90it/s]\n"
     ]
    },
    {
     "name": "stdout",
     "output_type": "stream",
     "text": [
      "Epoch [504], Train Loss : [1.09230] Val Loss : [1.14342] Val F1 : [0.56116]\n"
     ]
    },
    {
     "name": "stderr",
     "output_type": "stream",
     "text": [
      "100%|██████████████████████████████████████████| 141/141 [00:37<00:00,  3.75it/s]\n",
      "100%|████████████████████████████████████████████| 16/16 [00:01<00:00, 10.87it/s]\n"
     ]
    },
    {
     "name": "stdout",
     "output_type": "stream",
     "text": [
      "Epoch [505], Train Loss : [1.09329] Val Loss : [1.14176] Val F1 : [0.55536]\n"
     ]
    },
    {
     "name": "stderr",
     "output_type": "stream",
     "text": [
      "100%|██████████████████████████████████████████| 141/141 [00:37<00:00,  3.75it/s]\n",
      "100%|████████████████████████████████████████████| 16/16 [00:01<00:00, 10.63it/s]\n"
     ]
    },
    {
     "name": "stdout",
     "output_type": "stream",
     "text": [
      "Epoch [506], Train Loss : [1.08874] Val Loss : [1.14350] Val F1 : [0.55697]\n"
     ]
    },
    {
     "name": "stderr",
     "output_type": "stream",
     "text": [
      "100%|██████████████████████████████████████████| 141/141 [00:37<00:00,  3.74it/s]\n",
      "100%|████████████████████████████████████████████| 16/16 [00:01<00:00, 10.96it/s]\n"
     ]
    },
    {
     "name": "stdout",
     "output_type": "stream",
     "text": [
      "Epoch [507], Train Loss : [1.09055] Val Loss : [1.14515] Val F1 : [0.54729]\n"
     ]
    },
    {
     "name": "stderr",
     "output_type": "stream",
     "text": [
      "100%|██████████████████████████████████████████| 141/141 [00:37<00:00,  3.75it/s]\n",
      "100%|████████████████████████████████████████████| 16/16 [00:01<00:00, 10.91it/s]\n"
     ]
    },
    {
     "name": "stdout",
     "output_type": "stream",
     "text": [
      "Epoch [508], Train Loss : [1.08759] Val Loss : [1.14365] Val F1 : [0.55542]\n"
     ]
    },
    {
     "name": "stderr",
     "output_type": "stream",
     "text": [
      "100%|██████████████████████████████████████████| 141/141 [00:37<00:00,  3.75it/s]\n",
      "100%|████████████████████████████████████████████| 16/16 [00:01<00:00, 10.96it/s]\n"
     ]
    },
    {
     "name": "stdout",
     "output_type": "stream",
     "text": [
      "Epoch [509], Train Loss : [1.08762] Val Loss : [1.14090] Val F1 : [0.55764]\n"
     ]
    },
    {
     "name": "stderr",
     "output_type": "stream",
     "text": [
      "100%|██████████████████████████████████████████| 141/141 [00:37<00:00,  3.74it/s]\n",
      "100%|████████████████████████████████████████████| 16/16 [00:01<00:00, 10.62it/s]\n"
     ]
    },
    {
     "name": "stdout",
     "output_type": "stream",
     "text": [
      "Epoch [510], Train Loss : [1.08836] Val Loss : [1.14391] Val F1 : [0.54883]\n"
     ]
    },
    {
     "name": "stderr",
     "output_type": "stream",
     "text": [
      "100%|██████████████████████████████████████████| 141/141 [00:37<00:00,  3.74it/s]\n",
      "100%|████████████████████████████████████████████| 16/16 [00:01<00:00, 10.93it/s]\n"
     ]
    },
    {
     "name": "stdout",
     "output_type": "stream",
     "text": [
      "Epoch [511], Train Loss : [1.09453] Val Loss : [1.14264] Val F1 : [0.55951]\n"
     ]
    },
    {
     "name": "stderr",
     "output_type": "stream",
     "text": [
      "100%|██████████████████████████████████████████| 141/141 [00:37<00:00,  3.75it/s]\n",
      "100%|████████████████████████████████████████████| 16/16 [00:01<00:00, 10.90it/s]\n"
     ]
    },
    {
     "name": "stdout",
     "output_type": "stream",
     "text": [
      "Epoch [512], Train Loss : [1.08910] Val Loss : [1.14285] Val F1 : [0.55913]\n"
     ]
    },
    {
     "name": "stderr",
     "output_type": "stream",
     "text": [
      "100%|██████████████████████████████████████████| 141/141 [00:37<00:00,  3.73it/s]\n",
      "100%|████████████████████████████████████████████| 16/16 [00:01<00:00, 10.87it/s]\n"
     ]
    },
    {
     "name": "stdout",
     "output_type": "stream",
     "text": [
      "Epoch [513], Train Loss : [1.08835] Val Loss : [1.14504] Val F1 : [0.55681]\n"
     ]
    },
    {
     "name": "stderr",
     "output_type": "stream",
     "text": [
      "100%|██████████████████████████████████████████| 141/141 [00:37<00:00,  3.75it/s]\n",
      "100%|████████████████████████████████████████████| 16/16 [00:01<00:00, 10.80it/s]\n"
     ]
    },
    {
     "name": "stdout",
     "output_type": "stream",
     "text": [
      "Epoch [514], Train Loss : [1.08763] Val Loss : [1.14759] Val F1 : [0.55606]\n"
     ]
    },
    {
     "name": "stderr",
     "output_type": "stream",
     "text": [
      "100%|██████████████████████████████████████████| 141/141 [00:37<00:00,  3.74it/s]\n",
      "100%|████████████████████████████████████████████| 16/16 [00:01<00:00, 10.78it/s]\n"
     ]
    },
    {
     "name": "stdout",
     "output_type": "stream",
     "text": [
      "Epoch [515], Train Loss : [1.08993] Val Loss : [1.14342] Val F1 : [0.56063]\n"
     ]
    },
    {
     "name": "stderr",
     "output_type": "stream",
     "text": [
      "100%|██████████████████████████████████████████| 141/141 [00:37<00:00,  3.75it/s]\n",
      "100%|████████████████████████████████████████████| 16/16 [00:01<00:00, 10.91it/s]\n"
     ]
    },
    {
     "name": "stdout",
     "output_type": "stream",
     "text": [
      "Epoch [516], Train Loss : [1.08861] Val Loss : [1.14514] Val F1 : [0.55316]\n"
     ]
    },
    {
     "name": "stderr",
     "output_type": "stream",
     "text": [
      "100%|██████████████████████████████████████████| 141/141 [00:37<00:00,  3.75it/s]\n",
      "100%|████████████████████████████████████████████| 16/16 [00:01<00:00, 10.92it/s]\n"
     ]
    },
    {
     "name": "stdout",
     "output_type": "stream",
     "text": [
      "Epoch [517], Train Loss : [1.08977] Val Loss : [1.14197] Val F1 : [0.55899]\n"
     ]
    },
    {
     "name": "stderr",
     "output_type": "stream",
     "text": [
      "100%|██████████████████████████████████████████| 141/141 [00:37<00:00,  3.75it/s]\n",
      "100%|████████████████████████████████████████████| 16/16 [00:01<00:00, 10.87it/s]\n"
     ]
    },
    {
     "name": "stdout",
     "output_type": "stream",
     "text": [
      "Epoch [518], Train Loss : [1.08766] Val Loss : [1.14232] Val F1 : [0.55795]\n"
     ]
    },
    {
     "name": "stderr",
     "output_type": "stream",
     "text": [
      "100%|██████████████████████████████████████████| 141/141 [00:37<00:00,  3.75it/s]\n",
      "100%|████████████████████████████████████████████| 16/16 [00:01<00:00, 10.87it/s]\n"
     ]
    },
    {
     "name": "stdout",
     "output_type": "stream",
     "text": [
      "Epoch [519], Train Loss : [1.08950] Val Loss : [1.14255] Val F1 : [0.56349]\n"
     ]
    },
    {
     "name": "stderr",
     "output_type": "stream",
     "text": [
      "100%|██████████████████████████████████████████| 141/141 [00:37<00:00,  3.75it/s]\n",
      "100%|████████████████████████████████████████████| 16/16 [00:01<00:00, 10.81it/s]\n"
     ]
    },
    {
     "name": "stdout",
     "output_type": "stream",
     "text": [
      "Epoch [520], Train Loss : [1.09137] Val Loss : [1.14290] Val F1 : [0.55434]\n"
     ]
    },
    {
     "name": "stderr",
     "output_type": "stream",
     "text": [
      "100%|██████████████████████████████████████████| 141/141 [00:37<00:00,  3.75it/s]\n",
      "100%|████████████████████████████████████████████| 16/16 [00:01<00:00, 10.84it/s]\n"
     ]
    },
    {
     "name": "stdout",
     "output_type": "stream",
     "text": [
      "Epoch [521], Train Loss : [1.09283] Val Loss : [1.14287] Val F1 : [0.56105]\n"
     ]
    },
    {
     "name": "stderr",
     "output_type": "stream",
     "text": [
      "100%|██████████████████████████████████████████| 141/141 [00:37<00:00,  3.74it/s]\n",
      "100%|████████████████████████████████████████████| 16/16 [00:01<00:00, 10.62it/s]\n"
     ]
    },
    {
     "name": "stdout",
     "output_type": "stream",
     "text": [
      "Epoch [522], Train Loss : [1.08812] Val Loss : [1.14288] Val F1 : [0.56066]\n"
     ]
    },
    {
     "name": "stderr",
     "output_type": "stream",
     "text": [
      "100%|██████████████████████████████████████████| 141/141 [00:37<00:00,  3.73it/s]\n",
      "100%|████████████████████████████████████████████| 16/16 [00:01<00:00, 10.93it/s]\n"
     ]
    },
    {
     "name": "stdout",
     "output_type": "stream",
     "text": [
      "Epoch [523], Train Loss : [1.08778] Val Loss : [1.14410] Val F1 : [0.55410]\n"
     ]
    },
    {
     "name": "stderr",
     "output_type": "stream",
     "text": [
      "100%|██████████████████████████████████████████| 141/141 [00:37<00:00,  3.74it/s]\n",
      "100%|████████████████████████████████████████████| 16/16 [00:01<00:00, 10.70it/s]\n"
     ]
    },
    {
     "name": "stdout",
     "output_type": "stream",
     "text": [
      "Epoch [524], Train Loss : [1.08837] Val Loss : [1.14201] Val F1 : [0.55447]\n"
     ]
    },
    {
     "name": "stderr",
     "output_type": "stream",
     "text": [
      "100%|██████████████████████████████████████████| 141/141 [00:37<00:00,  3.75it/s]\n",
      "100%|████████████████████████████████████████████| 16/16 [00:01<00:00, 10.83it/s]\n"
     ]
    },
    {
     "name": "stdout",
     "output_type": "stream",
     "text": [
      "Epoch [525], Train Loss : [1.08960] Val Loss : [1.14641] Val F1 : [0.55526]\n"
     ]
    },
    {
     "name": "stderr",
     "output_type": "stream",
     "text": [
      "100%|██████████████████████████████████████████| 141/141 [00:37<00:00,  3.75it/s]\n",
      "100%|████████████████████████████████████████████| 16/16 [00:01<00:00, 10.81it/s]\n"
     ]
    },
    {
     "name": "stdout",
     "output_type": "stream",
     "text": [
      "Epoch [526], Train Loss : [1.08887] Val Loss : [1.14222] Val F1 : [0.56242]\n"
     ]
    },
    {
     "name": "stderr",
     "output_type": "stream",
     "text": [
      "100%|██████████████████████████████████████████| 141/141 [00:37<00:00,  3.75it/s]\n",
      "100%|████████████████████████████████████████████| 16/16 [00:01<00:00, 10.81it/s]\n"
     ]
    },
    {
     "name": "stdout",
     "output_type": "stream",
     "text": [
      "Epoch [527], Train Loss : [1.09383] Val Loss : [1.14448] Val F1 : [0.55837]\n"
     ]
    },
    {
     "name": "stderr",
     "output_type": "stream",
     "text": [
      "100%|██████████████████████████████████████████| 141/141 [00:37<00:00,  3.75it/s]\n",
      "100%|████████████████████████████████████████████| 16/16 [00:01<00:00, 10.73it/s]\n"
     ]
    },
    {
     "name": "stdout",
     "output_type": "stream",
     "text": [
      "Epoch [528], Train Loss : [1.08677] Val Loss : [1.14227] Val F1 : [0.56049]\n"
     ]
    },
    {
     "name": "stderr",
     "output_type": "stream",
     "text": [
      "100%|██████████████████████████████████████████| 141/141 [00:37<00:00,  3.75it/s]\n",
      "100%|████████████████████████████████████████████| 16/16 [00:01<00:00, 10.78it/s]\n"
     ]
    },
    {
     "name": "stdout",
     "output_type": "stream",
     "text": [
      "Epoch [529], Train Loss : [1.09212] Val Loss : [1.14265] Val F1 : [0.55722]\n"
     ]
    },
    {
     "name": "stderr",
     "output_type": "stream",
     "text": [
      "100%|██████████████████████████████████████████| 141/141 [00:37<00:00,  3.74it/s]\n",
      "100%|████████████████████████████████████████████| 16/16 [00:01<00:00, 10.76it/s]\n"
     ]
    },
    {
     "name": "stdout",
     "output_type": "stream",
     "text": [
      "Epoch [530], Train Loss : [1.08854] Val Loss : [1.14279] Val F1 : [0.55751]\n"
     ]
    },
    {
     "name": "stderr",
     "output_type": "stream",
     "text": [
      "100%|██████████████████████████████████████████| 141/141 [00:37<00:00,  3.75it/s]\n",
      "100%|████████████████████████████████████████████| 16/16 [00:01<00:00, 10.82it/s]\n"
     ]
    },
    {
     "name": "stdout",
     "output_type": "stream",
     "text": [
      "Epoch [531], Train Loss : [1.09133] Val Loss : [1.14365] Val F1 : [0.55880]\n"
     ]
    },
    {
     "name": "stderr",
     "output_type": "stream",
     "text": [
      "100%|██████████████████████████████████████████| 141/141 [00:37<00:00,  3.75it/s]\n",
      "100%|████████████████████████████████████████████| 16/16 [00:01<00:00, 10.76it/s]\n"
     ]
    },
    {
     "name": "stdout",
     "output_type": "stream",
     "text": [
      "Epoch [532], Train Loss : [1.08767] Val Loss : [1.14229] Val F1 : [0.55018]\n"
     ]
    },
    {
     "name": "stderr",
     "output_type": "stream",
     "text": [
      "100%|██████████████████████████████████████████| 141/141 [00:37<00:00,  3.75it/s]\n",
      "100%|████████████████████████████████████████████| 16/16 [00:01<00:00, 10.87it/s]\n"
     ]
    },
    {
     "name": "stdout",
     "output_type": "stream",
     "text": [
      "Epoch [533], Train Loss : [1.09117] Val Loss : [1.14175] Val F1 : [0.55431]\n"
     ]
    },
    {
     "name": "stderr",
     "output_type": "stream",
     "text": [
      "100%|██████████████████████████████████████████| 141/141 [00:37<00:00,  3.73it/s]\n",
      "100%|████████████████████████████████████████████| 16/16 [00:01<00:00, 10.86it/s]\n"
     ]
    },
    {
     "name": "stdout",
     "output_type": "stream",
     "text": [
      "Epoch [534], Train Loss : [1.09410] Val Loss : [1.14361] Val F1 : [0.56080]\n"
     ]
    },
    {
     "name": "stderr",
     "output_type": "stream",
     "text": [
      "100%|██████████████████████████████████████████| 141/141 [00:37<00:00,  3.73it/s]\n",
      "100%|████████████████████████████████████████████| 16/16 [00:01<00:00, 10.89it/s]\n"
     ]
    },
    {
     "name": "stdout",
     "output_type": "stream",
     "text": [
      "Epoch [535], Train Loss : [1.09495] Val Loss : [1.14127] Val F1 : [0.55917]\n"
     ]
    },
    {
     "name": "stderr",
     "output_type": "stream",
     "text": [
      "100%|██████████████████████████████████████████| 141/141 [00:37<00:00,  3.75it/s]\n",
      "100%|████████████████████████████████████████████| 16/16 [00:01<00:00, 10.83it/s]\n"
     ]
    },
    {
     "name": "stdout",
     "output_type": "stream",
     "text": [
      "Epoch [536], Train Loss : [1.08681] Val Loss : [1.14448] Val F1 : [0.55244]\n"
     ]
    },
    {
     "name": "stderr",
     "output_type": "stream",
     "text": [
      "100%|██████████████████████████████████████████| 141/141 [00:37<00:00,  3.75it/s]\n",
      "100%|████████████████████████████████████████████| 16/16 [00:01<00:00, 10.76it/s]\n"
     ]
    },
    {
     "name": "stdout",
     "output_type": "stream",
     "text": [
      "Epoch [537], Train Loss : [1.08660] Val Loss : [1.14562] Val F1 : [0.54741]\n"
     ]
    },
    {
     "name": "stderr",
     "output_type": "stream",
     "text": [
      "100%|██████████████████████████████████████████| 141/141 [00:37<00:00,  3.75it/s]\n",
      "100%|████████████████████████████████████████████| 16/16 [00:01<00:00, 10.88it/s]\n"
     ]
    },
    {
     "name": "stdout",
     "output_type": "stream",
     "text": [
      "Epoch [538], Train Loss : [1.08816] Val Loss : [1.14312] Val F1 : [0.55394]\n"
     ]
    },
    {
     "name": "stderr",
     "output_type": "stream",
     "text": [
      "100%|██████████████████████████████████████████| 141/141 [00:37<00:00,  3.75it/s]\n",
      "100%|████████████████████████████████████████████| 16/16 [00:01<00:00, 10.90it/s]\n"
     ]
    },
    {
     "name": "stdout",
     "output_type": "stream",
     "text": [
      "Epoch [539], Train Loss : [1.08678] Val Loss : [1.14316] Val F1 : [0.56613]\n"
     ]
    },
    {
     "name": "stderr",
     "output_type": "stream",
     "text": [
      "100%|██████████████████████████████████████████| 141/141 [00:37<00:00,  3.75it/s]\n",
      "100%|████████████████████████████████████████████| 16/16 [00:01<00:00, 10.84it/s]\n"
     ]
    },
    {
     "name": "stdout",
     "output_type": "stream",
     "text": [
      "Epoch [540], Train Loss : [1.08701] Val Loss : [1.14226] Val F1 : [0.55866]\n"
     ]
    },
    {
     "name": "stderr",
     "output_type": "stream",
     "text": [
      "100%|██████████████████████████████████████████| 141/141 [00:37<00:00,  3.74it/s]\n",
      "100%|████████████████████████████████████████████| 16/16 [00:01<00:00, 10.58it/s]\n"
     ]
    },
    {
     "name": "stdout",
     "output_type": "stream",
     "text": [
      "Epoch [541], Train Loss : [1.08896] Val Loss : [1.14293] Val F1 : [0.55709]\n"
     ]
    },
    {
     "name": "stderr",
     "output_type": "stream",
     "text": [
      "100%|██████████████████████████████████████████| 141/141 [00:37<00:00,  3.73it/s]\n",
      "100%|████████████████████████████████████████████| 16/16 [00:01<00:00, 10.60it/s]\n"
     ]
    },
    {
     "name": "stdout",
     "output_type": "stream",
     "text": [
      "Epoch [542], Train Loss : [1.08809] Val Loss : [1.14237] Val F1 : [0.55906]\n"
     ]
    },
    {
     "name": "stderr",
     "output_type": "stream",
     "text": [
      "100%|██████████████████████████████████████████| 141/141 [00:37<00:00,  3.74it/s]\n",
      "100%|████████████████████████████████████████████| 16/16 [00:01<00:00, 10.50it/s]\n"
     ]
    },
    {
     "name": "stdout",
     "output_type": "stream",
     "text": [
      "Epoch [543], Train Loss : [1.08438] Val Loss : [1.14258] Val F1 : [0.56346]\n"
     ]
    },
    {
     "name": "stderr",
     "output_type": "stream",
     "text": [
      "100%|██████████████████████████████████████████| 141/141 [00:37<00:00,  3.75it/s]\n",
      "100%|████████████████████████████████████████████| 16/16 [00:01<00:00, 10.72it/s]\n"
     ]
    },
    {
     "name": "stdout",
     "output_type": "stream",
     "text": [
      "Epoch [544], Train Loss : [1.08836] Val Loss : [1.14267] Val F1 : [0.55261]\n"
     ]
    },
    {
     "name": "stderr",
     "output_type": "stream",
     "text": [
      "100%|██████████████████████████████████████████| 141/141 [00:37<00:00,  3.75it/s]\n",
      "100%|████████████████████████████████████████████| 16/16 [00:01<00:00, 10.85it/s]\n"
     ]
    },
    {
     "name": "stdout",
     "output_type": "stream",
     "text": [
      "Epoch [545], Train Loss : [1.09239] Val Loss : [1.14511] Val F1 : [0.55113]\n"
     ]
    },
    {
     "name": "stderr",
     "output_type": "stream",
     "text": [
      "100%|██████████████████████████████████████████| 141/141 [00:37<00:00,  3.75it/s]\n",
      "100%|████████████████████████████████████████████| 16/16 [00:01<00:00, 10.82it/s]\n"
     ]
    },
    {
     "name": "stdout",
     "output_type": "stream",
     "text": [
      "Epoch [546], Train Loss : [1.08242] Val Loss : [1.14286] Val F1 : [0.55705]\n"
     ]
    },
    {
     "name": "stderr",
     "output_type": "stream",
     "text": [
      "100%|██████████████████████████████████████████| 141/141 [00:37<00:00,  3.73it/s]\n",
      "100%|████████████████████████████████████████████| 16/16 [00:01<00:00, 10.59it/s]\n"
     ]
    },
    {
     "name": "stdout",
     "output_type": "stream",
     "text": [
      "Epoch [547], Train Loss : [1.09054] Val Loss : [1.14239] Val F1 : [0.55619]\n"
     ]
    },
    {
     "name": "stderr",
     "output_type": "stream",
     "text": [
      "100%|██████████████████████████████████████████| 141/141 [00:37<00:00,  3.74it/s]\n",
      "100%|████████████████████████████████████████████| 16/16 [00:01<00:00, 10.91it/s]\n"
     ]
    },
    {
     "name": "stdout",
     "output_type": "stream",
     "text": [
      "Epoch [548], Train Loss : [1.08966] Val Loss : [1.14499] Val F1 : [0.54824]\n"
     ]
    },
    {
     "name": "stderr",
     "output_type": "stream",
     "text": [
      "100%|██████████████████████████████████████████| 141/141 [00:37<00:00,  3.73it/s]\n",
      "100%|████████████████████████████████████████████| 16/16 [00:01<00:00, 10.88it/s]\n"
     ]
    },
    {
     "name": "stdout",
     "output_type": "stream",
     "text": [
      "Epoch [549], Train Loss : [1.08854] Val Loss : [1.14406] Val F1 : [0.55289]\n"
     ]
    },
    {
     "name": "stderr",
     "output_type": "stream",
     "text": [
      "100%|██████████████████████████████████████████| 141/141 [00:37<00:00,  3.75it/s]\n",
      "100%|████████████████████████████████████████████| 16/16 [00:01<00:00, 10.89it/s]\n"
     ]
    },
    {
     "name": "stdout",
     "output_type": "stream",
     "text": [
      "Epoch [550], Train Loss : [1.09438] Val Loss : [1.14476] Val F1 : [0.55323]\n"
     ]
    },
    {
     "name": "stderr",
     "output_type": "stream",
     "text": [
      "100%|██████████████████████████████████████████| 141/141 [00:37<00:00,  3.75it/s]\n",
      "100%|████████████████████████████████████████████| 16/16 [00:01<00:00, 10.60it/s]\n"
     ]
    },
    {
     "name": "stdout",
     "output_type": "stream",
     "text": [
      "Epoch [551], Train Loss : [1.09036] Val Loss : [1.14353] Val F1 : [0.55438]\n"
     ]
    },
    {
     "name": "stderr",
     "output_type": "stream",
     "text": [
      "100%|██████████████████████████████████████████| 141/141 [00:37<00:00,  3.73it/s]\n",
      "100%|████████████████████████████████████████████| 16/16 [00:01<00:00, 10.79it/s]\n"
     ]
    },
    {
     "name": "stdout",
     "output_type": "stream",
     "text": [
      "Epoch [552], Train Loss : [1.09165] Val Loss : [1.14190] Val F1 : [0.55928]\n"
     ]
    },
    {
     "name": "stderr",
     "output_type": "stream",
     "text": [
      "100%|██████████████████████████████████████████| 141/141 [00:37<00:00,  3.75it/s]\n",
      "100%|████████████████████████████████████████████| 16/16 [00:01<00:00, 10.62it/s]\n"
     ]
    },
    {
     "name": "stdout",
     "output_type": "stream",
     "text": [
      "Epoch [553], Train Loss : [1.08714] Val Loss : [1.14193] Val F1 : [0.55942]\n"
     ]
    },
    {
     "name": "stderr",
     "output_type": "stream",
     "text": [
      "100%|██████████████████████████████████████████| 141/141 [00:37<00:00,  3.74it/s]\n",
      "100%|████████████████████████████████████████████| 16/16 [00:01<00:00, 10.87it/s]\n"
     ]
    },
    {
     "name": "stdout",
     "output_type": "stream",
     "text": [
      "Epoch [554], Train Loss : [1.08852] Val Loss : [1.14214] Val F1 : [0.56248]\n"
     ]
    },
    {
     "name": "stderr",
     "output_type": "stream",
     "text": [
      "100%|██████████████████████████████████████████| 141/141 [00:37<00:00,  3.74it/s]\n",
      "100%|████████████████████████████████████████████| 16/16 [00:01<00:00, 10.65it/s]\n"
     ]
    },
    {
     "name": "stdout",
     "output_type": "stream",
     "text": [
      "Epoch [555], Train Loss : [1.08642] Val Loss : [1.14405] Val F1 : [0.56083]\n"
     ]
    },
    {
     "name": "stderr",
     "output_type": "stream",
     "text": [
      "100%|██████████████████████████████████████████| 141/141 [00:37<00:00,  3.75it/s]\n",
      "100%|████████████████████████████████████████████| 16/16 [00:01<00:00, 10.89it/s]\n"
     ]
    },
    {
     "name": "stdout",
     "output_type": "stream",
     "text": [
      "Epoch [556], Train Loss : [1.09399] Val Loss : [1.14360] Val F1 : [0.55408]\n"
     ]
    },
    {
     "name": "stderr",
     "output_type": "stream",
     "text": [
      "100%|██████████████████████████████████████████| 141/141 [00:37<00:00,  3.74it/s]\n",
      "100%|████████████████████████████████████████████| 16/16 [00:01<00:00, 10.85it/s]\n"
     ]
    },
    {
     "name": "stdout",
     "output_type": "stream",
     "text": [
      "Epoch [557], Train Loss : [1.08597] Val Loss : [1.14190] Val F1 : [0.55384]\n"
     ]
    },
    {
     "name": "stderr",
     "output_type": "stream",
     "text": [
      "100%|██████████████████████████████████████████| 141/141 [00:37<00:00,  3.74it/s]\n",
      "100%|████████████████████████████████████████████| 16/16 [00:01<00:00, 10.84it/s]\n"
     ]
    },
    {
     "name": "stdout",
     "output_type": "stream",
     "text": [
      "Epoch [558], Train Loss : [1.08675] Val Loss : [1.14415] Val F1 : [0.54729]\n"
     ]
    },
    {
     "name": "stderr",
     "output_type": "stream",
     "text": [
      "100%|██████████████████████████████████████████| 141/141 [00:37<00:00,  3.75it/s]\n",
      "100%|████████████████████████████████████████████| 16/16 [00:01<00:00, 10.84it/s]\n"
     ]
    },
    {
     "name": "stdout",
     "output_type": "stream",
     "text": [
      "Epoch [559], Train Loss : [1.08936] Val Loss : [1.14108] Val F1 : [0.55995]\n"
     ]
    },
    {
     "name": "stderr",
     "output_type": "stream",
     "text": [
      "100%|██████████████████████████████████████████| 141/141 [00:37<00:00,  3.75it/s]\n",
      "100%|████████████████████████████████████████████| 16/16 [00:01<00:00, 10.90it/s]\n"
     ]
    },
    {
     "name": "stdout",
     "output_type": "stream",
     "text": [
      "Epoch [560], Train Loss : [1.09373] Val Loss : [1.14523] Val F1 : [0.55353]\n"
     ]
    },
    {
     "name": "stderr",
     "output_type": "stream",
     "text": [
      "100%|██████████████████████████████████████████| 141/141 [00:37<00:00,  3.75it/s]\n",
      "100%|████████████████████████████████████████████| 16/16 [00:01<00:00, 10.89it/s]\n"
     ]
    },
    {
     "name": "stdout",
     "output_type": "stream",
     "text": [
      "Epoch [561], Train Loss : [1.08669] Val Loss : [1.14385] Val F1 : [0.56525]\n"
     ]
    },
    {
     "name": "stderr",
     "output_type": "stream",
     "text": [
      "100%|██████████████████████████████████████████| 141/141 [00:37<00:00,  3.75it/s]\n",
      "100%|████████████████████████████████████████████| 16/16 [00:01<00:00, 10.90it/s]\n"
     ]
    },
    {
     "name": "stdout",
     "output_type": "stream",
     "text": [
      "Epoch [562], Train Loss : [1.09048] Val Loss : [1.14301] Val F1 : [0.55848]\n"
     ]
    },
    {
     "name": "stderr",
     "output_type": "stream",
     "text": [
      "100%|██████████████████████████████████████████| 141/141 [00:37<00:00,  3.75it/s]\n",
      "100%|████████████████████████████████████████████| 16/16 [00:01<00:00, 10.24it/s]\n"
     ]
    },
    {
     "name": "stdout",
     "output_type": "stream",
     "text": [
      "Epoch [563], Train Loss : [1.08857] Val Loss : [1.14235] Val F1 : [0.56085]\n"
     ]
    },
    {
     "name": "stderr",
     "output_type": "stream",
     "text": [
      "100%|██████████████████████████████████████████| 141/141 [00:37<00:00,  3.75it/s]\n",
      "100%|████████████████████████████████████████████| 16/16 [00:01<00:00, 10.58it/s]\n"
     ]
    },
    {
     "name": "stdout",
     "output_type": "stream",
     "text": [
      "Epoch [564], Train Loss : [1.08902] Val Loss : [1.14175] Val F1 : [0.56415]\n"
     ]
    },
    {
     "name": "stderr",
     "output_type": "stream",
     "text": [
      "100%|██████████████████████████████████████████| 141/141 [00:37<00:00,  3.74it/s]\n",
      "100%|████████████████████████████████████████████| 16/16 [00:01<00:00, 10.92it/s]\n"
     ]
    },
    {
     "name": "stdout",
     "output_type": "stream",
     "text": [
      "Epoch [565], Train Loss : [1.08964] Val Loss : [1.14307] Val F1 : [0.56428]\n"
     ]
    },
    {
     "name": "stderr",
     "output_type": "stream",
     "text": [
      "100%|██████████████████████████████████████████| 141/141 [00:37<00:00,  3.75it/s]\n",
      "100%|████████████████████████████████████████████| 16/16 [00:01<00:00, 10.74it/s]\n"
     ]
    },
    {
     "name": "stdout",
     "output_type": "stream",
     "text": [
      "Epoch [566], Train Loss : [1.08935] Val Loss : [1.14538] Val F1 : [0.54689]\n"
     ]
    },
    {
     "name": "stderr",
     "output_type": "stream",
     "text": [
      "100%|██████████████████████████████████████████| 141/141 [00:37<00:00,  3.75it/s]\n",
      "100%|████████████████████████████████████████████| 16/16 [00:01<00:00, 10.58it/s]\n"
     ]
    },
    {
     "name": "stdout",
     "output_type": "stream",
     "text": [
      "Epoch [567], Train Loss : [1.08890] Val Loss : [1.14217] Val F1 : [0.55474]\n"
     ]
    },
    {
     "name": "stderr",
     "output_type": "stream",
     "text": [
      "100%|██████████████████████████████████████████| 141/141 [00:37<00:00,  3.73it/s]\n",
      "100%|████████████████████████████████████████████| 16/16 [00:01<00:00, 10.49it/s]\n"
     ]
    },
    {
     "name": "stdout",
     "output_type": "stream",
     "text": [
      "Epoch [568], Train Loss : [1.08901] Val Loss : [1.14402] Val F1 : [0.55734]\n"
     ]
    },
    {
     "name": "stderr",
     "output_type": "stream",
     "text": [
      "100%|██████████████████████████████████████████| 141/141 [00:37<00:00,  3.74it/s]\n",
      "100%|████████████████████████████████████████████| 16/16 [00:01<00:00, 10.61it/s]\n"
     ]
    },
    {
     "name": "stdout",
     "output_type": "stream",
     "text": [
      "Epoch [569], Train Loss : [1.08988] Val Loss : [1.14339] Val F1 : [0.55274]\n"
     ]
    },
    {
     "name": "stderr",
     "output_type": "stream",
     "text": [
      "100%|██████████████████████████████████████████| 141/141 [00:37<00:00,  3.74it/s]\n",
      "100%|████████████████████████████████████████████| 16/16 [00:01<00:00, 10.85it/s]\n"
     ]
    },
    {
     "name": "stdout",
     "output_type": "stream",
     "text": [
      "Epoch [570], Train Loss : [1.08958] Val Loss : [1.14209] Val F1 : [0.56245]\n"
     ]
    },
    {
     "name": "stderr",
     "output_type": "stream",
     "text": [
      "100%|██████████████████████████████████████████| 141/141 [00:37<00:00,  3.73it/s]\n",
      "100%|████████████████████████████████████████████| 16/16 [00:01<00:00, 10.92it/s]\n"
     ]
    },
    {
     "name": "stdout",
     "output_type": "stream",
     "text": [
      "Epoch [571], Train Loss : [1.09411] Val Loss : [1.14387] Val F1 : [0.54779]\n"
     ]
    },
    {
     "name": "stderr",
     "output_type": "stream",
     "text": [
      "100%|██████████████████████████████████████████| 141/141 [00:37<00:00,  3.75it/s]\n",
      "100%|████████████████████████████████████████████| 16/16 [00:01<00:00, 10.73it/s]\n"
     ]
    },
    {
     "name": "stdout",
     "output_type": "stream",
     "text": [
      "Epoch [572], Train Loss : [1.09234] Val Loss : [1.14142] Val F1 : [0.55905]\n"
     ]
    },
    {
     "name": "stderr",
     "output_type": "stream",
     "text": [
      "100%|██████████████████████████████████████████| 141/141 [00:37<00:00,  3.75it/s]\n",
      "100%|████████████████████████████████████████████| 16/16 [00:01<00:00, 10.87it/s]\n"
     ]
    },
    {
     "name": "stdout",
     "output_type": "stream",
     "text": [
      "Epoch [573], Train Loss : [1.09256] Val Loss : [1.14196] Val F1 : [0.56290]\n"
     ]
    },
    {
     "name": "stderr",
     "output_type": "stream",
     "text": [
      "100%|██████████████████████████████████████████| 141/141 [00:37<00:00,  3.75it/s]\n",
      "100%|████████████████████████████████████████████| 16/16 [00:01<00:00, 10.86it/s]\n"
     ]
    },
    {
     "name": "stdout",
     "output_type": "stream",
     "text": [
      "Epoch [574], Train Loss : [1.08722] Val Loss : [1.14299] Val F1 : [0.55469]\n"
     ]
    },
    {
     "name": "stderr",
     "output_type": "stream",
     "text": [
      "100%|██████████████████████████████████████████| 141/141 [00:37<00:00,  3.75it/s]\n",
      "100%|████████████████████████████████████████████| 16/16 [00:01<00:00, 10.84it/s]\n"
     ]
    },
    {
     "name": "stdout",
     "output_type": "stream",
     "text": [
      "Epoch [575], Train Loss : [1.08951] Val Loss : [1.14157] Val F1 : [0.55684]\n"
     ]
    },
    {
     "name": "stderr",
     "output_type": "stream",
     "text": [
      "100%|██████████████████████████████████████████| 141/141 [00:37<00:00,  3.74it/s]\n",
      "100%|████████████████████████████████████████████| 16/16 [00:01<00:00, 10.78it/s]\n"
     ]
    },
    {
     "name": "stdout",
     "output_type": "stream",
     "text": [
      "Epoch [576], Train Loss : [1.09036] Val Loss : [1.14174] Val F1 : [0.55557]\n"
     ]
    },
    {
     "name": "stderr",
     "output_type": "stream",
     "text": [
      "100%|██████████████████████████████████████████| 141/141 [00:37<00:00,  3.75it/s]\n",
      "100%|████████████████████████████████████████████| 16/16 [00:01<00:00, 10.68it/s]\n"
     ]
    },
    {
     "name": "stdout",
     "output_type": "stream",
     "text": [
      "Epoch [577], Train Loss : [1.09046] Val Loss : [1.14166] Val F1 : [0.55849]\n"
     ]
    },
    {
     "name": "stderr",
     "output_type": "stream",
     "text": [
      "100%|██████████████████████████████████████████| 141/141 [00:37<00:00,  3.74it/s]\n",
      "100%|████████████████████████████████████████████| 16/16 [00:01<00:00, 10.56it/s]\n"
     ]
    },
    {
     "name": "stdout",
     "output_type": "stream",
     "text": [
      "Epoch [578], Train Loss : [1.09676] Val Loss : [1.14270] Val F1 : [0.55897]\n"
     ]
    },
    {
     "name": "stderr",
     "output_type": "stream",
     "text": [
      "100%|██████████████████████████████████████████| 141/141 [00:37<00:00,  3.75it/s]\n",
      "100%|████████████████████████████████████████████| 16/16 [00:01<00:00, 10.82it/s]\n"
     ]
    },
    {
     "name": "stdout",
     "output_type": "stream",
     "text": [
      "Epoch [579], Train Loss : [1.08944] Val Loss : [1.14263] Val F1 : [0.55806]\n"
     ]
    },
    {
     "name": "stderr",
     "output_type": "stream",
     "text": [
      "100%|██████████████████████████████████████████| 141/141 [00:37<00:00,  3.73it/s]\n",
      "100%|████████████████████████████████████████████| 16/16 [00:01<00:00, 10.52it/s]\n"
     ]
    },
    {
     "name": "stdout",
     "output_type": "stream",
     "text": [
      "Epoch [580], Train Loss : [1.08936] Val Loss : [1.14197] Val F1 : [0.55781]\n"
     ]
    },
    {
     "name": "stderr",
     "output_type": "stream",
     "text": [
      "100%|██████████████████████████████████████████| 141/141 [00:37<00:00,  3.75it/s]\n",
      "100%|████████████████████████████████████████████| 16/16 [00:01<00:00, 10.89it/s]\n"
     ]
    },
    {
     "name": "stdout",
     "output_type": "stream",
     "text": [
      "Epoch [581], Train Loss : [1.09272] Val Loss : [1.14191] Val F1 : [0.56293]\n"
     ]
    },
    {
     "name": "stderr",
     "output_type": "stream",
     "text": [
      "100%|██████████████████████████████████████████| 141/141 [00:37<00:00,  3.75it/s]\n",
      "100%|████████████████████████████████████████████| 16/16 [00:01<00:00, 10.87it/s]\n"
     ]
    },
    {
     "name": "stdout",
     "output_type": "stream",
     "text": [
      "Epoch [582], Train Loss : [1.09152] Val Loss : [1.14794] Val F1 : [0.54956]\n"
     ]
    },
    {
     "name": "stderr",
     "output_type": "stream",
     "text": [
      "100%|██████████████████████████████████████████| 141/141 [00:37<00:00,  3.75it/s]\n",
      "100%|████████████████████████████████████████████| 16/16 [00:01<00:00, 10.85it/s]\n"
     ]
    },
    {
     "name": "stdout",
     "output_type": "stream",
     "text": [
      "Epoch [583], Train Loss : [1.08620] Val Loss : [1.14432] Val F1 : [0.54959]\n"
     ]
    },
    {
     "name": "stderr",
     "output_type": "stream",
     "text": [
      "100%|██████████████████████████████████████████| 141/141 [00:37<00:00,  3.75it/s]\n",
      "100%|████████████████████████████████████████████| 16/16 [00:01<00:00, 10.86it/s]\n"
     ]
    },
    {
     "name": "stdout",
     "output_type": "stream",
     "text": [
      "Epoch [584], Train Loss : [1.08957] Val Loss : [1.14396] Val F1 : [0.56496]\n"
     ]
    },
    {
     "name": "stderr",
     "output_type": "stream",
     "text": [
      "100%|██████████████████████████████████████████| 141/141 [00:37<00:00,  3.73it/s]\n",
      "100%|████████████████████████████████████████████| 16/16 [00:01<00:00, 10.82it/s]\n"
     ]
    },
    {
     "name": "stdout",
     "output_type": "stream",
     "text": [
      "Epoch [585], Train Loss : [1.08989] Val Loss : [1.14294] Val F1 : [0.55569]\n"
     ]
    },
    {
     "name": "stderr",
     "output_type": "stream",
     "text": [
      "100%|██████████████████████████████████████████| 141/141 [00:37<00:00,  3.75it/s]\n",
      "100%|████████████████████████████████████████████| 16/16 [00:01<00:00, 10.76it/s]\n"
     ]
    },
    {
     "name": "stdout",
     "output_type": "stream",
     "text": [
      "Epoch [586], Train Loss : [1.09443] Val Loss : [1.14315] Val F1 : [0.56023]\n"
     ]
    },
    {
     "name": "stderr",
     "output_type": "stream",
     "text": [
      "100%|██████████████████████████████████████████| 141/141 [00:37<00:00,  3.75it/s]\n",
      "100%|████████████████████████████████████████████| 16/16 [00:01<00:00, 10.73it/s]\n"
     ]
    },
    {
     "name": "stdout",
     "output_type": "stream",
     "text": [
      "Epoch [587], Train Loss : [1.08360] Val Loss : [1.14169] Val F1 : [0.55880]\n"
     ]
    },
    {
     "name": "stderr",
     "output_type": "stream",
     "text": [
      "100%|██████████████████████████████████████████| 141/141 [00:37<00:00,  3.74it/s]\n",
      "100%|████████████████████████████████████████████| 16/16 [00:01<00:00, 10.22it/s]\n"
     ]
    },
    {
     "name": "stdout",
     "output_type": "stream",
     "text": [
      "Epoch [588], Train Loss : [1.09023] Val Loss : [1.14329] Val F1 : [0.56247]\n"
     ]
    },
    {
     "name": "stderr",
     "output_type": "stream",
     "text": [
      "100%|██████████████████████████████████████████| 141/141 [00:37<00:00,  3.73it/s]\n",
      "100%|████████████████████████████████████████████| 16/16 [00:01<00:00, 10.90it/s]\n"
     ]
    },
    {
     "name": "stdout",
     "output_type": "stream",
     "text": [
      "Epoch [589], Train Loss : [1.08775] Val Loss : [1.14228] Val F1 : [0.55720]\n"
     ]
    },
    {
     "name": "stderr",
     "output_type": "stream",
     "text": [
      "100%|██████████████████████████████████████████| 141/141 [00:37<00:00,  3.75it/s]\n",
      "100%|████████████████████████████████████████████| 16/16 [00:01<00:00, 10.84it/s]\n"
     ]
    },
    {
     "name": "stdout",
     "output_type": "stream",
     "text": [
      "Epoch [590], Train Loss : [1.09148] Val Loss : [1.14112] Val F1 : [0.55334]\n"
     ]
    },
    {
     "name": "stderr",
     "output_type": "stream",
     "text": [
      "100%|██████████████████████████████████████████| 141/141 [00:37<00:00,  3.75it/s]\n",
      "100%|████████████████████████████████████████████| 16/16 [00:01<00:00, 10.83it/s]\n"
     ]
    },
    {
     "name": "stdout",
     "output_type": "stream",
     "text": [
      "Epoch [591], Train Loss : [1.09143] Val Loss : [1.14312] Val F1 : [0.56477]\n"
     ]
    },
    {
     "name": "stderr",
     "output_type": "stream",
     "text": [
      "100%|██████████████████████████████████████████| 141/141 [00:37<00:00,  3.75it/s]\n",
      "100%|████████████████████████████████████████████| 16/16 [00:01<00:00, 10.93it/s]\n"
     ]
    },
    {
     "name": "stdout",
     "output_type": "stream",
     "text": [
      "Epoch [592], Train Loss : [1.08992] Val Loss : [1.14364] Val F1 : [0.55299]\n"
     ]
    },
    {
     "name": "stderr",
     "output_type": "stream",
     "text": [
      "100%|██████████████████████████████████████████| 141/141 [00:37<00:00,  3.75it/s]\n",
      "100%|████████████████████████████████████████████| 16/16 [00:01<00:00, 10.89it/s]\n"
     ]
    },
    {
     "name": "stdout",
     "output_type": "stream",
     "text": [
      "Epoch [593], Train Loss : [1.08731] Val Loss : [1.14665] Val F1 : [0.55472]\n"
     ]
    },
    {
     "name": "stderr",
     "output_type": "stream",
     "text": [
      "100%|██████████████████████████████████████████| 141/141 [00:37<00:00,  3.75it/s]\n",
      "100%|████████████████████████████████████████████| 16/16 [00:01<00:00, 10.91it/s]\n"
     ]
    },
    {
     "name": "stdout",
     "output_type": "stream",
     "text": [
      "Epoch [594], Train Loss : [1.08920] Val Loss : [1.14179] Val F1 : [0.55901]\n"
     ]
    },
    {
     "name": "stderr",
     "output_type": "stream",
     "text": [
      "100%|██████████████████████████████████████████| 141/141 [00:37<00:00,  3.75it/s]\n",
      "100%|████████████████████████████████████████████| 16/16 [00:01<00:00, 10.80it/s]\n"
     ]
    },
    {
     "name": "stdout",
     "output_type": "stream",
     "text": [
      "Epoch [595], Train Loss : [1.09376] Val Loss : [1.14169] Val F1 : [0.55266]\n"
     ]
    },
    {
     "name": "stderr",
     "output_type": "stream",
     "text": [
      "100%|██████████████████████████████████████████| 141/141 [00:37<00:00,  3.73it/s]\n",
      "100%|████████████████████████████████████████████| 16/16 [00:01<00:00, 10.59it/s]\n"
     ]
    },
    {
     "name": "stdout",
     "output_type": "stream",
     "text": [
      "Epoch [596], Train Loss : [1.08975] Val Loss : [1.14477] Val F1 : [0.55317]\n"
     ]
    },
    {
     "name": "stderr",
     "output_type": "stream",
     "text": [
      "100%|██████████████████████████████████████████| 141/141 [00:37<00:00,  3.74it/s]\n",
      "100%|████████████████████████████████████████████| 16/16 [00:01<00:00, 10.88it/s]\n"
     ]
    },
    {
     "name": "stdout",
     "output_type": "stream",
     "text": [
      "Epoch [597], Train Loss : [1.08246] Val Loss : [1.14153] Val F1 : [0.56085]\n"
     ]
    },
    {
     "name": "stderr",
     "output_type": "stream",
     "text": [
      "100%|██████████████████████████████████████████| 141/141 [00:37<00:00,  3.75it/s]\n",
      "100%|████████████████████████████████████████████| 16/16 [00:01<00:00, 10.75it/s]\n"
     ]
    },
    {
     "name": "stdout",
     "output_type": "stream",
     "text": [
      "Epoch [598], Train Loss : [1.08733] Val Loss : [1.14335] Val F1 : [0.55535]\n"
     ]
    },
    {
     "name": "stderr",
     "output_type": "stream",
     "text": [
      "100%|██████████████████████████████████████████| 141/141 [00:37<00:00,  3.74it/s]\n",
      "100%|████████████████████████████████████████████| 16/16 [00:01<00:00, 10.77it/s]\n"
     ]
    },
    {
     "name": "stdout",
     "output_type": "stream",
     "text": [
      "Epoch [599], Train Loss : [1.09057] Val Loss : [1.14337] Val F1 : [0.55814]\n"
     ]
    },
    {
     "name": "stderr",
     "output_type": "stream",
     "text": [
      "100%|██████████████████████████████████████████| 141/141 [00:37<00:00,  3.73it/s]\n",
      "100%|████████████████████████████████████████████| 16/16 [00:01<00:00, 10.61it/s]\n"
     ]
    },
    {
     "name": "stdout",
     "output_type": "stream",
     "text": [
      "Epoch [600], Train Loss : [1.09293] Val Loss : [1.14132] Val F1 : [0.55544]\n"
     ]
    },
    {
     "name": "stderr",
     "output_type": "stream",
     "text": [
      "100%|██████████████████████████████████████████| 141/141 [00:37<00:00,  3.74it/s]\n",
      "100%|████████████████████████████████████████████| 16/16 [00:01<00:00, 10.84it/s]\n"
     ]
    },
    {
     "name": "stdout",
     "output_type": "stream",
     "text": [
      "Epoch [601], Train Loss : [1.08964] Val Loss : [1.14287] Val F1 : [0.55901]\n"
     ]
    },
    {
     "name": "stderr",
     "output_type": "stream",
     "text": [
      "100%|██████████████████████████████████████████| 141/141 [00:37<00:00,  3.74it/s]\n",
      "100%|████████████████████████████████████████████| 16/16 [00:01<00:00, 10.73it/s]\n"
     ]
    },
    {
     "name": "stdout",
     "output_type": "stream",
     "text": [
      "Epoch [602], Train Loss : [1.08714] Val Loss : [1.14203] Val F1 : [0.55642]\n"
     ]
    },
    {
     "name": "stderr",
     "output_type": "stream",
     "text": [
      "100%|██████████████████████████████████████████| 141/141 [00:37<00:00,  3.73it/s]\n",
      "100%|████████████████████████████████████████████| 16/16 [00:01<00:00, 10.65it/s]\n"
     ]
    },
    {
     "name": "stdout",
     "output_type": "stream",
     "text": [
      "Epoch [603], Train Loss : [1.09433] Val Loss : [1.14367] Val F1 : [0.55694]\n"
     ]
    },
    {
     "name": "stderr",
     "output_type": "stream",
     "text": [
      "100%|██████████████████████████████████████████| 141/141 [00:37<00:00,  3.74it/s]\n",
      "100%|████████████████████████████████████████████| 16/16 [00:01<00:00, 10.84it/s]\n"
     ]
    },
    {
     "name": "stdout",
     "output_type": "stream",
     "text": [
      "Epoch [604], Train Loss : [1.08891] Val Loss : [1.14284] Val F1 : [0.55714]\n"
     ]
    },
    {
     "name": "stderr",
     "output_type": "stream",
     "text": [
      "100%|██████████████████████████████████████████| 141/141 [00:37<00:00,  3.75it/s]\n",
      "100%|████████████████████████████████████████████| 16/16 [00:01<00:00, 10.93it/s]\n"
     ]
    },
    {
     "name": "stdout",
     "output_type": "stream",
     "text": [
      "Epoch [605], Train Loss : [1.08896] Val Loss : [1.14387] Val F1 : [0.55751]\n"
     ]
    },
    {
     "name": "stderr",
     "output_type": "stream",
     "text": [
      "100%|██████████████████████████████████████████| 141/141 [00:37<00:00,  3.75it/s]\n",
      "100%|████████████████████████████████████████████| 16/16 [00:01<00:00, 10.95it/s]\n"
     ]
    },
    {
     "name": "stdout",
     "output_type": "stream",
     "text": [
      "Epoch [606], Train Loss : [1.08714] Val Loss : [1.14280] Val F1 : [0.55444]\n"
     ]
    },
    {
     "name": "stderr",
     "output_type": "stream",
     "text": [
      "100%|██████████████████████████████████████████| 141/141 [00:37<00:00,  3.75it/s]\n",
      "100%|████████████████████████████████████████████| 16/16 [00:01<00:00, 10.79it/s]\n"
     ]
    },
    {
     "name": "stdout",
     "output_type": "stream",
     "text": [
      "Epoch [607], Train Loss : [1.08918] Val Loss : [1.14314] Val F1 : [0.55231]\n"
     ]
    },
    {
     "name": "stderr",
     "output_type": "stream",
     "text": [
      "100%|██████████████████████████████████████████| 141/141 [00:37<00:00,  3.75it/s]\n",
      "100%|████████████████████████████████████████████| 16/16 [00:01<00:00, 10.84it/s]\n"
     ]
    },
    {
     "name": "stdout",
     "output_type": "stream",
     "text": [
      "Epoch [608], Train Loss : [1.09095] Val Loss : [1.14290] Val F1 : [0.55877]\n"
     ]
    },
    {
     "name": "stderr",
     "output_type": "stream",
     "text": [
      "100%|██████████████████████████████████████████| 141/141 [00:37<00:00,  3.75it/s]\n",
      "100%|████████████████████████████████████████████| 16/16 [00:01<00:00, 10.79it/s]\n"
     ]
    },
    {
     "name": "stdout",
     "output_type": "stream",
     "text": [
      "Epoch [609], Train Loss : [1.09199] Val Loss : [1.14193] Val F1 : [0.56133]\n"
     ]
    },
    {
     "name": "stderr",
     "output_type": "stream",
     "text": [
      "100%|██████████████████████████████████████████| 141/141 [00:37<00:00,  3.75it/s]\n",
      "100%|████████████████████████████████████████████| 16/16 [00:01<00:00, 10.80it/s]\n"
     ]
    },
    {
     "name": "stdout",
     "output_type": "stream",
     "text": [
      "Epoch [610], Train Loss : [1.09136] Val Loss : [1.14382] Val F1 : [0.55522]\n"
     ]
    },
    {
     "name": "stderr",
     "output_type": "stream",
     "text": [
      "100%|██████████████████████████████████████████| 141/141 [00:37<00:00,  3.75it/s]\n",
      "100%|████████████████████████████████████████████| 16/16 [00:01<00:00, 10.57it/s]\n"
     ]
    },
    {
     "name": "stdout",
     "output_type": "stream",
     "text": [
      "Epoch [611], Train Loss : [1.08948] Val Loss : [1.14153] Val F1 : [0.56106]\n"
     ]
    },
    {
     "name": "stderr",
     "output_type": "stream",
     "text": [
      "100%|██████████████████████████████████████████| 141/141 [00:37<00:00,  3.74it/s]\n",
      "100%|████████████████████████████████████████████| 16/16 [00:01<00:00, 10.61it/s]\n"
     ]
    },
    {
     "name": "stdout",
     "output_type": "stream",
     "text": [
      "Epoch [612], Train Loss : [1.08896] Val Loss : [1.14160] Val F1 : [0.56143]\n"
     ]
    },
    {
     "name": "stderr",
     "output_type": "stream",
     "text": [
      "100%|██████████████████████████████████████████| 141/141 [00:37<00:00,  3.74it/s]\n",
      "100%|████████████████████████████████████████████| 16/16 [00:01<00:00, 10.69it/s]\n"
     ]
    },
    {
     "name": "stdout",
     "output_type": "stream",
     "text": [
      "Epoch [613], Train Loss : [1.09324] Val Loss : [1.14332] Val F1 : [0.55216]\n"
     ]
    },
    {
     "name": "stderr",
     "output_type": "stream",
     "text": [
      "100%|██████████████████████████████████████████| 141/141 [00:37<00:00,  3.75it/s]\n",
      "100%|████████████████████████████████████████████| 16/16 [00:01<00:00, 10.92it/s]\n"
     ]
    },
    {
     "name": "stdout",
     "output_type": "stream",
     "text": [
      "Epoch [614], Train Loss : [1.09112] Val Loss : [1.14163] Val F1 : [0.56241]\n"
     ]
    },
    {
     "name": "stderr",
     "output_type": "stream",
     "text": [
      "100%|██████████████████████████████████████████| 141/141 [00:37<00:00,  3.75it/s]\n",
      "100%|████████████████████████████████████████████| 16/16 [00:01<00:00, 10.88it/s]\n"
     ]
    },
    {
     "name": "stdout",
     "output_type": "stream",
     "text": [
      "Epoch [615], Train Loss : [1.09386] Val Loss : [1.14477] Val F1 : [0.54723]\n"
     ]
    },
    {
     "name": "stderr",
     "output_type": "stream",
     "text": [
      "100%|██████████████████████████████████████████| 141/141 [00:37<00:00,  3.75it/s]\n",
      "100%|████████████████████████████████████████████| 16/16 [00:01<00:00, 10.75it/s]\n"
     ]
    },
    {
     "name": "stdout",
     "output_type": "stream",
     "text": [
      "Epoch [616], Train Loss : [1.08939] Val Loss : [1.14144] Val F1 : [0.55791]\n"
     ]
    },
    {
     "name": "stderr",
     "output_type": "stream",
     "text": [
      "100%|██████████████████████████████████████████| 141/141 [00:37<00:00,  3.75it/s]\n",
      "100%|████████████████████████████████████████████| 16/16 [00:01<00:00, 10.87it/s]\n"
     ]
    },
    {
     "name": "stdout",
     "output_type": "stream",
     "text": [
      "Epoch [617], Train Loss : [1.08907] Val Loss : [1.14224] Val F1 : [0.56102]\n"
     ]
    },
    {
     "name": "stderr",
     "output_type": "stream",
     "text": [
      "100%|██████████████████████████████████████████| 141/141 [00:37<00:00,  3.73it/s]\n",
      "100%|████████████████████████████████████████████| 16/16 [00:01<00:00, 10.76it/s]\n"
     ]
    },
    {
     "name": "stdout",
     "output_type": "stream",
     "text": [
      "Epoch [618], Train Loss : [1.08580] Val Loss : [1.14453] Val F1 : [0.55759]\n"
     ]
    },
    {
     "name": "stderr",
     "output_type": "stream",
     "text": [
      "100%|██████████████████████████████████████████| 141/141 [00:37<00:00,  3.75it/s]\n",
      "100%|████████████████████████████████████████████| 16/16 [00:01<00:00, 10.81it/s]\n"
     ]
    },
    {
     "name": "stdout",
     "output_type": "stream",
     "text": [
      "Epoch [619], Train Loss : [1.09137] Val Loss : [1.14294] Val F1 : [0.56330]\n"
     ]
    },
    {
     "name": "stderr",
     "output_type": "stream",
     "text": [
      "100%|██████████████████████████████████████████| 141/141 [00:37<00:00,  3.75it/s]\n",
      "100%|████████████████████████████████████████████| 16/16 [00:01<00:00, 10.84it/s]\n"
     ]
    },
    {
     "name": "stdout",
     "output_type": "stream",
     "text": [
      "Epoch [620], Train Loss : [1.09298] Val Loss : [1.14420] Val F1 : [0.55977]\n"
     ]
    },
    {
     "name": "stderr",
     "output_type": "stream",
     "text": [
      "100%|██████████████████████████████████████████| 141/141 [00:37<00:00,  3.75it/s]\n",
      "100%|████████████████████████████████████████████| 16/16 [00:01<00:00, 10.74it/s]\n"
     ]
    },
    {
     "name": "stdout",
     "output_type": "stream",
     "text": [
      "Epoch [621], Train Loss : [1.08853] Val Loss : [1.14095] Val F1 : [0.55919]\n"
     ]
    },
    {
     "name": "stderr",
     "output_type": "stream",
     "text": [
      "100%|██████████████████████████████████████████| 141/141 [00:37<00:00,  3.75it/s]\n",
      "100%|████████████████████████████████████████████| 16/16 [00:01<00:00, 10.80it/s]\n"
     ]
    },
    {
     "name": "stdout",
     "output_type": "stream",
     "text": [
      "Epoch [622], Train Loss : [1.08984] Val Loss : [1.14360] Val F1 : [0.55314]\n"
     ]
    },
    {
     "name": "stderr",
     "output_type": "stream",
     "text": [
      "100%|██████████████████████████████████████████| 141/141 [00:37<00:00,  3.74it/s]\n",
      "100%|████████████████████████████████████████████| 16/16 [00:01<00:00, 10.75it/s]\n"
     ]
    },
    {
     "name": "stdout",
     "output_type": "stream",
     "text": [
      "Epoch [623], Train Loss : [1.08779] Val Loss : [1.14168] Val F1 : [0.56268]\n"
     ]
    },
    {
     "name": "stderr",
     "output_type": "stream",
     "text": [
      "100%|██████████████████████████████████████████| 141/141 [00:37<00:00,  3.75it/s]\n",
      "100%|████████████████████████████████████████████| 16/16 [00:01<00:00, 10.88it/s]\n"
     ]
    },
    {
     "name": "stdout",
     "output_type": "stream",
     "text": [
      "Epoch [624], Train Loss : [1.09112] Val Loss : [1.14324] Val F1 : [0.56466]\n"
     ]
    },
    {
     "name": "stderr",
     "output_type": "stream",
     "text": [
      "100%|██████████████████████████████████████████| 141/141 [00:37<00:00,  3.75it/s]\n",
      "100%|████████████████████████████████████████████| 16/16 [00:01<00:00, 10.85it/s]\n"
     ]
    },
    {
     "name": "stdout",
     "output_type": "stream",
     "text": [
      "Epoch [625], Train Loss : [1.09014] Val Loss : [1.14133] Val F1 : [0.56063]\n"
     ]
    },
    {
     "name": "stderr",
     "output_type": "stream",
     "text": [
      "100%|██████████████████████████████████████████| 141/141 [00:37<00:00,  3.75it/s]\n",
      "100%|████████████████████████████████████████████| 16/16 [00:01<00:00, 10.59it/s]\n"
     ]
    },
    {
     "name": "stdout",
     "output_type": "stream",
     "text": [
      "Epoch [626], Train Loss : [1.09417] Val Loss : [1.14374] Val F1 : [0.55225]\n"
     ]
    },
    {
     "name": "stderr",
     "output_type": "stream",
     "text": [
      "100%|██████████████████████████████████████████| 141/141 [00:37<00:00,  3.74it/s]\n",
      "100%|████████████████████████████████████████████| 16/16 [00:01<00:00, 10.88it/s]\n"
     ]
    },
    {
     "name": "stdout",
     "output_type": "stream",
     "text": [
      "Epoch [627], Train Loss : [1.08615] Val Loss : [1.14198] Val F1 : [0.56185]\n"
     ]
    },
    {
     "name": "stderr",
     "output_type": "stream",
     "text": [
      "100%|██████████████████████████████████████████| 141/141 [00:37<00:00,  3.75it/s]\n",
      "100%|████████████████████████████████████████████| 16/16 [00:01<00:00, 10.93it/s]\n"
     ]
    },
    {
     "name": "stdout",
     "output_type": "stream",
     "text": [
      "Epoch [628], Train Loss : [1.08562] Val Loss : [1.14310] Val F1 : [0.55879]\n"
     ]
    },
    {
     "name": "stderr",
     "output_type": "stream",
     "text": [
      "100%|██████████████████████████████████████████| 141/141 [00:37<00:00,  3.75it/s]\n",
      "100%|████████████████████████████████████████████| 16/16 [00:01<00:00, 10.46it/s]\n"
     ]
    },
    {
     "name": "stdout",
     "output_type": "stream",
     "text": [
      "Epoch [629], Train Loss : [1.08658] Val Loss : [1.14179] Val F1 : [0.55968]\n"
     ]
    },
    {
     "name": "stderr",
     "output_type": "stream",
     "text": [
      "100%|██████████████████████████████████████████| 141/141 [00:37<00:00,  3.75it/s]\n",
      "100%|████████████████████████████████████████████| 16/16 [00:01<00:00, 10.71it/s]\n"
     ]
    },
    {
     "name": "stdout",
     "output_type": "stream",
     "text": [
      "Epoch [630], Train Loss : [1.09562] Val Loss : [1.14267] Val F1 : [0.56352]\n"
     ]
    },
    {
     "name": "stderr",
     "output_type": "stream",
     "text": [
      "100%|██████████████████████████████████████████| 141/141 [00:37<00:00,  3.75it/s]\n",
      "100%|████████████████████████████████████████████| 16/16 [00:01<00:00, 10.84it/s]\n"
     ]
    },
    {
     "name": "stdout",
     "output_type": "stream",
     "text": [
      "Epoch [631], Train Loss : [1.08839] Val Loss : [1.14141] Val F1 : [0.55651]\n"
     ]
    },
    {
     "name": "stderr",
     "output_type": "stream",
     "text": [
      "100%|██████████████████████████████████████████| 141/141 [00:37<00:00,  3.75it/s]\n",
      "100%|████████████████████████████████████████████| 16/16 [00:01<00:00, 10.83it/s]\n"
     ]
    },
    {
     "name": "stdout",
     "output_type": "stream",
     "text": [
      "Epoch [632], Train Loss : [1.08848] Val Loss : [1.14208] Val F1 : [0.56300]\n"
     ]
    },
    {
     "name": "stderr",
     "output_type": "stream",
     "text": [
      "100%|██████████████████████████████████████████| 141/141 [00:37<00:00,  3.75it/s]\n",
      "100%|████████████████████████████████████████████| 16/16 [00:01<00:00, 10.07it/s]\n"
     ]
    },
    {
     "name": "stdout",
     "output_type": "stream",
     "text": [
      "Epoch [633], Train Loss : [1.08814] Val Loss : [1.14291] Val F1 : [0.56361]\n"
     ]
    },
    {
     "name": "stderr",
     "output_type": "stream",
     "text": [
      "100%|██████████████████████████████████████████| 141/141 [00:37<00:00,  3.75it/s]\n",
      "100%|████████████████████████████████████████████| 16/16 [00:01<00:00, 10.84it/s]\n"
     ]
    },
    {
     "name": "stdout",
     "output_type": "stream",
     "text": [
      "Epoch [634], Train Loss : [1.09317] Val Loss : [1.14276] Val F1 : [0.55368]\n"
     ]
    },
    {
     "name": "stderr",
     "output_type": "stream",
     "text": [
      "100%|██████████████████████████████████████████| 141/141 [00:37<00:00,  3.74it/s]\n",
      "100%|████████████████████████████████████████████| 16/16 [00:01<00:00, 10.64it/s]\n"
     ]
    },
    {
     "name": "stdout",
     "output_type": "stream",
     "text": [
      "Epoch [635], Train Loss : [1.08976] Val Loss : [1.14278] Val F1 : [0.55705]\n"
     ]
    },
    {
     "name": "stderr",
     "output_type": "stream",
     "text": [
      "100%|██████████████████████████████████████████| 141/141 [00:37<00:00,  3.74it/s]\n",
      "100%|████████████████████████████████████████████| 16/16 [00:01<00:00, 10.83it/s]\n"
     ]
    },
    {
     "name": "stdout",
     "output_type": "stream",
     "text": [
      "Epoch [636], Train Loss : [1.08981] Val Loss : [1.14281] Val F1 : [0.55700]\n"
     ]
    },
    {
     "name": "stderr",
     "output_type": "stream",
     "text": [
      "100%|██████████████████████████████████████████| 141/141 [00:37<00:00,  3.75it/s]\n",
      "100%|████████████████████████████████████████████| 16/16 [00:01<00:00, 10.78it/s]\n"
     ]
    },
    {
     "name": "stdout",
     "output_type": "stream",
     "text": [
      "Epoch [637], Train Loss : [1.08748] Val Loss : [1.14209] Val F1 : [0.55853]\n"
     ]
    },
    {
     "name": "stderr",
     "output_type": "stream",
     "text": [
      "100%|██████████████████████████████████████████| 141/141 [00:37<00:00,  3.74it/s]\n",
      "100%|████████████████████████████████████████████| 16/16 [00:01<00:00, 10.88it/s]\n"
     ]
    },
    {
     "name": "stdout",
     "output_type": "stream",
     "text": [
      "Epoch [638], Train Loss : [1.08819] Val Loss : [1.14212] Val F1 : [0.55391]\n"
     ]
    },
    {
     "name": "stderr",
     "output_type": "stream",
     "text": [
      "100%|██████████████████████████████████████████| 141/141 [00:37<00:00,  3.75it/s]\n",
      "100%|████████████████████████████████████████████| 16/16 [00:01<00:00, 10.91it/s]\n"
     ]
    },
    {
     "name": "stdout",
     "output_type": "stream",
     "text": [
      "Epoch [639], Train Loss : [1.09517] Val Loss : [1.14146] Val F1 : [0.55878]\n"
     ]
    },
    {
     "name": "stderr",
     "output_type": "stream",
     "text": [
      "100%|██████████████████████████████████████████| 141/141 [00:37<00:00,  3.75it/s]\n",
      "100%|████████████████████████████████████████████| 16/16 [00:01<00:00, 10.79it/s]\n"
     ]
    },
    {
     "name": "stdout",
     "output_type": "stream",
     "text": [
      "Epoch [640], Train Loss : [1.08483] Val Loss : [1.14222] Val F1 : [0.56135]\n"
     ]
    },
    {
     "name": "stderr",
     "output_type": "stream",
     "text": [
      "100%|██████████████████████████████████████████| 141/141 [00:37<00:00,  3.75it/s]\n",
      "100%|████████████████████████████████████████████| 16/16 [00:01<00:00, 10.86it/s]\n"
     ]
    },
    {
     "name": "stdout",
     "output_type": "stream",
     "text": [
      "Epoch [641], Train Loss : [1.09599] Val Loss : [1.14308] Val F1 : [0.55105]\n"
     ]
    },
    {
     "name": "stderr",
     "output_type": "stream",
     "text": [
      "100%|██████████████████████████████████████████| 141/141 [00:37<00:00,  3.75it/s]\n",
      "100%|████████████████████████████████████████████| 16/16 [00:01<00:00, 10.91it/s]\n"
     ]
    },
    {
     "name": "stdout",
     "output_type": "stream",
     "text": [
      "Epoch [642], Train Loss : [1.08436] Val Loss : [1.14151] Val F1 : [0.55758]\n"
     ]
    },
    {
     "name": "stderr",
     "output_type": "stream",
     "text": [
      "100%|██████████████████████████████████████████| 141/141 [00:37<00:00,  3.75it/s]\n",
      "100%|████████████████████████████████████████████| 16/16 [00:01<00:00, 10.81it/s]\n"
     ]
    },
    {
     "name": "stdout",
     "output_type": "stream",
     "text": [
      "Epoch [643], Train Loss : [1.08973] Val Loss : [1.14215] Val F1 : [0.55889]\n"
     ]
    },
    {
     "name": "stderr",
     "output_type": "stream",
     "text": [
      "100%|██████████████████████████████████████████| 141/141 [00:37<00:00,  3.75it/s]\n",
      "100%|████████████████████████████████████████████| 16/16 [00:01<00:00, 10.85it/s]\n"
     ]
    },
    {
     "name": "stdout",
     "output_type": "stream",
     "text": [
      "Epoch [644], Train Loss : [1.08789] Val Loss : [1.14492] Val F1 : [0.54706]\n"
     ]
    },
    {
     "name": "stderr",
     "output_type": "stream",
     "text": [
      "100%|██████████████████████████████████████████| 141/141 [00:37<00:00,  3.75it/s]\n",
      "100%|████████████████████████████████████████████| 16/16 [00:01<00:00, 10.82it/s]\n"
     ]
    },
    {
     "name": "stdout",
     "output_type": "stream",
     "text": [
      "Epoch [645], Train Loss : [1.09177] Val Loss : [1.14361] Val F1 : [0.55369]\n"
     ]
    },
    {
     "name": "stderr",
     "output_type": "stream",
     "text": [
      "100%|██████████████████████████████████████████| 141/141 [00:37<00:00,  3.75it/s]\n",
      "100%|████████████████████████████████████████████| 16/16 [00:01<00:00, 10.78it/s]\n"
     ]
    },
    {
     "name": "stdout",
     "output_type": "stream",
     "text": [
      "Epoch [646], Train Loss : [1.09688] Val Loss : [1.14262] Val F1 : [0.55903]\n"
     ]
    },
    {
     "name": "stderr",
     "output_type": "stream",
     "text": [
      "100%|██████████████████████████████████████████| 141/141 [00:37<00:00,  3.75it/s]\n",
      "100%|████████████████████████████████████████████| 16/16 [00:01<00:00, 10.87it/s]\n"
     ]
    },
    {
     "name": "stdout",
     "output_type": "stream",
     "text": [
      "Epoch [647], Train Loss : [1.09613] Val Loss : [1.14422] Val F1 : [0.56523]\n"
     ]
    },
    {
     "name": "stderr",
     "output_type": "stream",
     "text": [
      "100%|██████████████████████████████████████████| 141/141 [00:37<00:00,  3.75it/s]\n",
      "100%|████████████████████████████████████████████| 16/16 [00:01<00:00, 10.66it/s]\n"
     ]
    },
    {
     "name": "stdout",
     "output_type": "stream",
     "text": [
      "Epoch [648], Train Loss : [1.09317] Val Loss : [1.14219] Val F1 : [0.55359]\n"
     ]
    },
    {
     "name": "stderr",
     "output_type": "stream",
     "text": [
      "100%|██████████████████████████████████████████| 141/141 [00:37<00:00,  3.75it/s]\n",
      "100%|████████████████████████████████████████████| 16/16 [00:01<00:00, 10.89it/s]\n"
     ]
    },
    {
     "name": "stdout",
     "output_type": "stream",
     "text": [
      "Epoch [649], Train Loss : [1.09333] Val Loss : [1.14560] Val F1 : [0.54999]\n"
     ]
    },
    {
     "name": "stderr",
     "output_type": "stream",
     "text": [
      "100%|██████████████████████████████████████████| 141/141 [00:37<00:00,  3.73it/s]\n",
      "100%|████████████████████████████████████████████| 16/16 [00:01<00:00, 10.61it/s]\n"
     ]
    },
    {
     "name": "stdout",
     "output_type": "stream",
     "text": [
      "Epoch [650], Train Loss : [1.08872] Val Loss : [1.14382] Val F1 : [0.55142]\n"
     ]
    },
    {
     "name": "stderr",
     "output_type": "stream",
     "text": [
      "100%|██████████████████████████████████████████| 141/141 [00:37<00:00,  3.75it/s]\n",
      "100%|████████████████████████████████████████████| 16/16 [00:01<00:00, 10.81it/s]\n"
     ]
    },
    {
     "name": "stdout",
     "output_type": "stream",
     "text": [
      "Epoch [651], Train Loss : [1.08875] Val Loss : [1.14257] Val F1 : [0.55700]\n"
     ]
    },
    {
     "name": "stderr",
     "output_type": "stream",
     "text": [
      "100%|██████████████████████████████████████████| 141/141 [00:37<00:00,  3.73it/s]\n",
      "100%|████████████████████████████████████████████| 16/16 [00:01<00:00, 10.59it/s]\n"
     ]
    },
    {
     "name": "stdout",
     "output_type": "stream",
     "text": [
      "Epoch [652], Train Loss : [1.09134] Val Loss : [1.14229] Val F1 : [0.55544]\n"
     ]
    },
    {
     "name": "stderr",
     "output_type": "stream",
     "text": [
      "100%|██████████████████████████████████████████| 141/141 [00:37<00:00,  3.73it/s]\n",
      "100%|████████████████████████████████████████████| 16/16 [00:01<00:00, 10.61it/s]\n"
     ]
    },
    {
     "name": "stdout",
     "output_type": "stream",
     "text": [
      "Epoch [653], Train Loss : [1.09270] Val Loss : [1.14179] Val F1 : [0.56210]\n"
     ]
    },
    {
     "name": "stderr",
     "output_type": "stream",
     "text": [
      "100%|██████████████████████████████████████████| 141/141 [00:37<00:00,  3.75it/s]\n",
      "100%|████████████████████████████████████████████| 16/16 [00:01<00:00, 10.80it/s]\n"
     ]
    },
    {
     "name": "stdout",
     "output_type": "stream",
     "text": [
      "Epoch [654], Train Loss : [1.08728] Val Loss : [1.14240] Val F1 : [0.56028]\n"
     ]
    },
    {
     "name": "stderr",
     "output_type": "stream",
     "text": [
      "100%|██████████████████████████████████████████| 141/141 [00:37<00:00,  3.75it/s]\n",
      "100%|████████████████████████████████████████████| 16/16 [00:01<00:00, 10.83it/s]\n"
     ]
    },
    {
     "name": "stdout",
     "output_type": "stream",
     "text": [
      "Epoch [655], Train Loss : [1.09387] Val Loss : [1.14190] Val F1 : [0.55795]\n"
     ]
    },
    {
     "name": "stderr",
     "output_type": "stream",
     "text": [
      "100%|██████████████████████████████████████████| 141/141 [00:37<00:00,  3.75it/s]\n",
      "100%|████████████████████████████████████████████| 16/16 [00:01<00:00, 10.75it/s]\n"
     ]
    },
    {
     "name": "stdout",
     "output_type": "stream",
     "text": [
      "Epoch [656], Train Loss : [1.08747] Val Loss : [1.14209] Val F1 : [0.55889]\n"
     ]
    },
    {
     "name": "stderr",
     "output_type": "stream",
     "text": [
      "100%|██████████████████████████████████████████| 141/141 [00:37<00:00,  3.73it/s]\n",
      "100%|████████████████████████████████████████████| 16/16 [00:01<00:00, 10.59it/s]\n"
     ]
    },
    {
     "name": "stdout",
     "output_type": "stream",
     "text": [
      "Epoch [657], Train Loss : [1.08824] Val Loss : [1.14184] Val F1 : [0.56378]\n"
     ]
    },
    {
     "name": "stderr",
     "output_type": "stream",
     "text": [
      "100%|██████████████████████████████████████████| 141/141 [00:37<00:00,  3.73it/s]\n",
      "100%|████████████████████████████████████████████| 16/16 [00:01<00:00, 10.87it/s]\n"
     ]
    },
    {
     "name": "stdout",
     "output_type": "stream",
     "text": [
      "Epoch [658], Train Loss : [1.09434] Val Loss : [1.14235] Val F1 : [0.56538]\n"
     ]
    },
    {
     "name": "stderr",
     "output_type": "stream",
     "text": [
      "100%|██████████████████████████████████████████| 141/141 [00:37<00:00,  3.74it/s]\n",
      "100%|████████████████████████████████████████████| 16/16 [00:01<00:00, 10.91it/s]\n"
     ]
    },
    {
     "name": "stdout",
     "output_type": "stream",
     "text": [
      "Epoch [659], Train Loss : [1.08802] Val Loss : [1.14182] Val F1 : [0.56090]\n"
     ]
    },
    {
     "name": "stderr",
     "output_type": "stream",
     "text": [
      "100%|██████████████████████████████████████████| 141/141 [00:37<00:00,  3.75it/s]\n",
      "100%|████████████████████████████████████████████| 16/16 [00:01<00:00, 10.91it/s]\n"
     ]
    },
    {
     "name": "stdout",
     "output_type": "stream",
     "text": [
      "Epoch [660], Train Loss : [1.09421] Val Loss : [1.14596] Val F1 : [0.54418]\n"
     ]
    },
    {
     "name": "stderr",
     "output_type": "stream",
     "text": [
      "100%|██████████████████████████████████████████| 141/141 [00:37<00:00,  3.75it/s]\n",
      "100%|████████████████████████████████████████████| 16/16 [00:01<00:00, 10.80it/s]\n"
     ]
    },
    {
     "name": "stdout",
     "output_type": "stream",
     "text": [
      "Epoch [661], Train Loss : [1.09247] Val Loss : [1.14279] Val F1 : [0.55330]\n"
     ]
    },
    {
     "name": "stderr",
     "output_type": "stream",
     "text": [
      "100%|██████████████████████████████████████████| 141/141 [00:37<00:00,  3.75it/s]\n",
      "100%|████████████████████████████████████████████| 16/16 [00:01<00:00, 10.63it/s]\n"
     ]
    },
    {
     "name": "stdout",
     "output_type": "stream",
     "text": [
      "Epoch [662], Train Loss : [1.09212] Val Loss : [1.14229] Val F1 : [0.56152]\n"
     ]
    },
    {
     "name": "stderr",
     "output_type": "stream",
     "text": [
      "100%|██████████████████████████████████████████| 141/141 [00:37<00:00,  3.75it/s]\n",
      "100%|████████████████████████████████████████████| 16/16 [00:01<00:00, 10.62it/s]\n"
     ]
    },
    {
     "name": "stdout",
     "output_type": "stream",
     "text": [
      "Epoch [663], Train Loss : [1.08767] Val Loss : [1.14124] Val F1 : [0.56353]\n"
     ]
    },
    {
     "name": "stderr",
     "output_type": "stream",
     "text": [
      "100%|██████████████████████████████████████████| 141/141 [00:37<00:00,  3.74it/s]\n",
      "100%|████████████████████████████████████████████| 16/16 [00:01<00:00, 10.90it/s]\n"
     ]
    },
    {
     "name": "stdout",
     "output_type": "stream",
     "text": [
      "Epoch [664], Train Loss : [1.09102] Val Loss : [1.14319] Val F1 : [0.56127]\n"
     ]
    },
    {
     "name": "stderr",
     "output_type": "stream",
     "text": [
      "100%|██████████████████████████████████████████| 141/141 [00:37<00:00,  3.75it/s]\n",
      "100%|████████████████████████████████████████████| 16/16 [00:01<00:00, 10.91it/s]\n"
     ]
    },
    {
     "name": "stdout",
     "output_type": "stream",
     "text": [
      "Epoch [665], Train Loss : [1.08575] Val Loss : [1.14189] Val F1 : [0.55919]\n"
     ]
    },
    {
     "name": "stderr",
     "output_type": "stream",
     "text": [
      "100%|██████████████████████████████████████████| 141/141 [00:37<00:00,  3.75it/s]\n",
      "100%|████████████████████████████████████████████| 16/16 [00:01<00:00, 10.79it/s]\n"
     ]
    },
    {
     "name": "stdout",
     "output_type": "stream",
     "text": [
      "Epoch [666], Train Loss : [1.09244] Val Loss : [1.14337] Val F1 : [0.56122]\n"
     ]
    },
    {
     "name": "stderr",
     "output_type": "stream",
     "text": [
      "100%|██████████████████████████████████████████| 141/141 [00:37<00:00,  3.75it/s]\n",
      "100%|████████████████████████████████████████████| 16/16 [00:01<00:00, 10.89it/s]\n"
     ]
    },
    {
     "name": "stdout",
     "output_type": "stream",
     "text": [
      "Epoch [667], Train Loss : [1.08839] Val Loss : [1.14465] Val F1 : [0.55421]\n"
     ]
    },
    {
     "name": "stderr",
     "output_type": "stream",
     "text": [
      "100%|██████████████████████████████████████████| 141/141 [00:37<00:00,  3.75it/s]\n",
      "100%|████████████████████████████████████████████| 16/16 [00:01<00:00, 10.82it/s]\n"
     ]
    },
    {
     "name": "stdout",
     "output_type": "stream",
     "text": [
      "Epoch [668], Train Loss : [1.08910] Val Loss : [1.14161] Val F1 : [0.55876]\n"
     ]
    },
    {
     "name": "stderr",
     "output_type": "stream",
     "text": [
      "100%|██████████████████████████████████████████| 141/141 [00:37<00:00,  3.74it/s]\n",
      "100%|████████████████████████████████████████████| 16/16 [00:01<00:00, 10.86it/s]\n"
     ]
    },
    {
     "name": "stdout",
     "output_type": "stream",
     "text": [
      "Epoch [669], Train Loss : [1.08910] Val Loss : [1.14093] Val F1 : [0.55585]\n"
     ]
    },
    {
     "name": "stderr",
     "output_type": "stream",
     "text": [
      "100%|██████████████████████████████████████████| 141/141 [00:37<00:00,  3.75it/s]\n",
      "100%|████████████████████████████████████████████| 16/16 [00:01<00:00, 10.86it/s]\n"
     ]
    },
    {
     "name": "stdout",
     "output_type": "stream",
     "text": [
      "Epoch [670], Train Loss : [1.08758] Val Loss : [1.14391] Val F1 : [0.55545]\n"
     ]
    },
    {
     "name": "stderr",
     "output_type": "stream",
     "text": [
      "100%|██████████████████████████████████████████| 141/141 [00:37<00:00,  3.75it/s]\n",
      "100%|████████████████████████████████████████████| 16/16 [00:01<00:00, 10.80it/s]\n"
     ]
    },
    {
     "name": "stdout",
     "output_type": "stream",
     "text": [
      "Epoch [671], Train Loss : [1.08917] Val Loss : [1.14543] Val F1 : [0.54754]\n"
     ]
    },
    {
     "name": "stderr",
     "output_type": "stream",
     "text": [
      "100%|██████████████████████████████████████████| 141/141 [00:37<00:00,  3.74it/s]\n",
      "100%|████████████████████████████████████████████| 16/16 [00:01<00:00, 10.91it/s]\n"
     ]
    },
    {
     "name": "stdout",
     "output_type": "stream",
     "text": [
      "Epoch [672], Train Loss : [1.08997] Val Loss : [1.14300] Val F1 : [0.56091]\n"
     ]
    },
    {
     "name": "stderr",
     "output_type": "stream",
     "text": [
      "100%|██████████████████████████████████████████| 141/141 [00:37<00:00,  3.75it/s]\n",
      "100%|████████████████████████████████████████████| 16/16 [00:01<00:00, 10.90it/s]\n"
     ]
    },
    {
     "name": "stdout",
     "output_type": "stream",
     "text": [
      "Epoch [673], Train Loss : [1.08567] Val Loss : [1.14363] Val F1 : [0.55470]\n"
     ]
    },
    {
     "name": "stderr",
     "output_type": "stream",
     "text": [
      "100%|██████████████████████████████████████████| 141/141 [00:37<00:00,  3.74it/s]\n",
      "100%|████████████████████████████████████████████| 16/16 [00:01<00:00, 10.87it/s]\n"
     ]
    },
    {
     "name": "stdout",
     "output_type": "stream",
     "text": [
      "Epoch [674], Train Loss : [1.08551] Val Loss : [1.14295] Val F1 : [0.55578]\n"
     ]
    },
    {
     "name": "stderr",
     "output_type": "stream",
     "text": [
      "100%|██████████████████████████████████████████| 141/141 [00:37<00:00,  3.74it/s]\n",
      "100%|████████████████████████████████████████████| 16/16 [00:01<00:00, 10.75it/s]\n"
     ]
    },
    {
     "name": "stdout",
     "output_type": "stream",
     "text": [
      "Epoch [675], Train Loss : [1.09361] Val Loss : [1.14279] Val F1 : [0.55455]\n"
     ]
    },
    {
     "name": "stderr",
     "output_type": "stream",
     "text": [
      "100%|██████████████████████████████████████████| 141/141 [00:37<00:00,  3.73it/s]\n",
      "100%|████████████████████████████████████████████| 16/16 [00:01<00:00, 10.63it/s]\n"
     ]
    },
    {
     "name": "stdout",
     "output_type": "stream",
     "text": [
      "Epoch [676], Train Loss : [1.09257] Val Loss : [1.14113] Val F1 : [0.55838]\n"
     ]
    },
    {
     "name": "stderr",
     "output_type": "stream",
     "text": [
      "100%|██████████████████████████████████████████| 141/141 [00:37<00:00,  3.75it/s]\n",
      "100%|████████████████████████████████████████████| 16/16 [00:01<00:00, 10.85it/s]\n"
     ]
    },
    {
     "name": "stdout",
     "output_type": "stream",
     "text": [
      "Epoch [677], Train Loss : [1.08312] Val Loss : [1.14198] Val F1 : [0.56452]\n"
     ]
    },
    {
     "name": "stderr",
     "output_type": "stream",
     "text": [
      "100%|██████████████████████████████████████████| 141/141 [00:37<00:00,  3.75it/s]\n",
      "100%|████████████████████████████████████████████| 16/16 [00:01<00:00, 10.82it/s]\n"
     ]
    },
    {
     "name": "stdout",
     "output_type": "stream",
     "text": [
      "Epoch [678], Train Loss : [1.08753] Val Loss : [1.14440] Val F1 : [0.54351]\n"
     ]
    },
    {
     "name": "stderr",
     "output_type": "stream",
     "text": [
      "100%|██████████████████████████████████████████| 141/141 [00:37<00:00,  3.75it/s]\n",
      "100%|████████████████████████████████████████████| 16/16 [00:01<00:00, 10.50it/s]\n"
     ]
    },
    {
     "name": "stdout",
     "output_type": "stream",
     "text": [
      "Epoch [679], Train Loss : [1.09025] Val Loss : [1.14342] Val F1 : [0.55299]\n"
     ]
    },
    {
     "name": "stderr",
     "output_type": "stream",
     "text": [
      "100%|██████████████████████████████████████████| 141/141 [00:37<00:00,  3.73it/s]\n",
      "100%|████████████████████████████████████████████| 16/16 [00:01<00:00, 10.48it/s]\n"
     ]
    },
    {
     "name": "stdout",
     "output_type": "stream",
     "text": [
      "Epoch [680], Train Loss : [1.09522] Val Loss : [1.14238] Val F1 : [0.55677]\n"
     ]
    },
    {
     "name": "stderr",
     "output_type": "stream",
     "text": [
      "100%|██████████████████████████████████████████| 141/141 [00:37<00:00,  3.74it/s]\n",
      "100%|████████████████████████████████████████████| 16/16 [00:01<00:00, 10.82it/s]\n"
     ]
    },
    {
     "name": "stdout",
     "output_type": "stream",
     "text": [
      "Epoch [681], Train Loss : [1.08553] Val Loss : [1.14252] Val F1 : [0.55964]\n"
     ]
    },
    {
     "name": "stderr",
     "output_type": "stream",
     "text": [
      "100%|██████████████████████████████████████████| 141/141 [00:37<00:00,  3.74it/s]\n",
      "100%|████████████████████████████████████████████| 16/16 [00:01<00:00, 10.58it/s]\n"
     ]
    },
    {
     "name": "stdout",
     "output_type": "stream",
     "text": [
      "Epoch [682], Train Loss : [1.08870] Val Loss : [1.14204] Val F1 : [0.56271]\n"
     ]
    },
    {
     "name": "stderr",
     "output_type": "stream",
     "text": [
      "100%|██████████████████████████████████████████| 141/141 [00:37<00:00,  3.74it/s]\n",
      "100%|████████████████████████████████████████████| 16/16 [00:01<00:00, 10.87it/s]\n"
     ]
    },
    {
     "name": "stdout",
     "output_type": "stream",
     "text": [
      "Epoch [683], Train Loss : [1.08467] Val Loss : [1.14420] Val F1 : [0.55511]\n"
     ]
    },
    {
     "name": "stderr",
     "output_type": "stream",
     "text": [
      "100%|██████████████████████████████████████████| 141/141 [00:37<00:00,  3.75it/s]\n",
      "100%|████████████████████████████████████████████| 16/16 [00:01<00:00, 10.86it/s]\n"
     ]
    },
    {
     "name": "stdout",
     "output_type": "stream",
     "text": [
      "Epoch [684], Train Loss : [1.10012] Val Loss : [1.14214] Val F1 : [0.56460]\n"
     ]
    },
    {
     "name": "stderr",
     "output_type": "stream",
     "text": [
      "100%|██████████████████████████████████████████| 141/141 [00:37<00:00,  3.75it/s]\n",
      "100%|████████████████████████████████████████████| 16/16 [00:01<00:00, 10.85it/s]\n"
     ]
    },
    {
     "name": "stdout",
     "output_type": "stream",
     "text": [
      "Epoch [685], Train Loss : [1.08665] Val Loss : [1.14271] Val F1 : [0.56815]\n"
     ]
    },
    {
     "name": "stderr",
     "output_type": "stream",
     "text": [
      "100%|██████████████████████████████████████████| 141/141 [00:37<00:00,  3.74it/s]\n",
      "100%|████████████████████████████████████████████| 16/16 [00:01<00:00, 10.78it/s]\n"
     ]
    },
    {
     "name": "stdout",
     "output_type": "stream",
     "text": [
      "Epoch [686], Train Loss : [1.08626] Val Loss : [1.14216] Val F1 : [0.56007]\n"
     ]
    },
    {
     "name": "stderr",
     "output_type": "stream",
     "text": [
      "100%|██████████████████████████████████████████| 141/141 [00:37<00:00,  3.74it/s]\n",
      "100%|████████████████████████████████████████████| 16/16 [00:01<00:00, 10.85it/s]\n"
     ]
    },
    {
     "name": "stdout",
     "output_type": "stream",
     "text": [
      "Epoch [687], Train Loss : [1.09063] Val Loss : [1.14452] Val F1 : [0.55004]\n"
     ]
    },
    {
     "name": "stderr",
     "output_type": "stream",
     "text": [
      "100%|██████████████████████████████████████████| 141/141 [00:37<00:00,  3.73it/s]\n",
      "100%|████████████████████████████████████████████| 16/16 [00:01<00:00, 10.58it/s]\n"
     ]
    },
    {
     "name": "stdout",
     "output_type": "stream",
     "text": [
      "Epoch [688], Train Loss : [1.09149] Val Loss : [1.14277] Val F1 : [0.55270]\n"
     ]
    },
    {
     "name": "stderr",
     "output_type": "stream",
     "text": [
      "100%|██████████████████████████████████████████| 141/141 [00:37<00:00,  3.73it/s]\n",
      "100%|████████████████████████████████████████████| 16/16 [00:01<00:00, 10.58it/s]\n"
     ]
    },
    {
     "name": "stdout",
     "output_type": "stream",
     "text": [
      "Epoch [689], Train Loss : [1.08705] Val Loss : [1.14513] Val F1 : [0.55240]\n"
     ]
    },
    {
     "name": "stderr",
     "output_type": "stream",
     "text": [
      "100%|██████████████████████████████████████████| 141/141 [00:37<00:00,  3.75it/s]\n",
      "100%|████████████████████████████████████████████| 16/16 [00:01<00:00, 10.74it/s]\n"
     ]
    },
    {
     "name": "stdout",
     "output_type": "stream",
     "text": [
      "Epoch [690], Train Loss : [1.08483] Val Loss : [1.14176] Val F1 : [0.55469]\n"
     ]
    },
    {
     "name": "stderr",
     "output_type": "stream",
     "text": [
      "100%|██████████████████████████████████████████| 141/141 [00:37<00:00,  3.75it/s]\n",
      "100%|████████████████████████████████████████████| 16/16 [00:01<00:00, 10.90it/s]\n"
     ]
    },
    {
     "name": "stdout",
     "output_type": "stream",
     "text": [
      "Epoch [691], Train Loss : [1.08734] Val Loss : [1.14324] Val F1 : [0.55988]\n"
     ]
    },
    {
     "name": "stderr",
     "output_type": "stream",
     "text": [
      "100%|██████████████████████████████████████████| 141/141 [00:37<00:00,  3.74it/s]\n",
      "100%|████████████████████████████████████████████| 16/16 [00:01<00:00, 10.86it/s]\n"
     ]
    },
    {
     "name": "stdout",
     "output_type": "stream",
     "text": [
      "Epoch [692], Train Loss : [1.08684] Val Loss : [1.14069] Val F1 : [0.55843]\n"
     ]
    },
    {
     "name": "stderr",
     "output_type": "stream",
     "text": [
      "100%|██████████████████████████████████████████| 141/141 [00:37<00:00,  3.74it/s]\n",
      "100%|████████████████████████████████████████████| 16/16 [00:01<00:00, 10.60it/s]\n"
     ]
    },
    {
     "name": "stdout",
     "output_type": "stream",
     "text": [
      "Epoch [693], Train Loss : [1.09063] Val Loss : [1.14084] Val F1 : [0.55885]\n"
     ]
    },
    {
     "name": "stderr",
     "output_type": "stream",
     "text": [
      "100%|██████████████████████████████████████████| 141/141 [00:37<00:00,  3.74it/s]\n",
      "100%|████████████████████████████████████████████| 16/16 [00:01<00:00, 10.86it/s]\n"
     ]
    },
    {
     "name": "stdout",
     "output_type": "stream",
     "text": [
      "Epoch [694], Train Loss : [1.09346] Val Loss : [1.14071] Val F1 : [0.56317]\n"
     ]
    },
    {
     "name": "stderr",
     "output_type": "stream",
     "text": [
      "100%|██████████████████████████████████████████| 141/141 [00:37<00:00,  3.75it/s]\n",
      "100%|████████████████████████████████████████████| 16/16 [00:01<00:00, 10.57it/s]\n"
     ]
    },
    {
     "name": "stdout",
     "output_type": "stream",
     "text": [
      "Epoch [695], Train Loss : [1.08912] Val Loss : [1.14140] Val F1 : [0.55666]\n"
     ]
    },
    {
     "name": "stderr",
     "output_type": "stream",
     "text": [
      "100%|██████████████████████████████████████████| 141/141 [00:37<00:00,  3.73it/s]\n",
      "100%|████████████████████████████████████████████| 16/16 [00:01<00:00, 10.78it/s]\n"
     ]
    },
    {
     "name": "stdout",
     "output_type": "stream",
     "text": [
      "Epoch [696], Train Loss : [1.08973] Val Loss : [1.14340] Val F1 : [0.55882]\n"
     ]
    },
    {
     "name": "stderr",
     "output_type": "stream",
     "text": [
      "100%|██████████████████████████████████████████| 141/141 [00:37<00:00,  3.75it/s]\n",
      "100%|████████████████████████████████████████████| 16/16 [00:01<00:00, 10.06it/s]\n"
     ]
    },
    {
     "name": "stdout",
     "output_type": "stream",
     "text": [
      "Epoch [697], Train Loss : [1.08647] Val Loss : [1.14207] Val F1 : [0.55658]\n"
     ]
    },
    {
     "name": "stderr",
     "output_type": "stream",
     "text": [
      "100%|██████████████████████████████████████████| 141/141 [00:37<00:00,  3.72it/s]\n",
      "100%|████████████████████████████████████████████| 16/16 [00:01<00:00, 10.60it/s]\n"
     ]
    },
    {
     "name": "stdout",
     "output_type": "stream",
     "text": [
      "Epoch [698], Train Loss : [1.09728] Val Loss : [1.14065] Val F1 : [0.56006]\n"
     ]
    },
    {
     "name": "stderr",
     "output_type": "stream",
     "text": [
      "100%|██████████████████████████████████████████| 141/141 [00:37<00:00,  3.75it/s]\n",
      "100%|████████████████████████████████████████████| 16/16 [00:01<00:00, 10.89it/s]\n"
     ]
    },
    {
     "name": "stdout",
     "output_type": "stream",
     "text": [
      "Epoch [699], Train Loss : [1.09186] Val Loss : [1.14387] Val F1 : [0.55508]\n"
     ]
    },
    {
     "name": "stderr",
     "output_type": "stream",
     "text": [
      "100%|██████████████████████████████████████████| 141/141 [00:37<00:00,  3.75it/s]\n",
      "100%|████████████████████████████████████████████| 16/16 [00:01<00:00, 10.89it/s]\n"
     ]
    },
    {
     "name": "stdout",
     "output_type": "stream",
     "text": [
      "Epoch [700], Train Loss : [1.08065] Val Loss : [1.14726] Val F1 : [0.54869]\n"
     ]
    },
    {
     "name": "stderr",
     "output_type": "stream",
     "text": [
      "100%|██████████████████████████████████████████| 141/141 [00:37<00:00,  3.75it/s]\n",
      "100%|████████████████████████████████████████████| 16/16 [00:01<00:00, 10.69it/s]\n"
     ]
    },
    {
     "name": "stdout",
     "output_type": "stream",
     "text": [
      "Epoch [701], Train Loss : [1.08929] Val Loss : [1.14338] Val F1 : [0.55921]\n"
     ]
    },
    {
     "name": "stderr",
     "output_type": "stream",
     "text": [
      "100%|██████████████████████████████████████████| 141/141 [00:37<00:00,  3.75it/s]\n",
      "100%|████████████████████████████████████████████| 16/16 [00:01<00:00, 10.88it/s]\n"
     ]
    },
    {
     "name": "stdout",
     "output_type": "stream",
     "text": [
      "Epoch [702], Train Loss : [1.08684] Val Loss : [1.14136] Val F1 : [0.56244]\n"
     ]
    },
    {
     "name": "stderr",
     "output_type": "stream",
     "text": [
      "100%|██████████████████████████████████████████| 141/141 [00:37<00:00,  3.75it/s]\n",
      "100%|████████████████████████████████████████████| 16/16 [00:01<00:00, 10.43it/s]\n"
     ]
    },
    {
     "name": "stdout",
     "output_type": "stream",
     "text": [
      "Epoch [703], Train Loss : [1.08851] Val Loss : [1.14401] Val F1 : [0.55379]\n"
     ]
    },
    {
     "name": "stderr",
     "output_type": "stream",
     "text": [
      "100%|██████████████████████████████████████████| 141/141 [00:37<00:00,  3.74it/s]\n",
      "100%|████████████████████████████████████████████| 16/16 [00:01<00:00, 10.88it/s]\n"
     ]
    },
    {
     "name": "stdout",
     "output_type": "stream",
     "text": [
      "Epoch [704], Train Loss : [1.09138] Val Loss : [1.14415] Val F1 : [0.55662]\n"
     ]
    },
    {
     "name": "stderr",
     "output_type": "stream",
     "text": [
      "100%|██████████████████████████████████████████| 141/141 [00:37<00:00,  3.74it/s]\n",
      "100%|████████████████████████████████████████████| 16/16 [00:01<00:00, 10.22it/s]\n"
     ]
    },
    {
     "name": "stdout",
     "output_type": "stream",
     "text": [
      "Epoch [705], Train Loss : [1.08530] Val Loss : [1.14362] Val F1 : [0.55724]\n"
     ]
    },
    {
     "name": "stderr",
     "output_type": "stream",
     "text": [
      "100%|██████████████████████████████████████████| 141/141 [00:37<00:00,  3.75it/s]\n",
      "100%|████████████████████████████████████████████| 16/16 [00:01<00:00, 10.88it/s]\n"
     ]
    },
    {
     "name": "stdout",
     "output_type": "stream",
     "text": [
      "Epoch [706], Train Loss : [1.09278] Val Loss : [1.14162] Val F1 : [0.55968]\n"
     ]
    },
    {
     "name": "stderr",
     "output_type": "stream",
     "text": [
      "100%|██████████████████████████████████████████| 141/141 [00:37<00:00,  3.75it/s]\n",
      "100%|████████████████████████████████████████████| 16/16 [00:01<00:00, 10.83it/s]\n"
     ]
    },
    {
     "name": "stdout",
     "output_type": "stream",
     "text": [
      "Epoch [707], Train Loss : [1.09309] Val Loss : [1.14337] Val F1 : [0.55748]\n"
     ]
    },
    {
     "name": "stderr",
     "output_type": "stream",
     "text": [
      "100%|██████████████████████████████████████████| 141/141 [00:37<00:00,  3.74it/s]\n",
      "100%|████████████████████████████████████████████| 16/16 [00:01<00:00, 10.72it/s]\n"
     ]
    },
    {
     "name": "stdout",
     "output_type": "stream",
     "text": [
      "Epoch [708], Train Loss : [1.08739] Val Loss : [1.14163] Val F1 : [0.55785]\n"
     ]
    },
    {
     "name": "stderr",
     "output_type": "stream",
     "text": [
      "100%|██████████████████████████████████████████| 141/141 [00:37<00:00,  3.74it/s]\n",
      "100%|████████████████████████████████████████████| 16/16 [00:01<00:00, 10.63it/s]\n"
     ]
    },
    {
     "name": "stdout",
     "output_type": "stream",
     "text": [
      "Epoch [709], Train Loss : [1.08720] Val Loss : [1.14309] Val F1 : [0.55923]\n"
     ]
    },
    {
     "name": "stderr",
     "output_type": "stream",
     "text": [
      "100%|██████████████████████████████████████████| 141/141 [00:37<00:00,  3.74it/s]\n",
      "100%|████████████████████████████████████████████| 16/16 [00:01<00:00, 10.59it/s]\n"
     ]
    },
    {
     "name": "stdout",
     "output_type": "stream",
     "text": [
      "Epoch [710], Train Loss : [1.08614] Val Loss : [1.14356] Val F1 : [0.55183]\n"
     ]
    },
    {
     "name": "stderr",
     "output_type": "stream",
     "text": [
      "100%|██████████████████████████████████████████| 141/141 [00:37<00:00,  3.73it/s]\n",
      "100%|████████████████████████████████████████████| 16/16 [00:01<00:00, 10.86it/s]\n"
     ]
    },
    {
     "name": "stdout",
     "output_type": "stream",
     "text": [
      "Epoch [711], Train Loss : [1.09232] Val Loss : [1.14382] Val F1 : [0.54803]\n"
     ]
    },
    {
     "name": "stderr",
     "output_type": "stream",
     "text": [
      "100%|██████████████████████████████████████████| 141/141 [00:37<00:00,  3.75it/s]\n",
      "100%|████████████████████████████████████████████| 16/16 [00:01<00:00, 10.75it/s]\n"
     ]
    },
    {
     "name": "stdout",
     "output_type": "stream",
     "text": [
      "Epoch [712], Train Loss : [1.08792] Val Loss : [1.14355] Val F1 : [0.54679]\n"
     ]
    },
    {
     "name": "stderr",
     "output_type": "stream",
     "text": [
      "100%|██████████████████████████████████████████| 141/141 [00:37<00:00,  3.75it/s]\n",
      "100%|████████████████████████████████████████████| 16/16 [00:01<00:00, 10.61it/s]\n"
     ]
    },
    {
     "name": "stdout",
     "output_type": "stream",
     "text": [
      "Epoch [713], Train Loss : [1.09472] Val Loss : [1.14179] Val F1 : [0.55860]\n"
     ]
    },
    {
     "name": "stderr",
     "output_type": "stream",
     "text": [
      "100%|██████████████████████████████████████████| 141/141 [00:37<00:00,  3.74it/s]\n",
      "100%|████████████████████████████████████████████| 16/16 [00:01<00:00, 10.63it/s]\n"
     ]
    },
    {
     "name": "stdout",
     "output_type": "stream",
     "text": [
      "Epoch [714], Train Loss : [1.08855] Val Loss : [1.14156] Val F1 : [0.55831]\n"
     ]
    },
    {
     "name": "stderr",
     "output_type": "stream",
     "text": [
      "100%|██████████████████████████████████████████| 141/141 [00:37<00:00,  3.75it/s]\n",
      "100%|████████████████████████████████████████████| 16/16 [00:01<00:00, 10.73it/s]\n"
     ]
    },
    {
     "name": "stdout",
     "output_type": "stream",
     "text": [
      "Epoch [715], Train Loss : [1.08952] Val Loss : [1.14208] Val F1 : [0.55654]\n"
     ]
    },
    {
     "name": "stderr",
     "output_type": "stream",
     "text": [
      "100%|██████████████████████████████████████████| 141/141 [00:37<00:00,  3.75it/s]\n",
      "100%|████████████████████████████████████████████| 16/16 [00:01<00:00, 10.80it/s]\n"
     ]
    },
    {
     "name": "stdout",
     "output_type": "stream",
     "text": [
      "Epoch [716], Train Loss : [1.08402] Val Loss : [1.14159] Val F1 : [0.55463]\n"
     ]
    },
    {
     "name": "stderr",
     "output_type": "stream",
     "text": [
      "100%|██████████████████████████████████████████| 141/141 [00:37<00:00,  3.75it/s]\n",
      "100%|████████████████████████████████████████████| 16/16 [00:01<00:00, 10.69it/s]\n"
     ]
    },
    {
     "name": "stdout",
     "output_type": "stream",
     "text": [
      "Epoch [717], Train Loss : [1.09399] Val Loss : [1.14219] Val F1 : [0.56249]\n"
     ]
    },
    {
     "name": "stderr",
     "output_type": "stream",
     "text": [
      "100%|██████████████████████████████████████████| 141/141 [00:37<00:00,  3.75it/s]\n",
      "100%|████████████████████████████████████████████| 16/16 [00:01<00:00, 10.85it/s]\n"
     ]
    },
    {
     "name": "stdout",
     "output_type": "stream",
     "text": [
      "Epoch [718], Train Loss : [1.08858] Val Loss : [1.14343] Val F1 : [0.55111]\n"
     ]
    },
    {
     "name": "stderr",
     "output_type": "stream",
     "text": [
      "100%|██████████████████████████████████████████| 141/141 [00:37<00:00,  3.74it/s]\n",
      "100%|████████████████████████████████████████████| 16/16 [00:01<00:00, 10.86it/s]\n"
     ]
    },
    {
     "name": "stdout",
     "output_type": "stream",
     "text": [
      "Epoch [719], Train Loss : [1.08824] Val Loss : [1.14400] Val F1 : [0.54750]\n"
     ]
    },
    {
     "name": "stderr",
     "output_type": "stream",
     "text": [
      "100%|██████████████████████████████████████████| 141/141 [00:37<00:00,  3.73it/s]\n",
      "100%|████████████████████████████████████████████| 16/16 [00:01<00:00, 10.79it/s]\n"
     ]
    },
    {
     "name": "stdout",
     "output_type": "stream",
     "text": [
      "Epoch [720], Train Loss : [1.08642] Val Loss : [1.14169] Val F1 : [0.56100]\n"
     ]
    },
    {
     "name": "stderr",
     "output_type": "stream",
     "text": [
      "100%|██████████████████████████████████████████| 141/141 [00:37<00:00,  3.73it/s]\n",
      "100%|████████████████████████████████████████████| 16/16 [00:01<00:00, 10.89it/s]\n"
     ]
    },
    {
     "name": "stdout",
     "output_type": "stream",
     "text": [
      "Epoch [721], Train Loss : [1.09152] Val Loss : [1.14356] Val F1 : [0.54264]\n"
     ]
    },
    {
     "name": "stderr",
     "output_type": "stream",
     "text": [
      "100%|██████████████████████████████████████████| 141/141 [00:37<00:00,  3.75it/s]\n",
      "100%|████████████████████████████████████████████| 16/16 [00:01<00:00, 10.76it/s]\n"
     ]
    },
    {
     "name": "stdout",
     "output_type": "stream",
     "text": [
      "Epoch [722], Train Loss : [1.08430] Val Loss : [1.14538] Val F1 : [0.54764]\n"
     ]
    },
    {
     "name": "stderr",
     "output_type": "stream",
     "text": [
      "100%|██████████████████████████████████████████| 141/141 [00:37<00:00,  3.75it/s]\n",
      "100%|████████████████████████████████████████████| 16/16 [00:01<00:00, 10.78it/s]\n"
     ]
    },
    {
     "name": "stdout",
     "output_type": "stream",
     "text": [
      "Epoch [723], Train Loss : [1.09188] Val Loss : [1.14241] Val F1 : [0.56301]\n"
     ]
    },
    {
     "name": "stderr",
     "output_type": "stream",
     "text": [
      "100%|██████████████████████████████████████████| 141/141 [00:37<00:00,  3.75it/s]\n",
      "100%|████████████████████████████████████████████| 16/16 [00:01<00:00, 10.92it/s]\n"
     ]
    },
    {
     "name": "stdout",
     "output_type": "stream",
     "text": [
      "Epoch [724], Train Loss : [1.08672] Val Loss : [1.14430] Val F1 : [0.55580]\n"
     ]
    },
    {
     "name": "stderr",
     "output_type": "stream",
     "text": [
      "100%|██████████████████████████████████████████| 141/141 [00:37<00:00,  3.74it/s]\n",
      "100%|████████████████████████████████████████████| 16/16 [00:01<00:00, 10.90it/s]\n"
     ]
    },
    {
     "name": "stdout",
     "output_type": "stream",
     "text": [
      "Epoch [725], Train Loss : [1.09073] Val Loss : [1.14149] Val F1 : [0.55995]\n"
     ]
    },
    {
     "name": "stderr",
     "output_type": "stream",
     "text": [
      "100%|██████████████████████████████████████████| 141/141 [00:37<00:00,  3.75it/s]\n",
      "100%|████████████████████████████████████████████| 16/16 [00:01<00:00, 10.94it/s]\n"
     ]
    },
    {
     "name": "stdout",
     "output_type": "stream",
     "text": [
      "Epoch [726], Train Loss : [1.08899] Val Loss : [1.14145] Val F1 : [0.55656]\n"
     ]
    },
    {
     "name": "stderr",
     "output_type": "stream",
     "text": [
      "100%|██████████████████████████████████████████| 141/141 [00:37<00:00,  3.75it/s]\n",
      "100%|████████████████████████████████████████████| 16/16 [00:01<00:00, 10.93it/s]\n"
     ]
    },
    {
     "name": "stdout",
     "output_type": "stream",
     "text": [
      "Epoch [727], Train Loss : [1.08597] Val Loss : [1.14206] Val F1 : [0.55966]\n"
     ]
    },
    {
     "name": "stderr",
     "output_type": "stream",
     "text": [
      "100%|██████████████████████████████████████████| 141/141 [00:37<00:00,  3.75it/s]\n",
      "100%|████████████████████████████████████████████| 16/16 [00:01<00:00, 10.86it/s]\n"
     ]
    },
    {
     "name": "stdout",
     "output_type": "stream",
     "text": [
      "Epoch [728], Train Loss : [1.08987] Val Loss : [1.14157] Val F1 : [0.56320]\n"
     ]
    },
    {
     "name": "stderr",
     "output_type": "stream",
     "text": [
      "100%|██████████████████████████████████████████| 141/141 [00:37<00:00,  3.75it/s]\n",
      "100%|████████████████████████████████████████████| 16/16 [00:01<00:00, 10.89it/s]\n"
     ]
    },
    {
     "name": "stdout",
     "output_type": "stream",
     "text": [
      "Epoch [729], Train Loss : [1.09263] Val Loss : [1.14197] Val F1 : [0.54625]\n"
     ]
    },
    {
     "name": "stderr",
     "output_type": "stream",
     "text": [
      "100%|██████████████████████████████████████████| 141/141 [00:37<00:00,  3.75it/s]\n",
      "100%|████████████████████████████████████████████| 16/16 [00:01<00:00, 10.74it/s]\n"
     ]
    },
    {
     "name": "stdout",
     "output_type": "stream",
     "text": [
      "Epoch [730], Train Loss : [1.08589] Val Loss : [1.14259] Val F1 : [0.55502]\n"
     ]
    },
    {
     "name": "stderr",
     "output_type": "stream",
     "text": [
      "100%|██████████████████████████████████████████| 141/141 [00:37<00:00,  3.75it/s]\n",
      "100%|████████████████████████████████████████████| 16/16 [00:01<00:00, 10.83it/s]\n"
     ]
    },
    {
     "name": "stdout",
     "output_type": "stream",
     "text": [
      "Epoch [731], Train Loss : [1.09369] Val Loss : [1.14390] Val F1 : [0.55058]\n"
     ]
    },
    {
     "name": "stderr",
     "output_type": "stream",
     "text": [
      "100%|██████████████████████████████████████████| 141/141 [00:37<00:00,  3.75it/s]\n",
      "100%|████████████████████████████████████████████| 16/16 [00:01<00:00, 10.90it/s]\n"
     ]
    },
    {
     "name": "stdout",
     "output_type": "stream",
     "text": [
      "Epoch [732], Train Loss : [1.08558] Val Loss : [1.14167] Val F1 : [0.56069]\n"
     ]
    },
    {
     "name": "stderr",
     "output_type": "stream",
     "text": [
      "100%|██████████████████████████████████████████| 141/141 [00:37<00:00,  3.75it/s]\n",
      "100%|████████████████████████████████████████████| 16/16 [00:01<00:00, 10.75it/s]\n"
     ]
    },
    {
     "name": "stdout",
     "output_type": "stream",
     "text": [
      "Epoch [733], Train Loss : [1.09098] Val Loss : [1.14494] Val F1 : [0.54979]\n"
     ]
    },
    {
     "name": "stderr",
     "output_type": "stream",
     "text": [
      "100%|██████████████████████████████████████████| 141/141 [00:37<00:00,  3.75it/s]\n",
      "100%|████████████████████████████████████████████| 16/16 [00:01<00:00, 10.88it/s]\n"
     ]
    },
    {
     "name": "stdout",
     "output_type": "stream",
     "text": [
      "Epoch [734], Train Loss : [1.08892] Val Loss : [1.14100] Val F1 : [0.56071]\n"
     ]
    },
    {
     "name": "stderr",
     "output_type": "stream",
     "text": [
      "100%|██████████████████████████████████████████| 141/141 [00:37<00:00,  3.75it/s]\n",
      "100%|████████████████████████████████████████████| 16/16 [00:01<00:00, 10.88it/s]\n"
     ]
    },
    {
     "name": "stdout",
     "output_type": "stream",
     "text": [
      "Epoch [735], Train Loss : [1.08991] Val Loss : [1.14269] Val F1 : [0.56048]\n"
     ]
    },
    {
     "name": "stderr",
     "output_type": "stream",
     "text": [
      "100%|██████████████████████████████████████████| 141/141 [00:37<00:00,  3.75it/s]\n",
      "100%|████████████████████████████████████████████| 16/16 [00:01<00:00, 10.90it/s]\n"
     ]
    },
    {
     "name": "stdout",
     "output_type": "stream",
     "text": [
      "Epoch [736], Train Loss : [1.08814] Val Loss : [1.14262] Val F1 : [0.56135]\n"
     ]
    },
    {
     "name": "stderr",
     "output_type": "stream",
     "text": [
      "100%|██████████████████████████████████████████| 141/141 [00:37<00:00,  3.75it/s]\n",
      "100%|████████████████████████████████████████████| 16/16 [00:01<00:00, 10.88it/s]\n"
     ]
    },
    {
     "name": "stdout",
     "output_type": "stream",
     "text": [
      "Epoch [737], Train Loss : [1.08855] Val Loss : [1.14407] Val F1 : [0.55247]\n"
     ]
    },
    {
     "name": "stderr",
     "output_type": "stream",
     "text": [
      "100%|██████████████████████████████████████████| 141/141 [00:37<00:00,  3.74it/s]\n",
      "100%|████████████████████████████████████████████| 16/16 [00:01<00:00, 10.87it/s]\n"
     ]
    },
    {
     "name": "stdout",
     "output_type": "stream",
     "text": [
      "Epoch [738], Train Loss : [1.08857] Val Loss : [1.14201] Val F1 : [0.56243]\n"
     ]
    },
    {
     "name": "stderr",
     "output_type": "stream",
     "text": [
      "100%|██████████████████████████████████████████| 141/141 [00:37<00:00,  3.75it/s]\n",
      "100%|████████████████████████████████████████████| 16/16 [00:01<00:00, 10.81it/s]\n"
     ]
    },
    {
     "name": "stdout",
     "output_type": "stream",
     "text": [
      "Epoch [739], Train Loss : [1.09372] Val Loss : [1.14280] Val F1 : [0.55905]\n"
     ]
    },
    {
     "name": "stderr",
     "output_type": "stream",
     "text": [
      "100%|██████████████████████████████████████████| 141/141 [00:37<00:00,  3.75it/s]\n",
      "100%|████████████████████████████████████████████| 16/16 [00:01<00:00, 10.87it/s]\n"
     ]
    },
    {
     "name": "stdout",
     "output_type": "stream",
     "text": [
      "Epoch [740], Train Loss : [1.08548] Val Loss : [1.14367] Val F1 : [0.55996]\n"
     ]
    },
    {
     "name": "stderr",
     "output_type": "stream",
     "text": [
      "100%|██████████████████████████████████████████| 141/141 [00:37<00:00,  3.74it/s]\n",
      "100%|████████████████████████████████████████████| 16/16 [00:01<00:00, 10.90it/s]\n"
     ]
    },
    {
     "name": "stdout",
     "output_type": "stream",
     "text": [
      "Epoch [741], Train Loss : [1.08888] Val Loss : [1.14162] Val F1 : [0.55804]\n"
     ]
    },
    {
     "name": "stderr",
     "output_type": "stream",
     "text": [
      "100%|██████████████████████████████████████████| 141/141 [00:37<00:00,  3.75it/s]\n",
      "100%|████████████████████████████████████████████| 16/16 [00:01<00:00, 10.78it/s]\n"
     ]
    },
    {
     "name": "stdout",
     "output_type": "stream",
     "text": [
      "Epoch [742], Train Loss : [1.08732] Val Loss : [1.14310] Val F1 : [0.56423]\n"
     ]
    },
    {
     "name": "stderr",
     "output_type": "stream",
     "text": [
      "100%|██████████████████████████████████████████| 141/141 [00:37<00:00,  3.75it/s]\n",
      "100%|████████████████████████████████████████████| 16/16 [00:01<00:00, 10.90it/s]\n"
     ]
    },
    {
     "name": "stdout",
     "output_type": "stream",
     "text": [
      "Epoch [743], Train Loss : [1.09097] Val Loss : [1.14091] Val F1 : [0.56022]\n"
     ]
    },
    {
     "name": "stderr",
     "output_type": "stream",
     "text": [
      "100%|██████████████████████████████████████████| 141/141 [00:37<00:00,  3.74it/s]\n",
      "100%|████████████████████████████████████████████| 16/16 [00:01<00:00, 10.62it/s]\n"
     ]
    },
    {
     "name": "stdout",
     "output_type": "stream",
     "text": [
      "Epoch [744], Train Loss : [1.08746] Val Loss : [1.14420] Val F1 : [0.55573]\n"
     ]
    },
    {
     "name": "stderr",
     "output_type": "stream",
     "text": [
      "100%|██████████████████████████████████████████| 141/141 [00:37<00:00,  3.74it/s]\n",
      "100%|████████████████████████████████████████████| 16/16 [00:01<00:00, 10.64it/s]\n"
     ]
    },
    {
     "name": "stdout",
     "output_type": "stream",
     "text": [
      "Epoch [745], Train Loss : [1.09001] Val Loss : [1.14350] Val F1 : [0.55751]\n"
     ]
    },
    {
     "name": "stderr",
     "output_type": "stream",
     "text": [
      "100%|██████████████████████████████████████████| 141/141 [00:37<00:00,  3.75it/s]\n",
      "100%|████████████████████████████████████████████| 16/16 [00:01<00:00, 10.95it/s]\n"
     ]
    },
    {
     "name": "stdout",
     "output_type": "stream",
     "text": [
      "Epoch [746], Train Loss : [1.08673] Val Loss : [1.14530] Val F1 : [0.55056]\n"
     ]
    },
    {
     "name": "stderr",
     "output_type": "stream",
     "text": [
      "100%|██████████████████████████████████████████| 141/141 [00:37<00:00,  3.75it/s]\n",
      "100%|████████████████████████████████████████████| 16/16 [00:01<00:00, 10.62it/s]\n"
     ]
    },
    {
     "name": "stdout",
     "output_type": "stream",
     "text": [
      "Epoch [747], Train Loss : [1.09137] Val Loss : [1.14147] Val F1 : [0.55916]\n"
     ]
    },
    {
     "name": "stderr",
     "output_type": "stream",
     "text": [
      "100%|██████████████████████████████████████████| 141/141 [00:37<00:00,  3.75it/s]\n",
      "100%|████████████████████████████████████████████| 16/16 [00:01<00:00, 10.91it/s]\n"
     ]
    },
    {
     "name": "stdout",
     "output_type": "stream",
     "text": [
      "Epoch [748], Train Loss : [1.09040] Val Loss : [1.14603] Val F1 : [0.54897]\n"
     ]
    },
    {
     "name": "stderr",
     "output_type": "stream",
     "text": [
      "100%|██████████████████████████████████████████| 141/141 [00:37<00:00,  3.75it/s]\n",
      "100%|████████████████████████████████████████████| 16/16 [00:01<00:00, 10.87it/s]\n"
     ]
    },
    {
     "name": "stdout",
     "output_type": "stream",
     "text": [
      "Epoch [749], Train Loss : [1.09349] Val Loss : [1.14265] Val F1 : [0.56110]\n"
     ]
    },
    {
     "name": "stderr",
     "output_type": "stream",
     "text": [
      "100%|██████████████████████████████████████████| 141/141 [00:37<00:00,  3.75it/s]\n",
      "100%|████████████████████████████████████████████| 16/16 [00:01<00:00, 10.59it/s]\n"
     ]
    },
    {
     "name": "stdout",
     "output_type": "stream",
     "text": [
      "Epoch [750], Train Loss : [1.08833] Val Loss : [1.14076] Val F1 : [0.56464]\n"
     ]
    },
    {
     "name": "stderr",
     "output_type": "stream",
     "text": [
      "100%|██████████████████████████████████████████| 141/141 [00:37<00:00,  3.74it/s]\n",
      "100%|████████████████████████████████████████████| 16/16 [00:01<00:00, 10.76it/s]\n"
     ]
    },
    {
     "name": "stdout",
     "output_type": "stream",
     "text": [
      "Epoch [751], Train Loss : [1.09000] Val Loss : [1.14114] Val F1 : [0.56299]\n"
     ]
    },
    {
     "name": "stderr",
     "output_type": "stream",
     "text": [
      "100%|██████████████████████████████████████████| 141/141 [00:37<00:00,  3.75it/s]\n",
      "100%|████████████████████████████████████████████| 16/16 [00:01<00:00, 10.60it/s]\n"
     ]
    },
    {
     "name": "stdout",
     "output_type": "stream",
     "text": [
      "Epoch [752], Train Loss : [1.09286] Val Loss : [1.14386] Val F1 : [0.54869]\n"
     ]
    },
    {
     "name": "stderr",
     "output_type": "stream",
     "text": [
      "100%|██████████████████████████████████████████| 141/141 [00:37<00:00,  3.74it/s]\n",
      "100%|████████████████████████████████████████████| 16/16 [00:01<00:00, 10.59it/s]\n"
     ]
    },
    {
     "name": "stdout",
     "output_type": "stream",
     "text": [
      "Epoch [753], Train Loss : [1.08802] Val Loss : [1.14348] Val F1 : [0.55768]\n"
     ]
    },
    {
     "name": "stderr",
     "output_type": "stream",
     "text": [
      "100%|██████████████████████████████████████████| 141/141 [00:37<00:00,  3.75it/s]\n",
      "100%|████████████████████████████████████████████| 16/16 [00:01<00:00, 10.59it/s]\n"
     ]
    },
    {
     "name": "stdout",
     "output_type": "stream",
     "text": [
      "Epoch [754], Train Loss : [1.08573] Val Loss : [1.14187] Val F1 : [0.55860]\n"
     ]
    },
    {
     "name": "stderr",
     "output_type": "stream",
     "text": [
      "100%|██████████████████████████████████████████| 141/141 [00:37<00:00,  3.74it/s]\n",
      "100%|████████████████████████████████████████████| 16/16 [00:01<00:00, 10.71it/s]\n"
     ]
    },
    {
     "name": "stdout",
     "output_type": "stream",
     "text": [
      "Epoch [755], Train Loss : [1.08879] Val Loss : [1.14180] Val F1 : [0.55589]\n"
     ]
    },
    {
     "name": "stderr",
     "output_type": "stream",
     "text": [
      "100%|██████████████████████████████████████████| 141/141 [00:37<00:00,  3.75it/s]\n",
      "100%|████████████████████████████████████████████| 16/16 [00:01<00:00, 10.88it/s]\n"
     ]
    },
    {
     "name": "stdout",
     "output_type": "stream",
     "text": [
      "Epoch [756], Train Loss : [1.08700] Val Loss : [1.14142] Val F1 : [0.55905]\n"
     ]
    },
    {
     "name": "stderr",
     "output_type": "stream",
     "text": [
      "100%|██████████████████████████████████████████| 141/141 [00:37<00:00,  3.75it/s]\n",
      "100%|████████████████████████████████████████████| 16/16 [00:01<00:00, 10.81it/s]\n"
     ]
    },
    {
     "name": "stdout",
     "output_type": "stream",
     "text": [
      "Epoch [757], Train Loss : [1.09154] Val Loss : [1.14203] Val F1 : [0.56604]\n"
     ]
    },
    {
     "name": "stderr",
     "output_type": "stream",
     "text": [
      "100%|██████████████████████████████████████████| 141/141 [00:37<00:00,  3.75it/s]\n",
      "100%|████████████████████████████████████████████| 16/16 [00:01<00:00, 10.88it/s]\n"
     ]
    },
    {
     "name": "stdout",
     "output_type": "stream",
     "text": [
      "Epoch [758], Train Loss : [1.08660] Val Loss : [1.14549] Val F1 : [0.54703]\n"
     ]
    },
    {
     "name": "stderr",
     "output_type": "stream",
     "text": [
      "100%|██████████████████████████████████████████| 141/141 [00:37<00:00,  3.74it/s]\n",
      "100%|████████████████████████████████████████████| 16/16 [00:01<00:00, 10.82it/s]\n"
     ]
    },
    {
     "name": "stdout",
     "output_type": "stream",
     "text": [
      "Epoch [759], Train Loss : [1.08583] Val Loss : [1.14337] Val F1 : [0.56631]\n"
     ]
    },
    {
     "name": "stderr",
     "output_type": "stream",
     "text": [
      "100%|██████████████████████████████████████████| 141/141 [00:37<00:00,  3.75it/s]\n",
      "100%|████████████████████████████████████████████| 16/16 [00:01<00:00, 10.83it/s]\n"
     ]
    },
    {
     "name": "stdout",
     "output_type": "stream",
     "text": [
      "Epoch [760], Train Loss : [1.09159] Val Loss : [1.14427] Val F1 : [0.56014]\n"
     ]
    },
    {
     "name": "stderr",
     "output_type": "stream",
     "text": [
      "100%|██████████████████████████████████████████| 141/141 [00:37<00:00,  3.75it/s]\n",
      "100%|████████████████████████████████████████████| 16/16 [00:01<00:00, 10.80it/s]\n"
     ]
    },
    {
     "name": "stdout",
     "output_type": "stream",
     "text": [
      "Epoch [761], Train Loss : [1.08733] Val Loss : [1.14185] Val F1 : [0.55901]\n"
     ]
    },
    {
     "name": "stderr",
     "output_type": "stream",
     "text": [
      "100%|██████████████████████████████████████████| 141/141 [00:37<00:00,  3.75it/s]\n",
      "100%|████████████████████████████████████████████| 16/16 [00:01<00:00, 10.64it/s]\n"
     ]
    },
    {
     "name": "stdout",
     "output_type": "stream",
     "text": [
      "Epoch [762], Train Loss : [1.09151] Val Loss : [1.14150] Val F1 : [0.55529]\n"
     ]
    },
    {
     "name": "stderr",
     "output_type": "stream",
     "text": [
      "100%|██████████████████████████████████████████| 141/141 [00:37<00:00,  3.75it/s]\n",
      "100%|████████████████████████████████████████████| 16/16 [00:01<00:00, 10.93it/s]\n"
     ]
    },
    {
     "name": "stdout",
     "output_type": "stream",
     "text": [
      "Epoch [763], Train Loss : [1.08873] Val Loss : [1.14147] Val F1 : [0.56481]\n"
     ]
    },
    {
     "name": "stderr",
     "output_type": "stream",
     "text": [
      "100%|██████████████████████████████████████████| 141/141 [00:37<00:00,  3.75it/s]\n",
      "100%|████████████████████████████████████████████| 16/16 [00:01<00:00, 10.91it/s]\n"
     ]
    },
    {
     "name": "stdout",
     "output_type": "stream",
     "text": [
      "Epoch [764], Train Loss : [1.09050] Val Loss : [1.14514] Val F1 : [0.55110]\n"
     ]
    },
    {
     "name": "stderr",
     "output_type": "stream",
     "text": [
      "100%|██████████████████████████████████████████| 141/141 [00:37<00:00,  3.75it/s]\n",
      "100%|████████████████████████████████████████████| 16/16 [00:01<00:00, 10.94it/s]\n"
     ]
    },
    {
     "name": "stdout",
     "output_type": "stream",
     "text": [
      "Epoch [765], Train Loss : [1.08949] Val Loss : [1.14227] Val F1 : [0.56278]\n"
     ]
    },
    {
     "name": "stderr",
     "output_type": "stream",
     "text": [
      "100%|██████████████████████████████████████████| 141/141 [00:37<00:00,  3.75it/s]\n",
      "100%|████████████████████████████████████████████| 16/16 [00:01<00:00, 10.88it/s]\n"
     ]
    },
    {
     "name": "stdout",
     "output_type": "stream",
     "text": [
      "Epoch [766], Train Loss : [1.09060] Val Loss : [1.14122] Val F1 : [0.55783]\n"
     ]
    },
    {
     "name": "stderr",
     "output_type": "stream",
     "text": [
      "100%|██████████████████████████████████████████| 141/141 [00:37<00:00,  3.75it/s]\n",
      "100%|████████████████████████████████████████████| 16/16 [00:01<00:00, 10.86it/s]\n"
     ]
    },
    {
     "name": "stdout",
     "output_type": "stream",
     "text": [
      "Epoch [767], Train Loss : [1.09102] Val Loss : [1.14319] Val F1 : [0.55905]\n"
     ]
    },
    {
     "name": "stderr",
     "output_type": "stream",
     "text": [
      "100%|██████████████████████████████████████████| 141/141 [00:37<00:00,  3.75it/s]\n",
      "100%|████████████████████████████████████████████| 16/16 [00:01<00:00, 10.78it/s]\n"
     ]
    },
    {
     "name": "stdout",
     "output_type": "stream",
     "text": [
      "Epoch [768], Train Loss : [1.09231] Val Loss : [1.14358] Val F1 : [0.55570]\n"
     ]
    },
    {
     "name": "stderr",
     "output_type": "stream",
     "text": [
      "100%|██████████████████████████████████████████| 141/141 [00:37<00:00,  3.73it/s]\n",
      "100%|████████████████████████████████████████████| 16/16 [00:01<00:00, 10.88it/s]\n"
     ]
    },
    {
     "name": "stdout",
     "output_type": "stream",
     "text": [
      "Epoch [769], Train Loss : [1.08799] Val Loss : [1.14274] Val F1 : [0.55863]\n"
     ]
    },
    {
     "name": "stderr",
     "output_type": "stream",
     "text": [
      "100%|██████████████████████████████████████████| 141/141 [00:37<00:00,  3.75it/s]\n",
      "100%|████████████████████████████████████████████| 16/16 [00:01<00:00, 10.79it/s]\n"
     ]
    },
    {
     "name": "stdout",
     "output_type": "stream",
     "text": [
      "Epoch [770], Train Loss : [1.09148] Val Loss : [1.14214] Val F1 : [0.55681]\n"
     ]
    },
    {
     "name": "stderr",
     "output_type": "stream",
     "text": [
      "100%|██████████████████████████████████████████| 141/141 [00:37<00:00,  3.75it/s]\n",
      "100%|████████████████████████████████████████████| 16/16 [00:01<00:00, 10.86it/s]\n"
     ]
    },
    {
     "name": "stdout",
     "output_type": "stream",
     "text": [
      "Epoch [771], Train Loss : [1.09193] Val Loss : [1.14191] Val F1 : [0.55076]\n"
     ]
    },
    {
     "name": "stderr",
     "output_type": "stream",
     "text": [
      "100%|██████████████████████████████████████████| 141/141 [00:37<00:00,  3.75it/s]\n",
      "100%|████████████████████████████████████████████| 16/16 [00:01<00:00, 10.93it/s]\n"
     ]
    },
    {
     "name": "stdout",
     "output_type": "stream",
     "text": [
      "Epoch [772], Train Loss : [1.08978] Val Loss : [1.14134] Val F1 : [0.56133]\n"
     ]
    },
    {
     "name": "stderr",
     "output_type": "stream",
     "text": [
      "100%|██████████████████████████████████████████| 141/141 [00:37<00:00,  3.75it/s]\n",
      "100%|████████████████████████████████████████████| 16/16 [00:01<00:00, 10.91it/s]\n"
     ]
    },
    {
     "name": "stdout",
     "output_type": "stream",
     "text": [
      "Epoch [773], Train Loss : [1.08870] Val Loss : [1.13961] Val F1 : [0.55999]\n"
     ]
    },
    {
     "name": "stderr",
     "output_type": "stream",
     "text": [
      "100%|██████████████████████████████████████████| 141/141 [00:37<00:00,  3.75it/s]\n",
      "100%|████████████████████████████████████████████| 16/16 [00:01<00:00, 10.90it/s]\n"
     ]
    },
    {
     "name": "stdout",
     "output_type": "stream",
     "text": [
      "Epoch [774], Train Loss : [1.08488] Val Loss : [1.14609] Val F1 : [0.55092]\n"
     ]
    },
    {
     "name": "stderr",
     "output_type": "stream",
     "text": [
      "100%|██████████████████████████████████████████| 141/141 [00:37<00:00,  3.74it/s]\n",
      "100%|████████████████████████████████████████████| 16/16 [00:01<00:00, 10.65it/s]\n"
     ]
    },
    {
     "name": "stdout",
     "output_type": "stream",
     "text": [
      "Epoch [775], Train Loss : [1.08297] Val Loss : [1.14208] Val F1 : [0.56320]\n"
     ]
    },
    {
     "name": "stderr",
     "output_type": "stream",
     "text": [
      "100%|██████████████████████████████████████████| 141/141 [00:37<00:00,  3.75it/s]\n",
      "100%|████████████████████████████████████████████| 16/16 [00:01<00:00, 10.93it/s]\n"
     ]
    },
    {
     "name": "stdout",
     "output_type": "stream",
     "text": [
      "Epoch [776], Train Loss : [1.08692] Val Loss : [1.14230] Val F1 : [0.55322]\n"
     ]
    },
    {
     "name": "stderr",
     "output_type": "stream",
     "text": [
      "100%|██████████████████████████████████████████| 141/141 [00:37<00:00,  3.74it/s]\n",
      "100%|████████████████████████████████████████████| 16/16 [00:01<00:00, 10.84it/s]\n"
     ]
    },
    {
     "name": "stdout",
     "output_type": "stream",
     "text": [
      "Epoch [777], Train Loss : [1.08704] Val Loss : [1.14345] Val F1 : [0.55059]\n"
     ]
    },
    {
     "name": "stderr",
     "output_type": "stream",
     "text": [
      "100%|██████████████████████████████████████████| 141/141 [00:37<00:00,  3.75it/s]\n",
      "100%|████████████████████████████████████████████| 16/16 [00:01<00:00, 10.63it/s]\n"
     ]
    },
    {
     "name": "stdout",
     "output_type": "stream",
     "text": [
      "Epoch [778], Train Loss : [1.08812] Val Loss : [1.14259] Val F1 : [0.55444]\n"
     ]
    },
    {
     "name": "stderr",
     "output_type": "stream",
     "text": [
      "100%|██████████████████████████████████████████| 141/141 [00:37<00:00,  3.73it/s]\n",
      "100%|████████████████████████████████████████████| 16/16 [00:01<00:00, 10.95it/s]\n"
     ]
    },
    {
     "name": "stdout",
     "output_type": "stream",
     "text": [
      "Epoch [779], Train Loss : [1.09236] Val Loss : [1.14120] Val F1 : [0.55860]\n"
     ]
    },
    {
     "name": "stderr",
     "output_type": "stream",
     "text": [
      "100%|██████████████████████████████████████████| 141/141 [00:37<00:00,  3.75it/s]\n",
      "100%|████████████████████████████████████████████| 16/16 [00:01<00:00, 10.86it/s]\n"
     ]
    },
    {
     "name": "stdout",
     "output_type": "stream",
     "text": [
      "Epoch [780], Train Loss : [1.09279] Val Loss : [1.14354] Val F1 : [0.56319]\n"
     ]
    },
    {
     "name": "stderr",
     "output_type": "stream",
     "text": [
      "100%|██████████████████████████████████████████| 141/141 [00:37<00:00,  3.73it/s]\n",
      "100%|████████████████████████████████████████████| 16/16 [00:01<00:00, 10.80it/s]\n"
     ]
    },
    {
     "name": "stdout",
     "output_type": "stream",
     "text": [
      "Epoch [781], Train Loss : [1.08840] Val Loss : [1.14065] Val F1 : [0.56023]\n"
     ]
    },
    {
     "name": "stderr",
     "output_type": "stream",
     "text": [
      "100%|██████████████████████████████████████████| 141/141 [00:37<00:00,  3.75it/s]\n",
      "100%|████████████████████████████████████████████| 16/16 [00:01<00:00, 10.85it/s]\n"
     ]
    },
    {
     "name": "stdout",
     "output_type": "stream",
     "text": [
      "Epoch [782], Train Loss : [1.08656] Val Loss : [1.14265] Val F1 : [0.56314]\n"
     ]
    },
    {
     "name": "stderr",
     "output_type": "stream",
     "text": [
      "100%|██████████████████████████████████████████| 141/141 [00:37<00:00,  3.75it/s]\n",
      "100%|████████████████████████████████████████████| 16/16 [00:01<00:00, 10.60it/s]\n"
     ]
    },
    {
     "name": "stdout",
     "output_type": "stream",
     "text": [
      "Epoch [783], Train Loss : [1.08972] Val Loss : [1.14205] Val F1 : [0.55901]\n"
     ]
    },
    {
     "name": "stderr",
     "output_type": "stream",
     "text": [
      "100%|██████████████████████████████████████████| 141/141 [00:37<00:00,  3.75it/s]\n",
      "100%|████████████████████████████████████████████| 16/16 [00:01<00:00, 10.81it/s]\n"
     ]
    },
    {
     "name": "stdout",
     "output_type": "stream",
     "text": [
      "Epoch [784], Train Loss : [1.09167] Val Loss : [1.14382] Val F1 : [0.54688]\n"
     ]
    },
    {
     "name": "stderr",
     "output_type": "stream",
     "text": [
      "100%|██████████████████████████████████████████| 141/141 [00:37<00:00,  3.74it/s]\n",
      "100%|████████████████████████████████████████████| 16/16 [00:01<00:00, 10.86it/s]\n"
     ]
    },
    {
     "name": "stdout",
     "output_type": "stream",
     "text": [
      "Epoch [785], Train Loss : [1.08897] Val Loss : [1.14326] Val F1 : [0.55937]\n"
     ]
    },
    {
     "name": "stderr",
     "output_type": "stream",
     "text": [
      "100%|██████████████████████████████████████████| 141/141 [00:37<00:00,  3.75it/s]\n",
      "100%|████████████████████████████████████████████| 16/16 [00:01<00:00, 10.42it/s]\n"
     ]
    },
    {
     "name": "stdout",
     "output_type": "stream",
     "text": [
      "Epoch [786], Train Loss : [1.08692] Val Loss : [1.14334] Val F1 : [0.55587]\n"
     ]
    },
    {
     "name": "stderr",
     "output_type": "stream",
     "text": [
      "100%|██████████████████████████████████████████| 141/141 [00:37<00:00,  3.74it/s]\n",
      "100%|████████████████████████████████████████████| 16/16 [00:01<00:00, 10.71it/s]\n"
     ]
    },
    {
     "name": "stdout",
     "output_type": "stream",
     "text": [
      "Epoch [787], Train Loss : [1.08569] Val Loss : [1.14092] Val F1 : [0.55958]\n"
     ]
    },
    {
     "name": "stderr",
     "output_type": "stream",
     "text": [
      "100%|██████████████████████████████████████████| 141/141 [00:37<00:00,  3.75it/s]\n",
      "100%|████████████████████████████████████████████| 16/16 [00:01<00:00, 10.62it/s]\n"
     ]
    },
    {
     "name": "stdout",
     "output_type": "stream",
     "text": [
      "Epoch [788], Train Loss : [1.08625] Val Loss : [1.14129] Val F1 : [0.56962]\n"
     ]
    },
    {
     "name": "stderr",
     "output_type": "stream",
     "text": [
      "100%|██████████████████████████████████████████| 141/141 [00:37<00:00,  3.74it/s]\n",
      "100%|████████████████████████████████████████████| 16/16 [00:01<00:00, 10.57it/s]\n"
     ]
    },
    {
     "name": "stdout",
     "output_type": "stream",
     "text": [
      "Epoch [789], Train Loss : [1.08744] Val Loss : [1.14509] Val F1 : [0.54558]\n"
     ]
    },
    {
     "name": "stderr",
     "output_type": "stream",
     "text": [
      "100%|██████████████████████████████████████████| 141/141 [00:37<00:00,  3.75it/s]\n",
      "100%|████████████████████████████████████████████| 16/16 [00:01<00:00, 10.76it/s]\n"
     ]
    },
    {
     "name": "stdout",
     "output_type": "stream",
     "text": [
      "Epoch [790], Train Loss : [1.08875] Val Loss : [1.14155] Val F1 : [0.56042]\n"
     ]
    },
    {
     "name": "stderr",
     "output_type": "stream",
     "text": [
      "100%|██████████████████████████████████████████| 141/141 [00:37<00:00,  3.74it/s]\n",
      "100%|████████████████████████████████████████████| 16/16 [00:01<00:00, 10.82it/s]\n"
     ]
    },
    {
     "name": "stdout",
     "output_type": "stream",
     "text": [
      "Epoch [791], Train Loss : [1.08963] Val Loss : [1.14189] Val F1 : [0.55347]\n"
     ]
    },
    {
     "name": "stderr",
     "output_type": "stream",
     "text": [
      "100%|██████████████████████████████████████████| 141/141 [00:37<00:00,  3.75it/s]\n",
      "100%|████████████████████████████████████████████| 16/16 [00:01<00:00, 10.57it/s]\n"
     ]
    },
    {
     "name": "stdout",
     "output_type": "stream",
     "text": [
      "Epoch [792], Train Loss : [1.08634] Val Loss : [1.14553] Val F1 : [0.55177]\n"
     ]
    },
    {
     "name": "stderr",
     "output_type": "stream",
     "text": [
      "100%|██████████████████████████████████████████| 141/141 [00:37<00:00,  3.75it/s]\n",
      "100%|████████████████████████████████████████████| 16/16 [00:01<00:00, 10.94it/s]\n"
     ]
    },
    {
     "name": "stdout",
     "output_type": "stream",
     "text": [
      "Epoch [793], Train Loss : [1.08564] Val Loss : [1.14314] Val F1 : [0.55883]\n"
     ]
    },
    {
     "name": "stderr",
     "output_type": "stream",
     "text": [
      "100%|██████████████████████████████████████████| 141/141 [00:37<00:00,  3.75it/s]\n",
      "100%|████████████████████████████████████████████| 16/16 [00:01<00:00, 10.78it/s]\n"
     ]
    },
    {
     "name": "stdout",
     "output_type": "stream",
     "text": [
      "Epoch [794], Train Loss : [1.08502] Val Loss : [1.14239] Val F1 : [0.55752]\n"
     ]
    },
    {
     "name": "stderr",
     "output_type": "stream",
     "text": [
      "100%|██████████████████████████████████████████| 141/141 [00:37<00:00,  3.75it/s]\n",
      "100%|████████████████████████████████████████████| 16/16 [00:01<00:00, 10.85it/s]\n"
     ]
    },
    {
     "name": "stdout",
     "output_type": "stream",
     "text": [
      "Epoch [795], Train Loss : [1.08834] Val Loss : [1.14369] Val F1 : [0.55419]\n"
     ]
    },
    {
     "name": "stderr",
     "output_type": "stream",
     "text": [
      "100%|██████████████████████████████████████████| 141/141 [00:37<00:00,  3.75it/s]\n",
      "100%|████████████████████████████████████████████| 16/16 [00:01<00:00, 10.91it/s]\n"
     ]
    },
    {
     "name": "stdout",
     "output_type": "stream",
     "text": [
      "Epoch [796], Train Loss : [1.08924] Val Loss : [1.14091] Val F1 : [0.55991]\n"
     ]
    },
    {
     "name": "stderr",
     "output_type": "stream",
     "text": [
      "100%|██████████████████████████████████████████| 141/141 [00:37<00:00,  3.74it/s]\n",
      "100%|████████████████████████████████████████████| 16/16 [00:01<00:00, 10.92it/s]\n"
     ]
    },
    {
     "name": "stdout",
     "output_type": "stream",
     "text": [
      "Epoch [797], Train Loss : [1.08714] Val Loss : [1.14279] Val F1 : [0.56016]\n"
     ]
    },
    {
     "name": "stderr",
     "output_type": "stream",
     "text": [
      "100%|██████████████████████████████████████████| 141/141 [00:37<00:00,  3.74it/s]\n",
      "100%|████████████████████████████████████████████| 16/16 [00:01<00:00, 10.90it/s]\n"
     ]
    },
    {
     "name": "stdout",
     "output_type": "stream",
     "text": [
      "Epoch [798], Train Loss : [1.09341] Val Loss : [1.14153] Val F1 : [0.56239]\n"
     ]
    },
    {
     "name": "stderr",
     "output_type": "stream",
     "text": [
      "100%|██████████████████████████████████████████| 141/141 [00:37<00:00,  3.75it/s]\n",
      "100%|████████████████████████████████████████████| 16/16 [00:01<00:00, 10.78it/s]\n"
     ]
    },
    {
     "name": "stdout",
     "output_type": "stream",
     "text": [
      "Epoch [799], Train Loss : [1.08047] Val Loss : [1.14258] Val F1 : [0.55079]\n"
     ]
    },
    {
     "name": "stderr",
     "output_type": "stream",
     "text": [
      "100%|██████████████████████████████████████████| 141/141 [00:37<00:00,  3.75it/s]\n",
      "100%|████████████████████████████████████████████| 16/16 [00:01<00:00, 10.79it/s]\n"
     ]
    },
    {
     "name": "stdout",
     "output_type": "stream",
     "text": [
      "Epoch [800], Train Loss : [1.09074] Val Loss : [1.14415] Val F1 : [0.55288]\n"
     ]
    },
    {
     "name": "stderr",
     "output_type": "stream",
     "text": [
      "100%|██████████████████████████████████████████| 141/141 [00:37<00:00,  3.74it/s]\n",
      "100%|████████████████████████████████████████████| 16/16 [00:01<00:00, 10.74it/s]\n"
     ]
    },
    {
     "name": "stdout",
     "output_type": "stream",
     "text": [
      "Epoch [801], Train Loss : [1.09067] Val Loss : [1.14209] Val F1 : [0.55680]\n"
     ]
    },
    {
     "name": "stderr",
     "output_type": "stream",
     "text": [
      "100%|██████████████████████████████████████████| 141/141 [00:37<00:00,  3.75it/s]\n",
      "100%|████████████████████████████████████████████| 16/16 [00:01<00:00, 10.67it/s]\n"
     ]
    },
    {
     "name": "stdout",
     "output_type": "stream",
     "text": [
      "Epoch [802], Train Loss : [1.08967] Val Loss : [1.14286] Val F1 : [0.55653]\n"
     ]
    },
    {
     "name": "stderr",
     "output_type": "stream",
     "text": [
      "100%|██████████████████████████████████████████| 141/141 [00:37<00:00,  3.75it/s]\n",
      "100%|████████████████████████████████████████████| 16/16 [00:01<00:00, 10.77it/s]\n"
     ]
    },
    {
     "name": "stdout",
     "output_type": "stream",
     "text": [
      "Epoch [803], Train Loss : [1.09061] Val Loss : [1.14155] Val F1 : [0.55841]\n"
     ]
    },
    {
     "name": "stderr",
     "output_type": "stream",
     "text": [
      "100%|██████████████████████████████████████████| 141/141 [00:37<00:00,  3.73it/s]\n",
      "100%|████████████████████████████████████████████| 16/16 [00:01<00:00, 10.60it/s]\n"
     ]
    },
    {
     "name": "stdout",
     "output_type": "stream",
     "text": [
      "Epoch [804], Train Loss : [1.08780] Val Loss : [1.14339] Val F1 : [0.55591]\n"
     ]
    },
    {
     "name": "stderr",
     "output_type": "stream",
     "text": [
      "100%|██████████████████████████████████████████| 141/141 [00:37<00:00,  3.74it/s]\n",
      "100%|████████████████████████████████████████████| 16/16 [00:01<00:00, 10.82it/s]\n"
     ]
    },
    {
     "name": "stdout",
     "output_type": "stream",
     "text": [
      "Epoch [805], Train Loss : [1.08772] Val Loss : [1.14272] Val F1 : [0.55068]\n"
     ]
    },
    {
     "name": "stderr",
     "output_type": "stream",
     "text": [
      "100%|██████████████████████████████████████████| 141/141 [00:37<00:00,  3.74it/s]\n",
      "100%|████████████████████████████████████████████| 16/16 [00:01<00:00, 10.86it/s]\n"
     ]
    },
    {
     "name": "stdout",
     "output_type": "stream",
     "text": [
      "Epoch [806], Train Loss : [1.08874] Val Loss : [1.14273] Val F1 : [0.55525]\n"
     ]
    },
    {
     "name": "stderr",
     "output_type": "stream",
     "text": [
      "100%|██████████████████████████████████████████| 141/141 [00:37<00:00,  3.75it/s]\n",
      "100%|████████████████████████████████████████████| 16/16 [00:01<00:00, 10.91it/s]\n"
     ]
    },
    {
     "name": "stdout",
     "output_type": "stream",
     "text": [
      "Epoch [807], Train Loss : [1.09371] Val Loss : [1.14274] Val F1 : [0.55659]\n"
     ]
    },
    {
     "name": "stderr",
     "output_type": "stream",
     "text": [
      "100%|██████████████████████████████████████████| 141/141 [00:37<00:00,  3.75it/s]\n",
      "100%|████████████████████████████████████████████| 16/16 [00:01<00:00, 10.91it/s]\n"
     ]
    },
    {
     "name": "stdout",
     "output_type": "stream",
     "text": [
      "Epoch [808], Train Loss : [1.08427] Val Loss : [1.14503] Val F1 : [0.55137]\n"
     ]
    },
    {
     "name": "stderr",
     "output_type": "stream",
     "text": [
      "100%|██████████████████████████████████████████| 141/141 [00:37<00:00,  3.75it/s]\n",
      "100%|████████████████████████████████████████████| 16/16 [00:01<00:00, 10.67it/s]\n"
     ]
    },
    {
     "name": "stdout",
     "output_type": "stream",
     "text": [
      "Epoch [809], Train Loss : [1.08866] Val Loss : [1.14334] Val F1 : [0.55751]\n"
     ]
    },
    {
     "name": "stderr",
     "output_type": "stream",
     "text": [
      "100%|██████████████████████████████████████████| 141/141 [00:37<00:00,  3.75it/s]\n",
      "100%|████████████████████████████████████████████| 16/16 [00:01<00:00, 10.86it/s]\n"
     ]
    },
    {
     "name": "stdout",
     "output_type": "stream",
     "text": [
      "Epoch [810], Train Loss : [1.09621] Val Loss : [1.14371] Val F1 : [0.55491]\n"
     ]
    },
    {
     "name": "stderr",
     "output_type": "stream",
     "text": [
      "100%|██████████████████████████████████████████| 141/141 [00:37<00:00,  3.75it/s]\n",
      "100%|████████████████████████████████████████████| 16/16 [00:01<00:00, 10.77it/s]\n"
     ]
    },
    {
     "name": "stdout",
     "output_type": "stream",
     "text": [
      "Epoch [811], Train Loss : [1.08973] Val Loss : [1.14224] Val F1 : [0.54704]\n"
     ]
    },
    {
     "name": "stderr",
     "output_type": "stream",
     "text": [
      "100%|██████████████████████████████████████████| 141/141 [00:37<00:00,  3.75it/s]\n",
      "100%|████████████████████████████████████████████| 16/16 [00:01<00:00, 10.86it/s]\n"
     ]
    },
    {
     "name": "stdout",
     "output_type": "stream",
     "text": [
      "Epoch [812], Train Loss : [1.09221] Val Loss : [1.14174] Val F1 : [0.56048]\n"
     ]
    },
    {
     "name": "stderr",
     "output_type": "stream",
     "text": [
      "100%|██████████████████████████████████████████| 141/141 [00:37<00:00,  3.72it/s]\n",
      "100%|████████████████████████████████████████████| 16/16 [00:01<00:00, 10.60it/s]\n"
     ]
    },
    {
     "name": "stdout",
     "output_type": "stream",
     "text": [
      "Epoch [813], Train Loss : [1.09134] Val Loss : [1.14298] Val F1 : [0.55919]\n"
     ]
    },
    {
     "name": "stderr",
     "output_type": "stream",
     "text": [
      "100%|██████████████████████████████████████████| 141/141 [00:37<00:00,  3.75it/s]\n",
      "100%|████████████████████████████████████████████| 16/16 [00:01<00:00, 10.75it/s]\n"
     ]
    },
    {
     "name": "stdout",
     "output_type": "stream",
     "text": [
      "Epoch [814], Train Loss : [1.08992] Val Loss : [1.14105] Val F1 : [0.56143]\n"
     ]
    },
    {
     "name": "stderr",
     "output_type": "stream",
     "text": [
      "100%|██████████████████████████████████████████| 141/141 [00:37<00:00,  3.75it/s]\n",
      "100%|████████████████████████████████████████████| 16/16 [00:01<00:00, 10.95it/s]\n"
     ]
    },
    {
     "name": "stdout",
     "output_type": "stream",
     "text": [
      "Epoch [815], Train Loss : [1.09268] Val Loss : [1.14367] Val F1 : [0.55769]\n"
     ]
    },
    {
     "name": "stderr",
     "output_type": "stream",
     "text": [
      "100%|██████████████████████████████████████████| 141/141 [00:37<00:00,  3.75it/s]\n",
      "100%|████████████████████████████████████████████| 16/16 [00:01<00:00, 10.86it/s]\n"
     ]
    },
    {
     "name": "stdout",
     "output_type": "stream",
     "text": [
      "Epoch [816], Train Loss : [1.08778] Val Loss : [1.14455] Val F1 : [0.55317]\n"
     ]
    },
    {
     "name": "stderr",
     "output_type": "stream",
     "text": [
      "100%|██████████████████████████████████████████| 141/141 [00:37<00:00,  3.75it/s]\n",
      "100%|████████████████████████████████████████████| 16/16 [00:01<00:00, 10.81it/s]\n"
     ]
    },
    {
     "name": "stdout",
     "output_type": "stream",
     "text": [
      "Epoch [817], Train Loss : [1.08532] Val Loss : [1.14180] Val F1 : [0.56167]\n"
     ]
    },
    {
     "name": "stderr",
     "output_type": "stream",
     "text": [
      "100%|██████████████████████████████████████████| 141/141 [00:37<00:00,  3.74it/s]\n",
      "100%|████████████████████████████████████████████| 16/16 [00:01<00:00, 10.87it/s]\n"
     ]
    },
    {
     "name": "stdout",
     "output_type": "stream",
     "text": [
      "Epoch [818], Train Loss : [1.09262] Val Loss : [1.14235] Val F1 : [0.55714]\n"
     ]
    },
    {
     "name": "stderr",
     "output_type": "stream",
     "text": [
      "100%|██████████████████████████████████████████| 141/141 [00:37<00:00,  3.75it/s]\n",
      "100%|████████████████████████████████████████████| 16/16 [00:01<00:00, 10.85it/s]\n"
     ]
    },
    {
     "name": "stdout",
     "output_type": "stream",
     "text": [
      "Epoch [819], Train Loss : [1.09019] Val Loss : [1.14422] Val F1 : [0.54712]\n"
     ]
    },
    {
     "name": "stderr",
     "output_type": "stream",
     "text": [
      "100%|██████████████████████████████████████████| 141/141 [00:37<00:00,  3.75it/s]\n",
      "100%|████████████████████████████████████████████| 16/16 [00:01<00:00, 10.84it/s]\n"
     ]
    },
    {
     "name": "stdout",
     "output_type": "stream",
     "text": [
      "Epoch [820], Train Loss : [1.09177] Val Loss : [1.14343] Val F1 : [0.55323]\n"
     ]
    },
    {
     "name": "stderr",
     "output_type": "stream",
     "text": [
      "100%|██████████████████████████████████████████| 141/141 [00:37<00:00,  3.75it/s]\n",
      "100%|████████████████████████████████████████████| 16/16 [00:01<00:00, 10.81it/s]\n"
     ]
    },
    {
     "name": "stdout",
     "output_type": "stream",
     "text": [
      "Epoch [821], Train Loss : [1.09071] Val Loss : [1.14387] Val F1 : [0.55502]\n"
     ]
    },
    {
     "name": "stderr",
     "output_type": "stream",
     "text": [
      "100%|██████████████████████████████████████████| 141/141 [00:37<00:00,  3.74it/s]\n",
      "100%|████████████████████████████████████████████| 16/16 [00:01<00:00, 10.77it/s]\n"
     ]
    },
    {
     "name": "stdout",
     "output_type": "stream",
     "text": [
      "Epoch [822], Train Loss : [1.09056] Val Loss : [1.14239] Val F1 : [0.55703]\n"
     ]
    },
    {
     "name": "stderr",
     "output_type": "stream",
     "text": [
      "100%|██████████████████████████████████████████| 141/141 [00:37<00:00,  3.73it/s]\n",
      "100%|████████████████████████████████████████████| 16/16 [00:01<00:00, 10.58it/s]\n"
     ]
    },
    {
     "name": "stdout",
     "output_type": "stream",
     "text": [
      "Epoch [823], Train Loss : [1.08770] Val Loss : [1.14115] Val F1 : [0.56463]\n"
     ]
    },
    {
     "name": "stderr",
     "output_type": "stream",
     "text": [
      "100%|██████████████████████████████████████████| 141/141 [00:37<00:00,  3.74it/s]\n",
      "100%|████████████████████████████████████████████| 16/16 [00:01<00:00, 10.72it/s]\n"
     ]
    },
    {
     "name": "stdout",
     "output_type": "stream",
     "text": [
      "Epoch [824], Train Loss : [1.08890] Val Loss : [1.14085] Val F1 : [0.55142]\n"
     ]
    },
    {
     "name": "stderr",
     "output_type": "stream",
     "text": [
      "100%|██████████████████████████████████████████| 141/141 [00:37<00:00,  3.74it/s]\n",
      "100%|████████████████████████████████████████████| 16/16 [00:01<00:00, 10.85it/s]\n"
     ]
    },
    {
     "name": "stdout",
     "output_type": "stream",
     "text": [
      "Epoch [825], Train Loss : [1.09010] Val Loss : [1.14111] Val F1 : [0.55905]\n"
     ]
    },
    {
     "name": "stderr",
     "output_type": "stream",
     "text": [
      "100%|██████████████████████████████████████████| 141/141 [00:37<00:00,  3.75it/s]\n",
      "100%|████████████████████████████████████████████| 16/16 [00:01<00:00, 10.84it/s]\n"
     ]
    },
    {
     "name": "stdout",
     "output_type": "stream",
     "text": [
      "Epoch [826], Train Loss : [1.08911] Val Loss : [1.14223] Val F1 : [0.56003]\n"
     ]
    },
    {
     "name": "stderr",
     "output_type": "stream",
     "text": [
      "100%|██████████████████████████████████████████| 141/141 [00:37<00:00,  3.73it/s]\n",
      "100%|████████████████████████████████████████████| 16/16 [00:01<00:00, 10.83it/s]\n"
     ]
    },
    {
     "name": "stdout",
     "output_type": "stream",
     "text": [
      "Epoch [827], Train Loss : [1.08435] Val Loss : [1.14167] Val F1 : [0.55835]\n"
     ]
    },
    {
     "name": "stderr",
     "output_type": "stream",
     "text": [
      "100%|██████████████████████████████████████████| 141/141 [00:37<00:00,  3.75it/s]\n",
      "100%|████████████████████████████████████████████| 16/16 [00:01<00:00, 10.78it/s]\n"
     ]
    },
    {
     "name": "stdout",
     "output_type": "stream",
     "text": [
      "Epoch [828], Train Loss : [1.08611] Val Loss : [1.14067] Val F1 : [0.55911]\n"
     ]
    },
    {
     "name": "stderr",
     "output_type": "stream",
     "text": [
      "100%|██████████████████████████████████████████| 141/141 [00:37<00:00,  3.74it/s]\n",
      "100%|████████████████████████████████████████████| 16/16 [00:01<00:00, 10.90it/s]\n"
     ]
    },
    {
     "name": "stdout",
     "output_type": "stream",
     "text": [
      "Epoch [829], Train Loss : [1.08625] Val Loss : [1.14250] Val F1 : [0.55713]\n"
     ]
    },
    {
     "name": "stderr",
     "output_type": "stream",
     "text": [
      "100%|██████████████████████████████████████████| 141/141 [00:37<00:00,  3.75it/s]\n",
      "100%|████████████████████████████████████████████| 16/16 [00:01<00:00, 10.86it/s]\n"
     ]
    },
    {
     "name": "stdout",
     "output_type": "stream",
     "text": [
      "Epoch [830], Train Loss : [1.08653] Val Loss : [1.14122] Val F1 : [0.56313]\n"
     ]
    },
    {
     "name": "stderr",
     "output_type": "stream",
     "text": [
      "100%|██████████████████████████████████████████| 141/141 [00:37<00:00,  3.75it/s]\n",
      "100%|████████████████████████████████████████████| 16/16 [00:01<00:00, 10.84it/s]\n"
     ]
    },
    {
     "name": "stdout",
     "output_type": "stream",
     "text": [
      "Epoch [831], Train Loss : [1.08753] Val Loss : [1.14260] Val F1 : [0.55970]\n"
     ]
    },
    {
     "name": "stderr",
     "output_type": "stream",
     "text": [
      "100%|██████████████████████████████████████████| 141/141 [00:37<00:00,  3.74it/s]\n",
      "100%|████████████████████████████████████████████| 16/16 [00:01<00:00, 10.60it/s]\n"
     ]
    },
    {
     "name": "stdout",
     "output_type": "stream",
     "text": [
      "Epoch [832], Train Loss : [1.08943] Val Loss : [1.14059] Val F1 : [0.55857]\n"
     ]
    },
    {
     "name": "stderr",
     "output_type": "stream",
     "text": [
      "100%|██████████████████████████████████████████| 141/141 [00:37<00:00,  3.75it/s]\n",
      "100%|████████████████████████████████████████████| 16/16 [00:01<00:00, 10.84it/s]\n"
     ]
    },
    {
     "name": "stdout",
     "output_type": "stream",
     "text": [
      "Epoch [833], Train Loss : [1.09103] Val Loss : [1.14556] Val F1 : [0.54143]\n"
     ]
    },
    {
     "name": "stderr",
     "output_type": "stream",
     "text": [
      "100%|██████████████████████████████████████████| 141/141 [00:37<00:00,  3.74it/s]\n",
      "100%|████████████████████████████████████████████| 16/16 [00:01<00:00, 10.84it/s]\n"
     ]
    },
    {
     "name": "stdout",
     "output_type": "stream",
     "text": [
      "Epoch [834], Train Loss : [1.08881] Val Loss : [1.14054] Val F1 : [0.55937]\n"
     ]
    },
    {
     "name": "stderr",
     "output_type": "stream",
     "text": [
      "100%|██████████████████████████████████████████| 141/141 [00:37<00:00,  3.75it/s]\n",
      "100%|████████████████████████████████████████████| 16/16 [00:01<00:00, 10.83it/s]\n"
     ]
    },
    {
     "name": "stdout",
     "output_type": "stream",
     "text": [
      "Epoch [835], Train Loss : [1.09948] Val Loss : [1.14209] Val F1 : [0.55882]\n"
     ]
    },
    {
     "name": "stderr",
     "output_type": "stream",
     "text": [
      "100%|██████████████████████████████████████████| 141/141 [00:37<00:00,  3.75it/s]\n",
      "100%|████████████████████████████████████████████| 16/16 [00:01<00:00, 10.88it/s]\n"
     ]
    },
    {
     "name": "stdout",
     "output_type": "stream",
     "text": [
      "Epoch [836], Train Loss : [1.08718] Val Loss : [1.14153] Val F1 : [0.55776]\n"
     ]
    },
    {
     "name": "stderr",
     "output_type": "stream",
     "text": [
      "100%|██████████████████████████████████████████| 141/141 [00:37<00:00,  3.75it/s]\n",
      "100%|████████████████████████████████████████████| 16/16 [00:01<00:00, 10.95it/s]\n"
     ]
    },
    {
     "name": "stdout",
     "output_type": "stream",
     "text": [
      "Epoch [837], Train Loss : [1.09076] Val Loss : [1.14215] Val F1 : [0.56357]\n"
     ]
    },
    {
     "name": "stderr",
     "output_type": "stream",
     "text": [
      "100%|██████████████████████████████████████████| 141/141 [00:37<00:00,  3.75it/s]\n",
      "100%|████████████████████████████████████████████| 16/16 [00:01<00:00, 10.88it/s]\n"
     ]
    },
    {
     "name": "stdout",
     "output_type": "stream",
     "text": [
      "Epoch [838], Train Loss : [1.08489] Val Loss : [1.14148] Val F1 : [0.56021]\n"
     ]
    },
    {
     "name": "stderr",
     "output_type": "stream",
     "text": [
      "100%|██████████████████████████████████████████| 141/141 [00:37<00:00,  3.73it/s]\n",
      "100%|████████████████████████████████████████████| 16/16 [00:01<00:00, 10.62it/s]\n"
     ]
    },
    {
     "name": "stdout",
     "output_type": "stream",
     "text": [
      "Epoch [839], Train Loss : [1.08753] Val Loss : [1.14443] Val F1 : [0.54774]\n"
     ]
    },
    {
     "name": "stderr",
     "output_type": "stream",
     "text": [
      "100%|██████████████████████████████████████████| 141/141 [00:37<00:00,  3.74it/s]\n",
      "100%|████████████████████████████████████████████| 16/16 [00:01<00:00, 10.83it/s]\n"
     ]
    },
    {
     "name": "stdout",
     "output_type": "stream",
     "text": [
      "Epoch [840], Train Loss : [1.09060] Val Loss : [1.14640] Val F1 : [0.54488]\n"
     ]
    },
    {
     "name": "stderr",
     "output_type": "stream",
     "text": [
      "100%|██████████████████████████████████████████| 141/141 [00:37<00:00,  3.74it/s]\n",
      "100%|████████████████████████████████████████████| 16/16 [00:01<00:00, 10.23it/s]\n"
     ]
    },
    {
     "name": "stdout",
     "output_type": "stream",
     "text": [
      "Epoch [841], Train Loss : [1.08656] Val Loss : [1.14265] Val F1 : [0.56060]\n"
     ]
    },
    {
     "name": "stderr",
     "output_type": "stream",
     "text": [
      "100%|██████████████████████████████████████████| 141/141 [00:37<00:00,  3.72it/s]\n",
      "100%|████████████████████████████████████████████| 16/16 [00:01<00:00, 10.57it/s]\n"
     ]
    },
    {
     "name": "stdout",
     "output_type": "stream",
     "text": [
      "Epoch [842], Train Loss : [1.09063] Val Loss : [1.14134] Val F1 : [0.56245]\n"
     ]
    },
    {
     "name": "stderr",
     "output_type": "stream",
     "text": [
      "100%|██████████████████████████████████████████| 141/141 [00:37<00:00,  3.74it/s]\n",
      "100%|████████████████████████████████████████████| 16/16 [00:01<00:00, 10.90it/s]\n"
     ]
    },
    {
     "name": "stdout",
     "output_type": "stream",
     "text": [
      "Epoch [843], Train Loss : [1.08909] Val Loss : [1.14192] Val F1 : [0.55642]\n"
     ]
    },
    {
     "name": "stderr",
     "output_type": "stream",
     "text": [
      "100%|██████████████████████████████████████████| 141/141 [00:37<00:00,  3.74it/s]\n",
      "100%|████████████████████████████████████████████| 16/16 [00:01<00:00, 10.89it/s]\n"
     ]
    },
    {
     "name": "stdout",
     "output_type": "stream",
     "text": [
      "Epoch [844], Train Loss : [1.08975] Val Loss : [1.14265] Val F1 : [0.56040]\n"
     ]
    },
    {
     "name": "stderr",
     "output_type": "stream",
     "text": [
      "100%|██████████████████████████████████████████| 141/141 [00:37<00:00,  3.75it/s]\n",
      "100%|████████████████████████████████████████████| 16/16 [00:01<00:00, 10.80it/s]\n"
     ]
    },
    {
     "name": "stdout",
     "output_type": "stream",
     "text": [
      "Epoch [845], Train Loss : [1.08798] Val Loss : [1.14240] Val F1 : [0.55134]\n"
     ]
    },
    {
     "name": "stderr",
     "output_type": "stream",
     "text": [
      "100%|██████████████████████████████████████████| 141/141 [00:37<00:00,  3.75it/s]\n",
      "100%|████████████████████████████████████████████| 16/16 [00:01<00:00, 10.88it/s]\n"
     ]
    },
    {
     "name": "stdout",
     "output_type": "stream",
     "text": [
      "Epoch [846], Train Loss : [1.08704] Val Loss : [1.14409] Val F1 : [0.55726]\n"
     ]
    },
    {
     "name": "stderr",
     "output_type": "stream",
     "text": [
      "100%|██████████████████████████████████████████| 141/141 [00:37<00:00,  3.75it/s]\n",
      "100%|████████████████████████████████████████████| 16/16 [00:01<00:00, 10.91it/s]\n"
     ]
    },
    {
     "name": "stdout",
     "output_type": "stream",
     "text": [
      "Epoch [847], Train Loss : [1.08932] Val Loss : [1.14113] Val F1 : [0.56003]\n"
     ]
    },
    {
     "name": "stderr",
     "output_type": "stream",
     "text": [
      "100%|██████████████████████████████████████████| 141/141 [00:37<00:00,  3.75it/s]\n",
      "100%|████████████████████████████████████████████| 16/16 [00:01<00:00, 10.85it/s]\n"
     ]
    },
    {
     "name": "stdout",
     "output_type": "stream",
     "text": [
      "Epoch [848], Train Loss : [1.09148] Val Loss : [1.14252] Val F1 : [0.55970]\n"
     ]
    },
    {
     "name": "stderr",
     "output_type": "stream",
     "text": [
      "100%|██████████████████████████████████████████| 141/141 [00:37<00:00,  3.75it/s]\n",
      "100%|████████████████████████████████████████████| 16/16 [00:01<00:00, 10.91it/s]\n"
     ]
    },
    {
     "name": "stdout",
     "output_type": "stream",
     "text": [
      "Epoch [849], Train Loss : [1.08736] Val Loss : [1.14208] Val F1 : [0.54895]\n"
     ]
    },
    {
     "name": "stderr",
     "output_type": "stream",
     "text": [
      "100%|██████████████████████████████████████████| 141/141 [00:37<00:00,  3.75it/s]\n",
      "100%|████████████████████████████████████████████| 16/16 [00:01<00:00, 10.79it/s]\n"
     ]
    },
    {
     "name": "stdout",
     "output_type": "stream",
     "text": [
      "Epoch [850], Train Loss : [1.08936] Val Loss : [1.14215] Val F1 : [0.55780]\n"
     ]
    },
    {
     "name": "stderr",
     "output_type": "stream",
     "text": [
      "100%|██████████████████████████████████████████| 141/141 [00:37<00:00,  3.75it/s]\n",
      "100%|████████████████████████████████████████████| 16/16 [00:01<00:00, 10.79it/s]\n"
     ]
    },
    {
     "name": "stdout",
     "output_type": "stream",
     "text": [
      "Epoch [851], Train Loss : [1.08930] Val Loss : [1.14282] Val F1 : [0.55416]\n"
     ]
    },
    {
     "name": "stderr",
     "output_type": "stream",
     "text": [
      "100%|██████████████████████████████████████████| 141/141 [00:37<00:00,  3.75it/s]\n",
      "100%|████████████████████████████████████████████| 16/16 [00:01<00:00, 10.68it/s]\n"
     ]
    },
    {
     "name": "stdout",
     "output_type": "stream",
     "text": [
      "Epoch [852], Train Loss : [1.09252] Val Loss : [1.14151] Val F1 : [0.55619]\n"
     ]
    },
    {
     "name": "stderr",
     "output_type": "stream",
     "text": [
      "100%|██████████████████████████████████████████| 141/141 [00:37<00:00,  3.75it/s]\n",
      "100%|████████████████████████████████████████████| 16/16 [00:01<00:00, 10.88it/s]\n"
     ]
    },
    {
     "name": "stdout",
     "output_type": "stream",
     "text": [
      "Epoch [853], Train Loss : [1.08731] Val Loss : [1.14239] Val F1 : [0.56126]\n"
     ]
    },
    {
     "name": "stderr",
     "output_type": "stream",
     "text": [
      "100%|██████████████████████████████████████████| 141/141 [00:37<00:00,  3.75it/s]\n",
      "100%|████████████████████████████████████████████| 16/16 [00:01<00:00, 10.77it/s]\n"
     ]
    },
    {
     "name": "stdout",
     "output_type": "stream",
     "text": [
      "Epoch [854], Train Loss : [1.09357] Val Loss : [1.14075] Val F1 : [0.56222]\n"
     ]
    },
    {
     "name": "stderr",
     "output_type": "stream",
     "text": [
      "100%|██████████████████████████████████████████| 141/141 [00:37<00:00,  3.75it/s]\n",
      "100%|████████████████████████████████████████████| 16/16 [00:01<00:00, 10.54it/s]\n"
     ]
    },
    {
     "name": "stdout",
     "output_type": "stream",
     "text": [
      "Epoch [855], Train Loss : [1.09036] Val Loss : [1.14213] Val F1 : [0.56050]\n"
     ]
    },
    {
     "name": "stderr",
     "output_type": "stream",
     "text": [
      "100%|██████████████████████████████████████████| 141/141 [00:37<00:00,  3.74it/s]\n",
      "100%|████████████████████████████████████████████| 16/16 [00:01<00:00, 10.74it/s]\n"
     ]
    },
    {
     "name": "stdout",
     "output_type": "stream",
     "text": [
      "Epoch [856], Train Loss : [1.08912] Val Loss : [1.14436] Val F1 : [0.55765]\n"
     ]
    },
    {
     "name": "stderr",
     "output_type": "stream",
     "text": [
      "100%|██████████████████████████████████████████| 141/141 [00:37<00:00,  3.75it/s]\n",
      "100%|████████████████████████████████████████████| 16/16 [00:01<00:00, 10.81it/s]\n"
     ]
    },
    {
     "name": "stdout",
     "output_type": "stream",
     "text": [
      "Epoch [857], Train Loss : [1.08171] Val Loss : [1.14279] Val F1 : [0.55455]\n"
     ]
    },
    {
     "name": "stderr",
     "output_type": "stream",
     "text": [
      "100%|██████████████████████████████████████████| 141/141 [00:37<00:00,  3.75it/s]\n",
      "100%|████████████████████████████████████████████| 16/16 [00:01<00:00, 10.87it/s]\n"
     ]
    },
    {
     "name": "stdout",
     "output_type": "stream",
     "text": [
      "Epoch [858], Train Loss : [1.08517] Val Loss : [1.14380] Val F1 : [0.56470]\n"
     ]
    },
    {
     "name": "stderr",
     "output_type": "stream",
     "text": [
      "100%|██████████████████████████████████████████| 141/141 [00:37<00:00,  3.75it/s]\n",
      "100%|████████████████████████████████████████████| 16/16 [00:01<00:00, 10.86it/s]\n"
     ]
    },
    {
     "name": "stdout",
     "output_type": "stream",
     "text": [
      "Epoch [859], Train Loss : [1.08813] Val Loss : [1.14383] Val F1 : [0.55533]\n"
     ]
    },
    {
     "name": "stderr",
     "output_type": "stream",
     "text": [
      "100%|██████████████████████████████████████████| 141/141 [00:37<00:00,  3.75it/s]\n",
      "100%|████████████████████████████████████████████| 16/16 [00:01<00:00, 10.82it/s]\n"
     ]
    },
    {
     "name": "stdout",
     "output_type": "stream",
     "text": [
      "Epoch [860], Train Loss : [1.08812] Val Loss : [1.14099] Val F1 : [0.56641]\n"
     ]
    },
    {
     "name": "stderr",
     "output_type": "stream",
     "text": [
      "100%|██████████████████████████████████████████| 141/141 [00:37<00:00,  3.74it/s]\n",
      "100%|████████████████████████████████████████████| 16/16 [00:01<00:00, 10.86it/s]\n"
     ]
    },
    {
     "name": "stdout",
     "output_type": "stream",
     "text": [
      "Epoch [861], Train Loss : [1.08870] Val Loss : [1.14095] Val F1 : [0.56143]\n"
     ]
    },
    {
     "name": "stderr",
     "output_type": "stream",
     "text": [
      "100%|██████████████████████████████████████████| 141/141 [00:37<00:00,  3.74it/s]\n",
      "100%|████████████████████████████████████████████| 16/16 [00:01<00:00, 10.60it/s]\n"
     ]
    },
    {
     "name": "stdout",
     "output_type": "stream",
     "text": [
      "Epoch [862], Train Loss : [1.09072] Val Loss : [1.14453] Val F1 : [0.55670]\n"
     ]
    },
    {
     "name": "stderr",
     "output_type": "stream",
     "text": [
      "100%|██████████████████████████████████████████| 141/141 [00:37<00:00,  3.74it/s]\n",
      "100%|████████████████████████████████████████████| 16/16 [00:01<00:00, 10.84it/s]\n"
     ]
    },
    {
     "name": "stdout",
     "output_type": "stream",
     "text": [
      "Epoch [863], Train Loss : [1.09247] Val Loss : [1.14148] Val F1 : [0.54616]\n"
     ]
    },
    {
     "name": "stderr",
     "output_type": "stream",
     "text": [
      "100%|██████████████████████████████████████████| 141/141 [00:37<00:00,  3.75it/s]\n",
      "100%|████████████████████████████████████████████| 16/16 [00:01<00:00, 10.81it/s]\n"
     ]
    },
    {
     "name": "stdout",
     "output_type": "stream",
     "text": [
      "Epoch [864], Train Loss : [1.09056] Val Loss : [1.14106] Val F1 : [0.56496]\n"
     ]
    },
    {
     "name": "stderr",
     "output_type": "stream",
     "text": [
      "100%|██████████████████████████████████████████| 141/141 [00:37<00:00,  3.75it/s]\n",
      "100%|████████████████████████████████████████████| 16/16 [00:01<00:00, 10.81it/s]\n"
     ]
    },
    {
     "name": "stdout",
     "output_type": "stream",
     "text": [
      "Epoch [865], Train Loss : [1.08545] Val Loss : [1.14388] Val F1 : [0.56045]\n"
     ]
    },
    {
     "name": "stderr",
     "output_type": "stream",
     "text": [
      "100%|██████████████████████████████████████████| 141/141 [00:37<00:00,  3.73it/s]\n",
      "100%|████████████████████████████████████████████| 16/16 [00:01<00:00, 10.61it/s]\n"
     ]
    },
    {
     "name": "stdout",
     "output_type": "stream",
     "text": [
      "Epoch [866], Train Loss : [1.08662] Val Loss : [1.14133] Val F1 : [0.55607]\n"
     ]
    },
    {
     "name": "stderr",
     "output_type": "stream",
     "text": [
      "100%|██████████████████████████████████████████| 141/141 [00:37<00:00,  3.73it/s]\n",
      "100%|████████████████████████████████████████████| 16/16 [00:01<00:00, 10.88it/s]\n"
     ]
    },
    {
     "name": "stdout",
     "output_type": "stream",
     "text": [
      "Epoch [867], Train Loss : [1.08829] Val Loss : [1.14145] Val F1 : [0.55882]\n"
     ]
    },
    {
     "name": "stderr",
     "output_type": "stream",
     "text": [
      "100%|██████████████████████████████████████████| 141/141 [00:37<00:00,  3.74it/s]\n",
      "100%|████████████████████████████████████████████| 16/16 [00:01<00:00, 10.85it/s]\n"
     ]
    },
    {
     "name": "stdout",
     "output_type": "stream",
     "text": [
      "Epoch [868], Train Loss : [1.09252] Val Loss : [1.14253] Val F1 : [0.55919]\n"
     ]
    },
    {
     "name": "stderr",
     "output_type": "stream",
     "text": [
      "100%|██████████████████████████████████████████| 141/141 [00:37<00:00,  3.74it/s]\n",
      "100%|████████████████████████████████████████████| 16/16 [00:01<00:00, 10.63it/s]\n"
     ]
    },
    {
     "name": "stdout",
     "output_type": "stream",
     "text": [
      "Epoch [869], Train Loss : [1.08440] Val Loss : [1.14035] Val F1 : [0.56460]\n"
     ]
    },
    {
     "name": "stderr",
     "output_type": "stream",
     "text": [
      "100%|██████████████████████████████████████████| 141/141 [00:37<00:00,  3.73it/s]\n",
      "100%|████████████████████████████████████████████| 16/16 [00:01<00:00, 10.57it/s]\n"
     ]
    },
    {
     "name": "stdout",
     "output_type": "stream",
     "text": [
      "Epoch [870], Train Loss : [1.08795] Val Loss : [1.14386] Val F1 : [0.56302]\n"
     ]
    },
    {
     "name": "stderr",
     "output_type": "stream",
     "text": [
      "100%|██████████████████████████████████████████| 141/141 [00:37<00:00,  3.74it/s]\n",
      "100%|████████████████████████████████████████████| 16/16 [00:01<00:00, 10.64it/s]\n"
     ]
    },
    {
     "name": "stdout",
     "output_type": "stream",
     "text": [
      "Epoch [871], Train Loss : [1.08878] Val Loss : [1.14094] Val F1 : [0.56278]\n"
     ]
    },
    {
     "name": "stderr",
     "output_type": "stream",
     "text": [
      "100%|██████████████████████████████████████████| 141/141 [00:37<00:00,  3.74it/s]\n",
      "100%|████████████████████████████████████████████| 16/16 [00:01<00:00, 10.87it/s]\n"
     ]
    },
    {
     "name": "stdout",
     "output_type": "stream",
     "text": [
      "Epoch [872], Train Loss : [1.08770] Val Loss : [1.14125] Val F1 : [0.56033]\n"
     ]
    },
    {
     "name": "stderr",
     "output_type": "stream",
     "text": [
      "100%|██████████████████████████████████████████| 141/141 [00:37<00:00,  3.75it/s]\n",
      "100%|████████████████████████████████████████████| 16/16 [00:01<00:00, 10.53it/s]\n"
     ]
    },
    {
     "name": "stdout",
     "output_type": "stream",
     "text": [
      "Epoch [873], Train Loss : [1.09388] Val Loss : [1.14272] Val F1 : [0.56214]\n"
     ]
    },
    {
     "name": "stderr",
     "output_type": "stream",
     "text": [
      "100%|██████████████████████████████████████████| 141/141 [00:37<00:00,  3.74it/s]\n",
      "100%|████████████████████████████████████████████| 16/16 [00:01<00:00, 10.78it/s]\n"
     ]
    },
    {
     "name": "stdout",
     "output_type": "stream",
     "text": [
      "Epoch [874], Train Loss : [1.08602] Val Loss : [1.14181] Val F1 : [0.56159]\n"
     ]
    },
    {
     "name": "stderr",
     "output_type": "stream",
     "text": [
      "100%|██████████████████████████████████████████| 141/141 [00:37<00:00,  3.74it/s]\n",
      "100%|████████████████████████████████████████████| 16/16 [00:01<00:00, 10.14it/s]\n"
     ]
    },
    {
     "name": "stdout",
     "output_type": "stream",
     "text": [
      "Epoch [875], Train Loss : [1.08694] Val Loss : [1.14252] Val F1 : [0.56078]\n"
     ]
    },
    {
     "name": "stderr",
     "output_type": "stream",
     "text": [
      "100%|██████████████████████████████████████████| 141/141 [00:37<00:00,  3.75it/s]\n",
      "100%|████████████████████████████████████████████| 16/16 [00:01<00:00, 10.82it/s]\n"
     ]
    },
    {
     "name": "stdout",
     "output_type": "stream",
     "text": [
      "Epoch [876], Train Loss : [1.08824] Val Loss : [1.14271] Val F1 : [0.54466]\n"
     ]
    },
    {
     "name": "stderr",
     "output_type": "stream",
     "text": [
      "100%|██████████████████████████████████████████| 141/141 [00:37<00:00,  3.75it/s]\n",
      "100%|████████████████████████████████████████████| 16/16 [00:01<00:00, 10.86it/s]\n"
     ]
    },
    {
     "name": "stdout",
     "output_type": "stream",
     "text": [
      "Epoch [877], Train Loss : [1.08817] Val Loss : [1.14344] Val F1 : [0.54893]\n"
     ]
    },
    {
     "name": "stderr",
     "output_type": "stream",
     "text": [
      "100%|██████████████████████████████████████████| 141/141 [00:37<00:00,  3.75it/s]\n",
      "100%|████████████████████████████████████████████| 16/16 [00:01<00:00, 10.89it/s]\n"
     ]
    },
    {
     "name": "stdout",
     "output_type": "stream",
     "text": [
      "Epoch [878], Train Loss : [1.09007] Val Loss : [1.14389] Val F1 : [0.54567]\n"
     ]
    },
    {
     "name": "stderr",
     "output_type": "stream",
     "text": [
      "100%|██████████████████████████████████████████| 141/141 [00:37<00:00,  3.75it/s]\n",
      "100%|████████████████████████████████████████████| 16/16 [00:01<00:00, 10.87it/s]\n"
     ]
    },
    {
     "name": "stdout",
     "output_type": "stream",
     "text": [
      "Epoch [879], Train Loss : [1.08846] Val Loss : [1.14352] Val F1 : [0.56047]\n"
     ]
    },
    {
     "name": "stderr",
     "output_type": "stream",
     "text": [
      "100%|██████████████████████████████████████████| 141/141 [00:37<00:00,  3.74it/s]\n",
      "100%|████████████████████████████████████████████| 16/16 [00:01<00:00, 10.92it/s]\n"
     ]
    },
    {
     "name": "stdout",
     "output_type": "stream",
     "text": [
      "Epoch [880], Train Loss : [1.08781] Val Loss : [1.14440] Val F1 : [0.54747]\n"
     ]
    },
    {
     "name": "stderr",
     "output_type": "stream",
     "text": [
      "100%|██████████████████████████████████████████| 141/141 [00:37<00:00,  3.74it/s]\n",
      "100%|████████████████████████████████████████████| 16/16 [00:01<00:00, 10.92it/s]\n"
     ]
    },
    {
     "name": "stdout",
     "output_type": "stream",
     "text": [
      "Epoch [881], Train Loss : [1.09088] Val Loss : [1.14307] Val F1 : [0.55996]\n"
     ]
    },
    {
     "name": "stderr",
     "output_type": "stream",
     "text": [
      "100%|██████████████████████████████████████████| 141/141 [00:37<00:00,  3.75it/s]\n",
      "100%|████████████████████████████████████████████| 16/16 [00:01<00:00, 10.86it/s]\n"
     ]
    },
    {
     "name": "stdout",
     "output_type": "stream",
     "text": [
      "Epoch [882], Train Loss : [1.08287] Val Loss : [1.14234] Val F1 : [0.56132]\n"
     ]
    },
    {
     "name": "stderr",
     "output_type": "stream",
     "text": [
      "100%|██████████████████████████████████████████| 141/141 [00:37<00:00,  3.74it/s]\n",
      "100%|████████████████████████████████████████████| 16/16 [00:01<00:00, 10.93it/s]\n"
     ]
    },
    {
     "name": "stdout",
     "output_type": "stream",
     "text": [
      "Epoch [883], Train Loss : [1.08888] Val Loss : [1.14261] Val F1 : [0.55122]\n"
     ]
    },
    {
     "name": "stderr",
     "output_type": "stream",
     "text": [
      "100%|██████████████████████████████████████████| 141/141 [00:37<00:00,  3.75it/s]\n",
      "100%|████████████████████████████████████████████| 16/16 [00:01<00:00, 10.79it/s]\n"
     ]
    },
    {
     "name": "stdout",
     "output_type": "stream",
     "text": [
      "Epoch [884], Train Loss : [1.08886] Val Loss : [1.14213] Val F1 : [0.56063]\n"
     ]
    },
    {
     "name": "stderr",
     "output_type": "stream",
     "text": [
      "100%|██████████████████████████████████████████| 141/141 [00:37<00:00,  3.75it/s]\n",
      "100%|████████████████████████████████████████████| 16/16 [00:01<00:00, 10.64it/s]\n"
     ]
    },
    {
     "name": "stdout",
     "output_type": "stream",
     "text": [
      "Epoch [885], Train Loss : [1.08724] Val Loss : [1.14540] Val F1 : [0.54526]\n"
     ]
    },
    {
     "name": "stderr",
     "output_type": "stream",
     "text": [
      "100%|██████████████████████████████████████████| 141/141 [00:37<00:00,  3.72it/s]\n",
      "100%|████████████████████████████████████████████| 16/16 [00:01<00:00, 10.67it/s]\n"
     ]
    },
    {
     "name": "stdout",
     "output_type": "stream",
     "text": [
      "Epoch [886], Train Loss : [1.08927] Val Loss : [1.14230] Val F1 : [0.54904]\n"
     ]
    },
    {
     "name": "stderr",
     "output_type": "stream",
     "text": [
      "100%|██████████████████████████████████████████| 141/141 [00:37<00:00,  3.74it/s]\n",
      "100%|████████████████████████████████████████████| 16/16 [00:01<00:00, 10.61it/s]\n"
     ]
    },
    {
     "name": "stdout",
     "output_type": "stream",
     "text": [
      "Epoch [887], Train Loss : [1.08880] Val Loss : [1.14116] Val F1 : [0.55561]\n"
     ]
    },
    {
     "name": "stderr",
     "output_type": "stream",
     "text": [
      "100%|██████████████████████████████████████████| 141/141 [00:37<00:00,  3.75it/s]\n",
      "100%|████████████████████████████████████████████| 16/16 [00:01<00:00, 10.58it/s]\n"
     ]
    },
    {
     "name": "stdout",
     "output_type": "stream",
     "text": [
      "Epoch [888], Train Loss : [1.09411] Val Loss : [1.14326] Val F1 : [0.56681]\n"
     ]
    },
    {
     "name": "stderr",
     "output_type": "stream",
     "text": [
      "100%|██████████████████████████████████████████| 141/141 [00:37<00:00,  3.74it/s]\n",
      "100%|████████████████████████████████████████████| 16/16 [00:01<00:00, 10.74it/s]\n"
     ]
    },
    {
     "name": "stdout",
     "output_type": "stream",
     "text": [
      "Epoch [889], Train Loss : [1.08465] Val Loss : [1.14162] Val F1 : [0.55594]\n"
     ]
    },
    {
     "name": "stderr",
     "output_type": "stream",
     "text": [
      "100%|██████████████████████████████████████████| 141/141 [00:37<00:00,  3.75it/s]\n",
      "100%|████████████████████████████████████████████| 16/16 [00:01<00:00, 10.73it/s]\n"
     ]
    },
    {
     "name": "stdout",
     "output_type": "stream",
     "text": [
      "Epoch [890], Train Loss : [1.08888] Val Loss : [1.14130] Val F1 : [0.55740]\n"
     ]
    },
    {
     "name": "stderr",
     "output_type": "stream",
     "text": [
      "100%|██████████████████████████████████████████| 141/141 [00:37<00:00,  3.74it/s]\n",
      "100%|████████████████████████████████████████████| 16/16 [00:01<00:00, 10.85it/s]\n"
     ]
    },
    {
     "name": "stdout",
     "output_type": "stream",
     "text": [
      "Epoch [891], Train Loss : [1.09042] Val Loss : [1.14390] Val F1 : [0.55317]\n"
     ]
    },
    {
     "name": "stderr",
     "output_type": "stream",
     "text": [
      "100%|██████████████████████████████████████████| 141/141 [00:37<00:00,  3.75it/s]\n",
      "100%|████████████████████████████████████████████| 16/16 [00:01<00:00, 10.86it/s]\n"
     ]
    },
    {
     "name": "stdout",
     "output_type": "stream",
     "text": [
      "Epoch [892], Train Loss : [1.08644] Val Loss : [1.14272] Val F1 : [0.56032]\n"
     ]
    },
    {
     "name": "stderr",
     "output_type": "stream",
     "text": [
      "100%|██████████████████████████████████████████| 141/141 [00:37<00:00,  3.73it/s]\n",
      "100%|████████████████████████████████████████████| 16/16 [00:01<00:00, 10.59it/s]\n"
     ]
    },
    {
     "name": "stdout",
     "output_type": "stream",
     "text": [
      "Epoch [893], Train Loss : [1.09367] Val Loss : [1.14266] Val F1 : [0.55694]\n"
     ]
    },
    {
     "name": "stderr",
     "output_type": "stream",
     "text": [
      "100%|██████████████████████████████████████████| 141/141 [00:37<00:00,  3.74it/s]\n",
      "100%|████████████████████████████████████████████| 16/16 [00:01<00:00, 10.56it/s]\n"
     ]
    },
    {
     "name": "stdout",
     "output_type": "stream",
     "text": [
      "Epoch [894], Train Loss : [1.08435] Val Loss : [1.14196] Val F1 : [0.55593]\n"
     ]
    },
    {
     "name": "stderr",
     "output_type": "stream",
     "text": [
      "100%|██████████████████████████████████████████| 141/141 [00:37<00:00,  3.74it/s]\n",
      "100%|████████████████████████████████████████████| 16/16 [00:01<00:00, 10.90it/s]\n"
     ]
    },
    {
     "name": "stdout",
     "output_type": "stream",
     "text": [
      "Epoch [895], Train Loss : [1.09123] Val Loss : [1.14275] Val F1 : [0.55111]\n"
     ]
    },
    {
     "name": "stderr",
     "output_type": "stream",
     "text": [
      "100%|██████████████████████████████████████████| 141/141 [00:37<00:00,  3.74it/s]\n",
      "100%|████████████████████████████████████████████| 16/16 [00:01<00:00, 10.85it/s]\n"
     ]
    },
    {
     "name": "stdout",
     "output_type": "stream",
     "text": [
      "Epoch [896], Train Loss : [1.08975] Val Loss : [1.14135] Val F1 : [0.55556]\n"
     ]
    },
    {
     "name": "stderr",
     "output_type": "stream",
     "text": [
      "100%|██████████████████████████████████████████| 141/141 [00:37<00:00,  3.75it/s]\n",
      "100%|████████████████████████████████████████████| 16/16 [00:01<00:00, 10.68it/s]\n"
     ]
    },
    {
     "name": "stdout",
     "output_type": "stream",
     "text": [
      "Epoch [897], Train Loss : [1.09049] Val Loss : [1.14170] Val F1 : [0.55781]\n"
     ]
    },
    {
     "name": "stderr",
     "output_type": "stream",
     "text": [
      "100%|██████████████████████████████████████████| 141/141 [00:37<00:00,  3.73it/s]\n",
      "100%|████████████████████████████████████████████| 16/16 [00:01<00:00, 10.91it/s]\n"
     ]
    },
    {
     "name": "stdout",
     "output_type": "stream",
     "text": [
      "Epoch [898], Train Loss : [1.09145] Val Loss : [1.14270] Val F1 : [0.55674]\n"
     ]
    },
    {
     "name": "stderr",
     "output_type": "stream",
     "text": [
      "100%|██████████████████████████████████████████| 141/141 [00:37<00:00,  3.75it/s]\n",
      "100%|████████████████████████████████████████████| 16/16 [00:01<00:00, 10.81it/s]\n"
     ]
    },
    {
     "name": "stdout",
     "output_type": "stream",
     "text": [
      "Epoch [899], Train Loss : [1.08754] Val Loss : [1.14136] Val F1 : [0.55684]\n"
     ]
    },
    {
     "name": "stderr",
     "output_type": "stream",
     "text": [
      "100%|██████████████████████████████████████████| 141/141 [00:37<00:00,  3.74it/s]\n",
      "100%|████████████████████████████████████████████| 16/16 [00:01<00:00, 10.96it/s]\n"
     ]
    },
    {
     "name": "stdout",
     "output_type": "stream",
     "text": [
      "Epoch [900], Train Loss : [1.08234] Val Loss : [1.14348] Val F1 : [0.54904]\n"
     ]
    },
    {
     "name": "stderr",
     "output_type": "stream",
     "text": [
      "100%|██████████████████████████████████████████| 141/141 [00:37<00:00,  3.74it/s]\n",
      "100%|████████████████████████████████████████████| 16/16 [00:01<00:00, 10.83it/s]\n"
     ]
    },
    {
     "name": "stdout",
     "output_type": "stream",
     "text": [
      "Epoch [901], Train Loss : [1.09283] Val Loss : [1.14349] Val F1 : [0.55543]\n"
     ]
    },
    {
     "name": "stderr",
     "output_type": "stream",
     "text": [
      "100%|██████████████████████████████████████████| 141/141 [00:37<00:00,  3.74it/s]\n",
      "100%|████████████████████████████████████████████| 16/16 [00:01<00:00, 10.65it/s]\n"
     ]
    },
    {
     "name": "stdout",
     "output_type": "stream",
     "text": [
      "Epoch [902], Train Loss : [1.08521] Val Loss : [1.14091] Val F1 : [0.55513]\n"
     ]
    },
    {
     "name": "stderr",
     "output_type": "stream",
     "text": [
      "100%|██████████████████████████████████████████| 141/141 [00:37<00:00,  3.74it/s]\n",
      "100%|████████████████████████████████████████████| 16/16 [00:01<00:00, 10.85it/s]\n"
     ]
    },
    {
     "name": "stdout",
     "output_type": "stream",
     "text": [
      "Epoch [903], Train Loss : [1.09146] Val Loss : [1.14227] Val F1 : [0.56467]\n"
     ]
    },
    {
     "name": "stderr",
     "output_type": "stream",
     "text": [
      "100%|██████████████████████████████████████████| 141/141 [00:37<00:00,  3.75it/s]\n",
      "100%|████████████████████████████████████████████| 16/16 [00:01<00:00, 10.77it/s]\n"
     ]
    },
    {
     "name": "stdout",
     "output_type": "stream",
     "text": [
      "Epoch [904], Train Loss : [1.08952] Val Loss : [1.14401] Val F1 : [0.55533]\n"
     ]
    },
    {
     "name": "stderr",
     "output_type": "stream",
     "text": [
      "100%|██████████████████████████████████████████| 141/141 [00:37<00:00,  3.75it/s]\n",
      "100%|████████████████████████████████████████████| 16/16 [00:01<00:00, 10.82it/s]\n"
     ]
    },
    {
     "name": "stdout",
     "output_type": "stream",
     "text": [
      "Epoch [905], Train Loss : [1.08730] Val Loss : [1.14290] Val F1 : [0.56654]\n"
     ]
    },
    {
     "name": "stderr",
     "output_type": "stream",
     "text": [
      "100%|██████████████████████████████████████████| 141/141 [00:37<00:00,  3.75it/s]\n",
      "100%|████████████████████████████████████████████| 16/16 [00:01<00:00, 10.86it/s]\n"
     ]
    },
    {
     "name": "stdout",
     "output_type": "stream",
     "text": [
      "Epoch [906], Train Loss : [1.09001] Val Loss : [1.14382] Val F1 : [0.55837]\n"
     ]
    },
    {
     "name": "stderr",
     "output_type": "stream",
     "text": [
      "100%|██████████████████████████████████████████| 141/141 [00:37<00:00,  3.75it/s]\n",
      "100%|████████████████████████████████████████████| 16/16 [00:01<00:00, 10.78it/s]\n"
     ]
    },
    {
     "name": "stdout",
     "output_type": "stream",
     "text": [
      "Epoch [907], Train Loss : [1.08818] Val Loss : [1.14170] Val F1 : [0.55942]\n"
     ]
    },
    {
     "name": "stderr",
     "output_type": "stream",
     "text": [
      "100%|██████████████████████████████████████████| 141/141 [00:37<00:00,  3.75it/s]\n",
      "100%|████████████████████████████████████████████| 16/16 [00:01<00:00, 10.82it/s]\n"
     ]
    },
    {
     "name": "stdout",
     "output_type": "stream",
     "text": [
      "Epoch [908], Train Loss : [1.08583] Val Loss : [1.14407] Val F1 : [0.55944]\n"
     ]
    },
    {
     "name": "stderr",
     "output_type": "stream",
     "text": [
      "100%|██████████████████████████████████████████| 141/141 [00:37<00:00,  3.75it/s]\n",
      "100%|████████████████████████████████████████████| 16/16 [00:01<00:00, 10.92it/s]\n"
     ]
    },
    {
     "name": "stdout",
     "output_type": "stream",
     "text": [
      "Epoch [909], Train Loss : [1.09347] Val Loss : [1.14212] Val F1 : [0.56640]\n"
     ]
    },
    {
     "name": "stderr",
     "output_type": "stream",
     "text": [
      "100%|██████████████████████████████████████████| 141/141 [00:37<00:00,  3.74it/s]\n",
      "100%|████████████████████████████████████████████| 16/16 [00:01<00:00, 10.90it/s]\n"
     ]
    },
    {
     "name": "stdout",
     "output_type": "stream",
     "text": [
      "Epoch [910], Train Loss : [1.08243] Val Loss : [1.14139] Val F1 : [0.56122]\n"
     ]
    },
    {
     "name": "stderr",
     "output_type": "stream",
     "text": [
      "100%|██████████████████████████████████████████| 141/141 [00:37<00:00,  3.75it/s]\n",
      "100%|████████████████████████████████████████████| 16/16 [00:01<00:00, 10.88it/s]\n"
     ]
    },
    {
     "name": "stdout",
     "output_type": "stream",
     "text": [
      "Epoch [911], Train Loss : [1.08718] Val Loss : [1.14292] Val F1 : [0.55629]\n"
     ]
    },
    {
     "name": "stderr",
     "output_type": "stream",
     "text": [
      "100%|██████████████████████████████████████████| 141/141 [00:37<00:00,  3.75it/s]\n",
      "100%|████████████████████████████████████████████| 16/16 [00:01<00:00, 10.86it/s]\n"
     ]
    },
    {
     "name": "stdout",
     "output_type": "stream",
     "text": [
      "Epoch [912], Train Loss : [1.08648] Val Loss : [1.14195] Val F1 : [0.55492]\n"
     ]
    },
    {
     "name": "stderr",
     "output_type": "stream",
     "text": [
      "100%|██████████████████████████████████████████| 141/141 [00:37<00:00,  3.75it/s]\n",
      "100%|████████████████████████████████████████████| 16/16 [00:01<00:00, 10.92it/s]\n"
     ]
    },
    {
     "name": "stdout",
     "output_type": "stream",
     "text": [
      "Epoch [913], Train Loss : [1.08477] Val Loss : [1.14139] Val F1 : [0.55671]\n"
     ]
    },
    {
     "name": "stderr",
     "output_type": "stream",
     "text": [
      "100%|██████████████████████████████████████████| 141/141 [00:37<00:00,  3.75it/s]\n",
      "100%|████████████████████████████████████████████| 16/16 [00:01<00:00, 10.95it/s]\n"
     ]
    },
    {
     "name": "stdout",
     "output_type": "stream",
     "text": [
      "Epoch [914], Train Loss : [1.08708] Val Loss : [1.14235] Val F1 : [0.55927]\n"
     ]
    },
    {
     "name": "stderr",
     "output_type": "stream",
     "text": [
      "100%|██████████████████████████████████████████| 141/141 [00:37<00:00,  3.75it/s]\n",
      "100%|████████████████████████████████████████████| 16/16 [00:01<00:00, 10.61it/s]\n"
     ]
    },
    {
     "name": "stdout",
     "output_type": "stream",
     "text": [
      "Epoch [915], Train Loss : [1.09027] Val Loss : [1.14371] Val F1 : [0.55938]\n"
     ]
    },
    {
     "name": "stderr",
     "output_type": "stream",
     "text": [
      "100%|██████████████████████████████████████████| 141/141 [00:37<00:00,  3.75it/s]\n",
      "100%|████████████████████████████████████████████| 16/16 [00:01<00:00, 10.89it/s]\n"
     ]
    },
    {
     "name": "stdout",
     "output_type": "stream",
     "text": [
      "Epoch [916], Train Loss : [1.08971] Val Loss : [1.14246] Val F1 : [0.56598]\n"
     ]
    },
    {
     "name": "stderr",
     "output_type": "stream",
     "text": [
      "100%|██████████████████████████████████████████| 141/141 [00:37<00:00,  3.75it/s]\n",
      "100%|████████████████████████████████████████████| 16/16 [00:01<00:00, 10.84it/s]\n"
     ]
    },
    {
     "name": "stdout",
     "output_type": "stream",
     "text": [
      "Epoch [917], Train Loss : [1.08744] Val Loss : [1.14251] Val F1 : [0.55208]\n"
     ]
    },
    {
     "name": "stderr",
     "output_type": "stream",
     "text": [
      "100%|██████████████████████████████████████████| 141/141 [00:37<00:00,  3.75it/s]\n",
      "100%|████████████████████████████████████████████| 16/16 [00:01<00:00, 10.89it/s]\n"
     ]
    },
    {
     "name": "stdout",
     "output_type": "stream",
     "text": [
      "Epoch [918], Train Loss : [1.09369] Val Loss : [1.14230] Val F1 : [0.55886]\n"
     ]
    },
    {
     "name": "stderr",
     "output_type": "stream",
     "text": [
      "100%|██████████████████████████████████████████| 141/141 [00:37<00:00,  3.74it/s]\n",
      "100%|████████████████████████████████████████████| 16/16 [00:01<00:00, 10.87it/s]\n"
     ]
    },
    {
     "name": "stdout",
     "output_type": "stream",
     "text": [
      "Epoch [919], Train Loss : [1.08840] Val Loss : [1.14377] Val F1 : [0.54917]\n"
     ]
    },
    {
     "name": "stderr",
     "output_type": "stream",
     "text": [
      "100%|██████████████████████████████████████████| 141/141 [00:37<00:00,  3.75it/s]\n",
      "100%|████████████████████████████████████████████| 16/16 [00:01<00:00, 10.77it/s]\n"
     ]
    },
    {
     "name": "stdout",
     "output_type": "stream",
     "text": [
      "Epoch [920], Train Loss : [1.08830] Val Loss : [1.14214] Val F1 : [0.55933]\n"
     ]
    },
    {
     "name": "stderr",
     "output_type": "stream",
     "text": [
      "100%|██████████████████████████████████████████| 141/141 [00:37<00:00,  3.75it/s]\n",
      "100%|████████████████████████████████████████████| 16/16 [00:01<00:00, 10.92it/s]\n"
     ]
    },
    {
     "name": "stdout",
     "output_type": "stream",
     "text": [
      "Epoch [921], Train Loss : [1.08906] Val Loss : [1.14119] Val F1 : [0.55949]\n"
     ]
    },
    {
     "name": "stderr",
     "output_type": "stream",
     "text": [
      "100%|██████████████████████████████████████████| 141/141 [00:37<00:00,  3.74it/s]\n",
      "100%|████████████████████████████████████████████| 16/16 [00:01<00:00, 10.79it/s]\n"
     ]
    },
    {
     "name": "stdout",
     "output_type": "stream",
     "text": [
      "Epoch [922], Train Loss : [1.09174] Val Loss : [1.14368] Val F1 : [0.55521]\n"
     ]
    },
    {
     "name": "stderr",
     "output_type": "stream",
     "text": [
      "100%|██████████████████████████████████████████| 141/141 [00:37<00:00,  3.74it/s]\n",
      "100%|████████████████████████████████████████████| 16/16 [00:01<00:00, 10.27it/s]\n"
     ]
    },
    {
     "name": "stdout",
     "output_type": "stream",
     "text": [
      "Epoch [923], Train Loss : [1.08486] Val Loss : [1.14380] Val F1 : [0.54930]\n"
     ]
    },
    {
     "name": "stderr",
     "output_type": "stream",
     "text": [
      "100%|██████████████████████████████████████████| 141/141 [00:37<00:00,  3.75it/s]\n",
      "100%|████████████████████████████████████████████| 16/16 [00:01<00:00, 10.91it/s]\n"
     ]
    },
    {
     "name": "stdout",
     "output_type": "stream",
     "text": [
      "Epoch [924], Train Loss : [1.09978] Val Loss : [1.14088] Val F1 : [0.56245]\n"
     ]
    },
    {
     "name": "stderr",
     "output_type": "stream",
     "text": [
      "100%|██████████████████████████████████████████| 141/141 [00:37<00:00,  3.75it/s]\n",
      "100%|████████████████████████████████████████████| 16/16 [00:01<00:00, 10.87it/s]\n"
     ]
    },
    {
     "name": "stdout",
     "output_type": "stream",
     "text": [
      "Epoch [925], Train Loss : [1.08738] Val Loss : [1.14273] Val F1 : [0.55891]\n"
     ]
    },
    {
     "name": "stderr",
     "output_type": "stream",
     "text": [
      "100%|██████████████████████████████████████████| 141/141 [00:37<00:00,  3.74it/s]\n",
      "100%|████████████████████████████████████████████| 16/16 [00:01<00:00, 10.80it/s]\n"
     ]
    },
    {
     "name": "stdout",
     "output_type": "stream",
     "text": [
      "Epoch [926], Train Loss : [1.08887] Val Loss : [1.14177] Val F1 : [0.55249]\n"
     ]
    },
    {
     "name": "stderr",
     "output_type": "stream",
     "text": [
      "100%|██████████████████████████████████████████| 141/141 [00:37<00:00,  3.75it/s]\n",
      "100%|████████████████████████████████████████████| 16/16 [00:01<00:00, 10.90it/s]\n"
     ]
    },
    {
     "name": "stdout",
     "output_type": "stream",
     "text": [
      "Epoch [927], Train Loss : [1.08719] Val Loss : [1.14092] Val F1 : [0.55457]\n"
     ]
    },
    {
     "name": "stderr",
     "output_type": "stream",
     "text": [
      "100%|██████████████████████████████████████████| 141/141 [00:37<00:00,  3.73it/s]\n",
      "100%|████████████████████████████████████████████| 16/16 [00:01<00:00, 10.62it/s]\n"
     ]
    },
    {
     "name": "stdout",
     "output_type": "stream",
     "text": [
      "Epoch [928], Train Loss : [1.08919] Val Loss : [1.14269] Val F1 : [0.55495]\n"
     ]
    },
    {
     "name": "stderr",
     "output_type": "stream",
     "text": [
      "100%|██████████████████████████████████████████| 141/141 [00:37<00:00,  3.74it/s]\n",
      "100%|████████████████████████████████████████████| 16/16 [00:01<00:00, 10.75it/s]\n"
     ]
    },
    {
     "name": "stdout",
     "output_type": "stream",
     "text": [
      "Epoch [929], Train Loss : [1.09518] Val Loss : [1.14211] Val F1 : [0.56261]\n"
     ]
    },
    {
     "name": "stderr",
     "output_type": "stream",
     "text": [
      "100%|██████████████████████████████████████████| 141/141 [00:37<00:00,  3.75it/s]\n",
      "100%|████████████████████████████████████████████| 16/16 [00:01<00:00, 10.83it/s]\n"
     ]
    },
    {
     "name": "stdout",
     "output_type": "stream",
     "text": [
      "Epoch [930], Train Loss : [1.08314] Val Loss : [1.14165] Val F1 : [0.55508]\n"
     ]
    },
    {
     "name": "stderr",
     "output_type": "stream",
     "text": [
      "100%|██████████████████████████████████████████| 141/141 [00:37<00:00,  3.75it/s]\n",
      "100%|████████████████████████████████████████████| 16/16 [00:01<00:00, 10.85it/s]\n"
     ]
    },
    {
     "name": "stdout",
     "output_type": "stream",
     "text": [
      "Epoch [931], Train Loss : [1.09256] Val Loss : [1.14145] Val F1 : [0.56131]\n"
     ]
    },
    {
     "name": "stderr",
     "output_type": "stream",
     "text": [
      "100%|██████████████████████████████████████████| 141/141 [00:37<00:00,  3.74it/s]\n",
      "100%|████████████████████████████████████████████| 16/16 [00:01<00:00, 10.90it/s]\n"
     ]
    },
    {
     "name": "stdout",
     "output_type": "stream",
     "text": [
      "Epoch [932], Train Loss : [1.08930] Val Loss : [1.14165] Val F1 : [0.56027]\n"
     ]
    },
    {
     "name": "stderr",
     "output_type": "stream",
     "text": [
      "100%|██████████████████████████████████████████| 141/141 [00:37<00:00,  3.75it/s]\n",
      "100%|████████████████████████████████████████████| 16/16 [00:01<00:00, 10.92it/s]\n"
     ]
    },
    {
     "name": "stdout",
     "output_type": "stream",
     "text": [
      "Epoch [933], Train Loss : [1.08897] Val Loss : [1.14585] Val F1 : [0.55220]\n"
     ]
    },
    {
     "name": "stderr",
     "output_type": "stream",
     "text": [
      "100%|██████████████████████████████████████████| 141/141 [00:37<00:00,  3.75it/s]\n",
      "100%|████████████████████████████████████████████| 16/16 [00:01<00:00, 10.80it/s]\n"
     ]
    },
    {
     "name": "stdout",
     "output_type": "stream",
     "text": [
      "Epoch [934], Train Loss : [1.09079] Val Loss : [1.14182] Val F1 : [0.55034]\n"
     ]
    },
    {
     "name": "stderr",
     "output_type": "stream",
     "text": [
      "100%|██████████████████████████████████████████| 141/141 [00:37<00:00,  3.74it/s]\n",
      "100%|████████████████████████████████████████████| 16/16 [00:01<00:00, 10.82it/s]\n"
     ]
    },
    {
     "name": "stdout",
     "output_type": "stream",
     "text": [
      "Epoch [935], Train Loss : [1.09280] Val Loss : [1.14363] Val F1 : [0.55193]\n"
     ]
    },
    {
     "name": "stderr",
     "output_type": "stream",
     "text": [
      "100%|██████████████████████████████████████████| 141/141 [00:37<00:00,  3.75it/s]\n",
      "100%|████████████████████████████████████████████| 16/16 [00:01<00:00, 10.60it/s]\n"
     ]
    },
    {
     "name": "stdout",
     "output_type": "stream",
     "text": [
      "Epoch [936], Train Loss : [1.08880] Val Loss : [1.14105] Val F1 : [0.55619]\n"
     ]
    },
    {
     "name": "stderr",
     "output_type": "stream",
     "text": [
      "100%|██████████████████████████████████████████| 141/141 [00:37<00:00,  3.74it/s]\n",
      "100%|████████████████████████████████████████████| 16/16 [00:01<00:00, 10.81it/s]\n"
     ]
    },
    {
     "name": "stdout",
     "output_type": "stream",
     "text": [
      "Epoch [937], Train Loss : [1.09086] Val Loss : [1.14262] Val F1 : [0.55088]\n"
     ]
    },
    {
     "name": "stderr",
     "output_type": "stream",
     "text": [
      "100%|██████████████████████████████████████████| 141/141 [00:37<00:00,  3.73it/s]\n",
      "100%|████████████████████████████████████████████| 16/16 [00:01<00:00, 10.72it/s]\n"
     ]
    },
    {
     "name": "stdout",
     "output_type": "stream",
     "text": [
      "Epoch [938], Train Loss : [1.09332] Val Loss : [1.14079] Val F1 : [0.56036]\n"
     ]
    },
    {
     "name": "stderr",
     "output_type": "stream",
     "text": [
      "100%|██████████████████████████████████████████| 141/141 [00:37<00:00,  3.75it/s]\n",
      "100%|████████████████████████████████████████████| 16/16 [00:01<00:00, 10.77it/s]\n"
     ]
    },
    {
     "name": "stdout",
     "output_type": "stream",
     "text": [
      "Epoch [939], Train Loss : [1.09291] Val Loss : [1.14178] Val F1 : [0.55390]\n"
     ]
    },
    {
     "name": "stderr",
     "output_type": "stream",
     "text": [
      "100%|██████████████████████████████████████████| 141/141 [00:37<00:00,  3.75it/s]\n",
      "100%|████████████████████████████████████████████| 16/16 [00:01<00:00, 10.57it/s]\n"
     ]
    },
    {
     "name": "stdout",
     "output_type": "stream",
     "text": [
      "Epoch [940], Train Loss : [1.08189] Val Loss : [1.14266] Val F1 : [0.55584]\n"
     ]
    },
    {
     "name": "stderr",
     "output_type": "stream",
     "text": [
      "100%|██████████████████████████████████████████| 141/141 [00:37<00:00,  3.72it/s]\n",
      "100%|████████████████████████████████████████████| 16/16 [00:01<00:00, 10.26it/s]\n"
     ]
    },
    {
     "name": "stdout",
     "output_type": "stream",
     "text": [
      "Epoch [941], Train Loss : [1.09047] Val Loss : [1.14283] Val F1 : [0.56021]\n"
     ]
    },
    {
     "name": "stderr",
     "output_type": "stream",
     "text": [
      "100%|██████████████████████████████████████████| 141/141 [00:37<00:00,  3.75it/s]\n",
      "100%|████████████████████████████████████████████| 16/16 [00:01<00:00, 10.85it/s]\n"
     ]
    },
    {
     "name": "stdout",
     "output_type": "stream",
     "text": [
      "Epoch [942], Train Loss : [1.08930] Val Loss : [1.14250] Val F1 : [0.54696]\n"
     ]
    },
    {
     "name": "stderr",
     "output_type": "stream",
     "text": [
      "100%|██████████████████████████████████████████| 141/141 [00:37<00:00,  3.75it/s]\n",
      "100%|████████████████████████████████████████████| 16/16 [00:01<00:00, 10.91it/s]\n"
     ]
    },
    {
     "name": "stdout",
     "output_type": "stream",
     "text": [
      "Epoch [943], Train Loss : [1.08721] Val Loss : [1.14308] Val F1 : [0.55479]\n"
     ]
    },
    {
     "name": "stderr",
     "output_type": "stream",
     "text": [
      "100%|██████████████████████████████████████████| 141/141 [00:37<00:00,  3.74it/s]\n",
      "100%|████████████████████████████████████████████| 16/16 [00:01<00:00, 10.67it/s]\n"
     ]
    },
    {
     "name": "stdout",
     "output_type": "stream",
     "text": [
      "Epoch [944], Train Loss : [1.08546] Val Loss : [1.14211] Val F1 : [0.55760]\n"
     ]
    },
    {
     "name": "stderr",
     "output_type": "stream",
     "text": [
      "100%|██████████████████████████████████████████| 141/141 [00:37<00:00,  3.75it/s]\n",
      "100%|████████████████████████████████████████████| 16/16 [00:01<00:00, 10.88it/s]\n"
     ]
    },
    {
     "name": "stdout",
     "output_type": "stream",
     "text": [
      "Epoch [945], Train Loss : [1.09024] Val Loss : [1.14114] Val F1 : [0.56098]\n"
     ]
    },
    {
     "name": "stderr",
     "output_type": "stream",
     "text": [
      "100%|██████████████████████████████████████████| 141/141 [00:37<00:00,  3.75it/s]\n",
      "100%|████████████████████████████████████████████| 16/16 [00:01<00:00, 10.62it/s]\n"
     ]
    },
    {
     "name": "stdout",
     "output_type": "stream",
     "text": [
      "Epoch [946], Train Loss : [1.08818] Val Loss : [1.14119] Val F1 : [0.55895]\n"
     ]
    },
    {
     "name": "stderr",
     "output_type": "stream",
     "text": [
      "100%|██████████████████████████████████████████| 141/141 [00:37<00:00,  3.73it/s]\n",
      "100%|████████████████████████████████████████████| 16/16 [00:01<00:00, 10.61it/s]\n"
     ]
    },
    {
     "name": "stdout",
     "output_type": "stream",
     "text": [
      "Epoch [947], Train Loss : [1.08704] Val Loss : [1.14201] Val F1 : [0.56175]\n"
     ]
    },
    {
     "name": "stderr",
     "output_type": "stream",
     "text": [
      "100%|██████████████████████████████████████████| 141/141 [00:37<00:00,  3.73it/s]\n",
      "100%|████████████████████████████████████████████| 16/16 [00:01<00:00, 10.68it/s]\n"
     ]
    },
    {
     "name": "stdout",
     "output_type": "stream",
     "text": [
      "Epoch [948], Train Loss : [1.08722] Val Loss : [1.14501] Val F1 : [0.54963]\n"
     ]
    },
    {
     "name": "stderr",
     "output_type": "stream",
     "text": [
      "100%|██████████████████████████████████████████| 141/141 [00:37<00:00,  3.74it/s]\n",
      "100%|████████████████████████████████████████████| 16/16 [00:01<00:00, 10.92it/s]\n"
     ]
    },
    {
     "name": "stdout",
     "output_type": "stream",
     "text": [
      "Epoch [949], Train Loss : [1.08675] Val Loss : [1.14233] Val F1 : [0.55689]\n"
     ]
    },
    {
     "name": "stderr",
     "output_type": "stream",
     "text": [
      "100%|██████████████████████████████████████████| 141/141 [00:37<00:00,  3.74it/s]\n",
      "100%|████████████████████████████████████████████| 16/16 [00:01<00:00, 10.77it/s]\n"
     ]
    },
    {
     "name": "stdout",
     "output_type": "stream",
     "text": [
      "Epoch [950], Train Loss : [1.08957] Val Loss : [1.14180] Val F1 : [0.56187]\n"
     ]
    },
    {
     "name": "stderr",
     "output_type": "stream",
     "text": [
      "100%|██████████████████████████████████████████| 141/141 [00:37<00:00,  3.75it/s]\n",
      "100%|████████████████████████████████████████████| 16/16 [00:01<00:00, 10.93it/s]\n"
     ]
    },
    {
     "name": "stdout",
     "output_type": "stream",
     "text": [
      "Epoch [951], Train Loss : [1.08991] Val Loss : [1.14267] Val F1 : [0.56839]\n"
     ]
    },
    {
     "name": "stderr",
     "output_type": "stream",
     "text": [
      "100%|██████████████████████████████████████████| 141/141 [00:37<00:00,  3.75it/s]\n",
      "100%|████████████████████████████████████████████| 16/16 [00:01<00:00, 10.94it/s]\n"
     ]
    },
    {
     "name": "stdout",
     "output_type": "stream",
     "text": [
      "Epoch [952], Train Loss : [1.09482] Val Loss : [1.14165] Val F1 : [0.56171]\n"
     ]
    },
    {
     "name": "stderr",
     "output_type": "stream",
     "text": [
      "100%|██████████████████████████████████████████| 141/141 [00:37<00:00,  3.75it/s]\n",
      "100%|████████████████████████████████████████████| 16/16 [00:01<00:00, 10.90it/s]\n"
     ]
    },
    {
     "name": "stdout",
     "output_type": "stream",
     "text": [
      "Epoch [953], Train Loss : [1.08589] Val Loss : [1.14290] Val F1 : [0.55516]\n"
     ]
    },
    {
     "name": "stderr",
     "output_type": "stream",
     "text": [
      "100%|██████████████████████████████████████████| 141/141 [00:37<00:00,  3.75it/s]\n",
      "100%|████████████████████████████████████████████| 16/16 [00:01<00:00, 10.91it/s]\n"
     ]
    },
    {
     "name": "stdout",
     "output_type": "stream",
     "text": [
      "Epoch [954], Train Loss : [1.08694] Val Loss : [1.14203] Val F1 : [0.55878]\n"
     ]
    },
    {
     "name": "stderr",
     "output_type": "stream",
     "text": [
      "100%|██████████████████████████████████████████| 141/141 [00:37<00:00,  3.75it/s]\n",
      "100%|████████████████████████████████████████████| 16/16 [00:01<00:00, 10.85it/s]\n"
     ]
    },
    {
     "name": "stdout",
     "output_type": "stream",
     "text": [
      "Epoch [955], Train Loss : [1.08558] Val Loss : [1.14599] Val F1 : [0.54918]\n"
     ]
    },
    {
     "name": "stderr",
     "output_type": "stream",
     "text": [
      "100%|██████████████████████████████████████████| 141/141 [00:37<00:00,  3.75it/s]\n",
      "100%|████████████████████████████████████████████| 16/16 [00:01<00:00, 10.89it/s]\n"
     ]
    },
    {
     "name": "stdout",
     "output_type": "stream",
     "text": [
      "Epoch [956], Train Loss : [1.08853] Val Loss : [1.14016] Val F1 : [0.55183]\n"
     ]
    },
    {
     "name": "stderr",
     "output_type": "stream",
     "text": [
      "100%|██████████████████████████████████████████| 141/141 [00:37<00:00,  3.75it/s]\n",
      "100%|████████████████████████████████████████████| 16/16 [00:01<00:00, 10.71it/s]\n"
     ]
    },
    {
     "name": "stdout",
     "output_type": "stream",
     "text": [
      "Epoch [957], Train Loss : [1.09033] Val Loss : [1.14062] Val F1 : [0.55623]\n"
     ]
    },
    {
     "name": "stderr",
     "output_type": "stream",
     "text": [
      "100%|██████████████████████████████████████████| 141/141 [00:37<00:00,  3.75it/s]\n",
      "100%|████████████████████████████████████████████| 16/16 [00:01<00:00, 10.87it/s]\n"
     ]
    },
    {
     "name": "stdout",
     "output_type": "stream",
     "text": [
      "Epoch [958], Train Loss : [1.08828] Val Loss : [1.14456] Val F1 : [0.55790]\n"
     ]
    },
    {
     "name": "stderr",
     "output_type": "stream",
     "text": [
      "100%|██████████████████████████████████████████| 141/141 [00:37<00:00,  3.74it/s]\n",
      "100%|████████████████████████████████████████████| 16/16 [00:01<00:00, 10.85it/s]\n"
     ]
    },
    {
     "name": "stdout",
     "output_type": "stream",
     "text": [
      "Epoch [959], Train Loss : [1.09261] Val Loss : [1.14330] Val F1 : [0.56392]\n"
     ]
    },
    {
     "name": "stderr",
     "output_type": "stream",
     "text": [
      "100%|██████████████████████████████████████████| 141/141 [00:37<00:00,  3.75it/s]\n",
      "100%|████████████████████████████████████████████| 16/16 [00:01<00:00, 10.54it/s]\n"
     ]
    },
    {
     "name": "stdout",
     "output_type": "stream",
     "text": [
      "Epoch [960], Train Loss : [1.09181] Val Loss : [1.14161] Val F1 : [0.56603]\n"
     ]
    },
    {
     "name": "stderr",
     "output_type": "stream",
     "text": [
      "100%|██████████████████████████████████████████| 141/141 [00:37<00:00,  3.75it/s]\n",
      "100%|████████████████████████████████████████████| 16/16 [00:01<00:00, 10.82it/s]\n"
     ]
    },
    {
     "name": "stdout",
     "output_type": "stream",
     "text": [
      "Epoch [961], Train Loss : [1.08636] Val Loss : [1.14279] Val F1 : [0.56138]\n"
     ]
    },
    {
     "name": "stderr",
     "output_type": "stream",
     "text": [
      "100%|██████████████████████████████████████████| 141/141 [00:37<00:00,  3.74it/s]\n",
      "100%|████████████████████████████████████████████| 16/16 [00:01<00:00, 10.63it/s]\n"
     ]
    },
    {
     "name": "stdout",
     "output_type": "stream",
     "text": [
      "Epoch [962], Train Loss : [1.08713] Val Loss : [1.14079] Val F1 : [0.55906]\n"
     ]
    },
    {
     "name": "stderr",
     "output_type": "stream",
     "text": [
      "100%|██████████████████████████████████████████| 141/141 [00:37<00:00,  3.74it/s]\n",
      "100%|████████████████████████████████████████████| 16/16 [00:01<00:00, 10.92it/s]\n"
     ]
    },
    {
     "name": "stdout",
     "output_type": "stream",
     "text": [
      "Epoch [963], Train Loss : [1.08779] Val Loss : [1.14331] Val F1 : [0.55365]\n"
     ]
    },
    {
     "name": "stderr",
     "output_type": "stream",
     "text": [
      "100%|██████████████████████████████████████████| 141/141 [00:37<00:00,  3.74it/s]\n",
      "100%|████████████████████████████████████████████| 16/16 [00:01<00:00, 10.87it/s]\n"
     ]
    },
    {
     "name": "stdout",
     "output_type": "stream",
     "text": [
      "Epoch [964], Train Loss : [1.08950] Val Loss : [1.14402] Val F1 : [0.55611]\n"
     ]
    },
    {
     "name": "stderr",
     "output_type": "stream",
     "text": [
      "100%|██████████████████████████████████████████| 141/141 [00:37<00:00,  3.75it/s]\n",
      "100%|████████████████████████████████████████████| 16/16 [00:01<00:00, 10.94it/s]\n"
     ]
    },
    {
     "name": "stdout",
     "output_type": "stream",
     "text": [
      "Epoch [965], Train Loss : [1.09107] Val Loss : [1.14143] Val F1 : [0.55746]\n"
     ]
    },
    {
     "name": "stderr",
     "output_type": "stream",
     "text": [
      "100%|██████████████████████████████████████████| 141/141 [00:37<00:00,  3.72it/s]\n",
      "100%|████████████████████████████████████████████| 16/16 [00:01<00:00, 10.88it/s]\n"
     ]
    },
    {
     "name": "stdout",
     "output_type": "stream",
     "text": [
      "Epoch [966], Train Loss : [1.08887] Val Loss : [1.14187] Val F1 : [0.56514]\n"
     ]
    },
    {
     "name": "stderr",
     "output_type": "stream",
     "text": [
      "100%|██████████████████████████████████████████| 141/141 [00:37<00:00,  3.74it/s]\n",
      "100%|████████████████████████████████████████████| 16/16 [00:01<00:00, 10.56it/s]\n"
     ]
    },
    {
     "name": "stdout",
     "output_type": "stream",
     "text": [
      "Epoch [967], Train Loss : [1.08451] Val Loss : [1.14345] Val F1 : [0.55255]\n"
     ]
    },
    {
     "name": "stderr",
     "output_type": "stream",
     "text": [
      "100%|██████████████████████████████████████████| 141/141 [00:37<00:00,  3.73it/s]\n",
      "100%|████████████████████████████████████████████| 16/16 [00:01<00:00, 10.93it/s]\n"
     ]
    },
    {
     "name": "stdout",
     "output_type": "stream",
     "text": [
      "Epoch [968], Train Loss : [1.09033] Val Loss : [1.14120] Val F1 : [0.55663]\n"
     ]
    },
    {
     "name": "stderr",
     "output_type": "stream",
     "text": [
      "100%|██████████████████████████████████████████| 141/141 [00:37<00:00,  3.74it/s]\n",
      "100%|████████████████████████████████████████████| 16/16 [00:01<00:00, 10.83it/s]\n"
     ]
    },
    {
     "name": "stdout",
     "output_type": "stream",
     "text": [
      "Epoch [969], Train Loss : [1.08780] Val Loss : [1.14418] Val F1 : [0.56470]\n"
     ]
    },
    {
     "name": "stderr",
     "output_type": "stream",
     "text": [
      "100%|██████████████████████████████████████████| 141/141 [00:37<00:00,  3.75it/s]\n",
      "100%|████████████████████████████████████████████| 16/16 [00:01<00:00, 10.28it/s]\n"
     ]
    },
    {
     "name": "stdout",
     "output_type": "stream",
     "text": [
      "Epoch [970], Train Loss : [1.08988] Val Loss : [1.14208] Val F1 : [0.56523]\n"
     ]
    },
    {
     "name": "stderr",
     "output_type": "stream",
     "text": [
      "100%|██████████████████████████████████████████| 141/141 [00:37<00:00,  3.75it/s]\n",
      "100%|████████████████████████████████████████████| 16/16 [00:01<00:00, 10.57it/s]\n"
     ]
    },
    {
     "name": "stdout",
     "output_type": "stream",
     "text": [
      "Epoch [971], Train Loss : [1.08728] Val Loss : [1.14144] Val F1 : [0.55916]\n"
     ]
    },
    {
     "name": "stderr",
     "output_type": "stream",
     "text": [
      "100%|██████████████████████████████████████████| 141/141 [00:37<00:00,  3.74it/s]\n",
      "100%|████████████████████████████████████████████| 16/16 [00:01<00:00, 10.26it/s]\n"
     ]
    },
    {
     "name": "stdout",
     "output_type": "stream",
     "text": [
      "Epoch [972], Train Loss : [1.08068] Val Loss : [1.14268] Val F1 : [0.55107]\n"
     ]
    },
    {
     "name": "stderr",
     "output_type": "stream",
     "text": [
      "100%|██████████████████████████████████████████| 141/141 [00:37<00:00,  3.75it/s]\n",
      "100%|████████████████████████████████████████████| 16/16 [00:01<00:00, 10.77it/s]\n"
     ]
    },
    {
     "name": "stdout",
     "output_type": "stream",
     "text": [
      "Epoch [973], Train Loss : [1.09031] Val Loss : [1.14183] Val F1 : [0.55921]\n"
     ]
    },
    {
     "name": "stderr",
     "output_type": "stream",
     "text": [
      "100%|██████████████████████████████████████████| 141/141 [00:37<00:00,  3.75it/s]\n",
      "100%|████████████████████████████████████████████| 16/16 [00:01<00:00, 10.87it/s]\n"
     ]
    },
    {
     "name": "stdout",
     "output_type": "stream",
     "text": [
      "Epoch [974], Train Loss : [1.09000] Val Loss : [1.14100] Val F1 : [0.55937]\n"
     ]
    },
    {
     "name": "stderr",
     "output_type": "stream",
     "text": [
      "100%|██████████████████████████████████████████| 141/141 [00:37<00:00,  3.75it/s]\n",
      "100%|████████████████████████████████████████████| 16/16 [00:01<00:00, 10.84it/s]\n"
     ]
    },
    {
     "name": "stdout",
     "output_type": "stream",
     "text": [
      "Epoch [975], Train Loss : [1.08670] Val Loss : [1.14064] Val F1 : [0.55989]\n"
     ]
    },
    {
     "name": "stderr",
     "output_type": "stream",
     "text": [
      "100%|██████████████████████████████████████████| 141/141 [00:37<00:00,  3.75it/s]\n",
      "100%|████████████████████████████████████████████| 16/16 [00:01<00:00, 10.81it/s]\n"
     ]
    },
    {
     "name": "stdout",
     "output_type": "stream",
     "text": [
      "Epoch [976], Train Loss : [1.09343] Val Loss : [1.14547] Val F1 : [0.54565]\n"
     ]
    },
    {
     "name": "stderr",
     "output_type": "stream",
     "text": [
      "100%|██████████████████████████████████████████| 141/141 [00:37<00:00,  3.75it/s]\n",
      "100%|████████████████████████████████████████████| 16/16 [00:01<00:00, 10.83it/s]\n"
     ]
    },
    {
     "name": "stdout",
     "output_type": "stream",
     "text": [
      "Epoch [977], Train Loss : [1.08825] Val Loss : [1.14160] Val F1 : [0.55867]\n"
     ]
    },
    {
     "name": "stderr",
     "output_type": "stream",
     "text": [
      "100%|██████████████████████████████████████████| 141/141 [00:37<00:00,  3.75it/s]\n",
      "100%|████████████████████████████████████████████| 16/16 [00:01<00:00, 10.85it/s]\n"
     ]
    },
    {
     "name": "stdout",
     "output_type": "stream",
     "text": [
      "Epoch [978], Train Loss : [1.09202] Val Loss : [1.14382] Val F1 : [0.55827]\n"
     ]
    },
    {
     "name": "stderr",
     "output_type": "stream",
     "text": [
      "100%|██████████████████████████████████████████| 141/141 [00:37<00:00,  3.75it/s]\n",
      "100%|████████████████████████████████████████████| 16/16 [00:01<00:00, 10.85it/s]\n"
     ]
    },
    {
     "name": "stdout",
     "output_type": "stream",
     "text": [
      "Epoch [979], Train Loss : [1.08825] Val Loss : [1.14113] Val F1 : [0.55641]\n"
     ]
    },
    {
     "name": "stderr",
     "output_type": "stream",
     "text": [
      "100%|██████████████████████████████████████████| 141/141 [00:37<00:00,  3.75it/s]\n",
      "100%|████████████████████████████████████████████| 16/16 [00:01<00:00, 10.82it/s]\n"
     ]
    },
    {
     "name": "stdout",
     "output_type": "stream",
     "text": [
      "Epoch [980], Train Loss : [1.08994] Val Loss : [1.14237] Val F1 : [0.56492]\n"
     ]
    },
    {
     "name": "stderr",
     "output_type": "stream",
     "text": [
      "100%|██████████████████████████████████████████| 141/141 [00:37<00:00,  3.74it/s]\n",
      "100%|████████████████████████████████████████████| 16/16 [00:01<00:00, 10.80it/s]\n"
     ]
    },
    {
     "name": "stdout",
     "output_type": "stream",
     "text": [
      "Epoch [981], Train Loss : [1.08879] Val Loss : [1.14123] Val F1 : [0.55760]\n"
     ]
    },
    {
     "name": "stderr",
     "output_type": "stream",
     "text": [
      "100%|██████████████████████████████████████████| 141/141 [00:37<00:00,  3.75it/s]\n",
      "100%|████████████████████████████████████████████| 16/16 [00:01<00:00, 10.69it/s]\n"
     ]
    },
    {
     "name": "stdout",
     "output_type": "stream",
     "text": [
      "Epoch [982], Train Loss : [1.09071] Val Loss : [1.14472] Val F1 : [0.55566]\n"
     ]
    },
    {
     "name": "stderr",
     "output_type": "stream",
     "text": [
      "100%|██████████████████████████████████████████| 141/141 [00:37<00:00,  3.75it/s]\n",
      "100%|████████████████████████████████████████████| 16/16 [00:01<00:00, 10.75it/s]\n"
     ]
    },
    {
     "name": "stdout",
     "output_type": "stream",
     "text": [
      "Epoch [983], Train Loss : [1.08822] Val Loss : [1.14222] Val F1 : [0.56273]\n"
     ]
    },
    {
     "name": "stderr",
     "output_type": "stream",
     "text": [
      "100%|██████████████████████████████████████████| 141/141 [00:37<00:00,  3.75it/s]\n",
      "100%|████████████████████████████████████████████| 16/16 [00:01<00:00, 10.63it/s]\n"
     ]
    },
    {
     "name": "stdout",
     "output_type": "stream",
     "text": [
      "Epoch [984], Train Loss : [1.08914] Val Loss : [1.14525] Val F1 : [0.55545]\n"
     ]
    },
    {
     "name": "stderr",
     "output_type": "stream",
     "text": [
      "100%|██████████████████████████████████████████| 141/141 [00:37<00:00,  3.75it/s]\n",
      "100%|████████████████████████████████████████████| 16/16 [00:01<00:00, 10.96it/s]\n"
     ]
    },
    {
     "name": "stdout",
     "output_type": "stream",
     "text": [
      "Epoch [985], Train Loss : [1.09464] Val Loss : [1.14278] Val F1 : [0.55952]\n"
     ]
    },
    {
     "name": "stderr",
     "output_type": "stream",
     "text": [
      "100%|██████████████████████████████████████████| 141/141 [00:37<00:00,  3.75it/s]\n",
      "100%|████████████████████████████████████████████| 16/16 [00:01<00:00, 10.92it/s]\n"
     ]
    },
    {
     "name": "stdout",
     "output_type": "stream",
     "text": [
      "Epoch [986], Train Loss : [1.09084] Val Loss : [1.14238] Val F1 : [0.55843]\n"
     ]
    },
    {
     "name": "stderr",
     "output_type": "stream",
     "text": [
      "100%|██████████████████████████████████████████| 141/141 [00:37<00:00,  3.75it/s]\n",
      "100%|████████████████████████████████████████████| 16/16 [00:01<00:00, 10.88it/s]\n"
     ]
    },
    {
     "name": "stdout",
     "output_type": "stream",
     "text": [
      "Epoch [987], Train Loss : [1.09011] Val Loss : [1.14347] Val F1 : [0.55870]\n"
     ]
    },
    {
     "name": "stderr",
     "output_type": "stream",
     "text": [
      "100%|██████████████████████████████████████████| 141/141 [00:37<00:00,  3.75it/s]\n",
      "100%|████████████████████████████████████████████| 16/16 [00:01<00:00, 10.86it/s]\n"
     ]
    },
    {
     "name": "stdout",
     "output_type": "stream",
     "text": [
      "Epoch [988], Train Loss : [1.08886] Val Loss : [1.14292] Val F1 : [0.55567]\n"
     ]
    },
    {
     "name": "stderr",
     "output_type": "stream",
     "text": [
      "100%|██████████████████████████████████████████| 141/141 [00:37<00:00,  3.75it/s]\n",
      "100%|████████████████████████████████████████████| 16/16 [00:01<00:00, 10.84it/s]\n"
     ]
    },
    {
     "name": "stdout",
     "output_type": "stream",
     "text": [
      "Epoch [989], Train Loss : [1.08506] Val Loss : [1.14150] Val F1 : [0.55204]\n"
     ]
    },
    {
     "name": "stderr",
     "output_type": "stream",
     "text": [
      "100%|██████████████████████████████████████████| 141/141 [00:37<00:00,  3.74it/s]\n",
      "100%|████████████████████████████████████████████| 16/16 [00:01<00:00, 10.80it/s]\n"
     ]
    },
    {
     "name": "stdout",
     "output_type": "stream",
     "text": [
      "Epoch [990], Train Loss : [1.08830] Val Loss : [1.14215] Val F1 : [0.56127]\n"
     ]
    },
    {
     "name": "stderr",
     "output_type": "stream",
     "text": [
      "100%|██████████████████████████████████████████| 141/141 [00:37<00:00,  3.74it/s]\n",
      "100%|████████████████████████████████████████████| 16/16 [00:01<00:00, 10.77it/s]\n"
     ]
    },
    {
     "name": "stdout",
     "output_type": "stream",
     "text": [
      "Epoch [991], Train Loss : [1.08375] Val Loss : [1.14229] Val F1 : [0.55944]\n"
     ]
    },
    {
     "name": "stderr",
     "output_type": "stream",
     "text": [
      "100%|██████████████████████████████████████████| 141/141 [00:37<00:00,  3.74it/s]\n",
      "100%|████████████████████████████████████████████| 16/16 [00:01<00:00, 10.80it/s]\n"
     ]
    },
    {
     "name": "stdout",
     "output_type": "stream",
     "text": [
      "Epoch [992], Train Loss : [1.09230] Val Loss : [1.14602] Val F1 : [0.54297]\n"
     ]
    },
    {
     "name": "stderr",
     "output_type": "stream",
     "text": [
      "100%|██████████████████████████████████████████| 141/141 [00:37<00:00,  3.74it/s]\n",
      "100%|████████████████████████████████████████████| 16/16 [00:01<00:00, 10.61it/s]\n"
     ]
    },
    {
     "name": "stdout",
     "output_type": "stream",
     "text": [
      "Epoch [993], Train Loss : [1.08619] Val Loss : [1.14068] Val F1 : [0.56122]\n"
     ]
    },
    {
     "name": "stderr",
     "output_type": "stream",
     "text": [
      "100%|██████████████████████████████████████████| 141/141 [00:37<00:00,  3.75it/s]\n",
      "100%|████████████████████████████████████████████| 16/16 [00:01<00:00, 10.87it/s]\n"
     ]
    },
    {
     "name": "stdout",
     "output_type": "stream",
     "text": [
      "Epoch [994], Train Loss : [1.09162] Val Loss : [1.14405] Val F1 : [0.55621]\n"
     ]
    },
    {
     "name": "stderr",
     "output_type": "stream",
     "text": [
      "100%|██████████████████████████████████████████| 141/141 [00:37<00:00,  3.75it/s]\n",
      "100%|████████████████████████████████████████████| 16/16 [00:01<00:00, 10.88it/s]\n"
     ]
    },
    {
     "name": "stdout",
     "output_type": "stream",
     "text": [
      "Epoch [995], Train Loss : [1.08404] Val Loss : [1.14280] Val F1 : [0.55162]\n"
     ]
    },
    {
     "name": "stderr",
     "output_type": "stream",
     "text": [
      "100%|██████████████████████████████████████████| 141/141 [00:37<00:00,  3.75it/s]\n",
      "100%|████████████████████████████████████████████| 16/16 [00:01<00:00, 10.85it/s]\n"
     ]
    },
    {
     "name": "stdout",
     "output_type": "stream",
     "text": [
      "Epoch [996], Train Loss : [1.09101] Val Loss : [1.14177] Val F1 : [0.55274]\n"
     ]
    },
    {
     "name": "stderr",
     "output_type": "stream",
     "text": [
      "100%|██████████████████████████████████████████| 141/141 [00:37<00:00,  3.75it/s]\n",
      "100%|████████████████████████████████████████████| 16/16 [00:01<00:00, 10.76it/s]\n"
     ]
    },
    {
     "name": "stdout",
     "output_type": "stream",
     "text": [
      "Epoch [997], Train Loss : [1.08585] Val Loss : [1.14206] Val F1 : [0.55760]\n"
     ]
    },
    {
     "name": "stderr",
     "output_type": "stream",
     "text": [
      "100%|██████████████████████████████████████████| 141/141 [00:37<00:00,  3.74it/s]\n",
      "100%|████████████████████████████████████████████| 16/16 [00:01<00:00, 10.88it/s]\n"
     ]
    },
    {
     "name": "stdout",
     "output_type": "stream",
     "text": [
      "Epoch [998], Train Loss : [1.08245] Val Loss : [1.14104] Val F1 : [0.55716]\n"
     ]
    },
    {
     "name": "stderr",
     "output_type": "stream",
     "text": [
      "100%|██████████████████████████████████████████| 141/141 [00:37<00:00,  3.75it/s]\n",
      "100%|████████████████████████████████████████████| 16/16 [00:01<00:00, 10.61it/s]\n"
     ]
    },
    {
     "name": "stdout",
     "output_type": "stream",
     "text": [
      "Epoch [999], Train Loss : [1.08686] Val Loss : [1.14223] Val F1 : [0.56287]\n"
     ]
    },
    {
     "name": "stderr",
     "output_type": "stream",
     "text": [
      "100%|██████████████████████████████████████████| 141/141 [00:37<00:00,  3.75it/s]\n",
      "100%|████████████████████████████████████████████| 16/16 [00:01<00:00, 10.88it/s]"
     ]
    },
    {
     "name": "stdout",
     "output_type": "stream",
     "text": [
      "Epoch [1000], Train Loss : [1.08608] Val Loss : [1.14338] Val F1 : [0.55933]\n"
     ]
    },
    {
     "name": "stderr",
     "output_type": "stream",
     "text": [
      "\n"
     ]
    }
   ],
   "source": [
    "model = ResNet(64, 6)\n",
    "model.eval()\n",
    "optimizer = torch.optim.Adam(params = model.parameters(), lr = CFG[\"LEARNING_RATE\"])\n",
    "scheduler = torch.optim.lr_scheduler.ReduceLROnPlateau(optimizer, mode='max', factor=0.5, patience=2,threshold_mode='abs',min_lr=1e-8, verbose=True)\n",
    "\n",
    "infer_model = train(model, optimizer, train_loader, val_loader, scheduler, device)"
   ]
  },
  {
   "cell_type": "code",
   "execution_count": 21,
   "id": "fb34b381",
   "metadata": {},
   "outputs": [],
   "source": [
    "test_dataset = Dataset(df=test_df,path_list=test_df['img_path'].values, label_list=None, tfms=tfms)\n",
    "test_loader = DataLoader(test_dataset, batch_size = CFG['BATCH_SIZE'], shuffle=False, num_workers=0)"
   ]
  },
  {
   "cell_type": "code",
   "execution_count": 22,
   "id": "19fcd3be",
   "metadata": {},
   "outputs": [],
   "source": [
    "def inference(model, test_loader, device):\n",
    "    model.to(device)\n",
    "    model.eval()\n",
    "    preds = []\n",
    "    with torch.no_grad():\n",
    "        for img in tqdm(iter(test_loader)):\n",
    "            img = img.to(device)\n",
    "            logit = model(img)\n",
    "            preds += logit.argmax(1).detach().cpu().numpy().tolist()\n",
    "    return preds"
   ]
  },
  {
   "cell_type": "code",
   "execution_count": 23,
   "id": "4ef4f921",
   "metadata": {},
   "outputs": [
    {
     "name": "stderr",
     "output_type": "stream",
     "text": [
      "100%|████████████████████████████████████████████| 59/59 [00:06<00:00,  9.79it/s]\n"
     ]
    }
   ],
   "source": [
    "preds = inference(model, test_loader, device)"
   ]
  },
  {
   "cell_type": "code",
   "execution_count": 25,
   "id": "81f07176",
   "metadata": {},
   "outputs": [],
   "source": [
    "submission = pd.read_csv('./sample_submission.csv')\n",
    "submission['label'] = preds\n",
    "submission.to_csv('./mfcc_0515_submission.csv', index=False)"
   ]
  },
  {
   "cell_type": "code",
   "execution_count": null,
   "id": "9d51862e",
   "metadata": {},
   "outputs": [],
   "source": []
  }
 ],
 "metadata": {
  "kernelspec": {
   "display_name": "Python 3 (ipykernel)",
   "language": "python",
   "name": "python3"
  },
  "language_info": {
   "codemirror_mode": {
    "name": "ipython",
    "version": 3
   },
   "file_extension": ".py",
   "mimetype": "text/x-python",
   "name": "python",
   "nbconvert_exporter": "python",
   "pygments_lexer": "ipython3",
   "version": "3.10.9"
  }
 },
 "nbformat": 4,
 "nbformat_minor": 5
}
